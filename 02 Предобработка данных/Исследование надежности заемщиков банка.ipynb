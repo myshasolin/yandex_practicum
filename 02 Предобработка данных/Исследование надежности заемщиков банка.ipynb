{
 "cells": [
  {
   "cell_type": "markdown",
   "id": "e7349165",
   "metadata": {
    "deletable": false,
    "editable": false,
    "id": "c81daeeb"
   },
   "source": [
    "# Исследование надежности заемщиков\n"
   ]
  },
  {
   "cell_type": "markdown",
   "id": "67b699c0",
   "metadata": {
    "deletable": false,
    "editable": false,
    "id": "827c20bf"
   },
   "source": [
    "Во второй части проекта вы выполните шаги 3 и 4. Их вручную проверит ревьюер.\n",
    "Чтобы вам не пришлось писать код заново для шагов 1 и 2, мы добавили авторские решения в ячейки с кодом. \n",
    "\n"
   ]
  },
  {
   "cell_type": "markdown",
   "id": "d50d1863",
   "metadata": {
    "deletable": false,
    "editable": false,
    "id": "744d7639"
   },
   "source": [
    "## Откройте таблицу и изучите общую информацию о данных"
   ]
  },
  {
   "cell_type": "markdown",
   "id": "6000991a",
   "metadata": {
    "deletable": false,
    "editable": false,
    "id": "e7a14c31"
   },
   "source": [
    "**Задание 1. Импортируйте библиотеку pandas. Считайте данные из csv-файла в датафрейм и сохраните в переменную `data`. Путь к файлу:**\n",
    "\n",
    "`/datasets/data.csv`"
   ]
  },
  {
   "cell_type": "code",
   "execution_count": 1,
   "id": "83a12606",
   "metadata": {},
   "outputs": [],
   "source": [
    "import numpy as np\n",
    "import pandas as pd\n",
    "import matplotlib\n",
    "import matplotlib.pyplot as plt\n",
    "import seaborn as sns\n",
    "from sklearn.preprocessing import LabelEncoder\n",
    "%matplotlib inline\n",
    "%config InlineBackend.figure_format = 'svg'\n",
    "from pylab import rcParams\n",
    "rcParams['figure.figsize'] = 12,5"
   ]
  },
  {
   "cell_type": "code",
   "execution_count": 2,
   "id": "5f8dda1e",
   "metadata": {},
   "outputs": [],
   "source": [
    "def create_pivot_table(df, ind, val, name, feature_name='percentage_ratio', aggf=['count', 'sum']):\n",
    "    '''для построения сводных таблиц'''\n",
    "    pivot_table_ = df.pivot_table(index=ind, values=val, aggfunc=aggf)\n",
    "    pivot_table_[feature_name] = (pivot_table_['sum'] / pivot_table_['count']) * 100\n",
    "    pivot_table_.reset_index(inplace=True)\n",
    "    name_list = ['Всего кредитополучателей', 'Количество должников', 'Процент должников']\n",
    "    name_list.insert(0, name)\n",
    "    pivot_table_.columns = name_list\n",
    "    return round(pivot_table_, 2)"
   ]
  },
  {
   "cell_type": "code",
   "execution_count": 3,
   "id": "48574a87",
   "metadata": {
    "deletable": false,
    "id": "7bcf75c9"
   },
   "outputs": [],
   "source": [
    "try:\n",
    "    data = pd.read_csv('data.csv')\n",
    "except:\n",
    "    data = pd.read_csv('https://code.s3.yandex.net/datasets/data.csv')"
   ]
  },
  {
   "cell_type": "markdown",
   "id": "75950948",
   "metadata": {
    "deletable": false,
    "editable": false,
    "id": "b8038fe3"
   },
   "source": [
    "**Задание 2. Выведите первые 20 строчек датафрейма `data` на экран.**"
   ]
  },
  {
   "cell_type": "code",
   "execution_count": 4,
   "id": "8c1de131",
   "metadata": {
    "deletable": false,
    "id": "2a7cab99",
    "outputId": "1a8f3ef2-d323-4ec2-ddf7-89670b5944c4"
   },
   "outputs": [
    {
     "data": {
      "text/html": [
       "<div>\n",
       "<style scoped>\n",
       "    .dataframe tbody tr th:only-of-type {\n",
       "        vertical-align: middle;\n",
       "    }\n",
       "\n",
       "    .dataframe tbody tr th {\n",
       "        vertical-align: top;\n",
       "    }\n",
       "\n",
       "    .dataframe thead th {\n",
       "        text-align: right;\n",
       "    }\n",
       "</style>\n",
       "<table border=\"1\" class=\"dataframe\">\n",
       "  <thead>\n",
       "    <tr style=\"text-align: right;\">\n",
       "      <th></th>\n",
       "      <th>children</th>\n",
       "      <th>days_employed</th>\n",
       "      <th>dob_years</th>\n",
       "      <th>education</th>\n",
       "      <th>education_id</th>\n",
       "      <th>family_status</th>\n",
       "      <th>family_status_id</th>\n",
       "      <th>gender</th>\n",
       "      <th>income_type</th>\n",
       "      <th>debt</th>\n",
       "      <th>total_income</th>\n",
       "      <th>purpose</th>\n",
       "    </tr>\n",
       "  </thead>\n",
       "  <tbody>\n",
       "    <tr>\n",
       "      <th>0</th>\n",
       "      <td>1</td>\n",
       "      <td>-8437.673028</td>\n",
       "      <td>42</td>\n",
       "      <td>высшее</td>\n",
       "      <td>0</td>\n",
       "      <td>женат / замужем</td>\n",
       "      <td>0</td>\n",
       "      <td>F</td>\n",
       "      <td>сотрудник</td>\n",
       "      <td>0</td>\n",
       "      <td>253875.639453</td>\n",
       "      <td>покупка жилья</td>\n",
       "    </tr>\n",
       "    <tr>\n",
       "      <th>1</th>\n",
       "      <td>1</td>\n",
       "      <td>-4024.803754</td>\n",
       "      <td>36</td>\n",
       "      <td>среднее</td>\n",
       "      <td>1</td>\n",
       "      <td>женат / замужем</td>\n",
       "      <td>0</td>\n",
       "      <td>F</td>\n",
       "      <td>сотрудник</td>\n",
       "      <td>0</td>\n",
       "      <td>112080.014102</td>\n",
       "      <td>приобретение автомобиля</td>\n",
       "    </tr>\n",
       "    <tr>\n",
       "      <th>2</th>\n",
       "      <td>0</td>\n",
       "      <td>-5623.422610</td>\n",
       "      <td>33</td>\n",
       "      <td>Среднее</td>\n",
       "      <td>1</td>\n",
       "      <td>женат / замужем</td>\n",
       "      <td>0</td>\n",
       "      <td>M</td>\n",
       "      <td>сотрудник</td>\n",
       "      <td>0</td>\n",
       "      <td>145885.952297</td>\n",
       "      <td>покупка жилья</td>\n",
       "    </tr>\n",
       "    <tr>\n",
       "      <th>3</th>\n",
       "      <td>3</td>\n",
       "      <td>-4124.747207</td>\n",
       "      <td>32</td>\n",
       "      <td>среднее</td>\n",
       "      <td>1</td>\n",
       "      <td>женат / замужем</td>\n",
       "      <td>0</td>\n",
       "      <td>M</td>\n",
       "      <td>сотрудник</td>\n",
       "      <td>0</td>\n",
       "      <td>267628.550329</td>\n",
       "      <td>дополнительное образование</td>\n",
       "    </tr>\n",
       "    <tr>\n",
       "      <th>4</th>\n",
       "      <td>0</td>\n",
       "      <td>340266.072047</td>\n",
       "      <td>53</td>\n",
       "      <td>среднее</td>\n",
       "      <td>1</td>\n",
       "      <td>гражданский брак</td>\n",
       "      <td>1</td>\n",
       "      <td>F</td>\n",
       "      <td>пенсионер</td>\n",
       "      <td>0</td>\n",
       "      <td>158616.077870</td>\n",
       "      <td>сыграть свадьбу</td>\n",
       "    </tr>\n",
       "    <tr>\n",
       "      <th>5</th>\n",
       "      <td>0</td>\n",
       "      <td>-926.185831</td>\n",
       "      <td>27</td>\n",
       "      <td>высшее</td>\n",
       "      <td>0</td>\n",
       "      <td>гражданский брак</td>\n",
       "      <td>1</td>\n",
       "      <td>M</td>\n",
       "      <td>компаньон</td>\n",
       "      <td>0</td>\n",
       "      <td>255763.565419</td>\n",
       "      <td>покупка жилья</td>\n",
       "    </tr>\n",
       "    <tr>\n",
       "      <th>6</th>\n",
       "      <td>0</td>\n",
       "      <td>-2879.202052</td>\n",
       "      <td>43</td>\n",
       "      <td>высшее</td>\n",
       "      <td>0</td>\n",
       "      <td>женат / замужем</td>\n",
       "      <td>0</td>\n",
       "      <td>F</td>\n",
       "      <td>компаньон</td>\n",
       "      <td>0</td>\n",
       "      <td>240525.971920</td>\n",
       "      <td>операции с жильем</td>\n",
       "    </tr>\n",
       "    <tr>\n",
       "      <th>7</th>\n",
       "      <td>0</td>\n",
       "      <td>-152.779569</td>\n",
       "      <td>50</td>\n",
       "      <td>СРЕДНЕЕ</td>\n",
       "      <td>1</td>\n",
       "      <td>женат / замужем</td>\n",
       "      <td>0</td>\n",
       "      <td>M</td>\n",
       "      <td>сотрудник</td>\n",
       "      <td>0</td>\n",
       "      <td>135823.934197</td>\n",
       "      <td>образование</td>\n",
       "    </tr>\n",
       "    <tr>\n",
       "      <th>8</th>\n",
       "      <td>2</td>\n",
       "      <td>-6929.865299</td>\n",
       "      <td>35</td>\n",
       "      <td>ВЫСШЕЕ</td>\n",
       "      <td>0</td>\n",
       "      <td>гражданский брак</td>\n",
       "      <td>1</td>\n",
       "      <td>F</td>\n",
       "      <td>сотрудник</td>\n",
       "      <td>0</td>\n",
       "      <td>95856.832424</td>\n",
       "      <td>на проведение свадьбы</td>\n",
       "    </tr>\n",
       "    <tr>\n",
       "      <th>9</th>\n",
       "      <td>0</td>\n",
       "      <td>-2188.756445</td>\n",
       "      <td>41</td>\n",
       "      <td>среднее</td>\n",
       "      <td>1</td>\n",
       "      <td>женат / замужем</td>\n",
       "      <td>0</td>\n",
       "      <td>M</td>\n",
       "      <td>сотрудник</td>\n",
       "      <td>0</td>\n",
       "      <td>144425.938277</td>\n",
       "      <td>покупка жилья для семьи</td>\n",
       "    </tr>\n",
       "    <tr>\n",
       "      <th>10</th>\n",
       "      <td>2</td>\n",
       "      <td>-4171.483647</td>\n",
       "      <td>36</td>\n",
       "      <td>высшее</td>\n",
       "      <td>0</td>\n",
       "      <td>женат / замужем</td>\n",
       "      <td>0</td>\n",
       "      <td>M</td>\n",
       "      <td>компаньон</td>\n",
       "      <td>0</td>\n",
       "      <td>113943.491460</td>\n",
       "      <td>покупка недвижимости</td>\n",
       "    </tr>\n",
       "    <tr>\n",
       "      <th>11</th>\n",
       "      <td>0</td>\n",
       "      <td>-792.701887</td>\n",
       "      <td>40</td>\n",
       "      <td>среднее</td>\n",
       "      <td>1</td>\n",
       "      <td>женат / замужем</td>\n",
       "      <td>0</td>\n",
       "      <td>F</td>\n",
       "      <td>сотрудник</td>\n",
       "      <td>0</td>\n",
       "      <td>77069.234271</td>\n",
       "      <td>покупка коммерческой недвижимости</td>\n",
       "    </tr>\n",
       "    <tr>\n",
       "      <th>12</th>\n",
       "      <td>0</td>\n",
       "      <td>NaN</td>\n",
       "      <td>65</td>\n",
       "      <td>среднее</td>\n",
       "      <td>1</td>\n",
       "      <td>гражданский брак</td>\n",
       "      <td>1</td>\n",
       "      <td>M</td>\n",
       "      <td>пенсионер</td>\n",
       "      <td>0</td>\n",
       "      <td>NaN</td>\n",
       "      <td>сыграть свадьбу</td>\n",
       "    </tr>\n",
       "    <tr>\n",
       "      <th>13</th>\n",
       "      <td>0</td>\n",
       "      <td>-1846.641941</td>\n",
       "      <td>54</td>\n",
       "      <td>неоконченное высшее</td>\n",
       "      <td>2</td>\n",
       "      <td>женат / замужем</td>\n",
       "      <td>0</td>\n",
       "      <td>F</td>\n",
       "      <td>сотрудник</td>\n",
       "      <td>0</td>\n",
       "      <td>130458.228857</td>\n",
       "      <td>приобретение автомобиля</td>\n",
       "    </tr>\n",
       "    <tr>\n",
       "      <th>14</th>\n",
       "      <td>0</td>\n",
       "      <td>-1844.956182</td>\n",
       "      <td>56</td>\n",
       "      <td>высшее</td>\n",
       "      <td>0</td>\n",
       "      <td>гражданский брак</td>\n",
       "      <td>1</td>\n",
       "      <td>F</td>\n",
       "      <td>компаньон</td>\n",
       "      <td>1</td>\n",
       "      <td>165127.911772</td>\n",
       "      <td>покупка жилой недвижимости</td>\n",
       "    </tr>\n",
       "    <tr>\n",
       "      <th>15</th>\n",
       "      <td>1</td>\n",
       "      <td>-972.364419</td>\n",
       "      <td>26</td>\n",
       "      <td>среднее</td>\n",
       "      <td>1</td>\n",
       "      <td>женат / замужем</td>\n",
       "      <td>0</td>\n",
       "      <td>F</td>\n",
       "      <td>сотрудник</td>\n",
       "      <td>0</td>\n",
       "      <td>116820.904450</td>\n",
       "      <td>строительство собственной недвижимости</td>\n",
       "    </tr>\n",
       "    <tr>\n",
       "      <th>16</th>\n",
       "      <td>0</td>\n",
       "      <td>-1719.934226</td>\n",
       "      <td>35</td>\n",
       "      <td>среднее</td>\n",
       "      <td>1</td>\n",
       "      <td>женат / замужем</td>\n",
       "      <td>0</td>\n",
       "      <td>F</td>\n",
       "      <td>сотрудник</td>\n",
       "      <td>0</td>\n",
       "      <td>289202.704229</td>\n",
       "      <td>недвижимость</td>\n",
       "    </tr>\n",
       "    <tr>\n",
       "      <th>17</th>\n",
       "      <td>0</td>\n",
       "      <td>-2369.999720</td>\n",
       "      <td>33</td>\n",
       "      <td>высшее</td>\n",
       "      <td>0</td>\n",
       "      <td>гражданский брак</td>\n",
       "      <td>1</td>\n",
       "      <td>M</td>\n",
       "      <td>сотрудник</td>\n",
       "      <td>0</td>\n",
       "      <td>90410.586745</td>\n",
       "      <td>строительство недвижимости</td>\n",
       "    </tr>\n",
       "    <tr>\n",
       "      <th>18</th>\n",
       "      <td>0</td>\n",
       "      <td>400281.136913</td>\n",
       "      <td>53</td>\n",
       "      <td>среднее</td>\n",
       "      <td>1</td>\n",
       "      <td>вдовец / вдова</td>\n",
       "      <td>2</td>\n",
       "      <td>F</td>\n",
       "      <td>пенсионер</td>\n",
       "      <td>0</td>\n",
       "      <td>56823.777243</td>\n",
       "      <td>на покупку подержанного автомобиля</td>\n",
       "    </tr>\n",
       "    <tr>\n",
       "      <th>19</th>\n",
       "      <td>0</td>\n",
       "      <td>-10038.818549</td>\n",
       "      <td>48</td>\n",
       "      <td>СРЕДНЕЕ</td>\n",
       "      <td>1</td>\n",
       "      <td>в разводе</td>\n",
       "      <td>3</td>\n",
       "      <td>F</td>\n",
       "      <td>сотрудник</td>\n",
       "      <td>0</td>\n",
       "      <td>242831.107982</td>\n",
       "      <td>на покупку своего автомобиля</td>\n",
       "    </tr>\n",
       "  </tbody>\n",
       "</table>\n",
       "</div>"
      ],
      "text/plain": [
       "    children  days_employed  dob_years            education  education_id  \\\n",
       "0          1   -8437.673028         42               высшее             0   \n",
       "1          1   -4024.803754         36              среднее             1   \n",
       "2          0   -5623.422610         33              Среднее             1   \n",
       "3          3   -4124.747207         32              среднее             1   \n",
       "4          0  340266.072047         53              среднее             1   \n",
       "5          0    -926.185831         27               высшее             0   \n",
       "6          0   -2879.202052         43               высшее             0   \n",
       "7          0    -152.779569         50              СРЕДНЕЕ             1   \n",
       "8          2   -6929.865299         35               ВЫСШЕЕ             0   \n",
       "9          0   -2188.756445         41              среднее             1   \n",
       "10         2   -4171.483647         36               высшее             0   \n",
       "11         0    -792.701887         40              среднее             1   \n",
       "12         0            NaN         65              среднее             1   \n",
       "13         0   -1846.641941         54  неоконченное высшее             2   \n",
       "14         0   -1844.956182         56               высшее             0   \n",
       "15         1    -972.364419         26              среднее             1   \n",
       "16         0   -1719.934226         35              среднее             1   \n",
       "17         0   -2369.999720         33               высшее             0   \n",
       "18         0  400281.136913         53              среднее             1   \n",
       "19         0  -10038.818549         48              СРЕДНЕЕ             1   \n",
       "\n",
       "       family_status  family_status_id gender income_type  debt  \\\n",
       "0    женат / замужем                 0      F   сотрудник     0   \n",
       "1    женат / замужем                 0      F   сотрудник     0   \n",
       "2    женат / замужем                 0      M   сотрудник     0   \n",
       "3    женат / замужем                 0      M   сотрудник     0   \n",
       "4   гражданский брак                 1      F   пенсионер     0   \n",
       "5   гражданский брак                 1      M   компаньон     0   \n",
       "6    женат / замужем                 0      F   компаньон     0   \n",
       "7    женат / замужем                 0      M   сотрудник     0   \n",
       "8   гражданский брак                 1      F   сотрудник     0   \n",
       "9    женат / замужем                 0      M   сотрудник     0   \n",
       "10   женат / замужем                 0      M   компаньон     0   \n",
       "11   женат / замужем                 0      F   сотрудник     0   \n",
       "12  гражданский брак                 1      M   пенсионер     0   \n",
       "13   женат / замужем                 0      F   сотрудник     0   \n",
       "14  гражданский брак                 1      F   компаньон     1   \n",
       "15   женат / замужем                 0      F   сотрудник     0   \n",
       "16   женат / замужем                 0      F   сотрудник     0   \n",
       "17  гражданский брак                 1      M   сотрудник     0   \n",
       "18    вдовец / вдова                 2      F   пенсионер     0   \n",
       "19         в разводе                 3      F   сотрудник     0   \n",
       "\n",
       "     total_income                                 purpose  \n",
       "0   253875.639453                           покупка жилья  \n",
       "1   112080.014102                 приобретение автомобиля  \n",
       "2   145885.952297                           покупка жилья  \n",
       "3   267628.550329              дополнительное образование  \n",
       "4   158616.077870                         сыграть свадьбу  \n",
       "5   255763.565419                           покупка жилья  \n",
       "6   240525.971920                       операции с жильем  \n",
       "7   135823.934197                             образование  \n",
       "8    95856.832424                   на проведение свадьбы  \n",
       "9   144425.938277                 покупка жилья для семьи  \n",
       "10  113943.491460                    покупка недвижимости  \n",
       "11   77069.234271       покупка коммерческой недвижимости  \n",
       "12            NaN                         сыграть свадьбу  \n",
       "13  130458.228857                 приобретение автомобиля  \n",
       "14  165127.911772              покупка жилой недвижимости  \n",
       "15  116820.904450  строительство собственной недвижимости  \n",
       "16  289202.704229                            недвижимость  \n",
       "17   90410.586745              строительство недвижимости  \n",
       "18   56823.777243      на покупку подержанного автомобиля  \n",
       "19  242831.107982            на покупку своего автомобиля  "
      ]
     },
     "execution_count": 4,
     "metadata": {},
     "output_type": "execute_result"
    }
   ],
   "source": [
    "data.head(20)"
   ]
  },
  {
   "cell_type": "markdown",
   "id": "cb4ec8ef",
   "metadata": {
    "deletable": false,
    "editable": false,
    "id": "1c12e233"
   },
   "source": [
    "**Задание 3. Выведите основную информацию о датафрейме с помощью метода `info()`.**"
   ]
  },
  {
   "cell_type": "code",
   "execution_count": 5,
   "id": "637a0710",
   "metadata": {
    "deletable": false,
    "id": "2b757bca",
    "outputId": "15376089-8dad-46c9-b520-c05248d43158"
   },
   "outputs": [
    {
     "name": "stdout",
     "output_type": "stream",
     "text": [
      "<class 'pandas.core.frame.DataFrame'>\n",
      "RangeIndex: 21525 entries, 0 to 21524\n",
      "Data columns (total 12 columns):\n",
      " #   Column            Non-Null Count  Dtype  \n",
      "---  ------            --------------  -----  \n",
      " 0   children          21525 non-null  int64  \n",
      " 1   days_employed     19351 non-null  float64\n",
      " 2   dob_years         21525 non-null  int64  \n",
      " 3   education         21525 non-null  object \n",
      " 4   education_id      21525 non-null  int64  \n",
      " 5   family_status     21525 non-null  object \n",
      " 6   family_status_id  21525 non-null  int64  \n",
      " 7   gender            21525 non-null  object \n",
      " 8   income_type       21525 non-null  object \n",
      " 9   debt              21525 non-null  int64  \n",
      " 10  total_income      19351 non-null  float64\n",
      " 11  purpose           21525 non-null  object \n",
      "dtypes: float64(2), int64(5), object(5)\n",
      "memory usage: 2.0+ MB\n"
     ]
    }
   ],
   "source": [
    "data.info()"
   ]
  },
  {
   "cell_type": "markdown",
   "id": "80b3aa91",
   "metadata": {
    "deletable": false,
    "editable": false,
    "id": "333ec665"
   },
   "source": [
    "## Предобработка данных"
   ]
  },
  {
   "cell_type": "markdown",
   "id": "b367d713",
   "metadata": {
    "deletable": false,
    "editable": false,
    "id": "02d92d53"
   },
   "source": [
    "### Удаление пропусков"
   ]
  },
  {
   "cell_type": "markdown",
   "id": "f004e940",
   "metadata": {
    "deletable": false,
    "editable": false,
    "id": "cd84967c"
   },
   "source": [
    "**Задание 4. Выведите количество пропущенных значений для каждого столбца. Используйте комбинацию двух методов.**"
   ]
  },
  {
   "cell_type": "code",
   "execution_count": 6,
   "id": "63fbbcc5",
   "metadata": {
    "deletable": false,
    "id": "7f9b2309",
    "outputId": "81f4d817-781c-465c-ed15-91ce4446810d"
   },
   "outputs": [
    {
     "data": {
      "text/plain": [
       "children               0\n",
       "days_employed       2174\n",
       "dob_years              0\n",
       "education              0\n",
       "education_id           0\n",
       "family_status          0\n",
       "family_status_id       0\n",
       "gender                 0\n",
       "income_type            0\n",
       "debt                   0\n",
       "total_income        2174\n",
       "purpose                0\n",
       "dtype: int64"
      ]
     },
     "execution_count": 6,
     "metadata": {},
     "output_type": "execute_result"
    }
   ],
   "source": [
    "data.isna().sum()"
   ]
  },
  {
   "cell_type": "markdown",
   "id": "f5d89e23",
   "metadata": {
    "deletable": false,
    "editable": false,
    "id": "db86e27b"
   },
   "source": [
    "**Задание 5. В двух столбцах есть пропущенные значения. Один из них — `days_employed`. Пропуски в этом столбце вы обработаете на следующем этапе. Другой столбец с пропущенными значениями — `total_income` — хранит данные о доходах. На сумму дохода сильнее всего влияет тип занятости, поэтому заполнить пропуски в этом столбце нужно медианным значением по каждому типу из столбца `income_type`. Например, у человека с типом занятости `сотрудник` пропуск в столбце `total_income` должен быть заполнен медианным доходом среди всех записей с тем же типом.**"
   ]
  },
  {
   "cell_type": "code",
   "execution_count": 7,
   "id": "7d3fd115",
   "metadata": {
    "deletable": false,
    "id": "42006a93"
   },
   "outputs": [],
   "source": [
    "for t in data['income_type'].unique():\n",
    "    data.loc[(data['income_type'] == t) & (data['total_income'].isna()), 'total_income'] = \\\n",
    "    data.loc[(data['income_type'] == t), 'total_income'].median()"
   ]
  },
  {
   "cell_type": "markdown",
   "id": "9397fda5",
   "metadata": {
    "deletable": false,
    "editable": false,
    "id": "89da5ece"
   },
   "source": [
    "### Обработка аномальных значений"
   ]
  },
  {
   "cell_type": "markdown",
   "id": "9857fdf3",
   "metadata": {
    "deletable": false,
    "editable": false,
    "id": "57964554"
   },
   "source": [
    "**Задание 6. В данных могут встречаться артефакты (аномалии) — значения, которые не отражают действительность и появились по какой-то ошибке. таким артефактом будет отрицательное количество дней трудового стажа в столбце `days_employed`. Для реальных данных это нормально. Обработайте значения в этом столбце: замените все отрицательные значения положительными с помощью метода `abs()`.**"
   ]
  },
  {
   "cell_type": "code",
   "execution_count": 8,
   "id": "2964b0d4",
   "metadata": {
    "deletable": false,
    "id": "f6f055bf"
   },
   "outputs": [],
   "source": [
    "data['days_employed'] = data['days_employed'].abs()"
   ]
  },
  {
   "cell_type": "markdown",
   "id": "e40632e7",
   "metadata": {
    "deletable": false,
    "editable": false,
    "id": "6107dd2f"
   },
   "source": [
    "**Задание 7. Для каждого типа занятости выведите медианное значение трудового стажа `days_employed` в днях.**"
   ]
  },
  {
   "cell_type": "code",
   "execution_count": 9,
   "id": "0181b554",
   "metadata": {
    "deletable": false,
    "id": "85a5faf6",
    "outputId": "801ef80e-522b-4668-f34e-565af7432bcf"
   },
   "outputs": [
    {
     "data": {
      "text/plain": [
       "income_type\n",
       "безработный        366413.652744\n",
       "в декрете            3296.759962\n",
       "госслужащий          2689.368353\n",
       "компаньон            1547.382223\n",
       "пенсионер          365213.306266\n",
       "предприниматель       520.848083\n",
       "сотрудник            1574.202821\n",
       "студент               578.751554\n",
       "Name: days_employed, dtype: float64"
      ]
     },
     "execution_count": 9,
     "metadata": {},
     "output_type": "execute_result"
    }
   ],
   "source": [
    "data.groupby('income_type')['days_employed'].agg('median')"
   ]
  },
  {
   "cell_type": "markdown",
   "id": "a52b187e",
   "metadata": {
    "deletable": false,
    "editable": false,
    "id": "38d1a030"
   },
   "source": [
    "У двух типов (безработные и пенсионеры) получатся аномально большие значения. Исправить такие значения сложно, поэтому оставьте их как есть. Тем более этот столбец не понадобится вам для исследования."
   ]
  },
  {
   "cell_type": "markdown",
   "id": "d2a9bfe0",
   "metadata": {
    "deletable": false,
    "editable": false,
    "id": "d8a9f147"
   },
   "source": [
    "**Задание 8. Выведите перечень уникальных значений столбца `children`.**"
   ]
  },
  {
   "cell_type": "code",
   "execution_count": 10,
   "id": "43f5e3b0",
   "metadata": {
    "deletable": false,
    "id": "ef5056eb",
    "outputId": "6975b15c-7f95-4697-d16d-a0c79b657b03"
   },
   "outputs": [
    {
     "data": {
      "text/plain": [
       "array([ 1,  0,  3,  2, -1,  4, 20,  5], dtype=int64)"
      ]
     },
     "execution_count": 10,
     "metadata": {},
     "output_type": "execute_result"
    }
   ],
   "source": [
    "data['children'].unique()"
   ]
  },
  {
   "cell_type": "markdown",
   "id": "a87c0c16",
   "metadata": {
    "deletable": false,
    "editable": false,
    "id": "40b9ebf2"
   },
   "source": [
    "**Задание 9. В столбце `children` есть два аномальных значения. Удалите строки, в которых встречаются такие аномальные значения из датафрейма `data`.**"
   ]
  },
  {
   "cell_type": "code",
   "execution_count": 11,
   "id": "f9c7b290",
   "metadata": {
    "deletable": false,
    "id": "3ff9801d"
   },
   "outputs": [],
   "source": [
    "data = data[(data['children'] != -1) & (data['children'] != 20)]"
   ]
  },
  {
   "cell_type": "markdown",
   "id": "62669bd4",
   "metadata": {
    "deletable": false,
    "editable": false,
    "id": "bbc4d0ce"
   },
   "source": [
    "**Задание 10. Ещё раз выведите перечень уникальных значений столбца `children`, чтобы убедиться, что артефакты удалены.**"
   ]
  },
  {
   "cell_type": "code",
   "execution_count": 12,
   "id": "dc18a82a",
   "metadata": {
    "deletable": false,
    "id": "ad4fa8b7",
    "outputId": "b2097101-d49d-44d9-901b-32a65c9463d1"
   },
   "outputs": [
    {
     "data": {
      "text/plain": [
       "array([1, 0, 3, 2, 4, 5], dtype=int64)"
      ]
     },
     "execution_count": 12,
     "metadata": {},
     "output_type": "execute_result"
    }
   ],
   "source": [
    "data['children'].unique()"
   ]
  },
  {
   "cell_type": "markdown",
   "id": "c7f52494",
   "metadata": {
    "deletable": false,
    "editable": false,
    "id": "75440b63"
   },
   "source": [
    "### Удаление пропусков (продолжение)"
   ]
  },
  {
   "cell_type": "markdown",
   "id": "5e362bc4",
   "metadata": {
    "deletable": false,
    "editable": false,
    "id": "f4ea573f"
   },
   "source": [
    "**Задание 11. Заполните пропуски в столбце `days_employed` медианными значениями по каждого типа занятости `income_type`.**"
   ]
  },
  {
   "cell_type": "code",
   "execution_count": 13,
   "id": "674c5259",
   "metadata": {
    "deletable": false,
    "id": "af6b1a7e"
   },
   "outputs": [],
   "source": [
    "for t in data['income_type'].unique():\n",
    "    data.loc[(data['income_type'] == t) & (data['days_employed'].isna()), 'days_employed'] = \\\n",
    "    data.loc[(data['income_type'] == t), 'days_employed'].median()"
   ]
  },
  {
   "cell_type": "markdown",
   "id": "9cc3366f",
   "metadata": {
    "deletable": false,
    "editable": false,
    "id": "2753f40d"
   },
   "source": [
    "**Задание 12. Убедитесь, что все пропуски заполнены. Проверьте себя и ещё раз выведите количество пропущенных значений для каждого столбца с помощью двух методов.**"
   ]
  },
  {
   "cell_type": "code",
   "execution_count": 14,
   "id": "4e8dc3c9",
   "metadata": {
    "deletable": false,
    "id": "55f78bc2",
    "outputId": "8da1e4e1-358e-4e87-98c9-f261bce0a7b2"
   },
   "outputs": [
    {
     "data": {
      "text/plain": [
       "children            0\n",
       "days_employed       0\n",
       "dob_years           0\n",
       "education           0\n",
       "education_id        0\n",
       "family_status       0\n",
       "family_status_id    0\n",
       "gender              0\n",
       "income_type         0\n",
       "debt                0\n",
       "total_income        0\n",
       "purpose             0\n",
       "dtype: int64"
      ]
     },
     "execution_count": 14,
     "metadata": {},
     "output_type": "execute_result"
    }
   ],
   "source": [
    "data.isna().sum()"
   ]
  },
  {
   "cell_type": "markdown",
   "id": "d59f3223",
   "metadata": {
    "deletable": false,
    "editable": false,
    "id": "ddc81e43"
   },
   "source": [
    "### Изменение типов данных"
   ]
  },
  {
   "cell_type": "markdown",
   "id": "9259f15e",
   "metadata": {
    "deletable": false,
    "editable": false,
    "id": "42d19d24"
   },
   "source": [
    "**Задание 13. Замените вещественный тип данных в столбце `total_income` на целочисленный с помощью метода `astype()`.**"
   ]
  },
  {
   "cell_type": "code",
   "execution_count": 15,
   "id": "7551565c",
   "metadata": {
    "deletable": false,
    "id": "920b65ad"
   },
   "outputs": [],
   "source": [
    "data['total_income'] = data['total_income'].astype(int)"
   ]
  },
  {
   "cell_type": "markdown",
   "id": "fa323c2e",
   "metadata": {
    "deletable": false,
    "editable": false,
    "id": "80c420ba"
   },
   "source": [
    "### Обработка дубликатов"
   ]
  },
  {
   "cell_type": "markdown",
   "id": "e97461a4",
   "metadata": {
    "deletable": false,
    "editable": false
   },
   "source": [
    "**Задание 14. Обработайте неявные дубликаты в столбце `education`. В этом столбце есть одни и те же значения, но записанные по-разному: с использованием заглавных и строчных букв. Приведите их к нижнему регистру. Проверьте остальные столбцы.**"
   ]
  },
  {
   "cell_type": "code",
   "execution_count": 16,
   "id": "d3fbab0b",
   "metadata": {
    "deletable": false
   },
   "outputs": [],
   "source": [
    "data['education'] = data['education'].str.lower()"
   ]
  },
  {
   "cell_type": "markdown",
   "id": "07ee930b",
   "metadata": {
    "deletable": false,
    "editable": false,
    "id": "dc587695"
   },
   "source": [
    "**Задание 15. Выведите на экран количество строк-дубликатов в данных. Если такие строки присутствуют, удалите их.**"
   ]
  },
  {
   "cell_type": "code",
   "execution_count": 17,
   "id": "750bf235",
   "metadata": {
    "deletable": false,
    "id": "3ee445e4",
    "outputId": "9684deba-1934-42d1-99e1-cda61740f822"
   },
   "outputs": [
    {
     "data": {
      "text/plain": [
       "71"
      ]
     },
     "execution_count": 17,
     "metadata": {},
     "output_type": "execute_result"
    }
   ],
   "source": [
    "data.duplicated().sum()"
   ]
  },
  {
   "cell_type": "code",
   "execution_count": 18,
   "id": "ec60bb0e",
   "metadata": {
    "deletable": false,
    "id": "8575fe05"
   },
   "outputs": [],
   "source": [
    "data = data.drop_duplicates()"
   ]
  },
  {
   "cell_type": "markdown",
   "id": "3f26a220",
   "metadata": {
    "deletable": false,
    "editable": false,
    "id": "9904cf55"
   },
   "source": [
    "### Категоризация данных"
   ]
  },
  {
   "cell_type": "markdown",
   "id": "f1a4bf85",
   "metadata": {
    "deletable": false,
    "editable": false,
    "id": "72fcc8a2"
   },
   "source": [
    "**Задание 16. На основании диапазонов, указанных ниже, создайте в датафрейме `data` столбец `total_income_category` с категориями:**\n",
    "\n",
    "- 0–30000 — `'E'`;\n",
    "- 30001–50000 — `'D'`;\n",
    "- 50001–200000 — `'C'`;\n",
    "- 200001–1000000 — `'B'`;\n",
    "- 1000001 и выше — `'A'`.\n",
    "\n",
    "\n",
    "**Например, кредитополучателю с доходом 25000 нужно назначить категорию `'E'`, а клиенту, получающему 235000, — `'B'`. Используйте собственную функцию с именем `categorize_income()` и метод `apply()`.**"
   ]
  },
  {
   "cell_type": "code",
   "execution_count": 19,
   "id": "1b53a99d",
   "metadata": {
    "deletable": false,
    "id": "e1771346"
   },
   "outputs": [],
   "source": [
    "def categorize_income(income):\n",
    "    try:\n",
    "        if 0 <= income <= 30000:\n",
    "            return 'E'\n",
    "        elif 30001 <= income <= 50000:\n",
    "            return 'D'\n",
    "        elif 50001 <= income <= 200000:\n",
    "            return 'C'\n",
    "        elif 200001 <= income <= 1000000:\n",
    "            return 'B'\n",
    "        elif income >= 1000001:\n",
    "            return 'A'\n",
    "    except:\n",
    "        pass"
   ]
  },
  {
   "cell_type": "code",
   "execution_count": 20,
   "id": "af2b56d0",
   "metadata": {
    "deletable": false,
    "id": "d5f3586d"
   },
   "outputs": [],
   "source": [
    "data['total_income_category'] = data['total_income'].apply(categorize_income)"
   ]
  },
  {
   "cell_type": "markdown",
   "id": "1013f92e",
   "metadata": {
    "deletable": false,
    "editable": false,
    "id": "dde49b5c"
   },
   "source": [
    "**Задание 17. Выведите на экран перечень уникальных целей взятия кредита из столбца `purpose`.**"
   ]
  },
  {
   "cell_type": "code",
   "execution_count": 21,
   "id": "e3a696bd",
   "metadata": {
    "deletable": false,
    "id": "f67ce9b3",
    "outputId": "673c12d9-7d7e-4ae0-9812-c622c89dd244"
   },
   "outputs": [
    {
     "data": {
      "text/plain": [
       "array(['покупка жилья', 'приобретение автомобиля',\n",
       "       'дополнительное образование', 'сыграть свадьбу',\n",
       "       'операции с жильем', 'образование', 'на проведение свадьбы',\n",
       "       'покупка жилья для семьи', 'покупка недвижимости',\n",
       "       'покупка коммерческой недвижимости', 'покупка жилой недвижимости',\n",
       "       'строительство собственной недвижимости', 'недвижимость',\n",
       "       'строительство недвижимости', 'на покупку подержанного автомобиля',\n",
       "       'на покупку своего автомобиля',\n",
       "       'операции с коммерческой недвижимостью',\n",
       "       'строительство жилой недвижимости', 'жилье',\n",
       "       'операции со своей недвижимостью', 'автомобили',\n",
       "       'заняться образованием', 'сделка с подержанным автомобилем',\n",
       "       'получение образования', 'автомобиль', 'свадьба',\n",
       "       'получение дополнительного образования', 'покупка своего жилья',\n",
       "       'операции с недвижимостью', 'получение высшего образования',\n",
       "       'свой автомобиль', 'сделка с автомобилем',\n",
       "       'профильное образование', 'высшее образование',\n",
       "       'покупка жилья для сдачи', 'на покупку автомобиля', 'ремонт жилью',\n",
       "       'заняться высшим образованием'], dtype=object)"
      ]
     },
     "execution_count": 21,
     "metadata": {},
     "output_type": "execute_result"
    }
   ],
   "source": [
    "data['purpose'].unique()"
   ]
  },
  {
   "cell_type": "markdown",
   "id": "f78950ed",
   "metadata": {
    "deletable": false,
    "editable": false,
    "id": "85d0aef0"
   },
   "source": [
    "**Задание 18. Создайте функцию, которая на основании данных из столбца `purpose` сформирует новый столбец `purpose_category`, в который войдут следующие категории:**\n",
    "\n",
    "- `'операции с автомобилем'`,\n",
    "- `'операции с недвижимостью'`,\n",
    "- `'проведение свадьбы'`,\n",
    "- `'получение образования'`.\n",
    "\n",
    "**Например, если в столбце `purpose` находится подстрока `'на покупку автомобиля'`, то в столбце `purpose_category` должна появиться строка `'операции с автомобилем'`.**\n",
    "\n",
    "**Используйте собственную функцию с именем `categorize_purpose()` и метод `apply()`. Изучите данные в столбце `purpose` и определите, какие подстроки помогут вам правильно определить категорию.**"
   ]
  },
  {
   "cell_type": "code",
   "execution_count": 22,
   "id": "0570ae31",
   "metadata": {
    "deletable": false,
    "id": "e149fab4"
   },
   "outputs": [],
   "source": [
    "def categorize_purpose(row):\n",
    "    try:\n",
    "        if 'автом' in row:\n",
    "            return 'операции с автомобилем'\n",
    "        elif 'жил' in row or 'недвиж' in row:\n",
    "            return 'операции с недвижимостью'\n",
    "        elif 'свад' in row:\n",
    "            return 'проведение свадьбы'\n",
    "        elif 'образов' in row:\n",
    "            return 'получение образования'\n",
    "    except:\n",
    "        return 'нет категории'"
   ]
  },
  {
   "cell_type": "code",
   "execution_count": 23,
   "id": "1ff61477",
   "metadata": {
    "deletable": false,
    "id": "bf36e69b"
   },
   "outputs": [],
   "source": [
    "data['purpose_category'] = data['purpose'].apply(categorize_purpose)"
   ]
  },
  {
   "cell_type": "markdown",
   "id": "6243e02f",
   "metadata": {},
   "source": [
    "----------\n",
    "----------"
   ]
  },
  {
   "cell_type": "markdown",
   "id": "e93e3658",
   "metadata": {
    "deletable": false,
    "editable": false,
    "id": "09b242bf"
   },
   "source": [
    "### Шаг 3. Исследуйте данные и ответьте на вопросы"
   ]
  },
  {
   "cell_type": "markdown",
   "id": "1549e3c8",
   "metadata": {},
   "source": [
    "**сначала ещё немного обработки!**\n",
    "\n",
    "отвечая на вопросы мы будем по ходу дела обрабатывать некоторые значения признаков. Какие-то раньше, какие-то чуть позже, так как их значения подходят для визуализации"
   ]
  },
  {
   "cell_type": "markdown",
   "id": "c9929bef",
   "metadata": {},
   "source": [
    "**признаки education и education_id**"
   ]
  },
  {
   "cell_type": "code",
   "execution_count": 24,
   "id": "40b70e20",
   "metadata": {},
   "outputs": [
    {
     "data": {
      "text/plain": [
       "среднее                15075\n",
       "высшее                  5227\n",
       "неоконченное высшее      741\n",
       "начальное                282\n",
       "ученая степень             6\n",
       "Name: education, dtype: int64"
      ]
     },
     "execution_count": 24,
     "metadata": {},
     "output_type": "execute_result"
    }
   ],
   "source": [
    "data.education.value_counts()"
   ]
  },
  {
   "cell_type": "markdown",
   "id": "78da2fb5",
   "metadata": {},
   "source": [
    "В данном исследовании мы их не рассматриваем, но они обязательно пригодятся нам в будущем. ```education```, по сути, дублирует текстовый признак ```education_id```, поэтому в таблице мы оставим только ```education_id```, а ```education``` перенесём в именную таблицу-справочник"
   ]
  },
  {
   "cell_type": "code",
   "execution_count": 25,
   "id": "68b121e0",
   "metadata": {},
   "outputs": [],
   "source": [
    "education_catalog = data[['education', 'education_id']].drop_duplicates(keep='first').reset_index(drop=True)\n",
    "data['education_id'] = data['education_id'].astype('category')\n",
    "data = data.drop(columns='education')"
   ]
  },
  {
   "cell_type": "code",
   "execution_count": 26,
   "id": "3438d862",
   "metadata": {},
   "outputs": [],
   "source": [
    "# сохранить справочник education_catalog в файл\n",
    "#education_catalog.to_csv('education_catalog.csv', index=False)"
   ]
  },
  {
   "cell_type": "markdown",
   "id": "0cc125b8",
   "metadata": {},
   "source": [
    "признак **income_type**"
   ]
  },
  {
   "cell_type": "markdown",
   "id": "eef5299d",
   "metadata": {},
   "source": [
    "C ```income_type``` чуть интереснее. Сначала посмотрим на значения:"
   ]
  },
  {
   "cell_type": "code",
   "execution_count": 27,
   "id": "65ba0d0e",
   "metadata": {},
   "outputs": [
    {
     "data": {
      "text/plain": [
       "сотрудник          11015\n",
       "компаньон           5047\n",
       "пенсионер           3812\n",
       "госслужащий         1451\n",
       "предприниматель        2\n",
       "безработный            2\n",
       "в декрете              1\n",
       "студент                1\n",
       "Name: income_type, dtype: int64"
      ]
     },
     "execution_count": 27,
     "metadata": {},
     "output_type": "execute_result"
    }
   ],
   "source": [
    "data.income_type.value_counts()"
   ]
  },
  {
   "cell_type": "markdown",
   "id": "1a087e8a",
   "metadata": {},
   "source": [
    "на весь датафрейм всего 2 безработных, и предпринимателя, кто-то в декрете и целый студент. Удалять мы их не будем, так как что-то они да значат, но разбросаем их по другим категориям. Безработных и студентов в декрете к пенсионерам, предпринимателя к компаньонам"
   ]
  },
  {
   "cell_type": "code",
   "execution_count": 28,
   "id": "2ad68a17",
   "metadata": {},
   "outputs": [
    {
     "name": "stdout",
     "output_type": "stream",
     "text": [
      "успешный успех\n",
      "успешный успех\n",
      "успешный успех\n",
      "успешный успех\n"
     ]
    }
   ],
   "source": [
    "for i in ['безработный', 'в декрете', 'студент', 'предприниматель']:\n",
    "    try:\n",
    "        if i == 'предприниматель':\n",
    "            data.loc[data['income_type'] == i, 'income_type'] = 'компаньон' \n",
    "        else:\n",
    "            data.loc[data['income_type'] == i, 'income_type'] = 'пенсионер' \n",
    "    except IndexError as message:\n",
    "        print(f'запредельный индекс! Описание ошибки:\\n{message}')\n",
    "    else:\n",
    "        print('успешный успех')"
   ]
  },
  {
   "cell_type": "code",
   "execution_count": 29,
   "id": "69e02968",
   "metadata": {},
   "outputs": [
    {
     "data": {
      "text/plain": [
       "сотрудник      11015\n",
       "компаньон       5049\n",
       "пенсионер       3816\n",
       "госслужащий     1451\n",
       "Name: income_type, dtype: int64"
      ]
     },
     "execution_count": 29,
     "metadata": {},
     "output_type": "execute_result"
    }
   ],
   "source": [
    "data.income_type.value_counts()"
   ]
  },
  {
   "cell_type": "markdown",
   "id": "39938202",
   "metadata": {},
   "source": [
    "далее при помощи *LabelEncoder* из *sklearn.preprocessing* создадим цифровое представление признака ```income_type``` под названием ```income_type_id```, а сам ```income_type``` из датафрейма перенесём в свой справочник"
   ]
  },
  {
   "cell_type": "code",
   "execution_count": 30,
   "id": "7f5e0eaf",
   "metadata": {},
   "outputs": [],
   "source": [
    "data['income_type_id'] = LabelEncoder().fit_transform(data['income_type'])\n",
    "income_type_catalog = data[['income_type', 'income_type_id']].drop_duplicates(keep='first').reset_index(drop=True)\n",
    "data['income_type_id'] = data['income_type_id'].astype('category')\n",
    "data = data.drop(columns='income_type')"
   ]
  },
  {
   "cell_type": "code",
   "execution_count": 31,
   "id": "1e2172b6",
   "metadata": {},
   "outputs": [],
   "source": [
    "# сохранить справочник income_type_catalog в файл\n",
    "#income_type_catalog.to_csv('income_type_catalog.csv', index=False)"
   ]
  },
  {
   "cell_type": "markdown",
   "id": "de829d87",
   "metadata": {},
   "source": [
    "признак **gender**"
   ]
  },
  {
   "cell_type": "code",
   "execution_count": 32,
   "id": "d671ee32",
   "metadata": {},
   "outputs": [
    {
     "data": {
      "text/plain": [
       "F      14092\n",
       "M       7238\n",
       "XNA        1\n",
       "Name: gender, dtype: int64"
      ]
     },
     "execution_count": 32,
     "metadata": {},
     "output_type": "execute_result"
    }
   ],
   "source": [
    "data.gender.value_counts()"
   ]
  },
  {
   "cell_type": "markdown",
   "id": "594e39b8",
   "metadata": {},
   "source": [
    "хм, гендер XNA он такой один! наверняка это кто-то уникальный и крайне интересный, но сейчас он выбивается из общей статистики, поэтому самым простым решением будет добавиь его к одной из групп (добавим к female), а сам признак сделаем бинарной категориальной переменной, в которой:\n",
    "\n",
    "- 0 = female\n",
    "- 1 = male"
   ]
  },
  {
   "cell_type": "code",
   "execution_count": 33,
   "id": "122dc1e8",
   "metadata": {},
   "outputs": [],
   "source": [
    "data.loc[data['gender'] == 'XNA', 'gender'] = 'F'\n",
    "data['gender'] = (data['gender'] == 'M').astype(int)\n",
    "data['gender'] = data['gender'].astype('category')"
   ]
  },
  {
   "cell_type": "markdown",
   "id": "c3c98f6e",
   "metadata": {},
   "source": [
    "проверим, что получилось:"
   ]
  },
  {
   "cell_type": "code",
   "execution_count": 34,
   "id": "c301fa8f",
   "metadata": {},
   "outputs": [
    {
     "data": {
      "text/plain": [
       "0    14093\n",
       "1     7238\n",
       "Name: gender, dtype: int64"
      ]
     },
     "execution_count": 34,
     "metadata": {},
     "output_type": "execute_result"
    }
   ],
   "source": [
    "data.gender.value_counts()"
   ]
  },
  {
   "cell_type": "markdown",
   "id": "2925eed4",
   "metadata": {},
   "source": [
    "неравномерное распределение гендера, кстати, наводит на мысль, что и вся выборка в датафрейме может распределена неровно. Для более точного анализа неплохо было бы уточнить дополнительную инфрмацию по гендеру проверить одну из гипотез:\n",
    "- женщины берут кредиты чаще мужчин\n",
    "- в представленных данных недостаточно информации\n",
    "- информации в данных достаточно, но есть ошибки в записи признака gender"
   ]
  },
  {
   "cell_type": "markdown",
   "id": "9d08b542",
   "metadata": {},
   "source": [
    "признак ```purpose``` - с ним мы чуть ниже поработаем и только потом обработаем и уберём в именной в справочник"
   ]
  },
  {
   "cell_type": "markdown",
   "id": "4c9c9c0c",
   "metadata": {},
   "source": [
    "----------\n",
    "----------"
   ]
  },
  {
   "cell_type": "markdown",
   "id": "3cbbef86",
   "metadata": {
    "deletable": false,
    "editable": false,
    "id": "c5d66278"
   },
   "source": [
    "#### 3.1 Есть ли зависимость между количеством детей и возвратом кредита в срок?"
   ]
  },
  {
   "cell_type": "markdown",
   "id": "d861700b",
   "metadata": {},
   "source": [
    "первым делом посмотрим на значение в колонке ```debt```, а то мы её раньше внимательно не изучали:"
   ]
  },
  {
   "cell_type": "code",
   "execution_count": 35,
   "id": "598f8fcc",
   "metadata": {},
   "outputs": [
    {
     "name": "stdout",
     "output_type": "stream",
     "text": [
      "[0 1]\n"
     ]
    }
   ],
   "source": [
    "print(data['debt'].unique())"
   ]
  },
  {
   "cell_type": "markdown",
   "id": "c7242a82",
   "metadata": {},
   "source": [
    "```debt``` содержит 2 значения:\n",
    "- 1 - задолженность по возврату кредитов была\n",
    "- 0 - задолженности не было\n",
    "\n",
    "данные по количеству детей - неравномерная выборка, так как, очевидно, многодетных семей меньше, чем семей с одним ребёнком. Посмотрим, сколько их всего у нас"
   ]
  },
  {
   "cell_type": "code",
   "execution_count": 36,
   "id": "3cfe2663",
   "metadata": {},
   "outputs": [
    {
     "data": {
      "text/html": [
       "<div>\n",
       "<style scoped>\n",
       "    .dataframe tbody tr th:only-of-type {\n",
       "        vertical-align: middle;\n",
       "    }\n",
       "\n",
       "    .dataframe tbody tr th {\n",
       "        vertical-align: top;\n",
       "    }\n",
       "\n",
       "    .dataframe thead th {\n",
       "        text-align: right;\n",
       "    }\n",
       "</style>\n",
       "<table border=\"1\" class=\"dataframe\">\n",
       "  <thead>\n",
       "    <tr style=\"text-align: right;\">\n",
       "      <th></th>\n",
       "      <th>Кол-во детей</th>\n",
       "      <th>Всего кредитополучателей</th>\n",
       "      <th>Количество должников</th>\n",
       "      <th>Процент должников</th>\n",
       "    </tr>\n",
       "  </thead>\n",
       "  <tbody>\n",
       "    <tr>\n",
       "      <th>0</th>\n",
       "      <td>0</td>\n",
       "      <td>14091</td>\n",
       "      <td>1063</td>\n",
       "      <td>7.54</td>\n",
       "    </tr>\n",
       "    <tr>\n",
       "      <th>1</th>\n",
       "      <td>1</td>\n",
       "      <td>4808</td>\n",
       "      <td>444</td>\n",
       "      <td>9.23</td>\n",
       "    </tr>\n",
       "    <tr>\n",
       "      <th>2</th>\n",
       "      <td>2</td>\n",
       "      <td>2052</td>\n",
       "      <td>194</td>\n",
       "      <td>9.45</td>\n",
       "    </tr>\n",
       "    <tr>\n",
       "      <th>3</th>\n",
       "      <td>3</td>\n",
       "      <td>330</td>\n",
       "      <td>27</td>\n",
       "      <td>8.18</td>\n",
       "    </tr>\n",
       "    <tr>\n",
       "      <th>4</th>\n",
       "      <td>4</td>\n",
       "      <td>41</td>\n",
       "      <td>4</td>\n",
       "      <td>9.76</td>\n",
       "    </tr>\n",
       "    <tr>\n",
       "      <th>5</th>\n",
       "      <td>5</td>\n",
       "      <td>9</td>\n",
       "      <td>0</td>\n",
       "      <td>0.00</td>\n",
       "    </tr>\n",
       "  </tbody>\n",
       "</table>\n",
       "</div>"
      ],
      "text/plain": [
       "   Кол-во детей  Всего кредитополучателей  Количество должников  \\\n",
       "0             0                     14091                  1063   \n",
       "1             1                      4808                   444   \n",
       "2             2                      2052                   194   \n",
       "3             3                       330                    27   \n",
       "4             4                        41                     4   \n",
       "5             5                         9                     0   \n",
       "\n",
       "   Процент должников  \n",
       "0               7.54  \n",
       "1               9.23  \n",
       "2               9.45  \n",
       "3               8.18  \n",
       "4               9.76  \n",
       "5               0.00  "
      ]
     },
     "execution_count": 36,
     "metadata": {},
     "output_type": "execute_result"
    }
   ],
   "source": [
    "pt_children = create_pivot_table(data, ind=['children'], val='debt', name='Кол-во детей')\n",
    "pt_children"
   ]
  },
  {
   "cell_type": "markdown",
   "id": "3471e046",
   "metadata": {},
   "source": [
    "оказывается, бездетные семьи самые закредитованные) но эта информация нам пока мало помогла, поэтому дополнительно смотрим, а какая доля из них имела задолженности по возврату кредитов. \n",
    "\n",
    "И по доле проблемных заёмщиков становится очень похоже на то, что семьи с 4-мя детьми самые неблагонадёжные. Но это некорректный вывод, так как семей с 4-мя детьми в выборке слишком мало"
   ]
  },
  {
   "cell_type": "markdown",
   "id": "6bfe492b",
   "metadata": {},
   "source": [
    "кстати, а ведь группа бездетных самая большая! стоит рассмотреть её со всем сторон повнимательней, попробуем это сделать. Построим сводную таблицу"
   ]
  },
  {
   "cell_type": "code",
   "execution_count": 37,
   "id": "4cc1e018",
   "metadata": {},
   "outputs": [
    {
     "data": {
      "text/html": [
       "<div>\n",
       "<style scoped>\n",
       "    .dataframe tbody tr th:only-of-type {\n",
       "        vertical-align: middle;\n",
       "    }\n",
       "\n",
       "    .dataframe tbody tr th {\n",
       "        vertical-align: top;\n",
       "    }\n",
       "\n",
       "    .dataframe thead th {\n",
       "        text-align: right;\n",
       "    }\n",
       "</style>\n",
       "<table border=\"1\" class=\"dataframe\">\n",
       "  <thead>\n",
       "    <tr style=\"text-align: right;\">\n",
       "      <th></th>\n",
       "      <th>Семейное положение</th>\n",
       "      <th>Всего кредитополучателей</th>\n",
       "      <th>Количество должников</th>\n",
       "      <th>Процент должников</th>\n",
       "    </tr>\n",
       "  </thead>\n",
       "  <tbody>\n",
       "    <tr>\n",
       "      <th>4</th>\n",
       "      <td>женат / замужем</td>\n",
       "      <td>7468</td>\n",
       "      <td>516</td>\n",
       "      <td>6.91</td>\n",
       "    </tr>\n",
       "    <tr>\n",
       "      <th>3</th>\n",
       "      <td>гражданский брак</td>\n",
       "      <td>2730</td>\n",
       "      <td>229</td>\n",
       "      <td>8.39</td>\n",
       "    </tr>\n",
       "    <tr>\n",
       "      <th>2</th>\n",
       "      <td>вдовец / вдова</td>\n",
       "      <td>847</td>\n",
       "      <td>53</td>\n",
       "      <td>6.26</td>\n",
       "    </tr>\n",
       "    <tr>\n",
       "      <th>1</th>\n",
       "      <td>в разводе</td>\n",
       "      <td>784</td>\n",
       "      <td>55</td>\n",
       "      <td>7.02</td>\n",
       "    </tr>\n",
       "    <tr>\n",
       "      <th>0</th>\n",
       "      <td>Не женат / не замужем</td>\n",
       "      <td>2262</td>\n",
       "      <td>210</td>\n",
       "      <td>9.28</td>\n",
       "    </tr>\n",
       "  </tbody>\n",
       "</table>\n",
       "</div>"
      ],
      "text/plain": [
       "      Семейное положение  Всего кредитополучателей  Количество должников  \\\n",
       "4        женат / замужем                      7468                   516   \n",
       "3       гражданский брак                      2730                   229   \n",
       "2         вдовец / вдова                       847                    53   \n",
       "1              в разводе                       784                    55   \n",
       "0  Не женат / не замужем                      2262                   210   \n",
       "\n",
       "   Процент должников  \n",
       "4               6.91  \n",
       "3               8.39  \n",
       "2               6.26  \n",
       "1               7.02  \n",
       "0               9.28  "
      ]
     },
     "execution_count": 37,
     "metadata": {},
     "output_type": "execute_result"
    }
   ],
   "source": [
    "pt_family_status = create_pivot_table(data, ind=[data.loc[data['children'] == 0, 'family_status']], val='debt', \n",
    "                                      name='Семейное положение').sort_values(by='Семейное положение', ascending=False)\n",
    "pt_family_status"
   ]
  },
  {
   "cell_type": "markdown",
   "id": "72b462bb",
   "metadata": {},
   "source": [
    "на сводной таблице видим, что бездетные холостые и в гражданском браке клиенты - самые неблагонадёжные"
   ]
  },
  {
   "cell_type": "markdown",
   "id": "1a01d045",
   "metadata": {},
   "source": [
    "для наглядности построим 2 графика и посмотрим на ту же информацию, но в графическом исполнении:"
   ]
  },
  {
   "cell_type": "code",
   "execution_count": 38,
   "id": "2a961133",
   "metadata": {},
   "outputs": [
    {
     "data": {
      "image/svg+xml": [
       "<?xml version=\"1.0\" encoding=\"utf-8\" standalone=\"no\"?>\r\n",
       "<!DOCTYPE svg PUBLIC \"-//W3C//DTD SVG 1.1//EN\"\r\n",
       "  \"http://www.w3.org/Graphics/SVG/1.1/DTD/svg11.dtd\">\r\n",
       "<!-- Created with matplotlib (https://matplotlib.org/) -->\r\n",
       "<svg height=\"602.28625pt\" version=\"1.1\" viewBox=\"0 0 605.803125 602.28625\" width=\"605.803125pt\" xmlns=\"http://www.w3.org/2000/svg\" xmlns:xlink=\"http://www.w3.org/1999/xlink\">\r\n",
       " <metadata>\r\n",
       "  <rdf:RDF xmlns:cc=\"http://creativecommons.org/ns#\" xmlns:dc=\"http://purl.org/dc/elements/1.1/\" xmlns:rdf=\"http://www.w3.org/1999/02/22-rdf-syntax-ns#\">\r\n",
       "   <cc:Work>\r\n",
       "    <dc:type rdf:resource=\"http://purl.org/dc/dcmitype/StillImage\"/>\r\n",
       "    <dc:date>2023-02-03T06:56:21.903752</dc:date>\r\n",
       "    <dc:format>image/svg+xml</dc:format>\r\n",
       "    <dc:creator>\r\n",
       "     <cc:Agent>\r\n",
       "      <dc:title>Matplotlib v3.3.4, https://matplotlib.org/</dc:title>\r\n",
       "     </cc:Agent>\r\n",
       "    </dc:creator>\r\n",
       "   </cc:Work>\r\n",
       "  </rdf:RDF>\r\n",
       " </metadata>\r\n",
       " <defs>\r\n",
       "  <style type=\"text/css\">*{stroke-linecap:butt;stroke-linejoin:round;}</style>\r\n",
       " </defs>\r\n",
       " <g id=\"figure_1\">\r\n",
       "  <g id=\"patch_1\">\r\n",
       "   <path d=\"M 0 602.28625 \r\n",
       "L 605.803125 602.28625 \r\n",
       "L 605.803125 0 \r\n",
       "L 0 0 \r\n",
       "z\r\n",
       "\" style=\"fill:#ffffff;\"/>\r\n",
       "  </g>\r\n",
       "  <g id=\"axes_1\">\r\n",
       "   <g id=\"patch_2\">\r\n",
       "    <path d=\"M 40.603125 275.837812 \r\n",
       "L 598.603125 275.837812 \r\n",
       "L 598.603125 23.837812 \r\n",
       "L 40.603125 23.837812 \r\n",
       "z\r\n",
       "\" style=\"fill:#ffffff;\"/>\r\n",
       "   </g>\r\n",
       "   <g id=\"patch_3\">\r\n",
       "    <path clip-path=\"url(#pd44214d7a0)\" d=\"M 65.966761 275.837812 \r\n",
       "L 135.935413 275.837812 \r\n",
       "L 135.935413 90.427976 \r\n",
       "L 65.966761 90.427976 \r\n",
       "z\r\n",
       "\" style=\"fill:#18ab30;stroke:#000000;stroke-linejoin:miter;\"/>\r\n",
       "   </g>\r\n",
       "   <g id=\"patch_4\">\r\n",
       "    <path clip-path=\"url(#pd44214d7a0)\" d=\"M 153.427576 275.837812 \r\n",
       "L 223.396228 275.837812 \r\n",
       "L 223.396228 48.870599 \r\n",
       "L 153.427576 48.870599 \r\n",
       "z\r\n",
       "\" style=\"fill:#18ab30;stroke:#000000;stroke-linejoin:miter;\"/>\r\n",
       "   </g>\r\n",
       "   <g id=\"patch_5\">\r\n",
       "    <path clip-path=\"url(#pd44214d7a0)\" d=\"M 240.888391 275.837812 \r\n",
       "L 310.857043 275.837812 \r\n",
       "L 310.857043 43.460763 \r\n",
       "L 240.888391 43.460763 \r\n",
       "z\r\n",
       "\" style=\"fill:#18ab30;stroke:#000000;stroke-linejoin:miter;\"/>\r\n",
       "   </g>\r\n",
       "   <g id=\"patch_6\">\r\n",
       "    <path clip-path=\"url(#pd44214d7a0)\" d=\"M 328.349207 275.837812 \r\n",
       "L 398.317859 275.837812 \r\n",
       "L 398.317859 74.690272 \r\n",
       "L 328.349207 74.690272 \r\n",
       "z\r\n",
       "\" style=\"fill:#18ab30;stroke:#000000;stroke-linejoin:miter;\"/>\r\n",
       "   </g>\r\n",
       "   <g id=\"patch_7\">\r\n",
       "    <path clip-path=\"url(#pd44214d7a0)\" d=\"M 415.810022 275.837812 \r\n",
       "L 485.778674 275.837812 \r\n",
       "L 485.778674 35.837812 \r\n",
       "L 415.810022 35.837812 \r\n",
       "z\r\n",
       "\" style=\"fill:#18ab30;stroke:#000000;stroke-linejoin:miter;\"/>\r\n",
       "   </g>\r\n",
       "   <g id=\"patch_8\">\r\n",
       "    <path clip-path=\"url(#pd44214d7a0)\" d=\"M 503.270837 275.837812 \r\n",
       "L 573.239489 275.837812 \r\n",
       "L 573.239489 275.837812 \r\n",
       "L 503.270837 275.837812 \r\n",
       "z\r\n",
       "\" style=\"fill:#18ab30;stroke:#000000;stroke-linejoin:miter;\"/>\r\n",
       "   </g>\r\n",
       "   <g id=\"matplotlib.axis_1\">\r\n",
       "    <g id=\"xtick_1\">\r\n",
       "     <g id=\"line2d_1\">\r\n",
       "      <defs>\r\n",
       "       <path d=\"M 0 0 \r\n",
       "L 0 3.5 \r\n",
       "\" id=\"m577a397f72\" style=\"stroke:#000000;stroke-width:0.8;\"/>\r\n",
       "      </defs>\r\n",
       "      <g>\r\n",
       "       <use style=\"stroke:#000000;stroke-width:0.8;\" x=\"100.951087\" xlink:href=\"#m577a397f72\" y=\"275.837812\"/>\r\n",
       "      </g>\r\n",
       "     </g>\r\n",
       "     <g id=\"text_1\">\r\n",
       "      <!-- 0 -->\r\n",
       "      <g transform=\"translate(97.769837 290.43625)scale(0.1 -0.1)\">\r\n",
       "       <defs>\r\n",
       "        <path d=\"M 31.78125 66.40625 \r\n",
       "Q 24.171875 66.40625 20.328125 58.90625 \r\n",
       "Q 16.5 51.421875 16.5 36.375 \r\n",
       "Q 16.5 21.390625 20.328125 13.890625 \r\n",
       "Q 24.171875 6.390625 31.78125 6.390625 \r\n",
       "Q 39.453125 6.390625 43.28125 13.890625 \r\n",
       "Q 47.125 21.390625 47.125 36.375 \r\n",
       "Q 47.125 51.421875 43.28125 58.90625 \r\n",
       "Q 39.453125 66.40625 31.78125 66.40625 \r\n",
       "z\r\n",
       "M 31.78125 74.21875 \r\n",
       "Q 44.046875 74.21875 50.515625 64.515625 \r\n",
       "Q 56.984375 54.828125 56.984375 36.375 \r\n",
       "Q 56.984375 17.96875 50.515625 8.265625 \r\n",
       "Q 44.046875 -1.421875 31.78125 -1.421875 \r\n",
       "Q 19.53125 -1.421875 13.0625 8.265625 \r\n",
       "Q 6.59375 17.96875 6.59375 36.375 \r\n",
       "Q 6.59375 54.828125 13.0625 64.515625 \r\n",
       "Q 19.53125 74.21875 31.78125 74.21875 \r\n",
       "z\r\n",
       "\" id=\"DejaVuSans-48\"/>\r\n",
       "       </defs>\r\n",
       "       <use xlink:href=\"#DejaVuSans-48\"/>\r\n",
       "      </g>\r\n",
       "     </g>\r\n",
       "    </g>\r\n",
       "    <g id=\"xtick_2\">\r\n",
       "     <g id=\"line2d_2\">\r\n",
       "      <g>\r\n",
       "       <use style=\"stroke:#000000;stroke-width:0.8;\" x=\"188.411902\" xlink:href=\"#m577a397f72\" y=\"275.837812\"/>\r\n",
       "      </g>\r\n",
       "     </g>\r\n",
       "     <g id=\"text_2\">\r\n",
       "      <!-- 1 -->\r\n",
       "      <g transform=\"translate(185.230652 290.43625)scale(0.1 -0.1)\">\r\n",
       "       <defs>\r\n",
       "        <path d=\"M 12.40625 8.296875 \r\n",
       "L 28.515625 8.296875 \r\n",
       "L 28.515625 63.921875 \r\n",
       "L 10.984375 60.40625 \r\n",
       "L 10.984375 69.390625 \r\n",
       "L 28.421875 72.90625 \r\n",
       "L 38.28125 72.90625 \r\n",
       "L 38.28125 8.296875 \r\n",
       "L 54.390625 8.296875 \r\n",
       "L 54.390625 0 \r\n",
       "L 12.40625 0 \r\n",
       "z\r\n",
       "\" id=\"DejaVuSans-49\"/>\r\n",
       "       </defs>\r\n",
       "       <use xlink:href=\"#DejaVuSans-49\"/>\r\n",
       "      </g>\r\n",
       "     </g>\r\n",
       "    </g>\r\n",
       "    <g id=\"xtick_3\">\r\n",
       "     <g id=\"line2d_3\">\r\n",
       "      <g>\r\n",
       "       <use style=\"stroke:#000000;stroke-width:0.8;\" x=\"275.872717\" xlink:href=\"#m577a397f72\" y=\"275.837812\"/>\r\n",
       "      </g>\r\n",
       "     </g>\r\n",
       "     <g id=\"text_3\">\r\n",
       "      <!-- 2 -->\r\n",
       "      <g transform=\"translate(272.691467 290.43625)scale(0.1 -0.1)\">\r\n",
       "       <defs>\r\n",
       "        <path d=\"M 19.1875 8.296875 \r\n",
       "L 53.609375 8.296875 \r\n",
       "L 53.609375 0 \r\n",
       "L 7.328125 0 \r\n",
       "L 7.328125 8.296875 \r\n",
       "Q 12.9375 14.109375 22.625 23.890625 \r\n",
       "Q 32.328125 33.6875 34.8125 36.53125 \r\n",
       "Q 39.546875 41.84375 41.421875 45.53125 \r\n",
       "Q 43.3125 49.21875 43.3125 52.78125 \r\n",
       "Q 43.3125 58.59375 39.234375 62.25 \r\n",
       "Q 35.15625 65.921875 28.609375 65.921875 \r\n",
       "Q 23.96875 65.921875 18.8125 64.3125 \r\n",
       "Q 13.671875 62.703125 7.8125 59.421875 \r\n",
       "L 7.8125 69.390625 \r\n",
       "Q 13.765625 71.78125 18.9375 73 \r\n",
       "Q 24.125 74.21875 28.421875 74.21875 \r\n",
       "Q 39.75 74.21875 46.484375 68.546875 \r\n",
       "Q 53.21875 62.890625 53.21875 53.421875 \r\n",
       "Q 53.21875 48.921875 51.53125 44.890625 \r\n",
       "Q 49.859375 40.875 45.40625 35.40625 \r\n",
       "Q 44.1875 33.984375 37.640625 27.21875 \r\n",
       "Q 31.109375 20.453125 19.1875 8.296875 \r\n",
       "z\r\n",
       "\" id=\"DejaVuSans-50\"/>\r\n",
       "       </defs>\r\n",
       "       <use xlink:href=\"#DejaVuSans-50\"/>\r\n",
       "      </g>\r\n",
       "     </g>\r\n",
       "    </g>\r\n",
       "    <g id=\"xtick_4\">\r\n",
       "     <g id=\"line2d_4\">\r\n",
       "      <g>\r\n",
       "       <use style=\"stroke:#000000;stroke-width:0.8;\" x=\"363.333533\" xlink:href=\"#m577a397f72\" y=\"275.837812\"/>\r\n",
       "      </g>\r\n",
       "     </g>\r\n",
       "     <g id=\"text_4\">\r\n",
       "      <!-- 3 -->\r\n",
       "      <g transform=\"translate(360.152283 290.43625)scale(0.1 -0.1)\">\r\n",
       "       <defs>\r\n",
       "        <path d=\"M 40.578125 39.3125 \r\n",
       "Q 47.65625 37.796875 51.625 33 \r\n",
       "Q 55.609375 28.21875 55.609375 21.1875 \r\n",
       "Q 55.609375 10.40625 48.1875 4.484375 \r\n",
       "Q 40.765625 -1.421875 27.09375 -1.421875 \r\n",
       "Q 22.515625 -1.421875 17.65625 -0.515625 \r\n",
       "Q 12.796875 0.390625 7.625 2.203125 \r\n",
       "L 7.625 11.71875 \r\n",
       "Q 11.71875 9.328125 16.59375 8.109375 \r\n",
       "Q 21.484375 6.890625 26.8125 6.890625 \r\n",
       "Q 36.078125 6.890625 40.9375 10.546875 \r\n",
       "Q 45.796875 14.203125 45.796875 21.1875 \r\n",
       "Q 45.796875 27.640625 41.28125 31.265625 \r\n",
       "Q 36.765625 34.90625 28.71875 34.90625 \r\n",
       "L 20.21875 34.90625 \r\n",
       "L 20.21875 43.015625 \r\n",
       "L 29.109375 43.015625 \r\n",
       "Q 36.375 43.015625 40.234375 45.921875 \r\n",
       "Q 44.09375 48.828125 44.09375 54.296875 \r\n",
       "Q 44.09375 59.90625 40.109375 62.90625 \r\n",
       "Q 36.140625 65.921875 28.71875 65.921875 \r\n",
       "Q 24.65625 65.921875 20.015625 65.03125 \r\n",
       "Q 15.375 64.15625 9.8125 62.3125 \r\n",
       "L 9.8125 71.09375 \r\n",
       "Q 15.4375 72.65625 20.34375 73.4375 \r\n",
       "Q 25.25 74.21875 29.59375 74.21875 \r\n",
       "Q 40.828125 74.21875 47.359375 69.109375 \r\n",
       "Q 53.90625 64.015625 53.90625 55.328125 \r\n",
       "Q 53.90625 49.265625 50.4375 45.09375 \r\n",
       "Q 46.96875 40.921875 40.578125 39.3125 \r\n",
       "z\r\n",
       "\" id=\"DejaVuSans-51\"/>\r\n",
       "       </defs>\r\n",
       "       <use xlink:href=\"#DejaVuSans-51\"/>\r\n",
       "      </g>\r\n",
       "     </g>\r\n",
       "    </g>\r\n",
       "    <g id=\"xtick_5\">\r\n",
       "     <g id=\"line2d_5\">\r\n",
       "      <g>\r\n",
       "       <use style=\"stroke:#000000;stroke-width:0.8;\" x=\"450.794348\" xlink:href=\"#m577a397f72\" y=\"275.837812\"/>\r\n",
       "      </g>\r\n",
       "     </g>\r\n",
       "     <g id=\"text_5\">\r\n",
       "      <!-- 4 -->\r\n",
       "      <g transform=\"translate(447.613098 290.43625)scale(0.1 -0.1)\">\r\n",
       "       <defs>\r\n",
       "        <path d=\"M 37.796875 64.3125 \r\n",
       "L 12.890625 25.390625 \r\n",
       "L 37.796875 25.390625 \r\n",
       "z\r\n",
       "M 35.203125 72.90625 \r\n",
       "L 47.609375 72.90625 \r\n",
       "L 47.609375 25.390625 \r\n",
       "L 58.015625 25.390625 \r\n",
       "L 58.015625 17.1875 \r\n",
       "L 47.609375 17.1875 \r\n",
       "L 47.609375 0 \r\n",
       "L 37.796875 0 \r\n",
       "L 37.796875 17.1875 \r\n",
       "L 4.890625 17.1875 \r\n",
       "L 4.890625 26.703125 \r\n",
       "z\r\n",
       "\" id=\"DejaVuSans-52\"/>\r\n",
       "       </defs>\r\n",
       "       <use xlink:href=\"#DejaVuSans-52\"/>\r\n",
       "      </g>\r\n",
       "     </g>\r\n",
       "    </g>\r\n",
       "    <g id=\"xtick_6\">\r\n",
       "     <g id=\"line2d_6\">\r\n",
       "      <g>\r\n",
       "       <use style=\"stroke:#000000;stroke-width:0.8;\" x=\"538.255163\" xlink:href=\"#m577a397f72\" y=\"275.837812\"/>\r\n",
       "      </g>\r\n",
       "     </g>\r\n",
       "     <g id=\"text_6\">\r\n",
       "      <!-- 5 -->\r\n",
       "      <g transform=\"translate(535.073913 290.43625)scale(0.1 -0.1)\">\r\n",
       "       <defs>\r\n",
       "        <path d=\"M 10.796875 72.90625 \r\n",
       "L 49.515625 72.90625 \r\n",
       "L 49.515625 64.59375 \r\n",
       "L 19.828125 64.59375 \r\n",
       "L 19.828125 46.734375 \r\n",
       "Q 21.96875 47.46875 24.109375 47.828125 \r\n",
       "Q 26.265625 48.1875 28.421875 48.1875 \r\n",
       "Q 40.625 48.1875 47.75 41.5 \r\n",
       "Q 54.890625 34.8125 54.890625 23.390625 \r\n",
       "Q 54.890625 11.625 47.5625 5.09375 \r\n",
       "Q 40.234375 -1.421875 26.90625 -1.421875 \r\n",
       "Q 22.3125 -1.421875 17.546875 -0.640625 \r\n",
       "Q 12.796875 0.140625 7.71875 1.703125 \r\n",
       "L 7.71875 11.625 \r\n",
       "Q 12.109375 9.234375 16.796875 8.0625 \r\n",
       "Q 21.484375 6.890625 26.703125 6.890625 \r\n",
       "Q 35.15625 6.890625 40.078125 11.328125 \r\n",
       "Q 45.015625 15.765625 45.015625 23.390625 \r\n",
       "Q 45.015625 31 40.078125 35.4375 \r\n",
       "Q 35.15625 39.890625 26.703125 39.890625 \r\n",
       "Q 22.75 39.890625 18.8125 39.015625 \r\n",
       "Q 14.890625 38.140625 10.796875 36.28125 \r\n",
       "z\r\n",
       "\" id=\"DejaVuSans-53\"/>\r\n",
       "       </defs>\r\n",
       "       <use xlink:href=\"#DejaVuSans-53\"/>\r\n",
       "      </g>\r\n",
       "     </g>\r\n",
       "    </g>\r\n",
       "    <g id=\"text_7\">\r\n",
       "     <!-- количество детей -->\r\n",
       "     <g transform=\"translate(267.360937 304.114375)scale(0.1 -0.1)\">\r\n",
       "      <defs>\r\n",
       "       <path d=\"M 8.40625 54.6875 \r\n",
       "L 25.875 54.6875 \r\n",
       "L 25.875 36.1875 \r\n",
       "L 45.359375 54.6875 \r\n",
       "L 64.5 54.6875 \r\n",
       "L 41.15625 32.46875 \r\n",
       "L 66.40625 0 \r\n",
       "L 48.34375 0 \r\n",
       "L 30.8125 22.609375 \r\n",
       "L 25.875 17.921875 \r\n",
       "L 25.875 0 \r\n",
       "L 8.40625 0 \r\n",
       "z\r\n",
       "\" id=\"DejaVuSans-Bold-1082\"/>\r\n",
       "       <path d=\"M 34.421875 43.5 \r\n",
       "Q 28.609375 43.5 25.5625 39.328125 \r\n",
       "Q 22.515625 35.15625 22.515625 27.296875 \r\n",
       "Q 22.515625 19.4375 25.5625 15.25 \r\n",
       "Q 28.609375 11.078125 34.421875 11.078125 \r\n",
       "Q 40.140625 11.078125 43.15625 15.25 \r\n",
       "Q 46.1875 19.4375 46.1875 27.296875 \r\n",
       "Q 46.1875 35.15625 43.15625 39.328125 \r\n",
       "Q 40.140625 43.5 34.421875 43.5 \r\n",
       "z\r\n",
       "M 34.421875 56 \r\n",
       "Q 48.53125 56 56.46875 48.375 \r\n",
       "Q 64.40625 40.765625 64.40625 27.296875 \r\n",
       "Q 64.40625 13.8125 56.46875 6.1875 \r\n",
       "Q 48.53125 -1.421875 34.421875 -1.421875 \r\n",
       "Q 20.265625 -1.421875 12.28125 6.1875 \r\n",
       "Q 4.296875 13.8125 4.296875 27.296875 \r\n",
       "Q 4.296875 40.765625 12.28125 48.375 \r\n",
       "Q 20.265625 56 34.421875 56 \r\n",
       "z\r\n",
       "\" id=\"DejaVuSans-Bold-1086\"/>\r\n",
       "       <path d=\"M 5.515625 0 \r\n",
       "L 5.515625 12.5 \r\n",
       "Q 14.15625 14.265625 16.109375 19.96875 \r\n",
       "Q 17.578125 24.3125 17.578125 45.75 \r\n",
       "L 17.578125 54.6875 \r\n",
       "L 64.84375 54.6875 \r\n",
       "L 64.84375 0 \r\n",
       "L 47.359375 0 \r\n",
       "L 47.359375 42.1875 \r\n",
       "L 35.0625 42.1875 \r\n",
       "L 35.0625 40.375 \r\n",
       "Q 35.0625 18.953125 31.6875 12.703125 \r\n",
       "Q 24.859375 0 5.515625 0 \r\n",
       "z\r\n",
       "\" id=\"DejaVuSans-Bold-1083\"/>\r\n",
       "       <path d=\"M 61.671875 54.6875 \r\n",
       "L 61.671875 0 \r\n",
       "L 44.1875 0 \r\n",
       "L 44.1875 29.109375 \r\n",
       "L 26.5625 0 \r\n",
       "L 8.40625 0 \r\n",
       "L 8.40625 54.6875 \r\n",
       "L 25.875 54.6875 \r\n",
       "L 25.875 25.59375 \r\n",
       "L 43.5 54.6875 \r\n",
       "z\r\n",
       "\" id=\"DejaVuSans-Bold-1080\"/>\r\n",
       "       <path d=\"M 39.84375 0 \r\n",
       "L 39.84375 21.140625 \r\n",
       "L 21.875 21.140625 \r\n",
       "Q 14.546875 21.140625 10.5 25.453125 \r\n",
       "Q 6.453125 29.78125 6.453125 38.28125 \r\n",
       "L 6.453125 54.6875 \r\n",
       "L 23.921875 54.6875 \r\n",
       "L 23.921875 44.96875 \r\n",
       "Q 23.921875 36.28125 25.34375 34.109375 \r\n",
       "Q 26.765625 31.9375 30.46875 31.9375 \r\n",
       "L 39.84375 31.9375 \r\n",
       "L 39.84375 54.6875 \r\n",
       "L 57.328125 54.6875 \r\n",
       "L 57.328125 0 \r\n",
       "z\r\n",
       "\" id=\"DejaVuSans-Bold-1095\"/>\r\n",
       "       <path d=\"M 62.984375 27.484375 \r\n",
       "L 62.984375 22.515625 \r\n",
       "L 22.125 22.515625 \r\n",
       "Q 22.75 16.359375 26.5625 13.28125 \r\n",
       "Q 30.375 10.203125 37.203125 10.203125 \r\n",
       "Q 42.71875 10.203125 48.5 11.84375 \r\n",
       "Q 54.296875 13.484375 60.40625 16.796875 \r\n",
       "L 60.40625 3.328125 \r\n",
       "Q 54.203125 0.984375 48 -0.21875 \r\n",
       "Q 41.796875 -1.421875 35.59375 -1.421875 \r\n",
       "Q 20.75 -1.421875 12.515625 6.125 \r\n",
       "Q 4.296875 13.671875 4.296875 27.296875 \r\n",
       "Q 4.296875 40.671875 12.375 48.328125 \r\n",
       "Q 20.453125 56 34.625 56 \r\n",
       "Q 47.515625 56 55.25 48.234375 \r\n",
       "Q 62.984375 40.484375 62.984375 27.484375 \r\n",
       "z\r\n",
       "M 45.015625 33.296875 \r\n",
       "Q 45.015625 38.28125 42.109375 41.328125 \r\n",
       "Q 39.203125 44.390625 34.515625 44.390625 \r\n",
       "Q 29.4375 44.390625 26.265625 41.53125 \r\n",
       "Q 23.09375 38.671875 22.3125 33.296875 \r\n",
       "z\r\n",
       "\" id=\"DejaVuSans-Bold-1077\"/>\r\n",
       "       <path d=\"M 52.59375 52.984375 \r\n",
       "L 52.59375 38.71875 \r\n",
       "Q 49.03125 41.15625 45.4375 42.328125 \r\n",
       "Q 41.84375 43.5 37.984375 43.5 \r\n",
       "Q 30.671875 43.5 26.59375 39.234375 \r\n",
       "Q 22.515625 34.96875 22.515625 27.296875 \r\n",
       "Q 22.515625 19.625 26.59375 15.34375 \r\n",
       "Q 30.671875 11.078125 37.984375 11.078125 \r\n",
       "Q 42.09375 11.078125 45.78125 12.296875 \r\n",
       "Q 49.46875 13.53125 52.59375 15.921875 \r\n",
       "L 52.59375 1.609375 \r\n",
       "Q 48.484375 0.09375 44.265625 -0.65625 \r\n",
       "Q 40.046875 -1.421875 35.796875 -1.421875 \r\n",
       "Q 21 -1.421875 12.640625 6.171875 \r\n",
       "Q 4.296875 13.765625 4.296875 27.296875 \r\n",
       "Q 4.296875 40.828125 12.640625 48.40625 \r\n",
       "Q 21 56 35.796875 56 \r\n",
       "Q 40.09375 56 44.265625 55.25 \r\n",
       "Q 48.4375 54.5 52.59375 52.984375 \r\n",
       "z\r\n",
       "\" id=\"DejaVuSans-Bold-1089\"/>\r\n",
       "       <path d=\"M 0.390625 54.6875 \r\n",
       "L 57.515625 54.6875 \r\n",
       "L 57.515625 43.890625 \r\n",
       "L 37.703125 43.890625 \r\n",
       "L 37.703125 0 \r\n",
       "L 20.265625 0 \r\n",
       "L 20.265625 43.890625 \r\n",
       "L 0.390625 43.890625 \r\n",
       "z\r\n",
       "\" id=\"DejaVuSans-Bold-1090\"/>\r\n",
       "       <path d=\"M 34.125 34.078125 \r\n",
       "Q 37.15625 34.078125 38.71875 35.328125 \r\n",
       "Q 40.28125 36.578125 40.28125 39.015625 \r\n",
       "Q 40.28125 41.453125 38.71875 42.671875 \r\n",
       "Q 37.15625 43.890625 34.125 43.890625 \r\n",
       "L 25.875 43.890625 \r\n",
       "L 25.875 34.078125 \r\n",
       "z\r\n",
       "M 34.71875 10.9375 \r\n",
       "Q 38.578125 10.9375 40.53125 12.46875 \r\n",
       "Q 42.484375 14.015625 42.484375 17.09375 \r\n",
       "Q 42.484375 20.125 40.53125 21.625 \r\n",
       "Q 38.578125 23.140625 34.71875 23.140625 \r\n",
       "L 25.875 23.140625 \r\n",
       "L 25.875 10.9375 \r\n",
       "z\r\n",
       "M 8.40625 54.6875 \r\n",
       "L 33.453125 54.6875 \r\n",
       "Q 45.609375 54.6875 51.046875 51.234375 \r\n",
       "Q 56.5 47.796875 56.5 40.234375 \r\n",
       "Q 56.5 36.234375 54.484375 33.421875 \r\n",
       "Q 52.484375 30.609375 48.734375 29.25 \r\n",
       "Q 53.5625 27.9375 56.21875 24.390625 \r\n",
       "Q 58.890625 20.84375 58.890625 15.671875 \r\n",
       "Q 58.890625 7.765625 53.171875 3.875 \r\n",
       "Q 47.46875 0 35.84375 0 \r\n",
       "L 8.40625 0 \r\n",
       "z\r\n",
       "\" id=\"DejaVuSans-Bold-1074\"/>\r\n",
       "       <path id=\"DejaVuSans-Bold-32\"/>\r\n",
       "       <path d=\"M 8.546875 12.5 \r\n",
       "Q 14.109375 14.359375 16.453125 20.53125 \r\n",
       "Q 18.796875 26.703125 18.796875 44.34375 \r\n",
       "L 18.796875 54.6875 \r\n",
       "L 66.0625 54.6875 \r\n",
       "L 66.0625 12.5 \r\n",
       "L 75.140625 12.5 \r\n",
       "L 75.140625 -13.8125 \r\n",
       "L 62.640625 -13.8125 \r\n",
       "L 62.640625 0 \r\n",
       "L 18.109375 0 \r\n",
       "L 18.109375 -13.8125 \r\n",
       "L 5.609375 -13.8125 \r\n",
       "L 5.609375 12.5 \r\n",
       "z\r\n",
       "M 48.578125 42.1875 \r\n",
       "L 36.28125 42.1875 \r\n",
       "L 36.28125 40.671875 \r\n",
       "Q 36.28125 22.75 32.234375 12.5 \r\n",
       "L 48.578125 12.5 \r\n",
       "z\r\n",
       "\" id=\"DejaVuSans-Bold-1076\"/>\r\n",
       "       <path d=\"M 61.671875 54.6875 \r\n",
       "L 61.671875 0 \r\n",
       "L 44.1875 0 \r\n",
       "L 44.1875 29.109375 \r\n",
       "L 26.5625 0 \r\n",
       "L 8.40625 0 \r\n",
       "L 8.40625 54.6875 \r\n",
       "L 25.875 54.6875 \r\n",
       "L 25.875 25.59375 \r\n",
       "L 43.5 54.6875 \r\n",
       "z\r\n",
       "M 18.59375 76.421875 \r\n",
       "L 25.578125 76.421875 \r\n",
       "Q 26.109375 73 28.53125 71.1875 \r\n",
       "Q 30.953125 69.390625 35 69.390625 \r\n",
       "Q 39.046875 69.390625 41.46875 71.1875 \r\n",
       "Q 43.890625 73 44.421875 76.421875 \r\n",
       "L 51.40625 76.421875 \r\n",
       "Q 51.109375 69.390625 46.859375 65.65625 \r\n",
       "Q 42.625 61.921875 35 61.921875 \r\n",
       "Q 27.390625 61.921875 23.140625 65.65625 \r\n",
       "Q 18.890625 69.390625 18.59375 76.421875 \r\n",
       "z\r\n",
       "\" id=\"DejaVuSans-Bold-1081\"/>\r\n",
       "      </defs>\r\n",
       "      <use xlink:href=\"#DejaVuSans-Bold-1082\"/>\r\n",
       "      <use x=\"67.871094\" xlink:href=\"#DejaVuSans-Bold-1086\"/>\r\n",
       "      <use x=\"136.572266\" xlink:href=\"#DejaVuSans-Bold-1083\"/>\r\n",
       "      <use x=\"209.814453\" xlink:href=\"#DejaVuSans-Bold-1080\"/>\r\n",
       "      <use x=\"279.882812\" xlink:href=\"#DejaVuSans-Bold-1095\"/>\r\n",
       "      <use x=\"348.535156\" xlink:href=\"#DejaVuSans-Bold-1077\"/>\r\n",
       "      <use x=\"416.357422\" xlink:href=\"#DejaVuSans-Bold-1089\"/>\r\n",
       "      <use x=\"475.634766\" xlink:href=\"#DejaVuSans-Bold-1090\"/>\r\n",
       "      <use x=\"533.59375\" xlink:href=\"#DejaVuSans-Bold-1074\"/>\r\n",
       "      <use x=\"596.875\" xlink:href=\"#DejaVuSans-Bold-1086\"/>\r\n",
       "      <use x=\"665.576172\" xlink:href=\"#DejaVuSans-Bold-32\"/>\r\n",
       "      <use x=\"700.390625\" xlink:href=\"#DejaVuSans-Bold-1076\"/>\r\n",
       "      <use x=\"781.152344\" xlink:href=\"#DejaVuSans-Bold-1077\"/>\r\n",
       "      <use x=\"848.974609\" xlink:href=\"#DejaVuSans-Bold-1090\"/>\r\n",
       "      <use x=\"906.933594\" xlink:href=\"#DejaVuSans-Bold-1077\"/>\r\n",
       "      <use x=\"974.755859\" xlink:href=\"#DejaVuSans-Bold-1081\"/>\r\n",
       "     </g>\r\n",
       "    </g>\r\n",
       "   </g>\r\n",
       "   <g id=\"matplotlib.axis_2\">\r\n",
       "    <g id=\"ytick_1\">\r\n",
       "     <g id=\"line2d_7\">\r\n",
       "      <path clip-path=\"url(#pd44214d7a0)\" d=\"M 40.603125 275.837812 \r\n",
       "L 598.603125 275.837812 \r\n",
       "\" style=\"fill:none;stroke:#b0b0b0;stroke-linecap:square;stroke-width:0.8;\"/>\r\n",
       "     </g>\r\n",
       "     <g id=\"line2d_8\">\r\n",
       "      <defs>\r\n",
       "       <path d=\"M 0 0 \r\n",
       "L -3.5 0 \r\n",
       "\" id=\"m8bfb5d5392\" style=\"stroke:#000000;stroke-width:0.8;\"/>\r\n",
       "      </defs>\r\n",
       "      <g>\r\n",
       "       <use style=\"stroke:#000000;stroke-width:0.8;\" x=\"40.603125\" xlink:href=\"#m8bfb5d5392\" y=\"275.837812\"/>\r\n",
       "      </g>\r\n",
       "     </g>\r\n",
       "     <g id=\"text_8\">\r\n",
       "      <!-- 0 -->\r\n",
       "      <g transform=\"translate(27.240625 279.637031)scale(0.1 -0.1)\">\r\n",
       "       <use xlink:href=\"#DejaVuSans-48\"/>\r\n",
       "      </g>\r\n",
       "     </g>\r\n",
       "    </g>\r\n",
       "    <g id=\"ytick_2\">\r\n",
       "     <g id=\"line2d_9\">\r\n",
       "      <path clip-path=\"url(#pd44214d7a0)\" d=\"M 40.603125 226.657485 \r\n",
       "L 598.603125 226.657485 \r\n",
       "\" style=\"fill:none;stroke:#b0b0b0;stroke-linecap:square;stroke-width:0.8;\"/>\r\n",
       "     </g>\r\n",
       "     <g id=\"line2d_10\">\r\n",
       "      <g>\r\n",
       "       <use style=\"stroke:#000000;stroke-width:0.8;\" x=\"40.603125\" xlink:href=\"#m8bfb5d5392\" y=\"226.657485\"/>\r\n",
       "      </g>\r\n",
       "     </g>\r\n",
       "     <g id=\"text_9\">\r\n",
       "      <!-- 2 -->\r\n",
       "      <g transform=\"translate(27.240625 230.456703)scale(0.1 -0.1)\">\r\n",
       "       <use xlink:href=\"#DejaVuSans-50\"/>\r\n",
       "      </g>\r\n",
       "     </g>\r\n",
       "    </g>\r\n",
       "    <g id=\"ytick_3\">\r\n",
       "     <g id=\"line2d_11\">\r\n",
       "      <path clip-path=\"url(#pd44214d7a0)\" d=\"M 40.603125 177.477157 \r\n",
       "L 598.603125 177.477157 \r\n",
       "\" style=\"fill:none;stroke:#b0b0b0;stroke-linecap:square;stroke-width:0.8;\"/>\r\n",
       "     </g>\r\n",
       "     <g id=\"line2d_12\">\r\n",
       "      <g>\r\n",
       "       <use style=\"stroke:#000000;stroke-width:0.8;\" x=\"40.603125\" xlink:href=\"#m8bfb5d5392\" y=\"177.477157\"/>\r\n",
       "      </g>\r\n",
       "     </g>\r\n",
       "     <g id=\"text_10\">\r\n",
       "      <!-- 4 -->\r\n",
       "      <g transform=\"translate(27.240625 181.276376)scale(0.1 -0.1)\">\r\n",
       "       <use xlink:href=\"#DejaVuSans-52\"/>\r\n",
       "      </g>\r\n",
       "     </g>\r\n",
       "    </g>\r\n",
       "    <g id=\"ytick_4\">\r\n",
       "     <g id=\"line2d_13\">\r\n",
       "      <path clip-path=\"url(#pd44214d7a0)\" d=\"M 40.603125 128.296829 \r\n",
       "L 598.603125 128.296829 \r\n",
       "\" style=\"fill:none;stroke:#b0b0b0;stroke-linecap:square;stroke-width:0.8;\"/>\r\n",
       "     </g>\r\n",
       "     <g id=\"line2d_14\">\r\n",
       "      <g>\r\n",
       "       <use style=\"stroke:#000000;stroke-width:0.8;\" x=\"40.603125\" xlink:href=\"#m8bfb5d5392\" y=\"128.296829\"/>\r\n",
       "      </g>\r\n",
       "     </g>\r\n",
       "     <g id=\"text_11\">\r\n",
       "      <!-- 6 -->\r\n",
       "      <g transform=\"translate(27.240625 132.096048)scale(0.1 -0.1)\">\r\n",
       "       <defs>\r\n",
       "        <path d=\"M 33.015625 40.375 \r\n",
       "Q 26.375 40.375 22.484375 35.828125 \r\n",
       "Q 18.609375 31.296875 18.609375 23.390625 \r\n",
       "Q 18.609375 15.53125 22.484375 10.953125 \r\n",
       "Q 26.375 6.390625 33.015625 6.390625 \r\n",
       "Q 39.65625 6.390625 43.53125 10.953125 \r\n",
       "Q 47.40625 15.53125 47.40625 23.390625 \r\n",
       "Q 47.40625 31.296875 43.53125 35.828125 \r\n",
       "Q 39.65625 40.375 33.015625 40.375 \r\n",
       "z\r\n",
       "M 52.59375 71.296875 \r\n",
       "L 52.59375 62.3125 \r\n",
       "Q 48.875 64.0625 45.09375 64.984375 \r\n",
       "Q 41.3125 65.921875 37.59375 65.921875 \r\n",
       "Q 27.828125 65.921875 22.671875 59.328125 \r\n",
       "Q 17.53125 52.734375 16.796875 39.40625 \r\n",
       "Q 19.671875 43.65625 24.015625 45.921875 \r\n",
       "Q 28.375 48.1875 33.59375 48.1875 \r\n",
       "Q 44.578125 48.1875 50.953125 41.515625 \r\n",
       "Q 57.328125 34.859375 57.328125 23.390625 \r\n",
       "Q 57.328125 12.15625 50.6875 5.359375 \r\n",
       "Q 44.046875 -1.421875 33.015625 -1.421875 \r\n",
       "Q 20.359375 -1.421875 13.671875 8.265625 \r\n",
       "Q 6.984375 17.96875 6.984375 36.375 \r\n",
       "Q 6.984375 53.65625 15.1875 63.9375 \r\n",
       "Q 23.390625 74.21875 37.203125 74.21875 \r\n",
       "Q 40.921875 74.21875 44.703125 73.484375 \r\n",
       "Q 48.484375 72.75 52.59375 71.296875 \r\n",
       "z\r\n",
       "\" id=\"DejaVuSans-54\"/>\r\n",
       "       </defs>\r\n",
       "       <use xlink:href=\"#DejaVuSans-54\"/>\r\n",
       "      </g>\r\n",
       "     </g>\r\n",
       "    </g>\r\n",
       "    <g id=\"ytick_5\">\r\n",
       "     <g id=\"line2d_15\">\r\n",
       "      <path clip-path=\"url(#pd44214d7a0)\" d=\"M 40.603125 79.116501 \r\n",
       "L 598.603125 79.116501 \r\n",
       "\" style=\"fill:none;stroke:#b0b0b0;stroke-linecap:square;stroke-width:0.8;\"/>\r\n",
       "     </g>\r\n",
       "     <g id=\"line2d_16\">\r\n",
       "      <g>\r\n",
       "       <use style=\"stroke:#000000;stroke-width:0.8;\" x=\"40.603125\" xlink:href=\"#m8bfb5d5392\" y=\"79.116501\"/>\r\n",
       "      </g>\r\n",
       "     </g>\r\n",
       "     <g id=\"text_12\">\r\n",
       "      <!-- 8 -->\r\n",
       "      <g transform=\"translate(27.240625 82.91572)scale(0.1 -0.1)\">\r\n",
       "       <defs>\r\n",
       "        <path d=\"M 31.78125 34.625 \r\n",
       "Q 24.75 34.625 20.71875 30.859375 \r\n",
       "Q 16.703125 27.09375 16.703125 20.515625 \r\n",
       "Q 16.703125 13.921875 20.71875 10.15625 \r\n",
       "Q 24.75 6.390625 31.78125 6.390625 \r\n",
       "Q 38.8125 6.390625 42.859375 10.171875 \r\n",
       "Q 46.921875 13.96875 46.921875 20.515625 \r\n",
       "Q 46.921875 27.09375 42.890625 30.859375 \r\n",
       "Q 38.875 34.625 31.78125 34.625 \r\n",
       "z\r\n",
       "M 21.921875 38.8125 \r\n",
       "Q 15.578125 40.375 12.03125 44.71875 \r\n",
       "Q 8.5 49.078125 8.5 55.328125 \r\n",
       "Q 8.5 64.0625 14.71875 69.140625 \r\n",
       "Q 20.953125 74.21875 31.78125 74.21875 \r\n",
       "Q 42.671875 74.21875 48.875 69.140625 \r\n",
       "Q 55.078125 64.0625 55.078125 55.328125 \r\n",
       "Q 55.078125 49.078125 51.53125 44.71875 \r\n",
       "Q 48 40.375 41.703125 38.8125 \r\n",
       "Q 48.828125 37.15625 52.796875 32.3125 \r\n",
       "Q 56.78125 27.484375 56.78125 20.515625 \r\n",
       "Q 56.78125 9.90625 50.3125 4.234375 \r\n",
       "Q 43.84375 -1.421875 31.78125 -1.421875 \r\n",
       "Q 19.734375 -1.421875 13.25 4.234375 \r\n",
       "Q 6.78125 9.90625 6.78125 20.515625 \r\n",
       "Q 6.78125 27.484375 10.78125 32.3125 \r\n",
       "Q 14.796875 37.15625 21.921875 38.8125 \r\n",
       "z\r\n",
       "M 18.3125 54.390625 \r\n",
       "Q 18.3125 48.734375 21.84375 45.5625 \r\n",
       "Q 25.390625 42.390625 31.78125 42.390625 \r\n",
       "Q 38.140625 42.390625 41.71875 45.5625 \r\n",
       "Q 45.3125 48.734375 45.3125 54.390625 \r\n",
       "Q 45.3125 60.0625 41.71875 63.234375 \r\n",
       "Q 38.140625 66.40625 31.78125 66.40625 \r\n",
       "Q 25.390625 66.40625 21.84375 63.234375 \r\n",
       "Q 18.3125 60.0625 18.3125 54.390625 \r\n",
       "z\r\n",
       "\" id=\"DejaVuSans-56\"/>\r\n",
       "       </defs>\r\n",
       "       <use xlink:href=\"#DejaVuSans-56\"/>\r\n",
       "      </g>\r\n",
       "     </g>\r\n",
       "    </g>\r\n",
       "    <g id=\"ytick_6\">\r\n",
       "     <g id=\"line2d_17\">\r\n",
       "      <path clip-path=\"url(#pd44214d7a0)\" d=\"M 40.603125 29.936173 \r\n",
       "L 598.603125 29.936173 \r\n",
       "\" style=\"fill:none;stroke:#b0b0b0;stroke-linecap:square;stroke-width:0.8;\"/>\r\n",
       "     </g>\r\n",
       "     <g id=\"line2d_18\">\r\n",
       "      <g>\r\n",
       "       <use style=\"stroke:#000000;stroke-width:0.8;\" x=\"40.603125\" xlink:href=\"#m8bfb5d5392\" y=\"29.936173\"/>\r\n",
       "      </g>\r\n",
       "     </g>\r\n",
       "     <g id=\"text_13\">\r\n",
       "      <!-- 10 -->\r\n",
       "      <g transform=\"translate(20.878125 33.735392)scale(0.1 -0.1)\">\r\n",
       "       <use xlink:href=\"#DejaVuSans-49\"/>\r\n",
       "       <use x=\"63.623047\" xlink:href=\"#DejaVuSans-48\"/>\r\n",
       "      </g>\r\n",
       "     </g>\r\n",
       "    </g>\r\n",
       "    <g id=\"text_14\">\r\n",
       "     <!-- % с задолженностями -->\r\n",
       "     <g transform=\"translate(14.798438 214.082344)rotate(-90)scale(0.1 -0.1)\">\r\n",
       "      <defs>\r\n",
       "       <path d=\"M 77.484375 30.078125 \r\n",
       "Q 74.03125 30.078125 72.125 27.078125 \r\n",
       "Q 70.21875 24.078125 70.21875 18.5 \r\n",
       "Q 70.21875 12.890625 72.09375 9.890625 \r\n",
       "Q 73.96875 6.890625 77.484375 6.890625 \r\n",
       "Q 81 6.890625 82.859375 9.890625 \r\n",
       "Q 84.71875 12.890625 84.71875 18.5 \r\n",
       "Q 84.71875 24.078125 82.828125 27.078125 \r\n",
       "Q 80.953125 30.078125 77.484375 30.078125 \r\n",
       "z\r\n",
       "M 77.484375 38.28125 \r\n",
       "Q 86.578125 38.28125 91.796875 33 \r\n",
       "Q 97.015625 27.734375 97.015625 18.5 \r\n",
       "Q 97.015625 9.28125 91.796875 3.921875 \r\n",
       "Q 86.578125 -1.421875 77.484375 -1.421875 \r\n",
       "Q 68.40625 -1.421875 63.15625 3.921875 \r\n",
       "Q 57.90625 9.28125 57.90625 18.5 \r\n",
       "Q 57.90625 27.6875 63.15625 32.984375 \r\n",
       "Q 68.40625 38.28125 77.484375 38.28125 \r\n",
       "z\r\n",
       "M 32.71875 -1.421875 \r\n",
       "L 21.921875 -1.421875 \r\n",
       "L 67.484375 74.21875 \r\n",
       "L 78.328125 74.21875 \r\n",
       "z\r\n",
       "M 22.703125 74.21875 \r\n",
       "Q 31.78125 74.21875 36.984375 68.921875 \r\n",
       "Q 42.1875 63.625 42.1875 54.390625 \r\n",
       "Q 42.1875 45.171875 36.984375 39.84375 \r\n",
       "Q 31.78125 34.515625 22.703125 34.515625 \r\n",
       "Q 13.625 34.515625 8.421875 39.84375 \r\n",
       "Q 3.21875 45.171875 3.21875 54.390625 \r\n",
       "Q 3.21875 63.625 8.421875 68.921875 \r\n",
       "Q 13.625 74.21875 22.703125 74.21875 \r\n",
       "z\r\n",
       "M 22.703125 66.015625 \r\n",
       "Q 19.1875 66.015625 17.28125 62.984375 \r\n",
       "Q 15.375 59.96875 15.375 54.390625 \r\n",
       "Q 15.375 48.78125 17.28125 45.71875 \r\n",
       "Q 19.1875 42.671875 22.703125 42.671875 \r\n",
       "Q 26.21875 42.671875 28.09375 45.71875 \r\n",
       "Q 29.984375 48.78125 29.984375 54.390625 \r\n",
       "Q 29.984375 59.96875 28.078125 62.984375 \r\n",
       "Q 26.171875 66.015625 22.703125 66.015625 \r\n",
       "z\r\n",
       "\" id=\"DejaVuSans-Bold-37\"/>\r\n",
       "       <path d=\"M 14.0625 34.078125 \r\n",
       "L 22.078125 34.078125 \r\n",
       "Q 29.25 34.078125 31.859375 35.640625 \r\n",
       "Q 34.46875 37.203125 34.46875 39.359375 \r\n",
       "Q 34.46875 44.390625 22.953125 44.390625 \r\n",
       "Q 13.328125 44.390625 7.375 41.015625 \r\n",
       "L 7.375 53.65625 \r\n",
       "Q 16.265625 56 26.765625 56 \r\n",
       "Q 39.0625 56 44.71875 52.515625 \r\n",
       "Q 50.390625 49.03125 50.390625 41.65625 \r\n",
       "Q 50.390625 31.984375 39.703125 29.5 \r\n",
       "Q 51.765625 26.515625 51.765625 15.53125 \r\n",
       "Q 51.765625 7.078125 45.125 2.828125 \r\n",
       "Q 38.484375 -1.421875 24.265625 -1.421875 \r\n",
       "Q 13.671875 -1.421875 4.890625 1.3125 \r\n",
       "L 4.890625 14.796875 \r\n",
       "Q 15.828125 10.203125 22.3125 10.203125 \r\n",
       "Q 29.4375 10.203125 32.640625 12.125 \r\n",
       "Q 35.84375 14.0625 35.84375 16.5 \r\n",
       "Q 35.84375 23.296875 21.78125 23.296875 \r\n",
       "L 14.0625 23.296875 \r\n",
       "z\r\n",
       "\" id=\"DejaVuSans-Bold-1079\"/>\r\n",
       "       <path d=\"M 32.90625 24.609375 \r\n",
       "Q 27.4375 24.609375 24.671875 22.75 \r\n",
       "Q 21.921875 20.90625 21.921875 17.28125 \r\n",
       "Q 21.921875 13.96875 24.140625 12.078125 \r\n",
       "Q 26.375 10.203125 30.328125 10.203125 \r\n",
       "Q 35.25 10.203125 38.625 13.734375 \r\n",
       "Q 42 17.28125 42 22.609375 \r\n",
       "L 42 24.609375 \r\n",
       "z\r\n",
       "M 59.625 31.203125 \r\n",
       "L 59.625 0 \r\n",
       "L 42 0 \r\n",
       "L 42 8.109375 \r\n",
       "Q 38.484375 3.125 34.078125 0.84375 \r\n",
       "Q 29.6875 -1.421875 23.390625 -1.421875 \r\n",
       "Q 14.890625 -1.421875 9.59375 3.53125 \r\n",
       "Q 4.296875 8.5 4.296875 16.40625 \r\n",
       "Q 4.296875 26.03125 10.90625 30.515625 \r\n",
       "Q 17.53125 35.015625 31.6875 35.015625 \r\n",
       "L 42 35.015625 \r\n",
       "L 42 36.375 \r\n",
       "Q 42 40.53125 38.71875 42.453125 \r\n",
       "Q 35.453125 44.390625 28.515625 44.390625 \r\n",
       "Q 22.90625 44.390625 18.0625 43.265625 \r\n",
       "Q 13.234375 42.140625 9.078125 39.890625 \r\n",
       "L 9.078125 53.21875 \r\n",
       "Q 14.703125 54.59375 20.359375 55.296875 \r\n",
       "Q 26.03125 56 31.6875 56 \r\n",
       "Q 46.484375 56 53.046875 50.171875 \r\n",
       "Q 59.625 44.34375 59.625 31.203125 \r\n",
       "z\r\n",
       "\" id=\"DejaVuSans-Bold-1072\"/>\r\n",
       "       <path d=\"M 1.46875 0 \r\n",
       "L 26.21875 32.46875 \r\n",
       "L 3.375 54.6875 \r\n",
       "L 22.515625 54.6875 \r\n",
       "L 41.015625 36.671875 \r\n",
       "L 41.015625 54.6875 \r\n",
       "L 58.5 54.6875 \r\n",
       "L 58.5 36.671875 \r\n",
       "L 77 54.6875 \r\n",
       "L 96.140625 54.6875 \r\n",
       "L 73.296875 32.46875 \r\n",
       "L 98.046875 0 \r\n",
       "L 79.984375 0 \r\n",
       "L 62.890625 22.359375 \r\n",
       "L 58.5 18.109375 \r\n",
       "L 58.5 0 \r\n",
       "L 41.015625 0 \r\n",
       "L 41.015625 18.109375 \r\n",
       "L 36.625 22.359375 \r\n",
       "L 19.53125 0 \r\n",
       "z\r\n",
       "\" id=\"DejaVuSans-Bold-1078\"/>\r\n",
       "       <path d=\"M 8.40625 54.6875 \r\n",
       "L 25.875 54.6875 \r\n",
       "L 25.875 33.890625 \r\n",
       "L 43.21875 33.890625 \r\n",
       "L 43.21875 54.6875 \r\n",
       "L 60.6875 54.6875 \r\n",
       "L 60.6875 0 \r\n",
       "L 43.21875 0 \r\n",
       "L 43.21875 23.09375 \r\n",
       "L 25.875 23.09375 \r\n",
       "L 25.875 0 \r\n",
       "L 8.40625 0 \r\n",
       "z\r\n",
       "\" id=\"DejaVuSans-Bold-1085\"/>\r\n",
       "       <path d=\"M 23.875 37.40625 \r\n",
       "Q 23.875 33.890625 25.796875 32.328125 \r\n",
       "Q 27.734375 30.765625 32.171875 30.765625 \r\n",
       "L 38.484375 30.765625 \r\n",
       "L 38.484375 44 \r\n",
       "L 32.171875 44 \r\n",
       "Q 27.734375 44 25.796875 42.484375 \r\n",
       "Q 23.875 40.96875 23.875 37.40625 \r\n",
       "z\r\n",
       "M 3.078125 0 \r\n",
       "L 17.390625 23.390625 \r\n",
       "Q 13.234375 25.78125 10.15625 29.953125 \r\n",
       "Q 7.078125 34.125 7.078125 39.3125 \r\n",
       "Q 7.078125 47.078125 12.328125 50.875 \r\n",
       "Q 17.578125 54.6875 29.34375 54.6875 \r\n",
       "L 55.953125 54.6875 \r\n",
       "L 55.953125 0 \r\n",
       "L 38.484375 0 \r\n",
       "L 38.484375 19.96875 \r\n",
       "L 32.328125 19.96875 \r\n",
       "L 20.125 0 \r\n",
       "z\r\n",
       "\" id=\"DejaVuSans-Bold-1103\"/>\r\n",
       "       <path d=\"M 8.40625 54.6875 \r\n",
       "L 28.515625 54.6875 \r\n",
       "L 40.828125 27.34375 \r\n",
       "L 53.125 54.6875 \r\n",
       "L 73.296875 54.6875 \r\n",
       "L 73.296875 0 \r\n",
       "L 55.859375 0 \r\n",
       "L 55.859375 31 \r\n",
       "L 46.625 10.5 \r\n",
       "L 35.15625 10.5 \r\n",
       "L 25.875 31 \r\n",
       "L 25.875 0 \r\n",
       "L 8.40625 0 \r\n",
       "z\r\n",
       "\" id=\"DejaVuSans-Bold-1084\"/>\r\n",
       "      </defs>\r\n",
       "      <use xlink:href=\"#DejaVuSans-Bold-37\"/>\r\n",
       "      <use x=\"100.195312\" xlink:href=\"#DejaVuSans-Bold-32\"/>\r\n",
       "      <use x=\"135.009766\" xlink:href=\"#DejaVuSans-Bold-1089\"/>\r\n",
       "      <use x=\"194.287109\" xlink:href=\"#DejaVuSans-Bold-32\"/>\r\n",
       "      <use x=\"229.101562\" xlink:href=\"#DejaVuSans-Bold-1079\"/>\r\n",
       "      <use x=\"287.207031\" xlink:href=\"#DejaVuSans-Bold-1072\"/>\r\n",
       "      <use x=\"354.6875\" xlink:href=\"#DejaVuSans-Bold-1076\"/>\r\n",
       "      <use x=\"435.449219\" xlink:href=\"#DejaVuSans-Bold-1086\"/>\r\n",
       "      <use x=\"504.150391\" xlink:href=\"#DejaVuSans-Bold-1083\"/>\r\n",
       "      <use x=\"577.392578\" xlink:href=\"#DejaVuSans-Bold-1078\"/>\r\n",
       "      <use x=\"676.904297\" xlink:href=\"#DejaVuSans-Bold-1077\"/>\r\n",
       "      <use x=\"744.726562\" xlink:href=\"#DejaVuSans-Bold-1085\"/>\r\n",
       "      <use x=\"813.818359\" xlink:href=\"#DejaVuSans-Bold-1085\"/>\r\n",
       "      <use x=\"882.910156\" xlink:href=\"#DejaVuSans-Bold-1086\"/>\r\n",
       "      <use x=\"951.611328\" xlink:href=\"#DejaVuSans-Bold-1089\"/>\r\n",
       "      <use x=\"1010.888672\" xlink:href=\"#DejaVuSans-Bold-1090\"/>\r\n",
       "      <use x=\"1068.847656\" xlink:href=\"#DejaVuSans-Bold-1103\"/>\r\n",
       "      <use x=\"1133.056641\" xlink:href=\"#DejaVuSans-Bold-1084\"/>\r\n",
       "      <use x=\"1214.794922\" xlink:href=\"#DejaVuSans-Bold-1080\"/>\r\n",
       "     </g>\r\n",
       "    </g>\r\n",
       "   </g>\r\n",
       "   <g id=\"patch_9\">\r\n",
       "    <path d=\"M 40.603125 275.837812 \r\n",
       "L 40.603125 23.837812 \r\n",
       "\" style=\"fill:none;stroke:#000000;stroke-linecap:square;stroke-linejoin:miter;stroke-width:0.8;\"/>\r\n",
       "   </g>\r\n",
       "   <g id=\"patch_10\">\r\n",
       "    <path d=\"M 598.603125 275.837812 \r\n",
       "L 598.603125 23.837812 \r\n",
       "\" style=\"fill:none;stroke:#000000;stroke-linecap:square;stroke-linejoin:miter;stroke-width:0.8;\"/>\r\n",
       "   </g>\r\n",
       "   <g id=\"patch_11\">\r\n",
       "    <path d=\"M 40.603125 275.837812 \r\n",
       "L 598.603125 275.837812 \r\n",
       "\" style=\"fill:none;stroke:#000000;stroke-linecap:square;stroke-linejoin:miter;stroke-width:0.8;\"/>\r\n",
       "   </g>\r\n",
       "   <g id=\"patch_12\">\r\n",
       "    <path d=\"M 40.603125 23.837812 \r\n",
       "L 598.603125 23.837812 \r\n",
       "\" style=\"fill:none;stroke:#000000;stroke-linecap:square;stroke-linejoin:miter;stroke-width:0.8;\"/>\r\n",
       "   </g>\r\n",
       "   <g id=\"text_15\">\r\n",
       "    <!-- должники и их количество детей -->\r\n",
       "    <g transform=\"translate(182.876719 17.837812)scale(0.14 -0.14)\">\r\n",
       "     <defs>\r\n",
       "      <path d=\"M 22.21875 27.984375 \r\n",
       "L 2.484375 54.6875 \r\n",
       "L 21 54.6875 \r\n",
       "L 32.171875 38.484375 \r\n",
       "L 43.5 54.6875 \r\n",
       "L 62.015625 54.6875 \r\n",
       "L 42.28125 28.078125 \r\n",
       "L 62.984375 0 \r\n",
       "L 44.484375 0 \r\n",
       "L 32.171875 17.28125 \r\n",
       "L 20.015625 0 \r\n",
       "L 1.515625 0 \r\n",
       "z\r\n",
       "\" id=\"DejaVuSans-Bold-1093\"/>\r\n",
       "     </defs>\r\n",
       "     <use xlink:href=\"#DejaVuSans-Bold-1076\"/>\r\n",
       "     <use x=\"80.761719\" xlink:href=\"#DejaVuSans-Bold-1086\"/>\r\n",
       "     <use x=\"149.462891\" xlink:href=\"#DejaVuSans-Bold-1083\"/>\r\n",
       "     <use x=\"222.705078\" xlink:href=\"#DejaVuSans-Bold-1078\"/>\r\n",
       "     <use x=\"322.216797\" xlink:href=\"#DejaVuSans-Bold-1085\"/>\r\n",
       "     <use x=\"391.308594\" xlink:href=\"#DejaVuSans-Bold-1080\"/>\r\n",
       "     <use x=\"461.376953\" xlink:href=\"#DejaVuSans-Bold-1082\"/>\r\n",
       "     <use x=\"529.248047\" xlink:href=\"#DejaVuSans-Bold-1080\"/>\r\n",
       "     <use x=\"599.316406\" xlink:href=\"#DejaVuSans-Bold-32\"/>\r\n",
       "     <use x=\"634.130859\" xlink:href=\"#DejaVuSans-Bold-1080\"/>\r\n",
       "     <use x=\"704.199219\" xlink:href=\"#DejaVuSans-Bold-32\"/>\r\n",
       "     <use x=\"739.013672\" xlink:href=\"#DejaVuSans-Bold-1080\"/>\r\n",
       "     <use x=\"809.082031\" xlink:href=\"#DejaVuSans-Bold-1093\"/>\r\n",
       "     <use x=\"873.583984\" xlink:href=\"#DejaVuSans-Bold-32\"/>\r\n",
       "     <use x=\"908.398438\" xlink:href=\"#DejaVuSans-Bold-1082\"/>\r\n",
       "     <use x=\"976.269531\" xlink:href=\"#DejaVuSans-Bold-1086\"/>\r\n",
       "     <use x=\"1044.970703\" xlink:href=\"#DejaVuSans-Bold-1083\"/>\r\n",
       "     <use x=\"1118.212891\" xlink:href=\"#DejaVuSans-Bold-1080\"/>\r\n",
       "     <use x=\"1188.28125\" xlink:href=\"#DejaVuSans-Bold-1095\"/>\r\n",
       "     <use x=\"1256.933594\" xlink:href=\"#DejaVuSans-Bold-1077\"/>\r\n",
       "     <use x=\"1324.755859\" xlink:href=\"#DejaVuSans-Bold-1089\"/>\r\n",
       "     <use x=\"1384.033203\" xlink:href=\"#DejaVuSans-Bold-1090\"/>\r\n",
       "     <use x=\"1441.992188\" xlink:href=\"#DejaVuSans-Bold-1074\"/>\r\n",
       "     <use x=\"1505.273438\" xlink:href=\"#DejaVuSans-Bold-1086\"/>\r\n",
       "     <use x=\"1573.974609\" xlink:href=\"#DejaVuSans-Bold-32\"/>\r\n",
       "     <use x=\"1608.789062\" xlink:href=\"#DejaVuSans-Bold-1076\"/>\r\n",
       "     <use x=\"1689.550781\" xlink:href=\"#DejaVuSans-Bold-1077\"/>\r\n",
       "     <use x=\"1757.373047\" xlink:href=\"#DejaVuSans-Bold-1090\"/>\r\n",
       "     <use x=\"1815.332031\" xlink:href=\"#DejaVuSans-Bold-1077\"/>\r\n",
       "     <use x=\"1883.154297\" xlink:href=\"#DejaVuSans-Bold-1081\"/>\r\n",
       "    </g>\r\n",
       "   </g>\r\n",
       "  </g>\r\n",
       "  <g id=\"axes_2\">\r\n",
       "   <g id=\"patch_13\">\r\n",
       "    <path d=\"M 40.603125 578.237812 \r\n",
       "L 598.603125 578.237812 \r\n",
       "L 598.603125 326.237812 \r\n",
       "L 40.603125 326.237812 \r\n",
       "z\r\n",
       "\" style=\"fill:#ffffff;\"/>\r\n",
       "   </g>\r\n",
       "   <g id=\"patch_14\">\r\n",
       "    <path clip-path=\"url(#p214fadda81)\" d=\"M 65.966761 578.237812 \r\n",
       "L 150.512216 578.237812 \r\n",
       "L 150.512216 399.530916 \r\n",
       "L 65.966761 399.530916 \r\n",
       "z\r\n",
       "\" style=\"fill:#18ab30;stroke:#000000;stroke-linejoin:miter;\"/>\r\n",
       "   </g>\r\n",
       "   <g id=\"patch_15\">\r\n",
       "    <path clip-path=\"url(#p214fadda81)\" d=\"M 171.64858 578.237812 \r\n",
       "L 256.194034 578.237812 \r\n",
       "L 256.194034 361.255054 \r\n",
       "L 171.64858 361.255054 \r\n",
       "z\r\n",
       "\" style=\"fill:#18ab30;stroke:#000000;stroke-linejoin:miter;\"/>\r\n",
       "   </g>\r\n",
       "   <g id=\"patch_16\">\r\n",
       "    <path clip-path=\"url(#p214fadda81)\" d=\"M 277.330398 578.237812 \r\n",
       "L 361.875852 578.237812 \r\n",
       "L 361.875852 416.341261 \r\n",
       "L 277.330398 416.341261 \r\n",
       "z\r\n",
       "\" style=\"fill:#18ab30;stroke:#000000;stroke-linejoin:miter;\"/>\r\n",
       "   </g>\r\n",
       "   <g id=\"patch_17\">\r\n",
       "    <path clip-path=\"url(#p214fadda81)\" d=\"M 383.012216 578.237812 \r\n",
       "L 467.55767 578.237812 \r\n",
       "L 467.55767 396.686088 \r\n",
       "L 383.012216 396.686088 \r\n",
       "z\r\n",
       "\" style=\"fill:#18ab30;stroke:#000000;stroke-linejoin:miter;\"/>\r\n",
       "   </g>\r\n",
       "   <g id=\"patch_18\">\r\n",
       "    <path clip-path=\"url(#p214fadda81)\" d=\"M 488.694034 578.237812 \r\n",
       "L 573.239489 578.237812 \r\n",
       "L 573.239489 338.237812 \r\n",
       "L 488.694034 338.237812 \r\n",
       "z\r\n",
       "\" style=\"fill:#18ab30;stroke:#000000;stroke-linejoin:miter;\"/>\r\n",
       "   </g>\r\n",
       "   <g id=\"matplotlib.axis_3\">\r\n",
       "    <g id=\"xtick_7\">\r\n",
       "     <g id=\"line2d_19\">\r\n",
       "      <g>\r\n",
       "       <use style=\"stroke:#000000;stroke-width:0.8;\" x=\"108.239489\" xlink:href=\"#m577a397f72\" y=\"578.237812\"/>\r\n",
       "      </g>\r\n",
       "     </g>\r\n",
       "     <g id=\"text_16\">\r\n",
       "      <!-- женат / замужем -->\r\n",
       "      <g transform=\"translate(62.743395 592.83625)scale(0.1 -0.1)\">\r\n",
       "       <defs>\r\n",
       "        <path d=\"M 40.578125 54.6875 \r\n",
       "L 49.515625 54.6875 \r\n",
       "L 49.515625 29 \r\n",
       "L 73.390625 54.6875 \r\n",
       "L 83.84375 54.6875 \r\n",
       "L 64.203125 33.640625 \r\n",
       "L 86.671875 0 \r\n",
       "L 77.046875 0 \r\n",
       "L 58.640625 27.640625 \r\n",
       "L 49.515625 17.828125 \r\n",
       "L 49.515625 0 \r\n",
       "L 40.578125 0 \r\n",
       "L 40.578125 17.828125 \r\n",
       "L 31.453125 27.640625 \r\n",
       "L 13.03125 0 \r\n",
       "L 3.421875 0 \r\n",
       "L 25.875 33.640625 \r\n",
       "L 6.25 54.6875 \r\n",
       "L 16.703125 54.6875 \r\n",
       "L 40.578125 29 \r\n",
       "z\r\n",
       "\" id=\"DejaVuSans-1078\"/>\r\n",
       "        <path d=\"M 56.203125 29.59375 \r\n",
       "L 56.203125 25.203125 \r\n",
       "L 14.890625 25.203125 \r\n",
       "Q 15.484375 15.921875 20.484375 11.0625 \r\n",
       "Q 25.484375 6.203125 34.421875 6.203125 \r\n",
       "Q 39.59375 6.203125 44.453125 7.46875 \r\n",
       "Q 49.3125 8.734375 54.109375 11.28125 \r\n",
       "L 54.109375 2.78125 \r\n",
       "Q 49.265625 0.734375 44.1875 -0.34375 \r\n",
       "Q 39.109375 -1.421875 33.890625 -1.421875 \r\n",
       "Q 20.796875 -1.421875 13.15625 6.1875 \r\n",
       "Q 5.515625 13.8125 5.515625 26.8125 \r\n",
       "Q 5.515625 40.234375 12.765625 48.109375 \r\n",
       "Q 20.015625 56 32.328125 56 \r\n",
       "Q 43.359375 56 49.78125 48.890625 \r\n",
       "Q 56.203125 41.796875 56.203125 29.59375 \r\n",
       "z\r\n",
       "M 47.21875 32.234375 \r\n",
       "Q 47.125 39.59375 43.09375 43.984375 \r\n",
       "Q 39.0625 48.390625 32.421875 48.390625 \r\n",
       "Q 24.90625 48.390625 20.390625 44.140625 \r\n",
       "Q 15.875 39.890625 15.1875 32.171875 \r\n",
       "z\r\n",
       "\" id=\"DejaVuSans-1077\"/>\r\n",
       "        <path d=\"M 9.078125 54.6875 \r\n",
       "L 18.109375 54.6875 \r\n",
       "L 18.109375 32.375 \r\n",
       "L 47.265625 32.375 \r\n",
       "L 47.265625 54.6875 \r\n",
       "L 56.296875 54.6875 \r\n",
       "L 56.296875 0 \r\n",
       "L 47.265625 0 \r\n",
       "L 47.265625 25.203125 \r\n",
       "L 18.109375 25.203125 \r\n",
       "L 18.109375 0 \r\n",
       "L 9.078125 0 \r\n",
       "z\r\n",
       "\" id=\"DejaVuSans-1085\"/>\r\n",
       "        <path d=\"M 34.28125 27.484375 \r\n",
       "Q 23.390625 27.484375 19.1875 25 \r\n",
       "Q 14.984375 22.515625 14.984375 16.5 \r\n",
       "Q 14.984375 11.71875 18.140625 8.90625 \r\n",
       "Q 21.296875 6.109375 26.703125 6.109375 \r\n",
       "Q 34.1875 6.109375 38.703125 11.40625 \r\n",
       "Q 43.21875 16.703125 43.21875 25.484375 \r\n",
       "L 43.21875 27.484375 \r\n",
       "z\r\n",
       "M 52.203125 31.203125 \r\n",
       "L 52.203125 0 \r\n",
       "L 43.21875 0 \r\n",
       "L 43.21875 8.296875 \r\n",
       "Q 40.140625 3.328125 35.546875 0.953125 \r\n",
       "Q 30.953125 -1.421875 24.3125 -1.421875 \r\n",
       "Q 15.921875 -1.421875 10.953125 3.296875 \r\n",
       "Q 6 8.015625 6 15.921875 \r\n",
       "Q 6 25.140625 12.171875 29.828125 \r\n",
       "Q 18.359375 34.515625 30.609375 34.515625 \r\n",
       "L 43.21875 34.515625 \r\n",
       "L 43.21875 35.40625 \r\n",
       "Q 43.21875 41.609375 39.140625 45 \r\n",
       "Q 35.0625 48.390625 27.6875 48.390625 \r\n",
       "Q 23 48.390625 18.546875 47.265625 \r\n",
       "Q 14.109375 46.140625 10.015625 43.890625 \r\n",
       "L 10.015625 52.203125 \r\n",
       "Q 14.9375 54.109375 19.578125 55.046875 \r\n",
       "Q 24.21875 56 28.609375 56 \r\n",
       "Q 40.484375 56 46.34375 49.84375 \r\n",
       "Q 52.203125 43.703125 52.203125 31.203125 \r\n",
       "z\r\n",
       "\" id=\"DejaVuSans-1072\"/>\r\n",
       "        <path d=\"M 2.9375 54.6875 \r\n",
       "L 55.328125 54.6875 \r\n",
       "L 55.328125 47.515625 \r\n",
       "L 33.546875 47.515625 \r\n",
       "L 33.546875 0 \r\n",
       "L 24.703125 0 \r\n",
       "L 24.703125 47.515625 \r\n",
       "L 2.9375 47.515625 \r\n",
       "z\r\n",
       "\" id=\"DejaVuSans-1090\"/>\r\n",
       "        <path id=\"DejaVuSans-32\"/>\r\n",
       "        <path d=\"M 25.390625 72.90625 \r\n",
       "L 33.6875 72.90625 \r\n",
       "L 8.296875 -9.28125 \r\n",
       "L 0 -9.28125 \r\n",
       "z\r\n",
       "\" id=\"DejaVuSans-47\"/>\r\n",
       "        <path d=\"M 34.46875 29.5 \r\n",
       "Q 40.53125 28.328125 43.890625 24.75 \r\n",
       "Q 47.265625 21.1875 47.265625 15.921875 \r\n",
       "Q 47.265625 7.46875 40.96875 3.015625 \r\n",
       "Q 34.671875 -1.421875 23.046875 -1.421875 \r\n",
       "Q 19.140625 -1.421875 15.015625 -0.734375 \r\n",
       "Q 10.890625 -0.046875 6.5 1.3125 \r\n",
       "L 6.5 9.671875 \r\n",
       "Q 9.96875 7.859375 14.109375 6.953125 \r\n",
       "Q 18.265625 6.0625 22.796875 6.0625 \r\n",
       "Q 30.171875 6.0625 34.296875 8.796875 \r\n",
       "Q 38.421875 11.53125 38.421875 15.921875 \r\n",
       "Q 38.421875 20.21875 34.765625 22.828125 \r\n",
       "Q 31.109375 25.4375 24.421875 25.4375 \r\n",
       "L 17.1875 25.4375 \r\n",
       "L 17.1875 32.859375 \r\n",
       "L 24.75 32.859375 \r\n",
       "Q 30.421875 32.859375 33.71875 35.03125 \r\n",
       "Q 37.015625 37.203125 37.015625 40.625 \r\n",
       "Q 37.015625 43.75 33.609375 46 \r\n",
       "Q 30.21875 48.25 24.421875 48.25 \r\n",
       "Q 20.953125 48.25 17.015625 47.609375 \r\n",
       "Q 13.09375 46.96875 8.34375 45.5625 \r\n",
       "L 8.34375 53.71875 \r\n",
       "Q 13.140625 54.890625 17.28125 55.46875 \r\n",
       "Q 21.4375 56.0625 25.140625 56.0625 \r\n",
       "Q 34.71875 56.0625 40.25 52.21875 \r\n",
       "Q 45.796875 48.390625 45.796875 41.5 \r\n",
       "Q 45.796875 36.96875 42.859375 33.8125 \r\n",
       "Q 39.9375 30.671875 34.46875 29.5 \r\n",
       "z\r\n",
       "\" id=\"DejaVuSans-1079\"/>\r\n",
       "        <path d=\"M 9.078125 54.6875 \r\n",
       "L 22.21875 54.6875 \r\n",
       "L 37.75 18.0625 \r\n",
       "L 53.328125 54.6875 \r\n",
       "L 66.359375 54.6875 \r\n",
       "L 66.359375 0 \r\n",
       "L 57.328125 0 \r\n",
       "L 57.328125 46.09375 \r\n",
       "L 42.234375 10.5 \r\n",
       "L 33.25 10.5 \r\n",
       "L 18.109375 46.09375 \r\n",
       "L 18.109375 0 \r\n",
       "L 9.078125 0 \r\n",
       "z\r\n",
       "\" id=\"DejaVuSans-1084\"/>\r\n",
       "        <path d=\"M 32.171875 -5.078125 \r\n",
       "Q 28.375 -14.84375 24.75 -17.8125 \r\n",
       "Q 21.140625 -20.796875 15.09375 -20.796875 \r\n",
       "L 7.90625 -20.796875 \r\n",
       "L 7.90625 -13.28125 \r\n",
       "L 13.1875 -13.28125 \r\n",
       "Q 16.890625 -13.28125 18.9375 -11.515625 \r\n",
       "Q 21 -9.765625 23.484375 -3.21875 \r\n",
       "L 25.09375 0.875 \r\n",
       "L 2.984375 54.6875 \r\n",
       "L 12.5 54.6875 \r\n",
       "L 29.59375 11.921875 \r\n",
       "L 46.6875 54.6875 \r\n",
       "L 56.203125 54.6875 \r\n",
       "z\r\n",
       "\" id=\"DejaVuSans-1091\"/>\r\n",
       "       </defs>\r\n",
       "       <use xlink:href=\"#DejaVuSans-1078\"/>\r\n",
       "       <use x=\"90.087891\" xlink:href=\"#DejaVuSans-1077\"/>\r\n",
       "       <use x=\"151.611328\" xlink:href=\"#DejaVuSans-1085\"/>\r\n",
       "       <use x=\"216.992188\" xlink:href=\"#DejaVuSans-1072\"/>\r\n",
       "       <use x=\"278.271484\" xlink:href=\"#DejaVuSans-1090\"/>\r\n",
       "       <use x=\"336.523438\" xlink:href=\"#DejaVuSans-32\"/>\r\n",
       "       <use x=\"368.310547\" xlink:href=\"#DejaVuSans-47\"/>\r\n",
       "       <use x=\"402.001953\" xlink:href=\"#DejaVuSans-32\"/>\r\n",
       "       <use x=\"433.789062\" xlink:href=\"#DejaVuSans-1079\"/>\r\n",
       "       <use x=\"486.962891\" xlink:href=\"#DejaVuSans-1072\"/>\r\n",
       "       <use x=\"548.242188\" xlink:href=\"#DejaVuSans-1084\"/>\r\n",
       "       <use x=\"623.681641\" xlink:href=\"#DejaVuSans-1091\"/>\r\n",
       "       <use x=\"682.861328\" xlink:href=\"#DejaVuSans-1078\"/>\r\n",
       "       <use x=\"772.949219\" xlink:href=\"#DejaVuSans-1077\"/>\r\n",
       "       <use x=\"834.472656\" xlink:href=\"#DejaVuSans-1084\"/>\r\n",
       "      </g>\r\n",
       "     </g>\r\n",
       "    </g>\r\n",
       "    <g id=\"xtick_8\">\r\n",
       "     <g id=\"line2d_20\">\r\n",
       "      <g>\r\n",
       "       <use style=\"stroke:#000000;stroke-width:0.8;\" x=\"213.921307\" xlink:href=\"#m577a397f72\" y=\"578.237812\"/>\r\n",
       "      </g>\r\n",
       "     </g>\r\n",
       "     <g id=\"text_17\">\r\n",
       "      <!-- гражданский брак -->\r\n",
       "      <g transform=\"translate(164.561932 593.006562)scale(0.1 -0.1)\">\r\n",
       "       <defs>\r\n",
       "        <path d=\"M 9.078125 0 \r\n",
       "L 9.078125 54.6875 \r\n",
       "L 47.65625 54.6875 \r\n",
       "L 47.65625 47.515625 \r\n",
       "L 18.109375 47.515625 \r\n",
       "L 18.109375 0 \r\n",
       "z\r\n",
       "\" id=\"DejaVuSans-1075\"/>\r\n",
       "        <path d=\"M 18.109375 8.203125 \r\n",
       "L 18.109375 -20.796875 \r\n",
       "L 9.078125 -20.796875 \r\n",
       "L 9.078125 54.6875 \r\n",
       "L 18.109375 54.6875 \r\n",
       "L 18.109375 46.390625 \r\n",
       "Q 20.953125 51.265625 25.265625 53.625 \r\n",
       "Q 29.59375 56 35.59375 56 \r\n",
       "Q 45.5625 56 51.78125 48.09375 \r\n",
       "Q 58.015625 40.1875 58.015625 27.296875 \r\n",
       "Q 58.015625 14.40625 51.78125 6.484375 \r\n",
       "Q 45.5625 -1.421875 35.59375 -1.421875 \r\n",
       "Q 29.59375 -1.421875 25.265625 0.953125 \r\n",
       "Q 20.953125 3.328125 18.109375 8.203125 \r\n",
       "z\r\n",
       "M 48.6875 27.296875 \r\n",
       "Q 48.6875 37.203125 44.609375 42.84375 \r\n",
       "Q 40.53125 48.484375 33.40625 48.484375 \r\n",
       "Q 26.265625 48.484375 22.1875 42.84375 \r\n",
       "Q 18.109375 37.203125 18.109375 27.296875 \r\n",
       "Q 18.109375 17.390625 22.1875 11.75 \r\n",
       "Q 26.265625 6.109375 33.40625 6.109375 \r\n",
       "Q 40.53125 6.109375 44.609375 11.75 \r\n",
       "Q 48.6875 17.390625 48.6875 27.296875 \r\n",
       "z\r\n",
       "\" id=\"DejaVuSans-1088\"/>\r\n",
       "        <path d=\"M 21.625 7.171875 \r\n",
       "L 47.703125 7.171875 \r\n",
       "L 47.703125 47.515625 \r\n",
       "L 28.8125 47.515625 \r\n",
       "L 28.8125 40.671875 \r\n",
       "Q 28.8125 20.5625 23.046875 9.8125 \r\n",
       "z\r\n",
       "M 8.59375 7.171875 \r\n",
       "Q 13.03125 9.125 14.984375 13.28125 \r\n",
       "Q 19.78125 23.578125 19.78125 44.34375 \r\n",
       "L 19.78125 54.6875 \r\n",
       "L 56.734375 54.6875 \r\n",
       "L 56.734375 7.171875 \r\n",
       "L 63.921875 7.171875 \r\n",
       "L 63.921875 -13.8125 \r\n",
       "L 56.734375 -13.8125 \r\n",
       "L 56.734375 0 \r\n",
       "L 12.40625 0 \r\n",
       "L 12.40625 -13.8125 \r\n",
       "L 5.21875 -13.8125 \r\n",
       "L 5.21875 7.171875 \r\n",
       "z\r\n",
       "\" id=\"DejaVuSans-1076\"/>\r\n",
       "        <path d=\"M 48.78125 52.59375 \r\n",
       "L 48.78125 44.1875 \r\n",
       "Q 44.96875 46.296875 41.140625 47.34375 \r\n",
       "Q 37.3125 48.390625 33.40625 48.390625 \r\n",
       "Q 24.65625 48.390625 19.8125 42.84375 \r\n",
       "Q 14.984375 37.3125 14.984375 27.296875 \r\n",
       "Q 14.984375 17.28125 19.8125 11.734375 \r\n",
       "Q 24.65625 6.203125 33.40625 6.203125 \r\n",
       "Q 37.3125 6.203125 41.140625 7.25 \r\n",
       "Q 44.96875 8.296875 48.78125 10.40625 \r\n",
       "L 48.78125 2.09375 \r\n",
       "Q 45.015625 0.34375 40.984375 -0.53125 \r\n",
       "Q 36.96875 -1.421875 32.421875 -1.421875 \r\n",
       "Q 20.0625 -1.421875 12.78125 6.34375 \r\n",
       "Q 5.515625 14.109375 5.515625 27.296875 \r\n",
       "Q 5.515625 40.671875 12.859375 48.328125 \r\n",
       "Q 20.21875 56 33.015625 56 \r\n",
       "Q 37.15625 56 41.109375 55.140625 \r\n",
       "Q 45.0625 54.296875 48.78125 52.59375 \r\n",
       "z\r\n",
       "\" id=\"DejaVuSans-1089\"/>\r\n",
       "        <path d=\"M 9.078125 54.6875 \r\n",
       "L 18.015625 54.6875 \r\n",
       "L 18.015625 29 \r\n",
       "L 43.359375 54.6875 \r\n",
       "L 54.390625 54.6875 \r\n",
       "L 33.5 33.546875 \r\n",
       "L 57.078125 0 \r\n",
       "L 47.015625 0 \r\n",
       "L 27.640625 27.59375 \r\n",
       "L 18.015625 17.828125 \r\n",
       "L 18.015625 0 \r\n",
       "L 9.078125 0 \r\n",
       "z\r\n",
       "\" id=\"DejaVuSans-1082\"/>\r\n",
       "        <path d=\"M 55.90625 54.6875 \r\n",
       "L 55.90625 0 \r\n",
       "L 46.96875 0 \r\n",
       "L 46.96875 43.890625 \r\n",
       "L 20.609375 0 \r\n",
       "L 9.078125 0 \r\n",
       "L 9.078125 54.6875 \r\n",
       "L 18.015625 54.6875 \r\n",
       "L 18.015625 10.890625 \r\n",
       "L 44.34375 54.6875 \r\n",
       "z\r\n",
       "\" id=\"DejaVuSans-1080\"/>\r\n",
       "        <path d=\"M 55.90625 54.6875 \r\n",
       "L 55.90625 0 \r\n",
       "L 46.96875 0 \r\n",
       "L 46.96875 43.890625 \r\n",
       "L 20.609375 0 \r\n",
       "L 9.078125 0 \r\n",
       "L 9.078125 54.6875 \r\n",
       "L 18.015625 54.6875 \r\n",
       "L 18.015625 10.890625 \r\n",
       "L 44.34375 54.6875 \r\n",
       "z\r\n",
       "M 17.21875 75.515625 \r\n",
       "L 22.984375 75.515625 \r\n",
       "Q 23.515625 71.859375 25.875 70.015625 \r\n",
       "Q 28.25 68.1875 32.5 68.1875 \r\n",
       "Q 36.703125 68.1875 39.046875 70 \r\n",
       "Q 41.390625 71.8125 42.015625 75.515625 \r\n",
       "L 47.78125 75.515625 \r\n",
       "Q 47.296875 68.53125 43.4375 65.015625 \r\n",
       "Q 39.578125 61.5 32.5 61.5 \r\n",
       "Q 25.421875 61.5 21.5625 65.015625 \r\n",
       "Q 17.703125 68.53125 17.21875 75.515625 \r\n",
       "z\r\n",
       "\" id=\"DejaVuSans-1081\"/>\r\n",
       "        <path d=\"M 31.109375 56 \r\n",
       "Q 42.828125 56 49.515625 48.375 \r\n",
       "Q 56.203125 40.765625 56.203125 27.296875 \r\n",
       "Q 56.203125 13.875 49.515625 6.21875 \r\n",
       "Q 42.828125 -1.421875 31.109375 -1.421875 \r\n",
       "Q 19.34375 -1.421875 12.84375 6 \r\n",
       "Q 6.34375 13.421875 6 27.296875 \r\n",
       "L 5.71875 38.484375 \r\n",
       "Q 5.46875 44.28125 5.46875 46.296875 \r\n",
       "Q 5.46875 54.109375 8.296875 59.859375 \r\n",
       "Q 12.75 68.890625 20.4375 72.796875 \r\n",
       "Q 28.125 76.703125 41.015625 76.8125 \r\n",
       "Q 46.96875 76.859375 49.609375 77.6875 \r\n",
       "L 52.09375 70.5625 \r\n",
       "Q 49.703125 69.578125 47.515625 69.53125 \r\n",
       "L 35.296875 68.703125 \r\n",
       "Q 29.15625 68.265625 25.4375 66.109375 \r\n",
       "Q 15.71875 60.40625 14.796875 52.9375 \r\n",
       "L 14.453125 50.203125 \r\n",
       "Q 20.796875 56 31.109375 56 \r\n",
       "z\r\n",
       "M 31.109375 48.390625 \r\n",
       "Q 23.875 48.390625 19.671875 42.75 \r\n",
       "Q 15.484375 37.109375 15.484375 27.296875 \r\n",
       "Q 15.484375 17.484375 19.65625 11.84375 \r\n",
       "Q 23.828125 6.203125 31.109375 6.203125 \r\n",
       "Q 38.28125 6.203125 42.484375 11.859375 \r\n",
       "Q 46.6875 17.53125 46.6875 27.296875 \r\n",
       "Q 46.6875 37.015625 42.484375 42.703125 \r\n",
       "Q 38.28125 48.390625 31.109375 48.390625 \r\n",
       "z\r\n",
       "\" id=\"DejaVuSans-1073\"/>\r\n",
       "       </defs>\r\n",
       "       <use xlink:href=\"#DejaVuSans-1075\"/>\r\n",
       "       <use x=\"52.539062\" xlink:href=\"#DejaVuSans-1088\"/>\r\n",
       "       <use x=\"116.015625\" xlink:href=\"#DejaVuSans-1072\"/>\r\n",
       "       <use x=\"177.294922\" xlink:href=\"#DejaVuSans-1078\"/>\r\n",
       "       <use x=\"267.382812\" xlink:href=\"#DejaVuSans-1076\"/>\r\n",
       "       <use x=\"336.523438\" xlink:href=\"#DejaVuSans-1072\"/>\r\n",
       "       <use x=\"397.802734\" xlink:href=\"#DejaVuSans-1085\"/>\r\n",
       "       <use x=\"463.183594\" xlink:href=\"#DejaVuSans-1089\"/>\r\n",
       "       <use x=\"518.164062\" xlink:href=\"#DejaVuSans-1082\"/>\r\n",
       "       <use x=\"578.564453\" xlink:href=\"#DejaVuSans-1080\"/>\r\n",
       "       <use x=\"643.554688\" xlink:href=\"#DejaVuSans-1081\"/>\r\n",
       "       <use x=\"708.544922\" xlink:href=\"#DejaVuSans-32\"/>\r\n",
       "       <use x=\"740.332031\" xlink:href=\"#DejaVuSans-1073\"/>\r\n",
       "       <use x=\"802.001953\" xlink:href=\"#DejaVuSans-1088\"/>\r\n",
       "       <use x=\"865.478516\" xlink:href=\"#DejaVuSans-1072\"/>\r\n",
       "       <use x=\"926.757812\" xlink:href=\"#DejaVuSans-1082\"/>\r\n",
       "      </g>\r\n",
       "     </g>\r\n",
       "    </g>\r\n",
       "    <g id=\"xtick_9\">\r\n",
       "     <g id=\"line2d_21\">\r\n",
       "      <g>\r\n",
       "       <use style=\"stroke:#000000;stroke-width:0.8;\" x=\"319.603125\" xlink:href=\"#m577a397f72\" y=\"578.237812\"/>\r\n",
       "      </g>\r\n",
       "     </g>\r\n",
       "     <g id=\"text_18\">\r\n",
       "      <!-- вдовец / вдова -->\r\n",
       "      <g transform=\"translate(280.376562 592.83625)scale(0.1 -0.1)\">\r\n",
       "       <defs>\r\n",
       "        <path d=\"M 18.0625 25.203125 \r\n",
       "L 18.0625 7.171875 \r\n",
       "L 30.859375 7.171875 \r\n",
       "Q 37.015625 7.171875 40.234375 9.484375 \r\n",
       "Q 43.453125 11.8125 43.453125 16.21875 \r\n",
       "Q 43.453125 20.609375 40.234375 22.90625 \r\n",
       "Q 37.015625 25.203125 30.859375 25.203125 \r\n",
       "z\r\n",
       "M 18.0625 47.515625 \r\n",
       "L 18.0625 32.375 \r\n",
       "L 29.890625 32.375 \r\n",
       "Q 34.96875 32.375 38.1875 34.390625 \r\n",
       "Q 41.40625 36.421875 41.40625 40.046875 \r\n",
       "Q 41.40625 43.65625 38.1875 45.578125 \r\n",
       "Q 34.96875 47.515625 29.890625 47.515625 \r\n",
       "z\r\n",
       "M 9.078125 54.6875 \r\n",
       "L 30.46875 54.6875 \r\n",
       "Q 40.09375 54.6875 45.265625 51.171875 \r\n",
       "Q 50.4375 47.65625 50.4375 41.15625 \r\n",
       "Q 50.4375 36.140625 47.796875 33.171875 \r\n",
       "Q 45.171875 30.21875 39.984375 29.5 \r\n",
       "Q 46.1875 28.328125 49.609375 24.609375 \r\n",
       "Q 53.03125 20.90625 53.03125 15.328125 \r\n",
       "Q 53.03125 8.015625 47.390625 4 \r\n",
       "Q 41.75 0 31.296875 0 \r\n",
       "L 9.078125 0 \r\n",
       "z\r\n",
       "\" id=\"DejaVuSans-1074\"/>\r\n",
       "        <path d=\"M 30.609375 48.390625 \r\n",
       "Q 23.390625 48.390625 19.1875 42.75 \r\n",
       "Q 14.984375 37.109375 14.984375 27.296875 \r\n",
       "Q 14.984375 17.484375 19.15625 11.84375 \r\n",
       "Q 23.34375 6.203125 30.609375 6.203125 \r\n",
       "Q 37.796875 6.203125 41.984375 11.859375 \r\n",
       "Q 46.1875 17.53125 46.1875 27.296875 \r\n",
       "Q 46.1875 37.015625 41.984375 42.703125 \r\n",
       "Q 37.796875 48.390625 30.609375 48.390625 \r\n",
       "z\r\n",
       "M 30.609375 56 \r\n",
       "Q 42.328125 56 49.015625 48.375 \r\n",
       "Q 55.71875 40.765625 55.71875 27.296875 \r\n",
       "Q 55.71875 13.875 49.015625 6.21875 \r\n",
       "Q 42.328125 -1.421875 30.609375 -1.421875 \r\n",
       "Q 18.84375 -1.421875 12.171875 6.21875 \r\n",
       "Q 5.515625 13.875 5.515625 27.296875 \r\n",
       "Q 5.515625 40.765625 12.171875 48.375 \r\n",
       "Q 18.84375 56 30.609375 56 \r\n",
       "z\r\n",
       "\" id=\"DejaVuSans-1086\"/>\r\n",
       "        <path d=\"M 56.296875 0 \r\n",
       "L 9.078125 0 \r\n",
       "L 9.078125 54.6875 \r\n",
       "L 18.109375 54.6875 \r\n",
       "L 18.109375 7.171875 \r\n",
       "L 47.265625 7.171875 \r\n",
       "L 47.265625 54.6875 \r\n",
       "L 56.296875 54.6875 \r\n",
       "L 56.296875 7.171875 \r\n",
       "L 63.484375 7.171875 \r\n",
       "L 63.484375 -13.8125 \r\n",
       "L 56.296875 -13.8125 \r\n",
       "z\r\n",
       "\" id=\"DejaVuSans-1094\"/>\r\n",
       "       </defs>\r\n",
       "       <use xlink:href=\"#DejaVuSans-1074\"/>\r\n",
       "       <use x=\"58.935547\" xlink:href=\"#DejaVuSans-1076\"/>\r\n",
       "       <use x=\"128.076172\" xlink:href=\"#DejaVuSans-1086\"/>\r\n",
       "       <use x=\"189.257812\" xlink:href=\"#DejaVuSans-1074\"/>\r\n",
       "       <use x=\"248.193359\" xlink:href=\"#DejaVuSans-1077\"/>\r\n",
       "       <use x=\"309.716797\" xlink:href=\"#DejaVuSans-1094\"/>\r\n",
       "       <use x=\"377.783203\" xlink:href=\"#DejaVuSans-32\"/>\r\n",
       "       <use x=\"409.570312\" xlink:href=\"#DejaVuSans-47\"/>\r\n",
       "       <use x=\"443.261719\" xlink:href=\"#DejaVuSans-32\"/>\r\n",
       "       <use x=\"475.048828\" xlink:href=\"#DejaVuSans-1074\"/>\r\n",
       "       <use x=\"533.984375\" xlink:href=\"#DejaVuSans-1076\"/>\r\n",
       "       <use x=\"603.125\" xlink:href=\"#DejaVuSans-1086\"/>\r\n",
       "       <use x=\"664.306641\" xlink:href=\"#DejaVuSans-1074\"/>\r\n",
       "       <use x=\"723.242188\" xlink:href=\"#DejaVuSans-1072\"/>\r\n",
       "      </g>\r\n",
       "     </g>\r\n",
       "    </g>\r\n",
       "    <g id=\"xtick_10\">\r\n",
       "     <g id=\"line2d_22\">\r\n",
       "      <g>\r\n",
       "       <use style=\"stroke:#000000;stroke-width:0.8;\" x=\"425.284943\" xlink:href=\"#m577a397f72\" y=\"578.237812\"/>\r\n",
       "      </g>\r\n",
       "     </g>\r\n",
       "     <g id=\"text_19\">\r\n",
       "      <!-- в разводе -->\r\n",
       "      <g transform=\"translate(399.312287 592.83625)scale(0.1 -0.1)\">\r\n",
       "       <use xlink:href=\"#DejaVuSans-1074\"/>\r\n",
       "       <use x=\"58.935547\" xlink:href=\"#DejaVuSans-32\"/>\r\n",
       "       <use x=\"90.722656\" xlink:href=\"#DejaVuSans-1088\"/>\r\n",
       "       <use x=\"154.199219\" xlink:href=\"#DejaVuSans-1072\"/>\r\n",
       "       <use x=\"215.478516\" xlink:href=\"#DejaVuSans-1079\"/>\r\n",
       "       <use x=\"268.652344\" xlink:href=\"#DejaVuSans-1074\"/>\r\n",
       "       <use x=\"327.587891\" xlink:href=\"#DejaVuSans-1086\"/>\r\n",
       "       <use x=\"388.769531\" xlink:href=\"#DejaVuSans-1076\"/>\r\n",
       "       <use x=\"457.910156\" xlink:href=\"#DejaVuSans-1077\"/>\r\n",
       "      </g>\r\n",
       "     </g>\r\n",
       "    </g>\r\n",
       "    <g id=\"xtick_11\">\r\n",
       "     <g id=\"line2d_23\">\r\n",
       "      <g>\r\n",
       "       <use style=\"stroke:#000000;stroke-width:0.8;\" x=\"530.966761\" xlink:href=\"#m577a397f72\" y=\"578.237812\"/>\r\n",
       "      </g>\r\n",
       "     </g>\r\n",
       "     <g id=\"text_20\">\r\n",
       "      <!-- Не женат / не замужем -->\r\n",
       "      <g transform=\"translate(469.110511 592.83625)scale(0.1 -0.1)\">\r\n",
       "       <defs>\r\n",
       "        <path d=\"M 9.8125 72.90625 \r\n",
       "L 19.671875 72.90625 \r\n",
       "L 19.671875 43.015625 \r\n",
       "L 55.515625 43.015625 \r\n",
       "L 55.515625 72.90625 \r\n",
       "L 65.375 72.90625 \r\n",
       "L 65.375 0 \r\n",
       "L 55.515625 0 \r\n",
       "L 55.515625 34.71875 \r\n",
       "L 19.671875 34.71875 \r\n",
       "L 19.671875 0 \r\n",
       "L 9.8125 0 \r\n",
       "z\r\n",
       "\" id=\"DejaVuSans-1053\"/>\r\n",
       "       </defs>\r\n",
       "       <use xlink:href=\"#DejaVuSans-1053\"/>\r\n",
       "       <use x=\"75.195312\" xlink:href=\"#DejaVuSans-1077\"/>\r\n",
       "       <use x=\"136.71875\" xlink:href=\"#DejaVuSans-32\"/>\r\n",
       "       <use x=\"168.505859\" xlink:href=\"#DejaVuSans-1078\"/>\r\n",
       "       <use x=\"258.59375\" xlink:href=\"#DejaVuSans-1077\"/>\r\n",
       "       <use x=\"320.117188\" xlink:href=\"#DejaVuSans-1085\"/>\r\n",
       "       <use x=\"385.498047\" xlink:href=\"#DejaVuSans-1072\"/>\r\n",
       "       <use x=\"446.777344\" xlink:href=\"#DejaVuSans-1090\"/>\r\n",
       "       <use x=\"505.029297\" xlink:href=\"#DejaVuSans-32\"/>\r\n",
       "       <use x=\"536.816406\" xlink:href=\"#DejaVuSans-47\"/>\r\n",
       "       <use x=\"570.507812\" xlink:href=\"#DejaVuSans-32\"/>\r\n",
       "       <use x=\"602.294922\" xlink:href=\"#DejaVuSans-1085\"/>\r\n",
       "       <use x=\"667.675781\" xlink:href=\"#DejaVuSans-1077\"/>\r\n",
       "       <use x=\"729.199219\" xlink:href=\"#DejaVuSans-32\"/>\r\n",
       "       <use x=\"760.986328\" xlink:href=\"#DejaVuSans-1079\"/>\r\n",
       "       <use x=\"814.160156\" xlink:href=\"#DejaVuSans-1072\"/>\r\n",
       "       <use x=\"875.439453\" xlink:href=\"#DejaVuSans-1084\"/>\r\n",
       "       <use x=\"950.878906\" xlink:href=\"#DejaVuSans-1091\"/>\r\n",
       "       <use x=\"1010.058594\" xlink:href=\"#DejaVuSans-1078\"/>\r\n",
       "       <use x=\"1100.146484\" xlink:href=\"#DejaVuSans-1077\"/>\r\n",
       "       <use x=\"1161.669922\" xlink:href=\"#DejaVuSans-1084\"/>\r\n",
       "      </g>\r\n",
       "     </g>\r\n",
       "    </g>\r\n",
       "   </g>\r\n",
       "   <g id=\"matplotlib.axis_4\">\r\n",
       "    <g id=\"ytick_7\">\r\n",
       "     <g id=\"line2d_24\">\r\n",
       "      <path clip-path=\"url(#p214fadda81)\" d=\"M 40.603125 578.237812 \r\n",
       "L 598.603125 578.237812 \r\n",
       "\" style=\"fill:none;stroke:#b0b0b0;stroke-linecap:square;stroke-width:0.8;\"/>\r\n",
       "     </g>\r\n",
       "     <g id=\"line2d_25\">\r\n",
       "      <g>\r\n",
       "       <use style=\"stroke:#000000;stroke-width:0.8;\" x=\"40.603125\" xlink:href=\"#m8bfb5d5392\" y=\"578.237812\"/>\r\n",
       "      </g>\r\n",
       "     </g>\r\n",
       "     <g id=\"text_21\">\r\n",
       "      <!-- 0 -->\r\n",
       "      <g transform=\"translate(27.240625 582.037031)scale(0.1 -0.1)\">\r\n",
       "       <use xlink:href=\"#DejaVuSans-48\"/>\r\n",
       "      </g>\r\n",
       "     </g>\r\n",
       "    </g>\r\n",
       "    <g id=\"ytick_8\">\r\n",
       "     <g id=\"line2d_26\">\r\n",
       "      <path clip-path=\"url(#p214fadda81)\" d=\"M 40.603125 526.513675 \r\n",
       "L 598.603125 526.513675 \r\n",
       "\" style=\"fill:none;stroke:#b0b0b0;stroke-linecap:square;stroke-width:0.8;\"/>\r\n",
       "     </g>\r\n",
       "     <g id=\"line2d_27\">\r\n",
       "      <g>\r\n",
       "       <use style=\"stroke:#000000;stroke-width:0.8;\" x=\"40.603125\" xlink:href=\"#m8bfb5d5392\" y=\"526.513675\"/>\r\n",
       "      </g>\r\n",
       "     </g>\r\n",
       "     <g id=\"text_22\">\r\n",
       "      <!-- 2 -->\r\n",
       "      <g transform=\"translate(27.240625 530.312893)scale(0.1 -0.1)\">\r\n",
       "       <use xlink:href=\"#DejaVuSans-50\"/>\r\n",
       "      </g>\r\n",
       "     </g>\r\n",
       "    </g>\r\n",
       "    <g id=\"ytick_9\">\r\n",
       "     <g id=\"line2d_28\">\r\n",
       "      <path clip-path=\"url(#p214fadda81)\" d=\"M 40.603125 474.789537 \r\n",
       "L 598.603125 474.789537 \r\n",
       "\" style=\"fill:none;stroke:#b0b0b0;stroke-linecap:square;stroke-width:0.8;\"/>\r\n",
       "     </g>\r\n",
       "     <g id=\"line2d_29\">\r\n",
       "      <g>\r\n",
       "       <use style=\"stroke:#000000;stroke-width:0.8;\" x=\"40.603125\" xlink:href=\"#m8bfb5d5392\" y=\"474.789537\"/>\r\n",
       "      </g>\r\n",
       "     </g>\r\n",
       "     <g id=\"text_23\">\r\n",
       "      <!-- 4 -->\r\n",
       "      <g transform=\"translate(27.240625 478.588755)scale(0.1 -0.1)\">\r\n",
       "       <use xlink:href=\"#DejaVuSans-52\"/>\r\n",
       "      </g>\r\n",
       "     </g>\r\n",
       "    </g>\r\n",
       "    <g id=\"ytick_10\">\r\n",
       "     <g id=\"line2d_30\">\r\n",
       "      <path clip-path=\"url(#p214fadda81)\" d=\"M 40.603125 423.065399 \r\n",
       "L 598.603125 423.065399 \r\n",
       "\" style=\"fill:none;stroke:#b0b0b0;stroke-linecap:square;stroke-width:0.8;\"/>\r\n",
       "     </g>\r\n",
       "     <g id=\"line2d_31\">\r\n",
       "      <g>\r\n",
       "       <use style=\"stroke:#000000;stroke-width:0.8;\" x=\"40.603125\" xlink:href=\"#m8bfb5d5392\" y=\"423.065399\"/>\r\n",
       "      </g>\r\n",
       "     </g>\r\n",
       "     <g id=\"text_24\">\r\n",
       "      <!-- 6 -->\r\n",
       "      <g transform=\"translate(27.240625 426.864617)scale(0.1 -0.1)\">\r\n",
       "       <use xlink:href=\"#DejaVuSans-54\"/>\r\n",
       "      </g>\r\n",
       "     </g>\r\n",
       "    </g>\r\n",
       "    <g id=\"ytick_11\">\r\n",
       "     <g id=\"line2d_32\">\r\n",
       "      <path clip-path=\"url(#p214fadda81)\" d=\"M 40.603125 371.341261 \r\n",
       "L 598.603125 371.341261 \r\n",
       "\" style=\"fill:none;stroke:#b0b0b0;stroke-linecap:square;stroke-width:0.8;\"/>\r\n",
       "     </g>\r\n",
       "     <g id=\"line2d_33\">\r\n",
       "      <g>\r\n",
       "       <use style=\"stroke:#000000;stroke-width:0.8;\" x=\"40.603125\" xlink:href=\"#m8bfb5d5392\" y=\"371.341261\"/>\r\n",
       "      </g>\r\n",
       "     </g>\r\n",
       "     <g id=\"text_25\">\r\n",
       "      <!-- 8 -->\r\n",
       "      <g transform=\"translate(27.240625 375.14048)scale(0.1 -0.1)\">\r\n",
       "       <use xlink:href=\"#DejaVuSans-56\"/>\r\n",
       "      </g>\r\n",
       "     </g>\r\n",
       "    </g>\r\n",
       "    <g id=\"text_26\">\r\n",
       "     <!-- % с задолженностями -->\r\n",
       "     <g transform=\"translate(21.160938 516.482344)rotate(-90)scale(0.1 -0.1)\">\r\n",
       "      <use xlink:href=\"#DejaVuSans-Bold-37\"/>\r\n",
       "      <use x=\"100.195312\" xlink:href=\"#DejaVuSans-Bold-32\"/>\r\n",
       "      <use x=\"135.009766\" xlink:href=\"#DejaVuSans-Bold-1089\"/>\r\n",
       "      <use x=\"194.287109\" xlink:href=\"#DejaVuSans-Bold-32\"/>\r\n",
       "      <use x=\"229.101562\" xlink:href=\"#DejaVuSans-Bold-1079\"/>\r\n",
       "      <use x=\"287.207031\" xlink:href=\"#DejaVuSans-Bold-1072\"/>\r\n",
       "      <use x=\"354.6875\" xlink:href=\"#DejaVuSans-Bold-1076\"/>\r\n",
       "      <use x=\"435.449219\" xlink:href=\"#DejaVuSans-Bold-1086\"/>\r\n",
       "      <use x=\"504.150391\" xlink:href=\"#DejaVuSans-Bold-1083\"/>\r\n",
       "      <use x=\"577.392578\" xlink:href=\"#DejaVuSans-Bold-1078\"/>\r\n",
       "      <use x=\"676.904297\" xlink:href=\"#DejaVuSans-Bold-1077\"/>\r\n",
       "      <use x=\"744.726562\" xlink:href=\"#DejaVuSans-Bold-1085\"/>\r\n",
       "      <use x=\"813.818359\" xlink:href=\"#DejaVuSans-Bold-1085\"/>\r\n",
       "      <use x=\"882.910156\" xlink:href=\"#DejaVuSans-Bold-1086\"/>\r\n",
       "      <use x=\"951.611328\" xlink:href=\"#DejaVuSans-Bold-1089\"/>\r\n",
       "      <use x=\"1010.888672\" xlink:href=\"#DejaVuSans-Bold-1090\"/>\r\n",
       "      <use x=\"1068.847656\" xlink:href=\"#DejaVuSans-Bold-1103\"/>\r\n",
       "      <use x=\"1133.056641\" xlink:href=\"#DejaVuSans-Bold-1084\"/>\r\n",
       "      <use x=\"1214.794922\" xlink:href=\"#DejaVuSans-Bold-1080\"/>\r\n",
       "     </g>\r\n",
       "    </g>\r\n",
       "   </g>\r\n",
       "   <g id=\"patch_19\">\r\n",
       "    <path d=\"M 40.603125 578.237812 \r\n",
       "L 40.603125 326.237812 \r\n",
       "\" style=\"fill:none;stroke:#000000;stroke-linecap:square;stroke-linejoin:miter;stroke-width:0.8;\"/>\r\n",
       "   </g>\r\n",
       "   <g id=\"patch_20\">\r\n",
       "    <path d=\"M 598.603125 578.237812 \r\n",
       "L 598.603125 326.237812 \r\n",
       "\" style=\"fill:none;stroke:#000000;stroke-linecap:square;stroke-linejoin:miter;stroke-width:0.8;\"/>\r\n",
       "   </g>\r\n",
       "   <g id=\"patch_21\">\r\n",
       "    <path d=\"M 40.603125 578.237812 \r\n",
       "L 598.603125 578.237812 \r\n",
       "\" style=\"fill:none;stroke:#000000;stroke-linecap:square;stroke-linejoin:miter;stroke-width:0.8;\"/>\r\n",
       "   </g>\r\n",
       "   <g id=\"patch_22\">\r\n",
       "    <path d=\"M 40.603125 326.237812 \r\n",
       "L 598.603125 326.237812 \r\n",
       "\" style=\"fill:none;stroke:#000000;stroke-linecap:square;stroke-linejoin:miter;stroke-width:0.8;\"/>\r\n",
       "   </g>\r\n",
       "   <g id=\"text_27\">\r\n",
       "    <!-- социальный статус бездетных клиентов -->\r\n",
       "    <g transform=\"translate(155.683906 320.237812)scale(0.14 -0.14)\">\r\n",
       "     <defs>\r\n",
       "      <path d=\"M 57.28125 -13.8125 \r\n",
       "L 57.28125 0 \r\n",
       "L 8.40625 0 \r\n",
       "L 8.40625 54.6875 \r\n",
       "L 25.875 54.6875 \r\n",
       "L 25.875 12.5 \r\n",
       "L 43.21875 12.5 \r\n",
       "L 43.21875 54.6875 \r\n",
       "L 60.6875 54.6875 \r\n",
       "L 60.6875 12.5 \r\n",
       "L 69.78125 12.5 \r\n",
       "L 69.78125 -13.8125 \r\n",
       "z\r\n",
       "\" id=\"DejaVuSans-Bold-1094\"/>\r\n",
       "      <path d=\"M 42.484375 17.09375 \r\n",
       "Q 42.484375 20.171875 40.53125 21.6875 \r\n",
       "Q 38.625 23.140625 34.71875 23.140625 \r\n",
       "L 25.875 23.140625 \r\n",
       "L 25.875 10.9375 \r\n",
       "L 34.71875 10.9375 \r\n",
       "Q 38.578125 10.9375 40.53125 12.5 \r\n",
       "Q 42.484375 14.015625 42.484375 17.09375 \r\n",
       "z\r\n",
       "M 8.40625 54.6875 \r\n",
       "L 25.875 54.6875 \r\n",
       "L 25.875 33.9375 \r\n",
       "L 35.796875 33.9375 \r\n",
       "Q 46.875 33.9375 52.828125 29.890625 \r\n",
       "Q 58.84375 25.78125 58.84375 16.890625 \r\n",
       "Q 58.84375 8.015625 52.828125 4 \r\n",
       "Q 46.875 0 35.796875 0 \r\n",
       "L 8.40625 0 \r\n",
       "z\r\n",
       "\" id=\"DejaVuSans-Bold-1100\"/>\r\n",
       "      <path d=\"M 64.90625 54.6875 \r\n",
       "L 82.375 54.6875 \r\n",
       "L 82.375 0 \r\n",
       "L 64.90625 0 \r\n",
       "z\r\n",
       "M 42.484375 17.09375 \r\n",
       "Q 42.484375 20.171875 40.53125 21.6875 \r\n",
       "Q 38.625 23.140625 34.71875 23.140625 \r\n",
       "L 25.875 23.140625 \r\n",
       "L 25.875 10.9375 \r\n",
       "L 34.71875 10.9375 \r\n",
       "Q 38.578125 10.9375 40.53125 12.5 \r\n",
       "Q 42.484375 14.015625 42.484375 17.09375 \r\n",
       "z\r\n",
       "M 8.40625 54.6875 \r\n",
       "L 25.875 54.6875 \r\n",
       "L 25.875 33.9375 \r\n",
       "L 35.796875 33.9375 \r\n",
       "Q 46.875 33.9375 52.828125 29.890625 \r\n",
       "Q 58.84375 25.78125 58.84375 16.890625 \r\n",
       "Q 58.84375 8.015625 52.828125 4 \r\n",
       "Q 46.875 0 35.796875 0 \r\n",
       "L 8.40625 0 \r\n",
       "z\r\n",
       "\" id=\"DejaVuSans-Bold-1099\"/>\r\n",
       "      <path d=\"M 1.21875 54.6875 \r\n",
       "L 18.703125 54.6875 \r\n",
       "L 33.40625 17.578125 \r\n",
       "L 45.90625 54.6875 \r\n",
       "L 63.375 54.6875 \r\n",
       "L 40.375 -5.171875 \r\n",
       "Q 36.921875 -14.3125 32.296875 -17.9375 \r\n",
       "Q 27.6875 -21.578125 20.125 -21.578125 \r\n",
       "L 10.015625 -21.578125 \r\n",
       "L 10.015625 -10.109375 \r\n",
       "L 15.484375 -10.109375 \r\n",
       "Q 19.921875 -10.109375 21.9375 -8.6875 \r\n",
       "Q 23.96875 -7.28125 25.09375 -3.609375 \r\n",
       "L 25.59375 -2.09375 \r\n",
       "z\r\n",
       "\" id=\"DejaVuSans-Bold-1091\"/>\r\n",
       "      <path d=\"M 5.375 30.328125 \r\n",
       "L 5.03125 38.484375 \r\n",
       "Q 4.296875 41.75 4.296875 45.015625 \r\n",
       "Q 4.296875 54.59375 7.125 60.84375 \r\n",
       "Q 12.359375 72.359375 19.34375 74.703125 \r\n",
       "Q 25.09375 76.703125 49.078125 78.609375 \r\n",
       "Q 51.515625 78.8125 54.296875 79.25 \r\n",
       "L 58.203125 68.40625 \r\n",
       "Q 54.5 67.4375 35.453125 65.765625 \r\n",
       "Q 27.09375 65.046875 23.6875 62.703125 \r\n",
       "Q 18.015625 58.84375 17.578125 51.5625 \r\n",
       "Q 24.75 56 35.546875 56 \r\n",
       "Q 49.65625 56 57.59375 48.375 \r\n",
       "Q 65.53125 40.765625 65.53125 27.296875 \r\n",
       "Q 65.53125 13.8125 57.609375 6.1875 \r\n",
       "Q 49.703125 -1.421875 35.546875 -1.421875 \r\n",
       "Q 21.390625 -1.421875 13.40625 6.1875 \r\n",
       "Q 5.421875 13.8125 5.421875 27.296875 \r\n",
       "Q 5.421875 29.15625 5.375 30.328125 \r\n",
       "z\r\n",
       "M 35.5 43.5 \r\n",
       "Q 29.734375 43.5 26.6875 39.328125 \r\n",
       "Q 23.640625 35.15625 23.640625 27.296875 \r\n",
       "Q 23.640625 19.4375 26.6875 15.25 \r\n",
       "Q 29.734375 11.078125 35.5 11.078125 \r\n",
       "Q 41.265625 11.078125 44.28125 15.25 \r\n",
       "Q 47.3125 19.4375 47.3125 27.296875 \r\n",
       "Q 47.3125 35.15625 44.28125 39.328125 \r\n",
       "Q 41.265625 43.5 35.5 43.5 \r\n",
       "z\r\n",
       "\" id=\"DejaVuSans-Bold-1073\"/>\r\n",
       "     </defs>\r\n",
       "     <use xlink:href=\"#DejaVuSans-Bold-1089\"/>\r\n",
       "     <use x=\"59.277344\" xlink:href=\"#DejaVuSans-Bold-1086\"/>\r\n",
       "     <use x=\"127.978516\" xlink:href=\"#DejaVuSans-Bold-1094\"/>\r\n",
       "     <use x=\"202.099609\" xlink:href=\"#DejaVuSans-Bold-1080\"/>\r\n",
       "     <use x=\"272.167969\" xlink:href=\"#DejaVuSans-Bold-1072\"/>\r\n",
       "     <use x=\"339.648438\" xlink:href=\"#DejaVuSans-Bold-1083\"/>\r\n",
       "     <use x=\"412.890625\" xlink:href=\"#DejaVuSans-Bold-1100\"/>\r\n",
       "     <use x=\"476.123047\" xlink:href=\"#DejaVuSans-Bold-1085\"/>\r\n",
       "     <use x=\"545.214844\" xlink:href=\"#DejaVuSans-Bold-1099\"/>\r\n",
       "     <use x=\"635.644531\" xlink:href=\"#DejaVuSans-Bold-1081\"/>\r\n",
       "     <use x=\"705.712891\" xlink:href=\"#DejaVuSans-Bold-32\"/>\r\n",
       "     <use x=\"740.527344\" xlink:href=\"#DejaVuSans-Bold-1089\"/>\r\n",
       "     <use x=\"799.804688\" xlink:href=\"#DejaVuSans-Bold-1090\"/>\r\n",
       "     <use x=\"857.763672\" xlink:href=\"#DejaVuSans-Bold-1072\"/>\r\n",
       "     <use x=\"925.244141\" xlink:href=\"#DejaVuSans-Bold-1090\"/>\r\n",
       "     <use x=\"983.203125\" xlink:href=\"#DejaVuSans-Bold-1091\"/>\r\n",
       "     <use x=\"1048.388672\" xlink:href=\"#DejaVuSans-Bold-1089\"/>\r\n",
       "     <use x=\"1107.666016\" xlink:href=\"#DejaVuSans-Bold-32\"/>\r\n",
       "     <use x=\"1142.480469\" xlink:href=\"#DejaVuSans-Bold-1073\"/>\r\n",
       "     <use x=\"1212.304688\" xlink:href=\"#DejaVuSans-Bold-1077\"/>\r\n",
       "     <use x=\"1280.126953\" xlink:href=\"#DejaVuSans-Bold-1079\"/>\r\n",
       "     <use x=\"1338.232422\" xlink:href=\"#DejaVuSans-Bold-1076\"/>\r\n",
       "     <use x=\"1418.994141\" xlink:href=\"#DejaVuSans-Bold-1077\"/>\r\n",
       "     <use x=\"1486.816406\" xlink:href=\"#DejaVuSans-Bold-1090\"/>\r\n",
       "     <use x=\"1544.775391\" xlink:href=\"#DejaVuSans-Bold-1085\"/>\r\n",
       "     <use x=\"1613.867188\" xlink:href=\"#DejaVuSans-Bold-1099\"/>\r\n",
       "     <use x=\"1704.296875\" xlink:href=\"#DejaVuSans-Bold-1093\"/>\r\n",
       "     <use x=\"1768.798828\" xlink:href=\"#DejaVuSans-Bold-32\"/>\r\n",
       "     <use x=\"1803.613281\" xlink:href=\"#DejaVuSans-Bold-1082\"/>\r\n",
       "     <use x=\"1871.484375\" xlink:href=\"#DejaVuSans-Bold-1083\"/>\r\n",
       "     <use x=\"1944.726562\" xlink:href=\"#DejaVuSans-Bold-1080\"/>\r\n",
       "     <use x=\"2014.794922\" xlink:href=\"#DejaVuSans-Bold-1077\"/>\r\n",
       "     <use x=\"2082.617188\" xlink:href=\"#DejaVuSans-Bold-1085\"/>\r\n",
       "     <use x=\"2151.708984\" xlink:href=\"#DejaVuSans-Bold-1090\"/>\r\n",
       "     <use x=\"2209.667969\" xlink:href=\"#DejaVuSans-Bold-1086\"/>\r\n",
       "     <use x=\"2278.369141\" xlink:href=\"#DejaVuSans-Bold-1074\"/>\r\n",
       "    </g>\r\n",
       "   </g>\r\n",
       "  </g>\r\n",
       " </g>\r\n",
       " <defs>\r\n",
       "  <clipPath id=\"pd44214d7a0\">\r\n",
       "   <rect height=\"252\" width=\"558\" x=\"40.603125\" y=\"23.837812\"/>\r\n",
       "  </clipPath>\r\n",
       "  <clipPath id=\"p214fadda81\">\r\n",
       "   <rect height=\"252\" width=\"558\" x=\"40.603125\" y=\"326.237812\"/>\r\n",
       "  </clipPath>\r\n",
       " </defs>\r\n",
       "</svg>\r\n"
      ],
      "text/plain": [
       "<Figure size 1000x1000 with 2 Axes>"
      ]
     },
     "metadata": {},
     "output_type": "display_data"
    }
   ],
   "source": [
    "fig, ax = plt.subplots(nrows=2, ncols=1, figsize=(10, 8))\n",
    "ax1, ax2 = ax.flatten()\n",
    "ax1.bar(pt_children['Кол-во детей'], pt_children['Процент должников'], color='#18ab30', linewidth=1.0, edgecolor='k')\n",
    "ax1.set_title('должники и их количество детей', fontweight='bold', fontsize=14)\n",
    "ax1.set_xlabel('количество детей', fontweight='bold')\n",
    "ax1.set_ylabel('% с задолженностями', fontweight='bold')\n",
    "ax1.grid(axis='y')\n",
    "ax2.bar(pt_family_status['Семейное положение'], pt_family_status['Процент должников'], \n",
    "        color='#18ab30', linewidth=1.0, edgecolor='k')\n",
    "ax2.set_title('социальный статус бездетных клиентов', fontweight='bold', fontsize=14)\n",
    "ax2.set_ylabel('% с задолженностями', fontweight='bold')\n",
    "ax2.grid(axis='y')\n",
    "fig.set_size_inches(10,10);"
   ]
  },
  {
   "cell_type": "markdown",
   "id": "04fe0538",
   "metadata": {
    "deletable": false,
    "id": "3a6b99ec"
   },
   "source": [
    "**Вывод:** гипотеза частично подтверждается и количество детей в семье влияет на погашение кредита в срок. Клиенты с детьми задерживают возвраты по кредитам чаще, чем бездетные клиенты. При этом клиенты с 3-мя детьми в сравнении с остальными клиентами с детьми несколько аккуратней в этом вопросе. Семьи с 5-ю детьми в список имевших задолженность не попали, но этот факт не показателен, так как для анализа их было слишком мало (всего 9) \n",
    "\n",
    "Отдельно стоит сказать о клиентах без детей - среди таких чаще всего не возвращают кредит в срок неженатые клиенты и клиенты, находящиеся в гражданском браке - эти категории клиентов резко выбиваются на фоне остальных и у них чаще возникают проблемы с погашением кредита в срок"
   ]
  },
  {
   "cell_type": "markdown",
   "id": "0567656c",
   "metadata": {
    "deletable": false,
    "id": "2cacfc4a"
   },
   "source": [
    "----------\n",
    "----------"
   ]
  },
  {
   "cell_type": "markdown",
   "id": "e640f876",
   "metadata": {
    "deletable": false,
    "editable": false,
    "id": "97be82ca"
   },
   "source": [
    "#### 3.2 Есть ли зависимость между семейным положением и возвратом кредита в срок?"
   ]
  },
  {
   "cell_type": "markdown",
   "id": "286a7327",
   "metadata": {},
   "source": [
    "посмотрим ещё раз, что там в семейном положении есть"
   ]
  },
  {
   "cell_type": "code",
   "execution_count": 39,
   "id": "ddcc248c",
   "metadata": {},
   "outputs": [
    {
     "data": {
      "text/plain": [
       "женат / замужем          12261\n",
       "гражданский брак          4134\n",
       "Не женат / не замужем     2796\n",
       "в разводе                 1189\n",
       "вдовец / вдова             951\n",
       "Name: family_status, dtype: int64"
      ]
     },
     "execution_count": 39,
     "metadata": {},
     "output_type": "execute_result"
    }
   ],
   "source": [
    "data['family_status'].value_counts()"
   ]
  },
  {
   "cell_type": "code",
   "execution_count": 40,
   "id": "53d93c04",
   "metadata": {},
   "outputs": [
    {
     "data": {
      "text/plain": [
       "0    12261\n",
       "1     4134\n",
       "4     2796\n",
       "3     1189\n",
       "2      951\n",
       "Name: family_status_id, dtype: int64"
      ]
     },
     "execution_count": 40,
     "metadata": {},
     "output_type": "execute_result"
    }
   ],
   "source": [
    "data['family_status_id'].value_counts()"
   ]
  },
  {
   "cell_type": "markdown",
   "id": "9cfff20a",
   "metadata": {},
   "source": [
    "**наблюдение:** признак *family_status* - категориальная переменная, он полностью продублирован в столбце *family_status_id* и хранение его в датасете нецелесообразно. После всех наших \"манипуляций\" с поиском зависимости между семейным положением и возвратом кредита в срок, мы перенесём его в отдельный именной справочник\n",
    "\n",
    "построим сводную таблицу"
   ]
  },
  {
   "cell_type": "code",
   "execution_count": 41,
   "id": "d65257d1",
   "metadata": {},
   "outputs": [
    {
     "data": {
      "text/html": [
       "<div>\n",
       "<style scoped>\n",
       "    .dataframe tbody tr th:only-of-type {\n",
       "        vertical-align: middle;\n",
       "    }\n",
       "\n",
       "    .dataframe tbody tr th {\n",
       "        vertical-align: top;\n",
       "    }\n",
       "\n",
       "    .dataframe thead th {\n",
       "        text-align: right;\n",
       "    }\n",
       "</style>\n",
       "<table border=\"1\" class=\"dataframe\">\n",
       "  <thead>\n",
       "    <tr style=\"text-align: right;\">\n",
       "      <th></th>\n",
       "      <th>семейное положение</th>\n",
       "      <th>Всего кредитополучателей</th>\n",
       "      <th>Количество должников</th>\n",
       "      <th>Процент должников</th>\n",
       "    </tr>\n",
       "  </thead>\n",
       "  <tbody>\n",
       "    <tr>\n",
       "      <th>4</th>\n",
       "      <td>женат / замужем</td>\n",
       "      <td>12261</td>\n",
       "      <td>927</td>\n",
       "      <td>7.56</td>\n",
       "    </tr>\n",
       "    <tr>\n",
       "      <th>3</th>\n",
       "      <td>гражданский брак</td>\n",
       "      <td>4134</td>\n",
       "      <td>385</td>\n",
       "      <td>9.31</td>\n",
       "    </tr>\n",
       "    <tr>\n",
       "      <th>2</th>\n",
       "      <td>вдовец / вдова</td>\n",
       "      <td>951</td>\n",
       "      <td>63</td>\n",
       "      <td>6.62</td>\n",
       "    </tr>\n",
       "    <tr>\n",
       "      <th>1</th>\n",
       "      <td>в разводе</td>\n",
       "      <td>1189</td>\n",
       "      <td>84</td>\n",
       "      <td>7.06</td>\n",
       "    </tr>\n",
       "    <tr>\n",
       "      <th>0</th>\n",
       "      <td>Не женат / не замужем</td>\n",
       "      <td>2796</td>\n",
       "      <td>273</td>\n",
       "      <td>9.76</td>\n",
       "    </tr>\n",
       "  </tbody>\n",
       "</table>\n",
       "</div>"
      ],
      "text/plain": [
       "      семейное положение  Всего кредитополучателей  Количество должников  \\\n",
       "4        женат / замужем                     12261                   927   \n",
       "3       гражданский брак                      4134                   385   \n",
       "2         вдовец / вдова                       951                    63   \n",
       "1              в разводе                      1189                    84   \n",
       "0  Не женат / не замужем                      2796                   273   \n",
       "\n",
       "   Процент должников  \n",
       "4               7.56  \n",
       "3               9.31  \n",
       "2               6.62  \n",
       "1               7.06  \n",
       "0               9.76  "
      ]
     },
     "execution_count": 41,
     "metadata": {},
     "output_type": "execute_result"
    }
   ],
   "source": [
    "family_ratio = create_pivot_table(data, ind=['family_status'], val='debt', name='семейное положение').sort_values(\n",
    "    by='семейное положение', ascending=False)\n",
    "family_ratio"
   ]
  },
  {
   "cell_type": "markdown",
   "id": "c237c2b8",
   "metadata": {},
   "source": [
    "вот что мы видим - зависимость между семейным положением и возвратом кредита в срок есть - неженатые чаще не отдают кредит в срок, чего не скажешь о вдовцах и разведённых $\\Rightarrow$ предположим, что, семейное положение имеет корреляцию с возрастом и он, в свою очередь, так же влияет на вероятность возврата кредита в срок. Для проверки этой гипотезы посмотрим подробнее на возраст.\n",
    "\n",
    "Для этого:\n",
    "\n",
    "- с помощью *groupby* получим среднее значение возраста по семейному статусу. Сохраним результат во временный DataFrame average_age\n",
    "\n",
    "- при помощи *merge* объединим ```family_ratio``` и ```average_age```. Значения процентов округлим до 2-х знаков после запятой"
   ]
  },
  {
   "cell_type": "code",
   "execution_count": 42,
   "id": "4f230aa8",
   "metadata": {},
   "outputs": [],
   "source": [
    "average_age = pd.DataFrame(data.groupby('family_status')['dob_years'].mean()).astype('int')"
   ]
  },
  {
   "cell_type": "code",
   "execution_count": 43,
   "id": "13885906",
   "metadata": {},
   "outputs": [
    {
     "data": {
      "text/html": [
       "<div>\n",
       "<style scoped>\n",
       "    .dataframe tbody tr th:only-of-type {\n",
       "        vertical-align: middle;\n",
       "    }\n",
       "\n",
       "    .dataframe tbody tr th {\n",
       "        vertical-align: top;\n",
       "    }\n",
       "\n",
       "    .dataframe thead th {\n",
       "        text-align: right;\n",
       "    }\n",
       "</style>\n",
       "<table border=\"1\" class=\"dataframe\">\n",
       "  <thead>\n",
       "    <tr style=\"text-align: right;\">\n",
       "      <th></th>\n",
       "      <th></th>\n",
       "      <th>семейное положение</th>\n",
       "      <th>Всего кредитополучателей</th>\n",
       "      <th>Количество должников</th>\n",
       "      <th>Процент должников</th>\n",
       "      <th>возраст</th>\n",
       "    </tr>\n",
       "  </thead>\n",
       "  <tbody>\n",
       "    <tr>\n",
       "      <th>0</th>\n",
       "      <td>0</td>\n",
       "      <td>Не женат / не замужем</td>\n",
       "      <td>2796</td>\n",
       "      <td>273</td>\n",
       "      <td>9.76</td>\n",
       "      <td>43</td>\n",
       "    </tr>\n",
       "    <tr>\n",
       "      <th>1</th>\n",
       "      <td>3</td>\n",
       "      <td>гражданский брак</td>\n",
       "      <td>4134</td>\n",
       "      <td>385</td>\n",
       "      <td>9.31</td>\n",
       "      <td>45</td>\n",
       "    </tr>\n",
       "    <tr>\n",
       "      <th>2</th>\n",
       "      <td>4</td>\n",
       "      <td>женат / замужем</td>\n",
       "      <td>12261</td>\n",
       "      <td>927</td>\n",
       "      <td>7.56</td>\n",
       "      <td>38</td>\n",
       "    </tr>\n",
       "    <tr>\n",
       "      <th>3</th>\n",
       "      <td>1</td>\n",
       "      <td>в разводе</td>\n",
       "      <td>1189</td>\n",
       "      <td>84</td>\n",
       "      <td>7.06</td>\n",
       "      <td>42</td>\n",
       "    </tr>\n",
       "    <tr>\n",
       "      <th>4</th>\n",
       "      <td>2</td>\n",
       "      <td>вдовец / вдова</td>\n",
       "      <td>951</td>\n",
       "      <td>63</td>\n",
       "      <td>6.62</td>\n",
       "      <td>56</td>\n",
       "    </tr>\n",
       "  </tbody>\n",
       "</table>\n",
       "</div>"
      ],
      "text/plain": [
       "         семейное положение  Всего кредитополучателей  Количество должников  \\\n",
       "0  0  Не женат / не замужем                      2796                   273   \n",
       "1  3       гражданский брак                      4134                   385   \n",
       "2  4        женат / замужем                     12261                   927   \n",
       "3  1              в разводе                      1189                    84   \n",
       "4  2         вдовец / вдова                       951                    63   \n",
       "\n",
       "   Процент должников  возраст  \n",
       "0               9.76       43  \n",
       "1               9.31       45  \n",
       "2               7.56       38  \n",
       "3               7.06       42  \n",
       "4               6.62       56  "
      ]
     },
     "execution_count": 43,
     "metadata": {},
     "output_type": "execute_result"
    }
   ],
   "source": [
    "marital_status_and_age = round(family_ratio.merge(average_age, on=family_ratio.index, \\\n",
    "                                                  how='left').sort_values('Процент должников', ascending=False), 2)\n",
    "marital_status_and_age = marital_status_and_age.reset_index(drop=True)\n",
    "marital_status_and_age.columns=['','семейное положение', 'Всего кредитополучателей', \n",
    "                                'Количество должников', 'Процент должников', 'возраст']\n",
    "marital_status_and_age"
   ]
  },
  {
   "cell_type": "markdown",
   "id": "5895274d",
   "metadata": {},
   "source": [
    "По сводной таблице видно, что больше всего проблем с возвратом кредитных средств в срок у незамужних, а так же мы определили, что эта группа клиентов - самая молодая, с увеличением же возраста меняется не только социальный статус заёмщиков, но и крепнет их надёжность. Это видно и на графике:"
   ]
  },
  {
   "cell_type": "code",
   "execution_count": 44,
   "id": "0c3dd671",
   "metadata": {},
   "outputs": [
    {
     "data": {
      "image/svg+xml": [
       "<?xml version=\"1.0\" encoding=\"utf-8\" standalone=\"no\"?>\r\n",
       "<!DOCTYPE svg PUBLIC \"-//W3C//DTD SVG 1.1//EN\"\r\n",
       "  \"http://www.w3.org/Graphics/SVG/1.1/DTD/svg11.dtd\">\r\n",
       "<!-- Created with matplotlib (https://matplotlib.org/) -->\r\n",
       "<svg height=\"338.764375pt\" version=\"1.1\" viewBox=\"0 0 717.403125 338.764375\" width=\"717.403125pt\" xmlns=\"http://www.w3.org/2000/svg\" xmlns:xlink=\"http://www.w3.org/1999/xlink\">\r\n",
       " <metadata>\r\n",
       "  <rdf:RDF xmlns:cc=\"http://creativecommons.org/ns#\" xmlns:dc=\"http://purl.org/dc/elements/1.1/\" xmlns:rdf=\"http://www.w3.org/1999/02/22-rdf-syntax-ns#\">\r\n",
       "   <cc:Work>\r\n",
       "    <dc:type rdf:resource=\"http://purl.org/dc/dcmitype/StillImage\"/>\r\n",
       "    <dc:date>2023-02-03T06:56:22.281882</dc:date>\r\n",
       "    <dc:format>image/svg+xml</dc:format>\r\n",
       "    <dc:creator>\r\n",
       "     <cc:Agent>\r\n",
       "      <dc:title>Matplotlib v3.3.4, https://matplotlib.org/</dc:title>\r\n",
       "     </cc:Agent>\r\n",
       "    </dc:creator>\r\n",
       "   </cc:Work>\r\n",
       "  </rdf:RDF>\r\n",
       " </metadata>\r\n",
       " <defs>\r\n",
       "  <style type=\"text/css\">*{stroke-linecap:butt;stroke-linejoin:round;}</style>\r\n",
       " </defs>\r\n",
       " <g id=\"figure_1\">\r\n",
       "  <g id=\"patch_1\">\r\n",
       "   <path d=\"M 0 338.764375 \r\n",
       "L 717.403125 338.764375 \r\n",
       "L 717.403125 0 \r\n",
       "L 0 0 \r\n",
       "z\r\n",
       "\" style=\"fill:#ffffff;\"/>\r\n",
       "  </g>\r\n",
       "  <g id=\"axes_1\">\r\n",
       "   <g id=\"patch_2\">\r\n",
       "    <path d=\"M 40.603125 301.037813 \r\n",
       "L 710.203125 301.037813 \r\n",
       "L 710.203125 23.837812 \r\n",
       "L 40.603125 23.837812 \r\n",
       "z\r\n",
       "\" style=\"fill:#ffffff;\"/>\r\n",
       "   </g>\r\n",
       "   <g id=\"patch_3\">\r\n",
       "    <path clip-path=\"url(#pa4e50974ea)\" d=\"M 71.039489 301.037813 \r\n",
       "L 172.494034 301.037813 \r\n",
       "L 172.494034 37.037812 \r\n",
       "L 71.039489 37.037812 \r\n",
       "z\r\n",
       "\" style=\"fill:#18ab30;stroke:#000000;stroke-linejoin:miter;\"/>\r\n",
       "   </g>\r\n",
       "   <g id=\"patch_4\">\r\n",
       "    <path clip-path=\"url(#pa4e50974ea)\" d=\"M 197.85767 301.037813 \r\n",
       "L 299.312216 301.037813 \r\n",
       "L 299.312216 49.209944 \r\n",
       "L 197.85767 49.209944 \r\n",
       "z\r\n",
       "\" style=\"fill:#18ab30;stroke:#000000;stroke-linejoin:miter;\"/>\r\n",
       "   </g>\r\n",
       "   <g id=\"patch_5\">\r\n",
       "    <path clip-path=\"url(#pa4e50974ea)\" d=\"M 324.675852 301.037813 \r\n",
       "L 426.130398 301.037813 \r\n",
       "L 426.130398 96.546009 \r\n",
       "L 324.675852 96.546009 \r\n",
       "z\r\n",
       "\" style=\"fill:#18ab30;stroke:#000000;stroke-linejoin:miter;\"/>\r\n",
       "   </g>\r\n",
       "   <g id=\"patch_6\">\r\n",
       "    <path clip-path=\"url(#pa4e50974ea)\" d=\"M 451.494034 301.037813 \r\n",
       "L 552.94858 301.037813 \r\n",
       "L 552.94858 110.070599 \r\n",
       "L 451.494034 110.070599 \r\n",
       "z\r\n",
       "\" style=\"fill:#18ab30;stroke:#000000;stroke-linejoin:miter;\"/>\r\n",
       "   </g>\r\n",
       "   <g id=\"patch_7\">\r\n",
       "    <path clip-path=\"url(#pa4e50974ea)\" d=\"M 578.312216 301.037813 \r\n",
       "L 679.766761 301.037813 \r\n",
       "L 679.766761 121.972239 \r\n",
       "L 578.312216 121.972239 \r\n",
       "z\r\n",
       "\" style=\"fill:#18ab30;stroke:#000000;stroke-linejoin:miter;\"/>\r\n",
       "   </g>\r\n",
       "   <g id=\"matplotlib.axis_1\">\r\n",
       "    <g id=\"xtick_1\">\r\n",
       "     <g id=\"line2d_1\">\r\n",
       "      <defs>\r\n",
       "       <path d=\"M 0 0 \r\n",
       "L 0 3.5 \r\n",
       "\" id=\"mb7a4251c4a\" style=\"stroke:#000000;stroke-width:0.8;\"/>\r\n",
       "      </defs>\r\n",
       "      <g>\r\n",
       "       <use style=\"stroke:#000000;stroke-width:0.8;\" x=\"121.766761\" xlink:href=\"#mb7a4251c4a\" y=\"301.037813\"/>\r\n",
       "      </g>\r\n",
       "     </g>\r\n",
       "     <g id=\"text_1\">\r\n",
       "      <!-- Не женат / не замужем -->\r\n",
       "      <g transform=\"translate(59.910511 315.63625)scale(0.1 -0.1)\">\r\n",
       "       <defs>\r\n",
       "        <path d=\"M 9.8125 72.90625 \r\n",
       "L 19.671875 72.90625 \r\n",
       "L 19.671875 43.015625 \r\n",
       "L 55.515625 43.015625 \r\n",
       "L 55.515625 72.90625 \r\n",
       "L 65.375 72.90625 \r\n",
       "L 65.375 0 \r\n",
       "L 55.515625 0 \r\n",
       "L 55.515625 34.71875 \r\n",
       "L 19.671875 34.71875 \r\n",
       "L 19.671875 0 \r\n",
       "L 9.8125 0 \r\n",
       "z\r\n",
       "\" id=\"DejaVuSans-1053\"/>\r\n",
       "        <path d=\"M 56.203125 29.59375 \r\n",
       "L 56.203125 25.203125 \r\n",
       "L 14.890625 25.203125 \r\n",
       "Q 15.484375 15.921875 20.484375 11.0625 \r\n",
       "Q 25.484375 6.203125 34.421875 6.203125 \r\n",
       "Q 39.59375 6.203125 44.453125 7.46875 \r\n",
       "Q 49.3125 8.734375 54.109375 11.28125 \r\n",
       "L 54.109375 2.78125 \r\n",
       "Q 49.265625 0.734375 44.1875 -0.34375 \r\n",
       "Q 39.109375 -1.421875 33.890625 -1.421875 \r\n",
       "Q 20.796875 -1.421875 13.15625 6.1875 \r\n",
       "Q 5.515625 13.8125 5.515625 26.8125 \r\n",
       "Q 5.515625 40.234375 12.765625 48.109375 \r\n",
       "Q 20.015625 56 32.328125 56 \r\n",
       "Q 43.359375 56 49.78125 48.890625 \r\n",
       "Q 56.203125 41.796875 56.203125 29.59375 \r\n",
       "z\r\n",
       "M 47.21875 32.234375 \r\n",
       "Q 47.125 39.59375 43.09375 43.984375 \r\n",
       "Q 39.0625 48.390625 32.421875 48.390625 \r\n",
       "Q 24.90625 48.390625 20.390625 44.140625 \r\n",
       "Q 15.875 39.890625 15.1875 32.171875 \r\n",
       "z\r\n",
       "\" id=\"DejaVuSans-1077\"/>\r\n",
       "        <path id=\"DejaVuSans-32\"/>\r\n",
       "        <path d=\"M 40.578125 54.6875 \r\n",
       "L 49.515625 54.6875 \r\n",
       "L 49.515625 29 \r\n",
       "L 73.390625 54.6875 \r\n",
       "L 83.84375 54.6875 \r\n",
       "L 64.203125 33.640625 \r\n",
       "L 86.671875 0 \r\n",
       "L 77.046875 0 \r\n",
       "L 58.640625 27.640625 \r\n",
       "L 49.515625 17.828125 \r\n",
       "L 49.515625 0 \r\n",
       "L 40.578125 0 \r\n",
       "L 40.578125 17.828125 \r\n",
       "L 31.453125 27.640625 \r\n",
       "L 13.03125 0 \r\n",
       "L 3.421875 0 \r\n",
       "L 25.875 33.640625 \r\n",
       "L 6.25 54.6875 \r\n",
       "L 16.703125 54.6875 \r\n",
       "L 40.578125 29 \r\n",
       "z\r\n",
       "\" id=\"DejaVuSans-1078\"/>\r\n",
       "        <path d=\"M 9.078125 54.6875 \r\n",
       "L 18.109375 54.6875 \r\n",
       "L 18.109375 32.375 \r\n",
       "L 47.265625 32.375 \r\n",
       "L 47.265625 54.6875 \r\n",
       "L 56.296875 54.6875 \r\n",
       "L 56.296875 0 \r\n",
       "L 47.265625 0 \r\n",
       "L 47.265625 25.203125 \r\n",
       "L 18.109375 25.203125 \r\n",
       "L 18.109375 0 \r\n",
       "L 9.078125 0 \r\n",
       "z\r\n",
       "\" id=\"DejaVuSans-1085\"/>\r\n",
       "        <path d=\"M 34.28125 27.484375 \r\n",
       "Q 23.390625 27.484375 19.1875 25 \r\n",
       "Q 14.984375 22.515625 14.984375 16.5 \r\n",
       "Q 14.984375 11.71875 18.140625 8.90625 \r\n",
       "Q 21.296875 6.109375 26.703125 6.109375 \r\n",
       "Q 34.1875 6.109375 38.703125 11.40625 \r\n",
       "Q 43.21875 16.703125 43.21875 25.484375 \r\n",
       "L 43.21875 27.484375 \r\n",
       "z\r\n",
       "M 52.203125 31.203125 \r\n",
       "L 52.203125 0 \r\n",
       "L 43.21875 0 \r\n",
       "L 43.21875 8.296875 \r\n",
       "Q 40.140625 3.328125 35.546875 0.953125 \r\n",
       "Q 30.953125 -1.421875 24.3125 -1.421875 \r\n",
       "Q 15.921875 -1.421875 10.953125 3.296875 \r\n",
       "Q 6 8.015625 6 15.921875 \r\n",
       "Q 6 25.140625 12.171875 29.828125 \r\n",
       "Q 18.359375 34.515625 30.609375 34.515625 \r\n",
       "L 43.21875 34.515625 \r\n",
       "L 43.21875 35.40625 \r\n",
       "Q 43.21875 41.609375 39.140625 45 \r\n",
       "Q 35.0625 48.390625 27.6875 48.390625 \r\n",
       "Q 23 48.390625 18.546875 47.265625 \r\n",
       "Q 14.109375 46.140625 10.015625 43.890625 \r\n",
       "L 10.015625 52.203125 \r\n",
       "Q 14.9375 54.109375 19.578125 55.046875 \r\n",
       "Q 24.21875 56 28.609375 56 \r\n",
       "Q 40.484375 56 46.34375 49.84375 \r\n",
       "Q 52.203125 43.703125 52.203125 31.203125 \r\n",
       "z\r\n",
       "\" id=\"DejaVuSans-1072\"/>\r\n",
       "        <path d=\"M 2.9375 54.6875 \r\n",
       "L 55.328125 54.6875 \r\n",
       "L 55.328125 47.515625 \r\n",
       "L 33.546875 47.515625 \r\n",
       "L 33.546875 0 \r\n",
       "L 24.703125 0 \r\n",
       "L 24.703125 47.515625 \r\n",
       "L 2.9375 47.515625 \r\n",
       "z\r\n",
       "\" id=\"DejaVuSans-1090\"/>\r\n",
       "        <path d=\"M 25.390625 72.90625 \r\n",
       "L 33.6875 72.90625 \r\n",
       "L 8.296875 -9.28125 \r\n",
       "L 0 -9.28125 \r\n",
       "z\r\n",
       "\" id=\"DejaVuSans-47\"/>\r\n",
       "        <path d=\"M 34.46875 29.5 \r\n",
       "Q 40.53125 28.328125 43.890625 24.75 \r\n",
       "Q 47.265625 21.1875 47.265625 15.921875 \r\n",
       "Q 47.265625 7.46875 40.96875 3.015625 \r\n",
       "Q 34.671875 -1.421875 23.046875 -1.421875 \r\n",
       "Q 19.140625 -1.421875 15.015625 -0.734375 \r\n",
       "Q 10.890625 -0.046875 6.5 1.3125 \r\n",
       "L 6.5 9.671875 \r\n",
       "Q 9.96875 7.859375 14.109375 6.953125 \r\n",
       "Q 18.265625 6.0625 22.796875 6.0625 \r\n",
       "Q 30.171875 6.0625 34.296875 8.796875 \r\n",
       "Q 38.421875 11.53125 38.421875 15.921875 \r\n",
       "Q 38.421875 20.21875 34.765625 22.828125 \r\n",
       "Q 31.109375 25.4375 24.421875 25.4375 \r\n",
       "L 17.1875 25.4375 \r\n",
       "L 17.1875 32.859375 \r\n",
       "L 24.75 32.859375 \r\n",
       "Q 30.421875 32.859375 33.71875 35.03125 \r\n",
       "Q 37.015625 37.203125 37.015625 40.625 \r\n",
       "Q 37.015625 43.75 33.609375 46 \r\n",
       "Q 30.21875 48.25 24.421875 48.25 \r\n",
       "Q 20.953125 48.25 17.015625 47.609375 \r\n",
       "Q 13.09375 46.96875 8.34375 45.5625 \r\n",
       "L 8.34375 53.71875 \r\n",
       "Q 13.140625 54.890625 17.28125 55.46875 \r\n",
       "Q 21.4375 56.0625 25.140625 56.0625 \r\n",
       "Q 34.71875 56.0625 40.25 52.21875 \r\n",
       "Q 45.796875 48.390625 45.796875 41.5 \r\n",
       "Q 45.796875 36.96875 42.859375 33.8125 \r\n",
       "Q 39.9375 30.671875 34.46875 29.5 \r\n",
       "z\r\n",
       "\" id=\"DejaVuSans-1079\"/>\r\n",
       "        <path d=\"M 9.078125 54.6875 \r\n",
       "L 22.21875 54.6875 \r\n",
       "L 37.75 18.0625 \r\n",
       "L 53.328125 54.6875 \r\n",
       "L 66.359375 54.6875 \r\n",
       "L 66.359375 0 \r\n",
       "L 57.328125 0 \r\n",
       "L 57.328125 46.09375 \r\n",
       "L 42.234375 10.5 \r\n",
       "L 33.25 10.5 \r\n",
       "L 18.109375 46.09375 \r\n",
       "L 18.109375 0 \r\n",
       "L 9.078125 0 \r\n",
       "z\r\n",
       "\" id=\"DejaVuSans-1084\"/>\r\n",
       "        <path d=\"M 32.171875 -5.078125 \r\n",
       "Q 28.375 -14.84375 24.75 -17.8125 \r\n",
       "Q 21.140625 -20.796875 15.09375 -20.796875 \r\n",
       "L 7.90625 -20.796875 \r\n",
       "L 7.90625 -13.28125 \r\n",
       "L 13.1875 -13.28125 \r\n",
       "Q 16.890625 -13.28125 18.9375 -11.515625 \r\n",
       "Q 21 -9.765625 23.484375 -3.21875 \r\n",
       "L 25.09375 0.875 \r\n",
       "L 2.984375 54.6875 \r\n",
       "L 12.5 54.6875 \r\n",
       "L 29.59375 11.921875 \r\n",
       "L 46.6875 54.6875 \r\n",
       "L 56.203125 54.6875 \r\n",
       "z\r\n",
       "\" id=\"DejaVuSans-1091\"/>\r\n",
       "       </defs>\r\n",
       "       <use xlink:href=\"#DejaVuSans-1053\"/>\r\n",
       "       <use x=\"75.195312\" xlink:href=\"#DejaVuSans-1077\"/>\r\n",
       "       <use x=\"136.71875\" xlink:href=\"#DejaVuSans-32\"/>\r\n",
       "       <use x=\"168.505859\" xlink:href=\"#DejaVuSans-1078\"/>\r\n",
       "       <use x=\"258.59375\" xlink:href=\"#DejaVuSans-1077\"/>\r\n",
       "       <use x=\"320.117188\" xlink:href=\"#DejaVuSans-1085\"/>\r\n",
       "       <use x=\"385.498047\" xlink:href=\"#DejaVuSans-1072\"/>\r\n",
       "       <use x=\"446.777344\" xlink:href=\"#DejaVuSans-1090\"/>\r\n",
       "       <use x=\"505.029297\" xlink:href=\"#DejaVuSans-32\"/>\r\n",
       "       <use x=\"536.816406\" xlink:href=\"#DejaVuSans-47\"/>\r\n",
       "       <use x=\"570.507812\" xlink:href=\"#DejaVuSans-32\"/>\r\n",
       "       <use x=\"602.294922\" xlink:href=\"#DejaVuSans-1085\"/>\r\n",
       "       <use x=\"667.675781\" xlink:href=\"#DejaVuSans-1077\"/>\r\n",
       "       <use x=\"729.199219\" xlink:href=\"#DejaVuSans-32\"/>\r\n",
       "       <use x=\"760.986328\" xlink:href=\"#DejaVuSans-1079\"/>\r\n",
       "       <use x=\"814.160156\" xlink:href=\"#DejaVuSans-1072\"/>\r\n",
       "       <use x=\"875.439453\" xlink:href=\"#DejaVuSans-1084\"/>\r\n",
       "       <use x=\"950.878906\" xlink:href=\"#DejaVuSans-1091\"/>\r\n",
       "       <use x=\"1010.058594\" xlink:href=\"#DejaVuSans-1078\"/>\r\n",
       "       <use x=\"1100.146484\" xlink:href=\"#DejaVuSans-1077\"/>\r\n",
       "       <use x=\"1161.669922\" xlink:href=\"#DejaVuSans-1084\"/>\r\n",
       "      </g>\r\n",
       "     </g>\r\n",
       "    </g>\r\n",
       "    <g id=\"xtick_2\">\r\n",
       "     <g id=\"line2d_2\">\r\n",
       "      <g>\r\n",
       "       <use style=\"stroke:#000000;stroke-width:0.8;\" x=\"248.584943\" xlink:href=\"#mb7a4251c4a\" y=\"301.037813\"/>\r\n",
       "      </g>\r\n",
       "     </g>\r\n",
       "     <g id=\"text_2\">\r\n",
       "      <!-- гражданский брак -->\r\n",
       "      <g transform=\"translate(199.225568 315.806563)scale(0.1 -0.1)\">\r\n",
       "       <defs>\r\n",
       "        <path d=\"M 9.078125 0 \r\n",
       "L 9.078125 54.6875 \r\n",
       "L 47.65625 54.6875 \r\n",
       "L 47.65625 47.515625 \r\n",
       "L 18.109375 47.515625 \r\n",
       "L 18.109375 0 \r\n",
       "z\r\n",
       "\" id=\"DejaVuSans-1075\"/>\r\n",
       "        <path d=\"M 18.109375 8.203125 \r\n",
       "L 18.109375 -20.796875 \r\n",
       "L 9.078125 -20.796875 \r\n",
       "L 9.078125 54.6875 \r\n",
       "L 18.109375 54.6875 \r\n",
       "L 18.109375 46.390625 \r\n",
       "Q 20.953125 51.265625 25.265625 53.625 \r\n",
       "Q 29.59375 56 35.59375 56 \r\n",
       "Q 45.5625 56 51.78125 48.09375 \r\n",
       "Q 58.015625 40.1875 58.015625 27.296875 \r\n",
       "Q 58.015625 14.40625 51.78125 6.484375 \r\n",
       "Q 45.5625 -1.421875 35.59375 -1.421875 \r\n",
       "Q 29.59375 -1.421875 25.265625 0.953125 \r\n",
       "Q 20.953125 3.328125 18.109375 8.203125 \r\n",
       "z\r\n",
       "M 48.6875 27.296875 \r\n",
       "Q 48.6875 37.203125 44.609375 42.84375 \r\n",
       "Q 40.53125 48.484375 33.40625 48.484375 \r\n",
       "Q 26.265625 48.484375 22.1875 42.84375 \r\n",
       "Q 18.109375 37.203125 18.109375 27.296875 \r\n",
       "Q 18.109375 17.390625 22.1875 11.75 \r\n",
       "Q 26.265625 6.109375 33.40625 6.109375 \r\n",
       "Q 40.53125 6.109375 44.609375 11.75 \r\n",
       "Q 48.6875 17.390625 48.6875 27.296875 \r\n",
       "z\r\n",
       "\" id=\"DejaVuSans-1088\"/>\r\n",
       "        <path d=\"M 21.625 7.171875 \r\n",
       "L 47.703125 7.171875 \r\n",
       "L 47.703125 47.515625 \r\n",
       "L 28.8125 47.515625 \r\n",
       "L 28.8125 40.671875 \r\n",
       "Q 28.8125 20.5625 23.046875 9.8125 \r\n",
       "z\r\n",
       "M 8.59375 7.171875 \r\n",
       "Q 13.03125 9.125 14.984375 13.28125 \r\n",
       "Q 19.78125 23.578125 19.78125 44.34375 \r\n",
       "L 19.78125 54.6875 \r\n",
       "L 56.734375 54.6875 \r\n",
       "L 56.734375 7.171875 \r\n",
       "L 63.921875 7.171875 \r\n",
       "L 63.921875 -13.8125 \r\n",
       "L 56.734375 -13.8125 \r\n",
       "L 56.734375 0 \r\n",
       "L 12.40625 0 \r\n",
       "L 12.40625 -13.8125 \r\n",
       "L 5.21875 -13.8125 \r\n",
       "L 5.21875 7.171875 \r\n",
       "z\r\n",
       "\" id=\"DejaVuSans-1076\"/>\r\n",
       "        <path d=\"M 48.78125 52.59375 \r\n",
       "L 48.78125 44.1875 \r\n",
       "Q 44.96875 46.296875 41.140625 47.34375 \r\n",
       "Q 37.3125 48.390625 33.40625 48.390625 \r\n",
       "Q 24.65625 48.390625 19.8125 42.84375 \r\n",
       "Q 14.984375 37.3125 14.984375 27.296875 \r\n",
       "Q 14.984375 17.28125 19.8125 11.734375 \r\n",
       "Q 24.65625 6.203125 33.40625 6.203125 \r\n",
       "Q 37.3125 6.203125 41.140625 7.25 \r\n",
       "Q 44.96875 8.296875 48.78125 10.40625 \r\n",
       "L 48.78125 2.09375 \r\n",
       "Q 45.015625 0.34375 40.984375 -0.53125 \r\n",
       "Q 36.96875 -1.421875 32.421875 -1.421875 \r\n",
       "Q 20.0625 -1.421875 12.78125 6.34375 \r\n",
       "Q 5.515625 14.109375 5.515625 27.296875 \r\n",
       "Q 5.515625 40.671875 12.859375 48.328125 \r\n",
       "Q 20.21875 56 33.015625 56 \r\n",
       "Q 37.15625 56 41.109375 55.140625 \r\n",
       "Q 45.0625 54.296875 48.78125 52.59375 \r\n",
       "z\r\n",
       "\" id=\"DejaVuSans-1089\"/>\r\n",
       "        <path d=\"M 9.078125 54.6875 \r\n",
       "L 18.015625 54.6875 \r\n",
       "L 18.015625 29 \r\n",
       "L 43.359375 54.6875 \r\n",
       "L 54.390625 54.6875 \r\n",
       "L 33.5 33.546875 \r\n",
       "L 57.078125 0 \r\n",
       "L 47.015625 0 \r\n",
       "L 27.640625 27.59375 \r\n",
       "L 18.015625 17.828125 \r\n",
       "L 18.015625 0 \r\n",
       "L 9.078125 0 \r\n",
       "z\r\n",
       "\" id=\"DejaVuSans-1082\"/>\r\n",
       "        <path d=\"M 55.90625 54.6875 \r\n",
       "L 55.90625 0 \r\n",
       "L 46.96875 0 \r\n",
       "L 46.96875 43.890625 \r\n",
       "L 20.609375 0 \r\n",
       "L 9.078125 0 \r\n",
       "L 9.078125 54.6875 \r\n",
       "L 18.015625 54.6875 \r\n",
       "L 18.015625 10.890625 \r\n",
       "L 44.34375 54.6875 \r\n",
       "z\r\n",
       "\" id=\"DejaVuSans-1080\"/>\r\n",
       "        <path d=\"M 55.90625 54.6875 \r\n",
       "L 55.90625 0 \r\n",
       "L 46.96875 0 \r\n",
       "L 46.96875 43.890625 \r\n",
       "L 20.609375 0 \r\n",
       "L 9.078125 0 \r\n",
       "L 9.078125 54.6875 \r\n",
       "L 18.015625 54.6875 \r\n",
       "L 18.015625 10.890625 \r\n",
       "L 44.34375 54.6875 \r\n",
       "z\r\n",
       "M 17.21875 75.515625 \r\n",
       "L 22.984375 75.515625 \r\n",
       "Q 23.515625 71.859375 25.875 70.015625 \r\n",
       "Q 28.25 68.1875 32.5 68.1875 \r\n",
       "Q 36.703125 68.1875 39.046875 70 \r\n",
       "Q 41.390625 71.8125 42.015625 75.515625 \r\n",
       "L 47.78125 75.515625 \r\n",
       "Q 47.296875 68.53125 43.4375 65.015625 \r\n",
       "Q 39.578125 61.5 32.5 61.5 \r\n",
       "Q 25.421875 61.5 21.5625 65.015625 \r\n",
       "Q 17.703125 68.53125 17.21875 75.515625 \r\n",
       "z\r\n",
       "\" id=\"DejaVuSans-1081\"/>\r\n",
       "        <path d=\"M 31.109375 56 \r\n",
       "Q 42.828125 56 49.515625 48.375 \r\n",
       "Q 56.203125 40.765625 56.203125 27.296875 \r\n",
       "Q 56.203125 13.875 49.515625 6.21875 \r\n",
       "Q 42.828125 -1.421875 31.109375 -1.421875 \r\n",
       "Q 19.34375 -1.421875 12.84375 6 \r\n",
       "Q 6.34375 13.421875 6 27.296875 \r\n",
       "L 5.71875 38.484375 \r\n",
       "Q 5.46875 44.28125 5.46875 46.296875 \r\n",
       "Q 5.46875 54.109375 8.296875 59.859375 \r\n",
       "Q 12.75 68.890625 20.4375 72.796875 \r\n",
       "Q 28.125 76.703125 41.015625 76.8125 \r\n",
       "Q 46.96875 76.859375 49.609375 77.6875 \r\n",
       "L 52.09375 70.5625 \r\n",
       "Q 49.703125 69.578125 47.515625 69.53125 \r\n",
       "L 35.296875 68.703125 \r\n",
       "Q 29.15625 68.265625 25.4375 66.109375 \r\n",
       "Q 15.71875 60.40625 14.796875 52.9375 \r\n",
       "L 14.453125 50.203125 \r\n",
       "Q 20.796875 56 31.109375 56 \r\n",
       "z\r\n",
       "M 31.109375 48.390625 \r\n",
       "Q 23.875 48.390625 19.671875 42.75 \r\n",
       "Q 15.484375 37.109375 15.484375 27.296875 \r\n",
       "Q 15.484375 17.484375 19.65625 11.84375 \r\n",
       "Q 23.828125 6.203125 31.109375 6.203125 \r\n",
       "Q 38.28125 6.203125 42.484375 11.859375 \r\n",
       "Q 46.6875 17.53125 46.6875 27.296875 \r\n",
       "Q 46.6875 37.015625 42.484375 42.703125 \r\n",
       "Q 38.28125 48.390625 31.109375 48.390625 \r\n",
       "z\r\n",
       "\" id=\"DejaVuSans-1073\"/>\r\n",
       "       </defs>\r\n",
       "       <use xlink:href=\"#DejaVuSans-1075\"/>\r\n",
       "       <use x=\"52.539062\" xlink:href=\"#DejaVuSans-1088\"/>\r\n",
       "       <use x=\"116.015625\" xlink:href=\"#DejaVuSans-1072\"/>\r\n",
       "       <use x=\"177.294922\" xlink:href=\"#DejaVuSans-1078\"/>\r\n",
       "       <use x=\"267.382812\" xlink:href=\"#DejaVuSans-1076\"/>\r\n",
       "       <use x=\"336.523438\" xlink:href=\"#DejaVuSans-1072\"/>\r\n",
       "       <use x=\"397.802734\" xlink:href=\"#DejaVuSans-1085\"/>\r\n",
       "       <use x=\"463.183594\" xlink:href=\"#DejaVuSans-1089\"/>\r\n",
       "       <use x=\"518.164062\" xlink:href=\"#DejaVuSans-1082\"/>\r\n",
       "       <use x=\"578.564453\" xlink:href=\"#DejaVuSans-1080\"/>\r\n",
       "       <use x=\"643.554688\" xlink:href=\"#DejaVuSans-1081\"/>\r\n",
       "       <use x=\"708.544922\" xlink:href=\"#DejaVuSans-32\"/>\r\n",
       "       <use x=\"740.332031\" xlink:href=\"#DejaVuSans-1073\"/>\r\n",
       "       <use x=\"802.001953\" xlink:href=\"#DejaVuSans-1088\"/>\r\n",
       "       <use x=\"865.478516\" xlink:href=\"#DejaVuSans-1072\"/>\r\n",
       "       <use x=\"926.757812\" xlink:href=\"#DejaVuSans-1082\"/>\r\n",
       "      </g>\r\n",
       "     </g>\r\n",
       "    </g>\r\n",
       "    <g id=\"xtick_3\">\r\n",
       "     <g id=\"line2d_3\">\r\n",
       "      <g>\r\n",
       "       <use style=\"stroke:#000000;stroke-width:0.8;\" x=\"375.403125\" xlink:href=\"#mb7a4251c4a\" y=\"301.037813\"/>\r\n",
       "      </g>\r\n",
       "     </g>\r\n",
       "     <g id=\"text_3\">\r\n",
       "      <!-- женат / замужем -->\r\n",
       "      <g transform=\"translate(329.907031 315.63625)scale(0.1 -0.1)\">\r\n",
       "       <use xlink:href=\"#DejaVuSans-1078\"/>\r\n",
       "       <use x=\"90.087891\" xlink:href=\"#DejaVuSans-1077\"/>\r\n",
       "       <use x=\"151.611328\" xlink:href=\"#DejaVuSans-1085\"/>\r\n",
       "       <use x=\"216.992188\" xlink:href=\"#DejaVuSans-1072\"/>\r\n",
       "       <use x=\"278.271484\" xlink:href=\"#DejaVuSans-1090\"/>\r\n",
       "       <use x=\"336.523438\" xlink:href=\"#DejaVuSans-32\"/>\r\n",
       "       <use x=\"368.310547\" xlink:href=\"#DejaVuSans-47\"/>\r\n",
       "       <use x=\"402.001953\" xlink:href=\"#DejaVuSans-32\"/>\r\n",
       "       <use x=\"433.789062\" xlink:href=\"#DejaVuSans-1079\"/>\r\n",
       "       <use x=\"486.962891\" xlink:href=\"#DejaVuSans-1072\"/>\r\n",
       "       <use x=\"548.242188\" xlink:href=\"#DejaVuSans-1084\"/>\r\n",
       "       <use x=\"623.681641\" xlink:href=\"#DejaVuSans-1091\"/>\r\n",
       "       <use x=\"682.861328\" xlink:href=\"#DejaVuSans-1078\"/>\r\n",
       "       <use x=\"772.949219\" xlink:href=\"#DejaVuSans-1077\"/>\r\n",
       "       <use x=\"834.472656\" xlink:href=\"#DejaVuSans-1084\"/>\r\n",
       "      </g>\r\n",
       "     </g>\r\n",
       "    </g>\r\n",
       "    <g id=\"xtick_4\">\r\n",
       "     <g id=\"line2d_4\">\r\n",
       "      <g>\r\n",
       "       <use style=\"stroke:#000000;stroke-width:0.8;\" x=\"502.221307\" xlink:href=\"#mb7a4251c4a\" y=\"301.037813\"/>\r\n",
       "      </g>\r\n",
       "     </g>\r\n",
       "     <g id=\"text_4\">\r\n",
       "      <!-- в разводе -->\r\n",
       "      <g transform=\"translate(476.248651 315.63625)scale(0.1 -0.1)\">\r\n",
       "       <defs>\r\n",
       "        <path d=\"M 18.0625 25.203125 \r\n",
       "L 18.0625 7.171875 \r\n",
       "L 30.859375 7.171875 \r\n",
       "Q 37.015625 7.171875 40.234375 9.484375 \r\n",
       "Q 43.453125 11.8125 43.453125 16.21875 \r\n",
       "Q 43.453125 20.609375 40.234375 22.90625 \r\n",
       "Q 37.015625 25.203125 30.859375 25.203125 \r\n",
       "z\r\n",
       "M 18.0625 47.515625 \r\n",
       "L 18.0625 32.375 \r\n",
       "L 29.890625 32.375 \r\n",
       "Q 34.96875 32.375 38.1875 34.390625 \r\n",
       "Q 41.40625 36.421875 41.40625 40.046875 \r\n",
       "Q 41.40625 43.65625 38.1875 45.578125 \r\n",
       "Q 34.96875 47.515625 29.890625 47.515625 \r\n",
       "z\r\n",
       "M 9.078125 54.6875 \r\n",
       "L 30.46875 54.6875 \r\n",
       "Q 40.09375 54.6875 45.265625 51.171875 \r\n",
       "Q 50.4375 47.65625 50.4375 41.15625 \r\n",
       "Q 50.4375 36.140625 47.796875 33.171875 \r\n",
       "Q 45.171875 30.21875 39.984375 29.5 \r\n",
       "Q 46.1875 28.328125 49.609375 24.609375 \r\n",
       "Q 53.03125 20.90625 53.03125 15.328125 \r\n",
       "Q 53.03125 8.015625 47.390625 4 \r\n",
       "Q 41.75 0 31.296875 0 \r\n",
       "L 9.078125 0 \r\n",
       "z\r\n",
       "\" id=\"DejaVuSans-1074\"/>\r\n",
       "        <path d=\"M 30.609375 48.390625 \r\n",
       "Q 23.390625 48.390625 19.1875 42.75 \r\n",
       "Q 14.984375 37.109375 14.984375 27.296875 \r\n",
       "Q 14.984375 17.484375 19.15625 11.84375 \r\n",
       "Q 23.34375 6.203125 30.609375 6.203125 \r\n",
       "Q 37.796875 6.203125 41.984375 11.859375 \r\n",
       "Q 46.1875 17.53125 46.1875 27.296875 \r\n",
       "Q 46.1875 37.015625 41.984375 42.703125 \r\n",
       "Q 37.796875 48.390625 30.609375 48.390625 \r\n",
       "z\r\n",
       "M 30.609375 56 \r\n",
       "Q 42.328125 56 49.015625 48.375 \r\n",
       "Q 55.71875 40.765625 55.71875 27.296875 \r\n",
       "Q 55.71875 13.875 49.015625 6.21875 \r\n",
       "Q 42.328125 -1.421875 30.609375 -1.421875 \r\n",
       "Q 18.84375 -1.421875 12.171875 6.21875 \r\n",
       "Q 5.515625 13.875 5.515625 27.296875 \r\n",
       "Q 5.515625 40.765625 12.171875 48.375 \r\n",
       "Q 18.84375 56 30.609375 56 \r\n",
       "z\r\n",
       "\" id=\"DejaVuSans-1086\"/>\r\n",
       "       </defs>\r\n",
       "       <use xlink:href=\"#DejaVuSans-1074\"/>\r\n",
       "       <use x=\"58.935547\" xlink:href=\"#DejaVuSans-32\"/>\r\n",
       "       <use x=\"90.722656\" xlink:href=\"#DejaVuSans-1088\"/>\r\n",
       "       <use x=\"154.199219\" xlink:href=\"#DejaVuSans-1072\"/>\r\n",
       "       <use x=\"215.478516\" xlink:href=\"#DejaVuSans-1079\"/>\r\n",
       "       <use x=\"268.652344\" xlink:href=\"#DejaVuSans-1074\"/>\r\n",
       "       <use x=\"327.587891\" xlink:href=\"#DejaVuSans-1086\"/>\r\n",
       "       <use x=\"388.769531\" xlink:href=\"#DejaVuSans-1076\"/>\r\n",
       "       <use x=\"457.910156\" xlink:href=\"#DejaVuSans-1077\"/>\r\n",
       "      </g>\r\n",
       "     </g>\r\n",
       "    </g>\r\n",
       "    <g id=\"xtick_5\">\r\n",
       "     <g id=\"line2d_5\">\r\n",
       "      <g>\r\n",
       "       <use style=\"stroke:#000000;stroke-width:0.8;\" x=\"629.039489\" xlink:href=\"#mb7a4251c4a\" y=\"301.037813\"/>\r\n",
       "      </g>\r\n",
       "     </g>\r\n",
       "     <g id=\"text_5\">\r\n",
       "      <!-- вдовец / вдова -->\r\n",
       "      <g transform=\"translate(589.812926 315.63625)scale(0.1 -0.1)\">\r\n",
       "       <defs>\r\n",
       "        <path d=\"M 56.296875 0 \r\n",
       "L 9.078125 0 \r\n",
       "L 9.078125 54.6875 \r\n",
       "L 18.109375 54.6875 \r\n",
       "L 18.109375 7.171875 \r\n",
       "L 47.265625 7.171875 \r\n",
       "L 47.265625 54.6875 \r\n",
       "L 56.296875 54.6875 \r\n",
       "L 56.296875 7.171875 \r\n",
       "L 63.484375 7.171875 \r\n",
       "L 63.484375 -13.8125 \r\n",
       "L 56.296875 -13.8125 \r\n",
       "z\r\n",
       "\" id=\"DejaVuSans-1094\"/>\r\n",
       "       </defs>\r\n",
       "       <use xlink:href=\"#DejaVuSans-1074\"/>\r\n",
       "       <use x=\"58.935547\" xlink:href=\"#DejaVuSans-1076\"/>\r\n",
       "       <use x=\"128.076172\" xlink:href=\"#DejaVuSans-1086\"/>\r\n",
       "       <use x=\"189.257812\" xlink:href=\"#DejaVuSans-1074\"/>\r\n",
       "       <use x=\"248.193359\" xlink:href=\"#DejaVuSans-1077\"/>\r\n",
       "       <use x=\"309.716797\" xlink:href=\"#DejaVuSans-1094\"/>\r\n",
       "       <use x=\"377.783203\" xlink:href=\"#DejaVuSans-32\"/>\r\n",
       "       <use x=\"409.570312\" xlink:href=\"#DejaVuSans-47\"/>\r\n",
       "       <use x=\"443.261719\" xlink:href=\"#DejaVuSans-32\"/>\r\n",
       "       <use x=\"475.048828\" xlink:href=\"#DejaVuSans-1074\"/>\r\n",
       "       <use x=\"533.984375\" xlink:href=\"#DejaVuSans-1076\"/>\r\n",
       "       <use x=\"603.125\" xlink:href=\"#DejaVuSans-1086\"/>\r\n",
       "       <use x=\"664.306641\" xlink:href=\"#DejaVuSans-1074\"/>\r\n",
       "       <use x=\"723.242188\" xlink:href=\"#DejaVuSans-1072\"/>\r\n",
       "      </g>\r\n",
       "     </g>\r\n",
       "    </g>\r\n",
       "    <g id=\"text_6\">\r\n",
       "     <!-- возраст -->\r\n",
       "     <g transform=\"translate(353.083594 329.484688)scale(0.1 -0.1)\">\r\n",
       "      <defs>\r\n",
       "       <path d=\"M 34.125 34.078125 \r\n",
       "Q 37.15625 34.078125 38.71875 35.328125 \r\n",
       "Q 40.28125 36.578125 40.28125 39.015625 \r\n",
       "Q 40.28125 41.453125 38.71875 42.671875 \r\n",
       "Q 37.15625 43.890625 34.125 43.890625 \r\n",
       "L 25.875 43.890625 \r\n",
       "L 25.875 34.078125 \r\n",
       "z\r\n",
       "M 34.71875 10.9375 \r\n",
       "Q 38.578125 10.9375 40.53125 12.46875 \r\n",
       "Q 42.484375 14.015625 42.484375 17.09375 \r\n",
       "Q 42.484375 20.125 40.53125 21.625 \r\n",
       "Q 38.578125 23.140625 34.71875 23.140625 \r\n",
       "L 25.875 23.140625 \r\n",
       "L 25.875 10.9375 \r\n",
       "z\r\n",
       "M 8.40625 54.6875 \r\n",
       "L 33.453125 54.6875 \r\n",
       "Q 45.609375 54.6875 51.046875 51.234375 \r\n",
       "Q 56.5 47.796875 56.5 40.234375 \r\n",
       "Q 56.5 36.234375 54.484375 33.421875 \r\n",
       "Q 52.484375 30.609375 48.734375 29.25 \r\n",
       "Q 53.5625 27.9375 56.21875 24.390625 \r\n",
       "Q 58.890625 20.84375 58.890625 15.671875 \r\n",
       "Q 58.890625 7.765625 53.171875 3.875 \r\n",
       "Q 47.46875 0 35.84375 0 \r\n",
       "L 8.40625 0 \r\n",
       "z\r\n",
       "\" id=\"DejaVuSans-Bold-1074\"/>\r\n",
       "       <path d=\"M 34.421875 43.5 \r\n",
       "Q 28.609375 43.5 25.5625 39.328125 \r\n",
       "Q 22.515625 35.15625 22.515625 27.296875 \r\n",
       "Q 22.515625 19.4375 25.5625 15.25 \r\n",
       "Q 28.609375 11.078125 34.421875 11.078125 \r\n",
       "Q 40.140625 11.078125 43.15625 15.25 \r\n",
       "Q 46.1875 19.4375 46.1875 27.296875 \r\n",
       "Q 46.1875 35.15625 43.15625 39.328125 \r\n",
       "Q 40.140625 43.5 34.421875 43.5 \r\n",
       "z\r\n",
       "M 34.421875 56 \r\n",
       "Q 48.53125 56 56.46875 48.375 \r\n",
       "Q 64.40625 40.765625 64.40625 27.296875 \r\n",
       "Q 64.40625 13.8125 56.46875 6.1875 \r\n",
       "Q 48.53125 -1.421875 34.421875 -1.421875 \r\n",
       "Q 20.265625 -1.421875 12.28125 6.1875 \r\n",
       "Q 4.296875 13.8125 4.296875 27.296875 \r\n",
       "Q 4.296875 40.765625 12.28125 48.375 \r\n",
       "Q 20.265625 56 34.421875 56 \r\n",
       "z\r\n",
       "\" id=\"DejaVuSans-Bold-1086\"/>\r\n",
       "       <path d=\"M 14.0625 34.078125 \r\n",
       "L 22.078125 34.078125 \r\n",
       "Q 29.25 34.078125 31.859375 35.640625 \r\n",
       "Q 34.46875 37.203125 34.46875 39.359375 \r\n",
       "Q 34.46875 44.390625 22.953125 44.390625 \r\n",
       "Q 13.328125 44.390625 7.375 41.015625 \r\n",
       "L 7.375 53.65625 \r\n",
       "Q 16.265625 56 26.765625 56 \r\n",
       "Q 39.0625 56 44.71875 52.515625 \r\n",
       "Q 50.390625 49.03125 50.390625 41.65625 \r\n",
       "Q 50.390625 31.984375 39.703125 29.5 \r\n",
       "Q 51.765625 26.515625 51.765625 15.53125 \r\n",
       "Q 51.765625 7.078125 45.125 2.828125 \r\n",
       "Q 38.484375 -1.421875 24.265625 -1.421875 \r\n",
       "Q 13.671875 -1.421875 4.890625 1.3125 \r\n",
       "L 4.890625 14.796875 \r\n",
       "Q 15.828125 10.203125 22.3125 10.203125 \r\n",
       "Q 29.4375 10.203125 32.640625 12.125 \r\n",
       "Q 35.84375 14.0625 35.84375 16.5 \r\n",
       "Q 35.84375 23.296875 21.78125 23.296875 \r\n",
       "L 14.0625 23.296875 \r\n",
       "z\r\n",
       "\" id=\"DejaVuSans-Bold-1079\"/>\r\n",
       "       <path d=\"M 25.875 7.90625 \r\n",
       "L 25.875 -20.796875 \r\n",
       "L 8.40625 -20.796875 \r\n",
       "L 8.40625 54.6875 \r\n",
       "L 25.875 54.6875 \r\n",
       "L 25.875 46.6875 \r\n",
       "Q 29.5 51.46875 33.890625 53.734375 \r\n",
       "Q 38.28125 56 44 56 \r\n",
       "Q 54.109375 56 60.59375 47.96875 \r\n",
       "Q 67.09375 39.9375 67.09375 27.296875 \r\n",
       "Q 67.09375 14.65625 60.59375 6.609375 \r\n",
       "Q 54.109375 -1.421875 44 -1.421875 \r\n",
       "Q 38.28125 -1.421875 33.890625 0.84375 \r\n",
       "Q 29.5 3.125 25.875 7.90625 \r\n",
       "z\r\n",
       "M 37.5 43.3125 \r\n",
       "Q 31.890625 43.3125 28.875 39.1875 \r\n",
       "Q 25.875 35.0625 25.875 27.296875 \r\n",
       "Q 25.875 19.53125 28.875 15.40625 \r\n",
       "Q 31.890625 11.28125 37.5 11.28125 \r\n",
       "Q 43.109375 11.28125 46.0625 15.375 \r\n",
       "Q 49.03125 19.484375 49.03125 27.296875 \r\n",
       "Q 49.03125 35.109375 46.0625 39.203125 \r\n",
       "Q 43.109375 43.3125 37.5 43.3125 \r\n",
       "z\r\n",
       "\" id=\"DejaVuSans-Bold-1088\"/>\r\n",
       "       <path d=\"M 32.90625 24.609375 \r\n",
       "Q 27.4375 24.609375 24.671875 22.75 \r\n",
       "Q 21.921875 20.90625 21.921875 17.28125 \r\n",
       "Q 21.921875 13.96875 24.140625 12.078125 \r\n",
       "Q 26.375 10.203125 30.328125 10.203125 \r\n",
       "Q 35.25 10.203125 38.625 13.734375 \r\n",
       "Q 42 17.28125 42 22.609375 \r\n",
       "L 42 24.609375 \r\n",
       "z\r\n",
       "M 59.625 31.203125 \r\n",
       "L 59.625 0 \r\n",
       "L 42 0 \r\n",
       "L 42 8.109375 \r\n",
       "Q 38.484375 3.125 34.078125 0.84375 \r\n",
       "Q 29.6875 -1.421875 23.390625 -1.421875 \r\n",
       "Q 14.890625 -1.421875 9.59375 3.53125 \r\n",
       "Q 4.296875 8.5 4.296875 16.40625 \r\n",
       "Q 4.296875 26.03125 10.90625 30.515625 \r\n",
       "Q 17.53125 35.015625 31.6875 35.015625 \r\n",
       "L 42 35.015625 \r\n",
       "L 42 36.375 \r\n",
       "Q 42 40.53125 38.71875 42.453125 \r\n",
       "Q 35.453125 44.390625 28.515625 44.390625 \r\n",
       "Q 22.90625 44.390625 18.0625 43.265625 \r\n",
       "Q 13.234375 42.140625 9.078125 39.890625 \r\n",
       "L 9.078125 53.21875 \r\n",
       "Q 14.703125 54.59375 20.359375 55.296875 \r\n",
       "Q 26.03125 56 31.6875 56 \r\n",
       "Q 46.484375 56 53.046875 50.171875 \r\n",
       "Q 59.625 44.34375 59.625 31.203125 \r\n",
       "z\r\n",
       "\" id=\"DejaVuSans-Bold-1072\"/>\r\n",
       "       <path d=\"M 52.59375 52.984375 \r\n",
       "L 52.59375 38.71875 \r\n",
       "Q 49.03125 41.15625 45.4375 42.328125 \r\n",
       "Q 41.84375 43.5 37.984375 43.5 \r\n",
       "Q 30.671875 43.5 26.59375 39.234375 \r\n",
       "Q 22.515625 34.96875 22.515625 27.296875 \r\n",
       "Q 22.515625 19.625 26.59375 15.34375 \r\n",
       "Q 30.671875 11.078125 37.984375 11.078125 \r\n",
       "Q 42.09375 11.078125 45.78125 12.296875 \r\n",
       "Q 49.46875 13.53125 52.59375 15.921875 \r\n",
       "L 52.59375 1.609375 \r\n",
       "Q 48.484375 0.09375 44.265625 -0.65625 \r\n",
       "Q 40.046875 -1.421875 35.796875 -1.421875 \r\n",
       "Q 21 -1.421875 12.640625 6.171875 \r\n",
       "Q 4.296875 13.765625 4.296875 27.296875 \r\n",
       "Q 4.296875 40.828125 12.640625 48.40625 \r\n",
       "Q 21 56 35.796875 56 \r\n",
       "Q 40.09375 56 44.265625 55.25 \r\n",
       "Q 48.4375 54.5 52.59375 52.984375 \r\n",
       "z\r\n",
       "\" id=\"DejaVuSans-Bold-1089\"/>\r\n",
       "       <path d=\"M 0.390625 54.6875 \r\n",
       "L 57.515625 54.6875 \r\n",
       "L 57.515625 43.890625 \r\n",
       "L 37.703125 43.890625 \r\n",
       "L 37.703125 0 \r\n",
       "L 20.265625 0 \r\n",
       "L 20.265625 43.890625 \r\n",
       "L 0.390625 43.890625 \r\n",
       "z\r\n",
       "\" id=\"DejaVuSans-Bold-1090\"/>\r\n",
       "      </defs>\r\n",
       "      <use xlink:href=\"#DejaVuSans-Bold-1074\"/>\r\n",
       "      <use x=\"63.28125\" xlink:href=\"#DejaVuSans-Bold-1086\"/>\r\n",
       "      <use x=\"131.982422\" xlink:href=\"#DejaVuSans-Bold-1079\"/>\r\n",
       "      <use x=\"190.087891\" xlink:href=\"#DejaVuSans-Bold-1088\"/>\r\n",
       "      <use x=\"261.669922\" xlink:href=\"#DejaVuSans-Bold-1072\"/>\r\n",
       "      <use x=\"329.150391\" xlink:href=\"#DejaVuSans-Bold-1089\"/>\r\n",
       "      <use x=\"388.427734\" xlink:href=\"#DejaVuSans-Bold-1090\"/>\r\n",
       "     </g>\r\n",
       "    </g>\r\n",
       "   </g>\r\n",
       "   <g id=\"matplotlib.axis_2\">\r\n",
       "    <g id=\"ytick_1\">\r\n",
       "     <g id=\"line2d_6\">\r\n",
       "      <path clip-path=\"url(#pa4e50974ea)\" d=\"M 40.603125 301.037813 \r\n",
       "L 710.203125 301.037813 \r\n",
       "\" style=\"fill:none;stroke:#b0b0b0;stroke-linecap:square;stroke-width:0.8;\"/>\r\n",
       "     </g>\r\n",
       "     <g id=\"line2d_7\">\r\n",
       "      <defs>\r\n",
       "       <path d=\"M 0 0 \r\n",
       "L -3.5 0 \r\n",
       "\" id=\"m4af101bc28\" style=\"stroke:#000000;stroke-width:0.8;\"/>\r\n",
       "      </defs>\r\n",
       "      <g>\r\n",
       "       <use style=\"stroke:#000000;stroke-width:0.8;\" x=\"40.603125\" xlink:href=\"#m4af101bc28\" y=\"301.037813\"/>\r\n",
       "      </g>\r\n",
       "     </g>\r\n",
       "     <g id=\"text_7\">\r\n",
       "      <!-- 0 -->\r\n",
       "      <g transform=\"translate(27.240625 304.837031)scale(0.1 -0.1)\">\r\n",
       "       <defs>\r\n",
       "        <path d=\"M 31.78125 66.40625 \r\n",
       "Q 24.171875 66.40625 20.328125 58.90625 \r\n",
       "Q 16.5 51.421875 16.5 36.375 \r\n",
       "Q 16.5 21.390625 20.328125 13.890625 \r\n",
       "Q 24.171875 6.390625 31.78125 6.390625 \r\n",
       "Q 39.453125 6.390625 43.28125 13.890625 \r\n",
       "Q 47.125 21.390625 47.125 36.375 \r\n",
       "Q 47.125 51.421875 43.28125 58.90625 \r\n",
       "Q 39.453125 66.40625 31.78125 66.40625 \r\n",
       "z\r\n",
       "M 31.78125 74.21875 \r\n",
       "Q 44.046875 74.21875 50.515625 64.515625 \r\n",
       "Q 56.984375 54.828125 56.984375 36.375 \r\n",
       "Q 56.984375 17.96875 50.515625 8.265625 \r\n",
       "Q 44.046875 -1.421875 31.78125 -1.421875 \r\n",
       "Q 19.53125 -1.421875 13.0625 8.265625 \r\n",
       "Q 6.59375 17.96875 6.59375 36.375 \r\n",
       "Q 6.59375 54.828125 13.0625 64.515625 \r\n",
       "Q 19.53125 74.21875 31.78125 74.21875 \r\n",
       "z\r\n",
       "\" id=\"DejaVuSans-48\"/>\r\n",
       "       </defs>\r\n",
       "       <use xlink:href=\"#DejaVuSans-48\"/>\r\n",
       "      </g>\r\n",
       "     </g>\r\n",
       "    </g>\r\n",
       "    <g id=\"ytick_2\">\r\n",
       "     <g id=\"line2d_8\">\r\n",
       "      <path clip-path=\"url(#pa4e50974ea)\" d=\"M 40.603125 246.939452 \r\n",
       "L 710.203125 246.939452 \r\n",
       "\" style=\"fill:none;stroke:#b0b0b0;stroke-linecap:square;stroke-width:0.8;\"/>\r\n",
       "     </g>\r\n",
       "     <g id=\"line2d_9\">\r\n",
       "      <g>\r\n",
       "       <use style=\"stroke:#000000;stroke-width:0.8;\" x=\"40.603125\" xlink:href=\"#m4af101bc28\" y=\"246.939452\"/>\r\n",
       "      </g>\r\n",
       "     </g>\r\n",
       "     <g id=\"text_8\">\r\n",
       "      <!-- 2 -->\r\n",
       "      <g transform=\"translate(27.240625 250.738671)scale(0.1 -0.1)\">\r\n",
       "       <defs>\r\n",
       "        <path d=\"M 19.1875 8.296875 \r\n",
       "L 53.609375 8.296875 \r\n",
       "L 53.609375 0 \r\n",
       "L 7.328125 0 \r\n",
       "L 7.328125 8.296875 \r\n",
       "Q 12.9375 14.109375 22.625 23.890625 \r\n",
       "Q 32.328125 33.6875 34.8125 36.53125 \r\n",
       "Q 39.546875 41.84375 41.421875 45.53125 \r\n",
       "Q 43.3125 49.21875 43.3125 52.78125 \r\n",
       "Q 43.3125 58.59375 39.234375 62.25 \r\n",
       "Q 35.15625 65.921875 28.609375 65.921875 \r\n",
       "Q 23.96875 65.921875 18.8125 64.3125 \r\n",
       "Q 13.671875 62.703125 7.8125 59.421875 \r\n",
       "L 7.8125 69.390625 \r\n",
       "Q 13.765625 71.78125 18.9375 73 \r\n",
       "Q 24.125 74.21875 28.421875 74.21875 \r\n",
       "Q 39.75 74.21875 46.484375 68.546875 \r\n",
       "Q 53.21875 62.890625 53.21875 53.421875 \r\n",
       "Q 53.21875 48.921875 51.53125 44.890625 \r\n",
       "Q 49.859375 40.875 45.40625 35.40625 \r\n",
       "Q 44.1875 33.984375 37.640625 27.21875 \r\n",
       "Q 31.109375 20.453125 19.1875 8.296875 \r\n",
       "z\r\n",
       "\" id=\"DejaVuSans-50\"/>\r\n",
       "       </defs>\r\n",
       "       <use xlink:href=\"#DejaVuSans-50\"/>\r\n",
       "      </g>\r\n",
       "     </g>\r\n",
       "    </g>\r\n",
       "    <g id=\"ytick_3\">\r\n",
       "     <g id=\"line2d_10\">\r\n",
       "      <path clip-path=\"url(#pa4e50974ea)\" d=\"M 40.603125 192.841091 \r\n",
       "L 710.203125 192.841091 \r\n",
       "\" style=\"fill:none;stroke:#b0b0b0;stroke-linecap:square;stroke-width:0.8;\"/>\r\n",
       "     </g>\r\n",
       "     <g id=\"line2d_11\">\r\n",
       "      <g>\r\n",
       "       <use style=\"stroke:#000000;stroke-width:0.8;\" x=\"40.603125\" xlink:href=\"#m4af101bc28\" y=\"192.841091\"/>\r\n",
       "      </g>\r\n",
       "     </g>\r\n",
       "     <g id=\"text_9\">\r\n",
       "      <!-- 4 -->\r\n",
       "      <g transform=\"translate(27.240625 196.64031)scale(0.1 -0.1)\">\r\n",
       "       <defs>\r\n",
       "        <path d=\"M 37.796875 64.3125 \r\n",
       "L 12.890625 25.390625 \r\n",
       "L 37.796875 25.390625 \r\n",
       "z\r\n",
       "M 35.203125 72.90625 \r\n",
       "L 47.609375 72.90625 \r\n",
       "L 47.609375 25.390625 \r\n",
       "L 58.015625 25.390625 \r\n",
       "L 58.015625 17.1875 \r\n",
       "L 47.609375 17.1875 \r\n",
       "L 47.609375 0 \r\n",
       "L 37.796875 0 \r\n",
       "L 37.796875 17.1875 \r\n",
       "L 4.890625 17.1875 \r\n",
       "L 4.890625 26.703125 \r\n",
       "z\r\n",
       "\" id=\"DejaVuSans-52\"/>\r\n",
       "       </defs>\r\n",
       "       <use xlink:href=\"#DejaVuSans-52\"/>\r\n",
       "      </g>\r\n",
       "     </g>\r\n",
       "    </g>\r\n",
       "    <g id=\"ytick_4\">\r\n",
       "     <g id=\"line2d_12\">\r\n",
       "      <path clip-path=\"url(#pa4e50974ea)\" d=\"M 40.603125 138.742731 \r\n",
       "L 710.203125 138.742731 \r\n",
       "\" style=\"fill:none;stroke:#b0b0b0;stroke-linecap:square;stroke-width:0.8;\"/>\r\n",
       "     </g>\r\n",
       "     <g id=\"line2d_13\">\r\n",
       "      <g>\r\n",
       "       <use style=\"stroke:#000000;stroke-width:0.8;\" x=\"40.603125\" xlink:href=\"#m4af101bc28\" y=\"138.742731\"/>\r\n",
       "      </g>\r\n",
       "     </g>\r\n",
       "     <g id=\"text_10\">\r\n",
       "      <!-- 6 -->\r\n",
       "      <g transform=\"translate(27.240625 142.541949)scale(0.1 -0.1)\">\r\n",
       "       <defs>\r\n",
       "        <path d=\"M 33.015625 40.375 \r\n",
       "Q 26.375 40.375 22.484375 35.828125 \r\n",
       "Q 18.609375 31.296875 18.609375 23.390625 \r\n",
       "Q 18.609375 15.53125 22.484375 10.953125 \r\n",
       "Q 26.375 6.390625 33.015625 6.390625 \r\n",
       "Q 39.65625 6.390625 43.53125 10.953125 \r\n",
       "Q 47.40625 15.53125 47.40625 23.390625 \r\n",
       "Q 47.40625 31.296875 43.53125 35.828125 \r\n",
       "Q 39.65625 40.375 33.015625 40.375 \r\n",
       "z\r\n",
       "M 52.59375 71.296875 \r\n",
       "L 52.59375 62.3125 \r\n",
       "Q 48.875 64.0625 45.09375 64.984375 \r\n",
       "Q 41.3125 65.921875 37.59375 65.921875 \r\n",
       "Q 27.828125 65.921875 22.671875 59.328125 \r\n",
       "Q 17.53125 52.734375 16.796875 39.40625 \r\n",
       "Q 19.671875 43.65625 24.015625 45.921875 \r\n",
       "Q 28.375 48.1875 33.59375 48.1875 \r\n",
       "Q 44.578125 48.1875 50.953125 41.515625 \r\n",
       "Q 57.328125 34.859375 57.328125 23.390625 \r\n",
       "Q 57.328125 12.15625 50.6875 5.359375 \r\n",
       "Q 44.046875 -1.421875 33.015625 -1.421875 \r\n",
       "Q 20.359375 -1.421875 13.671875 8.265625 \r\n",
       "Q 6.984375 17.96875 6.984375 36.375 \r\n",
       "Q 6.984375 53.65625 15.1875 63.9375 \r\n",
       "Q 23.390625 74.21875 37.203125 74.21875 \r\n",
       "Q 40.921875 74.21875 44.703125 73.484375 \r\n",
       "Q 48.484375 72.75 52.59375 71.296875 \r\n",
       "z\r\n",
       "\" id=\"DejaVuSans-54\"/>\r\n",
       "       </defs>\r\n",
       "       <use xlink:href=\"#DejaVuSans-54\"/>\r\n",
       "      </g>\r\n",
       "     </g>\r\n",
       "    </g>\r\n",
       "    <g id=\"ytick_5\">\r\n",
       "     <g id=\"line2d_14\">\r\n",
       "      <path clip-path=\"url(#pa4e50974ea)\" d=\"M 40.603125 84.64437 \r\n",
       "L 710.203125 84.64437 \r\n",
       "\" style=\"fill:none;stroke:#b0b0b0;stroke-linecap:square;stroke-width:0.8;\"/>\r\n",
       "     </g>\r\n",
       "     <g id=\"line2d_15\">\r\n",
       "      <g>\r\n",
       "       <use style=\"stroke:#000000;stroke-width:0.8;\" x=\"40.603125\" xlink:href=\"#m4af101bc28\" y=\"84.64437\"/>\r\n",
       "      </g>\r\n",
       "     </g>\r\n",
       "     <g id=\"text_11\">\r\n",
       "      <!-- 8 -->\r\n",
       "      <g transform=\"translate(27.240625 88.443589)scale(0.1 -0.1)\">\r\n",
       "       <defs>\r\n",
       "        <path d=\"M 31.78125 34.625 \r\n",
       "Q 24.75 34.625 20.71875 30.859375 \r\n",
       "Q 16.703125 27.09375 16.703125 20.515625 \r\n",
       "Q 16.703125 13.921875 20.71875 10.15625 \r\n",
       "Q 24.75 6.390625 31.78125 6.390625 \r\n",
       "Q 38.8125 6.390625 42.859375 10.171875 \r\n",
       "Q 46.921875 13.96875 46.921875 20.515625 \r\n",
       "Q 46.921875 27.09375 42.890625 30.859375 \r\n",
       "Q 38.875 34.625 31.78125 34.625 \r\n",
       "z\r\n",
       "M 21.921875 38.8125 \r\n",
       "Q 15.578125 40.375 12.03125 44.71875 \r\n",
       "Q 8.5 49.078125 8.5 55.328125 \r\n",
       "Q 8.5 64.0625 14.71875 69.140625 \r\n",
       "Q 20.953125 74.21875 31.78125 74.21875 \r\n",
       "Q 42.671875 74.21875 48.875 69.140625 \r\n",
       "Q 55.078125 64.0625 55.078125 55.328125 \r\n",
       "Q 55.078125 49.078125 51.53125 44.71875 \r\n",
       "Q 48 40.375 41.703125 38.8125 \r\n",
       "Q 48.828125 37.15625 52.796875 32.3125 \r\n",
       "Q 56.78125 27.484375 56.78125 20.515625 \r\n",
       "Q 56.78125 9.90625 50.3125 4.234375 \r\n",
       "Q 43.84375 -1.421875 31.78125 -1.421875 \r\n",
       "Q 19.734375 -1.421875 13.25 4.234375 \r\n",
       "Q 6.78125 9.90625 6.78125 20.515625 \r\n",
       "Q 6.78125 27.484375 10.78125 32.3125 \r\n",
       "Q 14.796875 37.15625 21.921875 38.8125 \r\n",
       "z\r\n",
       "M 18.3125 54.390625 \r\n",
       "Q 18.3125 48.734375 21.84375 45.5625 \r\n",
       "Q 25.390625 42.390625 31.78125 42.390625 \r\n",
       "Q 38.140625 42.390625 41.71875 45.5625 \r\n",
       "Q 45.3125 48.734375 45.3125 54.390625 \r\n",
       "Q 45.3125 60.0625 41.71875 63.234375 \r\n",
       "Q 38.140625 66.40625 31.78125 66.40625 \r\n",
       "Q 25.390625 66.40625 21.84375 63.234375 \r\n",
       "Q 18.3125 60.0625 18.3125 54.390625 \r\n",
       "z\r\n",
       "\" id=\"DejaVuSans-56\"/>\r\n",
       "       </defs>\r\n",
       "       <use xlink:href=\"#DejaVuSans-56\"/>\r\n",
       "      </g>\r\n",
       "     </g>\r\n",
       "    </g>\r\n",
       "    <g id=\"ytick_6\">\r\n",
       "     <g id=\"line2d_16\">\r\n",
       "      <path clip-path=\"url(#pa4e50974ea)\" d=\"M 40.603125 30.546009 \r\n",
       "L 710.203125 30.546009 \r\n",
       "\" style=\"fill:none;stroke:#b0b0b0;stroke-linecap:square;stroke-width:0.8;\"/>\r\n",
       "     </g>\r\n",
       "     <g id=\"line2d_17\">\r\n",
       "      <g>\r\n",
       "       <use style=\"stroke:#000000;stroke-width:0.8;\" x=\"40.603125\" xlink:href=\"#m4af101bc28\" y=\"30.546009\"/>\r\n",
       "      </g>\r\n",
       "     </g>\r\n",
       "     <g id=\"text_12\">\r\n",
       "      <!-- 10 -->\r\n",
       "      <g transform=\"translate(20.878125 34.345228)scale(0.1 -0.1)\">\r\n",
       "       <defs>\r\n",
       "        <path d=\"M 12.40625 8.296875 \r\n",
       "L 28.515625 8.296875 \r\n",
       "L 28.515625 63.921875 \r\n",
       "L 10.984375 60.40625 \r\n",
       "L 10.984375 69.390625 \r\n",
       "L 28.421875 72.90625 \r\n",
       "L 38.28125 72.90625 \r\n",
       "L 38.28125 8.296875 \r\n",
       "L 54.390625 8.296875 \r\n",
       "L 54.390625 0 \r\n",
       "L 12.40625 0 \r\n",
       "z\r\n",
       "\" id=\"DejaVuSans-49\"/>\r\n",
       "       </defs>\r\n",
       "       <use xlink:href=\"#DejaVuSans-49\"/>\r\n",
       "       <use x=\"63.623047\" xlink:href=\"#DejaVuSans-48\"/>\r\n",
       "      </g>\r\n",
       "     </g>\r\n",
       "    </g>\r\n",
       "    <g id=\"text_13\">\r\n",
       "     <!-- % с задолженностями по возврату -->\r\n",
       "     <g transform=\"translate(14.720312 262.832344)rotate(-90)scale(0.1 -0.1)\">\r\n",
       "      <defs>\r\n",
       "       <path d=\"M 77.484375 30.078125 \r\n",
       "Q 74.03125 30.078125 72.125 27.078125 \r\n",
       "Q 70.21875 24.078125 70.21875 18.5 \r\n",
       "Q 70.21875 12.890625 72.09375 9.890625 \r\n",
       "Q 73.96875 6.890625 77.484375 6.890625 \r\n",
       "Q 81 6.890625 82.859375 9.890625 \r\n",
       "Q 84.71875 12.890625 84.71875 18.5 \r\n",
       "Q 84.71875 24.078125 82.828125 27.078125 \r\n",
       "Q 80.953125 30.078125 77.484375 30.078125 \r\n",
       "z\r\n",
       "M 77.484375 38.28125 \r\n",
       "Q 86.578125 38.28125 91.796875 33 \r\n",
       "Q 97.015625 27.734375 97.015625 18.5 \r\n",
       "Q 97.015625 9.28125 91.796875 3.921875 \r\n",
       "Q 86.578125 -1.421875 77.484375 -1.421875 \r\n",
       "Q 68.40625 -1.421875 63.15625 3.921875 \r\n",
       "Q 57.90625 9.28125 57.90625 18.5 \r\n",
       "Q 57.90625 27.6875 63.15625 32.984375 \r\n",
       "Q 68.40625 38.28125 77.484375 38.28125 \r\n",
       "z\r\n",
       "M 32.71875 -1.421875 \r\n",
       "L 21.921875 -1.421875 \r\n",
       "L 67.484375 74.21875 \r\n",
       "L 78.328125 74.21875 \r\n",
       "z\r\n",
       "M 22.703125 74.21875 \r\n",
       "Q 31.78125 74.21875 36.984375 68.921875 \r\n",
       "Q 42.1875 63.625 42.1875 54.390625 \r\n",
       "Q 42.1875 45.171875 36.984375 39.84375 \r\n",
       "Q 31.78125 34.515625 22.703125 34.515625 \r\n",
       "Q 13.625 34.515625 8.421875 39.84375 \r\n",
       "Q 3.21875 45.171875 3.21875 54.390625 \r\n",
       "Q 3.21875 63.625 8.421875 68.921875 \r\n",
       "Q 13.625 74.21875 22.703125 74.21875 \r\n",
       "z\r\n",
       "M 22.703125 66.015625 \r\n",
       "Q 19.1875 66.015625 17.28125 62.984375 \r\n",
       "Q 15.375 59.96875 15.375 54.390625 \r\n",
       "Q 15.375 48.78125 17.28125 45.71875 \r\n",
       "Q 19.1875 42.671875 22.703125 42.671875 \r\n",
       "Q 26.21875 42.671875 28.09375 45.71875 \r\n",
       "Q 29.984375 48.78125 29.984375 54.390625 \r\n",
       "Q 29.984375 59.96875 28.078125 62.984375 \r\n",
       "Q 26.171875 66.015625 22.703125 66.015625 \r\n",
       "z\r\n",
       "\" id=\"DejaVuSans-Bold-37\"/>\r\n",
       "       <path id=\"DejaVuSans-Bold-32\"/>\r\n",
       "       <path d=\"M 8.546875 12.5 \r\n",
       "Q 14.109375 14.359375 16.453125 20.53125 \r\n",
       "Q 18.796875 26.703125 18.796875 44.34375 \r\n",
       "L 18.796875 54.6875 \r\n",
       "L 66.0625 54.6875 \r\n",
       "L 66.0625 12.5 \r\n",
       "L 75.140625 12.5 \r\n",
       "L 75.140625 -13.8125 \r\n",
       "L 62.640625 -13.8125 \r\n",
       "L 62.640625 0 \r\n",
       "L 18.109375 0 \r\n",
       "L 18.109375 -13.8125 \r\n",
       "L 5.609375 -13.8125 \r\n",
       "L 5.609375 12.5 \r\n",
       "z\r\n",
       "M 48.578125 42.1875 \r\n",
       "L 36.28125 42.1875 \r\n",
       "L 36.28125 40.671875 \r\n",
       "Q 36.28125 22.75 32.234375 12.5 \r\n",
       "L 48.578125 12.5 \r\n",
       "z\r\n",
       "\" id=\"DejaVuSans-Bold-1076\"/>\r\n",
       "       <path d=\"M 5.515625 0 \r\n",
       "L 5.515625 12.5 \r\n",
       "Q 14.15625 14.265625 16.109375 19.96875 \r\n",
       "Q 17.578125 24.3125 17.578125 45.75 \r\n",
       "L 17.578125 54.6875 \r\n",
       "L 64.84375 54.6875 \r\n",
       "L 64.84375 0 \r\n",
       "L 47.359375 0 \r\n",
       "L 47.359375 42.1875 \r\n",
       "L 35.0625 42.1875 \r\n",
       "L 35.0625 40.375 \r\n",
       "Q 35.0625 18.953125 31.6875 12.703125 \r\n",
       "Q 24.859375 0 5.515625 0 \r\n",
       "z\r\n",
       "\" id=\"DejaVuSans-Bold-1083\"/>\r\n",
       "       <path d=\"M 1.46875 0 \r\n",
       "L 26.21875 32.46875 \r\n",
       "L 3.375 54.6875 \r\n",
       "L 22.515625 54.6875 \r\n",
       "L 41.015625 36.671875 \r\n",
       "L 41.015625 54.6875 \r\n",
       "L 58.5 54.6875 \r\n",
       "L 58.5 36.671875 \r\n",
       "L 77 54.6875 \r\n",
       "L 96.140625 54.6875 \r\n",
       "L 73.296875 32.46875 \r\n",
       "L 98.046875 0 \r\n",
       "L 79.984375 0 \r\n",
       "L 62.890625 22.359375 \r\n",
       "L 58.5 18.109375 \r\n",
       "L 58.5 0 \r\n",
       "L 41.015625 0 \r\n",
       "L 41.015625 18.109375 \r\n",
       "L 36.625 22.359375 \r\n",
       "L 19.53125 0 \r\n",
       "z\r\n",
       "\" id=\"DejaVuSans-Bold-1078\"/>\r\n",
       "       <path d=\"M 62.984375 27.484375 \r\n",
       "L 62.984375 22.515625 \r\n",
       "L 22.125 22.515625 \r\n",
       "Q 22.75 16.359375 26.5625 13.28125 \r\n",
       "Q 30.375 10.203125 37.203125 10.203125 \r\n",
       "Q 42.71875 10.203125 48.5 11.84375 \r\n",
       "Q 54.296875 13.484375 60.40625 16.796875 \r\n",
       "L 60.40625 3.328125 \r\n",
       "Q 54.203125 0.984375 48 -0.21875 \r\n",
       "Q 41.796875 -1.421875 35.59375 -1.421875 \r\n",
       "Q 20.75 -1.421875 12.515625 6.125 \r\n",
       "Q 4.296875 13.671875 4.296875 27.296875 \r\n",
       "Q 4.296875 40.671875 12.375 48.328125 \r\n",
       "Q 20.453125 56 34.625 56 \r\n",
       "Q 47.515625 56 55.25 48.234375 \r\n",
       "Q 62.984375 40.484375 62.984375 27.484375 \r\n",
       "z\r\n",
       "M 45.015625 33.296875 \r\n",
       "Q 45.015625 38.28125 42.109375 41.328125 \r\n",
       "Q 39.203125 44.390625 34.515625 44.390625 \r\n",
       "Q 29.4375 44.390625 26.265625 41.53125 \r\n",
       "Q 23.09375 38.671875 22.3125 33.296875 \r\n",
       "z\r\n",
       "\" id=\"DejaVuSans-Bold-1077\"/>\r\n",
       "       <path d=\"M 8.40625 54.6875 \r\n",
       "L 25.875 54.6875 \r\n",
       "L 25.875 33.890625 \r\n",
       "L 43.21875 33.890625 \r\n",
       "L 43.21875 54.6875 \r\n",
       "L 60.6875 54.6875 \r\n",
       "L 60.6875 0 \r\n",
       "L 43.21875 0 \r\n",
       "L 43.21875 23.09375 \r\n",
       "L 25.875 23.09375 \r\n",
       "L 25.875 0 \r\n",
       "L 8.40625 0 \r\n",
       "z\r\n",
       "\" id=\"DejaVuSans-Bold-1085\"/>\r\n",
       "       <path d=\"M 23.875 37.40625 \r\n",
       "Q 23.875 33.890625 25.796875 32.328125 \r\n",
       "Q 27.734375 30.765625 32.171875 30.765625 \r\n",
       "L 38.484375 30.765625 \r\n",
       "L 38.484375 44 \r\n",
       "L 32.171875 44 \r\n",
       "Q 27.734375 44 25.796875 42.484375 \r\n",
       "Q 23.875 40.96875 23.875 37.40625 \r\n",
       "z\r\n",
       "M 3.078125 0 \r\n",
       "L 17.390625 23.390625 \r\n",
       "Q 13.234375 25.78125 10.15625 29.953125 \r\n",
       "Q 7.078125 34.125 7.078125 39.3125 \r\n",
       "Q 7.078125 47.078125 12.328125 50.875 \r\n",
       "Q 17.578125 54.6875 29.34375 54.6875 \r\n",
       "L 55.953125 54.6875 \r\n",
       "L 55.953125 0 \r\n",
       "L 38.484375 0 \r\n",
       "L 38.484375 19.96875 \r\n",
       "L 32.328125 19.96875 \r\n",
       "L 20.125 0 \r\n",
       "z\r\n",
       "\" id=\"DejaVuSans-Bold-1103\"/>\r\n",
       "       <path d=\"M 8.40625 54.6875 \r\n",
       "L 28.515625 54.6875 \r\n",
       "L 40.828125 27.34375 \r\n",
       "L 53.125 54.6875 \r\n",
       "L 73.296875 54.6875 \r\n",
       "L 73.296875 0 \r\n",
       "L 55.859375 0 \r\n",
       "L 55.859375 31 \r\n",
       "L 46.625 10.5 \r\n",
       "L 35.15625 10.5 \r\n",
       "L 25.875 31 \r\n",
       "L 25.875 0 \r\n",
       "L 8.40625 0 \r\n",
       "z\r\n",
       "\" id=\"DejaVuSans-Bold-1084\"/>\r\n",
       "       <path d=\"M 61.671875 54.6875 \r\n",
       "L 61.671875 0 \r\n",
       "L 44.1875 0 \r\n",
       "L 44.1875 29.109375 \r\n",
       "L 26.5625 0 \r\n",
       "L 8.40625 0 \r\n",
       "L 8.40625 54.6875 \r\n",
       "L 25.875 54.6875 \r\n",
       "L 25.875 25.59375 \r\n",
       "L 43.5 54.6875 \r\n",
       "z\r\n",
       "\" id=\"DejaVuSans-Bold-1080\"/>\r\n",
       "       <path d=\"M 60.6875 54.6875 \r\n",
       "L 60.6875 0 \r\n",
       "L 43.21875 0 \r\n",
       "L 43.21875 42.1875 \r\n",
       "L 25.875 42.1875 \r\n",
       "L 25.875 0 \r\n",
       "L 8.40625 0 \r\n",
       "L 8.40625 54.6875 \r\n",
       "z\r\n",
       "\" id=\"DejaVuSans-Bold-1087\"/>\r\n",
       "       <path d=\"M 1.21875 54.6875 \r\n",
       "L 18.703125 54.6875 \r\n",
       "L 33.40625 17.578125 \r\n",
       "L 45.90625 54.6875 \r\n",
       "L 63.375 54.6875 \r\n",
       "L 40.375 -5.171875 \r\n",
       "Q 36.921875 -14.3125 32.296875 -17.9375 \r\n",
       "Q 27.6875 -21.578125 20.125 -21.578125 \r\n",
       "L 10.015625 -21.578125 \r\n",
       "L 10.015625 -10.109375 \r\n",
       "L 15.484375 -10.109375 \r\n",
       "Q 19.921875 -10.109375 21.9375 -8.6875 \r\n",
       "Q 23.96875 -7.28125 25.09375 -3.609375 \r\n",
       "L 25.59375 -2.09375 \r\n",
       "z\r\n",
       "\" id=\"DejaVuSans-Bold-1091\"/>\r\n",
       "      </defs>\r\n",
       "      <use xlink:href=\"#DejaVuSans-Bold-37\"/>\r\n",
       "      <use x=\"100.195312\" xlink:href=\"#DejaVuSans-Bold-32\"/>\r\n",
       "      <use x=\"135.009766\" xlink:href=\"#DejaVuSans-Bold-1089\"/>\r\n",
       "      <use x=\"194.287109\" xlink:href=\"#DejaVuSans-Bold-32\"/>\r\n",
       "      <use x=\"229.101562\" xlink:href=\"#DejaVuSans-Bold-1079\"/>\r\n",
       "      <use x=\"287.207031\" xlink:href=\"#DejaVuSans-Bold-1072\"/>\r\n",
       "      <use x=\"354.6875\" xlink:href=\"#DejaVuSans-Bold-1076\"/>\r\n",
       "      <use x=\"435.449219\" xlink:href=\"#DejaVuSans-Bold-1086\"/>\r\n",
       "      <use x=\"504.150391\" xlink:href=\"#DejaVuSans-Bold-1083\"/>\r\n",
       "      <use x=\"577.392578\" xlink:href=\"#DejaVuSans-Bold-1078\"/>\r\n",
       "      <use x=\"676.904297\" xlink:href=\"#DejaVuSans-Bold-1077\"/>\r\n",
       "      <use x=\"744.726562\" xlink:href=\"#DejaVuSans-Bold-1085\"/>\r\n",
       "      <use x=\"813.818359\" xlink:href=\"#DejaVuSans-Bold-1085\"/>\r\n",
       "      <use x=\"882.910156\" xlink:href=\"#DejaVuSans-Bold-1086\"/>\r\n",
       "      <use x=\"951.611328\" xlink:href=\"#DejaVuSans-Bold-1089\"/>\r\n",
       "      <use x=\"1010.888672\" xlink:href=\"#DejaVuSans-Bold-1090\"/>\r\n",
       "      <use x=\"1068.847656\" xlink:href=\"#DejaVuSans-Bold-1103\"/>\r\n",
       "      <use x=\"1133.056641\" xlink:href=\"#DejaVuSans-Bold-1084\"/>\r\n",
       "      <use x=\"1214.794922\" xlink:href=\"#DejaVuSans-Bold-1080\"/>\r\n",
       "      <use x=\"1284.863281\" xlink:href=\"#DejaVuSans-Bold-32\"/>\r\n",
       "      <use x=\"1319.677734\" xlink:href=\"#DejaVuSans-Bold-1087\"/>\r\n",
       "      <use x=\"1388.769531\" xlink:href=\"#DejaVuSans-Bold-1086\"/>\r\n",
       "      <use x=\"1457.470703\" xlink:href=\"#DejaVuSans-Bold-32\"/>\r\n",
       "      <use x=\"1492.285156\" xlink:href=\"#DejaVuSans-Bold-1074\"/>\r\n",
       "      <use x=\"1555.566406\" xlink:href=\"#DejaVuSans-Bold-1086\"/>\r\n",
       "      <use x=\"1624.267578\" xlink:href=\"#DejaVuSans-Bold-1079\"/>\r\n",
       "      <use x=\"1682.373047\" xlink:href=\"#DejaVuSans-Bold-1074\"/>\r\n",
       "      <use x=\"1745.654297\" xlink:href=\"#DejaVuSans-Bold-1088\"/>\r\n",
       "      <use x=\"1817.236328\" xlink:href=\"#DejaVuSans-Bold-1072\"/>\r\n",
       "      <use x=\"1884.716797\" xlink:href=\"#DejaVuSans-Bold-1090\"/>\r\n",
       "      <use x=\"1942.675781\" xlink:href=\"#DejaVuSans-Bold-1091\"/>\r\n",
       "     </g>\r\n",
       "    </g>\r\n",
       "   </g>\r\n",
       "   <g id=\"patch_8\">\r\n",
       "    <path d=\"M 40.603125 301.037813 \r\n",
       "L 40.603125 23.837812 \r\n",
       "\" style=\"fill:none;stroke:#000000;stroke-linecap:square;stroke-linejoin:miter;stroke-width:0.8;\"/>\r\n",
       "   </g>\r\n",
       "   <g id=\"patch_9\">\r\n",
       "    <path d=\"M 710.203125 301.037813 \r\n",
       "L 710.203125 23.837812 \r\n",
       "\" style=\"fill:none;stroke:#000000;stroke-linecap:square;stroke-linejoin:miter;stroke-width:0.8;\"/>\r\n",
       "   </g>\r\n",
       "   <g id=\"patch_10\">\r\n",
       "    <path d=\"M 40.603125 301.037813 \r\n",
       "L 710.203125 301.037813 \r\n",
       "\" style=\"fill:none;stroke:#000000;stroke-linecap:square;stroke-linejoin:miter;stroke-width:0.8;\"/>\r\n",
       "   </g>\r\n",
       "   <g id=\"patch_11\">\r\n",
       "    <path d=\"M 40.603125 23.837812 \r\n",
       "L 710.203125 23.837812 \r\n",
       "\" style=\"fill:none;stroke:#000000;stroke-linecap:square;stroke-linejoin:miter;stroke-width:0.8;\"/>\r\n",
       "   </g>\r\n",
       "   <g id=\"text_14\">\r\n",
       "    <!-- должники и их возраст -->\r\n",
       "    <g transform=\"translate(280.568438 17.837812)scale(0.14 -0.14)\">\r\n",
       "     <defs>\r\n",
       "      <path d=\"M 8.40625 54.6875 \r\n",
       "L 25.875 54.6875 \r\n",
       "L 25.875 36.1875 \r\n",
       "L 45.359375 54.6875 \r\n",
       "L 64.5 54.6875 \r\n",
       "L 41.15625 32.46875 \r\n",
       "L 66.40625 0 \r\n",
       "L 48.34375 0 \r\n",
       "L 30.8125 22.609375 \r\n",
       "L 25.875 17.921875 \r\n",
       "L 25.875 0 \r\n",
       "L 8.40625 0 \r\n",
       "z\r\n",
       "\" id=\"DejaVuSans-Bold-1082\"/>\r\n",
       "      <path d=\"M 22.21875 27.984375 \r\n",
       "L 2.484375 54.6875 \r\n",
       "L 21 54.6875 \r\n",
       "L 32.171875 38.484375 \r\n",
       "L 43.5 54.6875 \r\n",
       "L 62.015625 54.6875 \r\n",
       "L 42.28125 28.078125 \r\n",
       "L 62.984375 0 \r\n",
       "L 44.484375 0 \r\n",
       "L 32.171875 17.28125 \r\n",
       "L 20.015625 0 \r\n",
       "L 1.515625 0 \r\n",
       "z\r\n",
       "\" id=\"DejaVuSans-Bold-1093\"/>\r\n",
       "     </defs>\r\n",
       "     <use xlink:href=\"#DejaVuSans-Bold-1076\"/>\r\n",
       "     <use x=\"80.761719\" xlink:href=\"#DejaVuSans-Bold-1086\"/>\r\n",
       "     <use x=\"149.462891\" xlink:href=\"#DejaVuSans-Bold-1083\"/>\r\n",
       "     <use x=\"222.705078\" xlink:href=\"#DejaVuSans-Bold-1078\"/>\r\n",
       "     <use x=\"322.216797\" xlink:href=\"#DejaVuSans-Bold-1085\"/>\r\n",
       "     <use x=\"391.308594\" xlink:href=\"#DejaVuSans-Bold-1080\"/>\r\n",
       "     <use x=\"461.376953\" xlink:href=\"#DejaVuSans-Bold-1082\"/>\r\n",
       "     <use x=\"529.248047\" xlink:href=\"#DejaVuSans-Bold-1080\"/>\r\n",
       "     <use x=\"599.316406\" xlink:href=\"#DejaVuSans-Bold-32\"/>\r\n",
       "     <use x=\"634.130859\" xlink:href=\"#DejaVuSans-Bold-1080\"/>\r\n",
       "     <use x=\"704.199219\" xlink:href=\"#DejaVuSans-Bold-32\"/>\r\n",
       "     <use x=\"739.013672\" xlink:href=\"#DejaVuSans-Bold-1080\"/>\r\n",
       "     <use x=\"809.082031\" xlink:href=\"#DejaVuSans-Bold-1093\"/>\r\n",
       "     <use x=\"873.583984\" xlink:href=\"#DejaVuSans-Bold-32\"/>\r\n",
       "     <use x=\"908.398438\" xlink:href=\"#DejaVuSans-Bold-1074\"/>\r\n",
       "     <use x=\"971.679688\" xlink:href=\"#DejaVuSans-Bold-1086\"/>\r\n",
       "     <use x=\"1040.380859\" xlink:href=\"#DejaVuSans-Bold-1079\"/>\r\n",
       "     <use x=\"1098.486328\" xlink:href=\"#DejaVuSans-Bold-1088\"/>\r\n",
       "     <use x=\"1170.068359\" xlink:href=\"#DejaVuSans-Bold-1072\"/>\r\n",
       "     <use x=\"1237.548828\" xlink:href=\"#DejaVuSans-Bold-1089\"/>\r\n",
       "     <use x=\"1296.826172\" xlink:href=\"#DejaVuSans-Bold-1090\"/>\r\n",
       "    </g>\r\n",
       "   </g>\r\n",
       "  </g>\r\n",
       " </g>\r\n",
       " <defs>\r\n",
       "  <clipPath id=\"pa4e50974ea\">\r\n",
       "   <rect height=\"277.2\" width=\"669.6\" x=\"40.603125\" y=\"23.837812\"/>\r\n",
       "  </clipPath>\r\n",
       " </defs>\r\n",
       "</svg>\r\n"
      ],
      "text/plain": [
       "<Figure size 1200x500 with 1 Axes>"
      ]
     },
     "metadata": {},
     "output_type": "display_data"
    }
   ],
   "source": [
    "plt.bar(marital_status_and_age['семейное положение'], marital_status_and_age['Процент должников'],\n",
    "        color='#18ab30', linewidth=1.0, edgecolor='k')\n",
    "plt.xlabel('возраст', fontweight='bold')\n",
    "plt.ylabel('% с задолженностями по возврату', fontweight='bold')\n",
    "plt.title('должники и их возраст', fontweight='bold', fontsize=14)\n",
    "plt.grid(axis='y');"
   ]
  },
  {
   "cell_type": "markdown",
   "id": "4b29f2e8",
   "metadata": {},
   "source": [
    "**Вывод:** зависимость между семейным положением и возвратом кредита в срок есть - холостые люди чаще не отдают кредит в срок, они же - самая молодая группа из рассматриваемых. Вдовцы же, наоборот, самые примерные плательщики из рассматриваемых категорий, они же и самая старшая группа из всех. Возраст дисциплинирует :)"
   ]
  },
  {
   "cell_type": "markdown",
   "id": "ecacf4c0",
   "metadata": {
    "deletable": false,
    "id": "dc3f7ee8"
   },
   "source": [
    "----------\n",
    "----------"
   ]
  },
  {
   "cell_type": "markdown",
   "id": "f0ea3da2",
   "metadata": {},
   "source": [
    "**P.S.:** а теперь, как и планировали, снесём столбец *family_status* в отдельный справочник"
   ]
  },
  {
   "cell_type": "code",
   "execution_count": 45,
   "id": "25148e2d",
   "metadata": {},
   "outputs": [],
   "source": [
    "family_status_catalog = data[['family_status', 'family_status_id']].drop_duplicates(keep='first').reset_index(drop=True)\n",
    "data['family_status_id'] = data['family_status_id'].astype('category')"
   ]
  },
  {
   "cell_type": "markdown",
   "id": "b5be0dcb",
   "metadata": {},
   "source": [
    "вот такой справочник получился:"
   ]
  },
  {
   "cell_type": "code",
   "execution_count": 46,
   "id": "a46fd0c6",
   "metadata": {},
   "outputs": [
    {
     "data": {
      "text/html": [
       "<div>\n",
       "<style scoped>\n",
       "    .dataframe tbody tr th:only-of-type {\n",
       "        vertical-align: middle;\n",
       "    }\n",
       "\n",
       "    .dataframe tbody tr th {\n",
       "        vertical-align: top;\n",
       "    }\n",
       "\n",
       "    .dataframe thead th {\n",
       "        text-align: right;\n",
       "    }\n",
       "</style>\n",
       "<table border=\"1\" class=\"dataframe\">\n",
       "  <thead>\n",
       "    <tr style=\"text-align: right;\">\n",
       "      <th></th>\n",
       "      <th>family_status</th>\n",
       "      <th>family_status_id</th>\n",
       "    </tr>\n",
       "  </thead>\n",
       "  <tbody>\n",
       "    <tr>\n",
       "      <th>0</th>\n",
       "      <td>женат / замужем</td>\n",
       "      <td>0</td>\n",
       "    </tr>\n",
       "    <tr>\n",
       "      <th>1</th>\n",
       "      <td>гражданский брак</td>\n",
       "      <td>1</td>\n",
       "    </tr>\n",
       "    <tr>\n",
       "      <th>2</th>\n",
       "      <td>вдовец / вдова</td>\n",
       "      <td>2</td>\n",
       "    </tr>\n",
       "    <tr>\n",
       "      <th>3</th>\n",
       "      <td>в разводе</td>\n",
       "      <td>3</td>\n",
       "    </tr>\n",
       "    <tr>\n",
       "      <th>4</th>\n",
       "      <td>Не женат / не замужем</td>\n",
       "      <td>4</td>\n",
       "    </tr>\n",
       "  </tbody>\n",
       "</table>\n",
       "</div>"
      ],
      "text/plain": [
       "           family_status  family_status_id\n",
       "0        женат / замужем                 0\n",
       "1       гражданский брак                 1\n",
       "2         вдовец / вдова                 2\n",
       "3              в разводе                 3\n",
       "4  Не женат / не замужем                 4"
      ]
     },
     "execution_count": 46,
     "metadata": {},
     "output_type": "execute_result"
    }
   ],
   "source": [
    "family_status_catalog"
   ]
  },
  {
   "cell_type": "markdown",
   "id": "451512cd",
   "metadata": {},
   "source": [
    "удалим колонку *family_status* из основного датафрейма"
   ]
  },
  {
   "cell_type": "code",
   "execution_count": 47,
   "id": "ade6df92",
   "metadata": {},
   "outputs": [],
   "source": [
    "data = data.drop(columns='family_status')"
   ]
  },
  {
   "cell_type": "code",
   "execution_count": 48,
   "id": "80b3f117",
   "metadata": {},
   "outputs": [],
   "source": [
    "# сохранить справочник family_status_catalog в файл\n",
    "#family_status_catalog.to_csv('family_status_catalog.csv', index=False)"
   ]
  },
  {
   "cell_type": "markdown",
   "id": "352a2065",
   "metadata": {
    "deletable": false,
    "id": "1cef7837"
   },
   "source": [
    "----------\n",
    "----------"
   ]
  },
  {
   "cell_type": "markdown",
   "id": "dde9ebbd",
   "metadata": {
    "deletable": false,
    "editable": false,
    "id": "1e8b2fca"
   },
   "source": [
    "#### 3.3 Есть ли зависимость между уровнем дохода и возвратом кредита в срок?"
   ]
  },
  {
   "cell_type": "markdown",
   "id": "b0a0242c",
   "metadata": {},
   "source": [
    "посмотрим на уровни дохода, что там есть, для этого построим сводную таблицу"
   ]
  },
  {
   "cell_type": "code",
   "execution_count": 49,
   "id": "139b5324",
   "metadata": {},
   "outputs": [
    {
     "data": {
      "text/html": [
       "<div>\n",
       "<style scoped>\n",
       "    .dataframe tbody tr th:only-of-type {\n",
       "        vertical-align: middle;\n",
       "    }\n",
       "\n",
       "    .dataframe tbody tr th {\n",
       "        vertical-align: top;\n",
       "    }\n",
       "\n",
       "    .dataframe thead th {\n",
       "        text-align: right;\n",
       "    }\n",
       "</style>\n",
       "<table border=\"1\" class=\"dataframe\">\n",
       "  <thead>\n",
       "    <tr style=\"text-align: right;\">\n",
       "      <th></th>\n",
       "      <th>Уровень дохода</th>\n",
       "      <th>Всего кредитополучателей</th>\n",
       "      <th>Количество должников</th>\n",
       "      <th>Процент должников</th>\n",
       "    </tr>\n",
       "  </thead>\n",
       "  <tbody>\n",
       "    <tr>\n",
       "      <th>0</th>\n",
       "      <td>A</td>\n",
       "      <td>25</td>\n",
       "      <td>2</td>\n",
       "      <td>8.00</td>\n",
       "    </tr>\n",
       "    <tr>\n",
       "      <th>1</th>\n",
       "      <td>B</td>\n",
       "      <td>5014</td>\n",
       "      <td>354</td>\n",
       "      <td>7.06</td>\n",
       "    </tr>\n",
       "    <tr>\n",
       "      <th>2</th>\n",
       "      <td>C</td>\n",
       "      <td>15921</td>\n",
       "      <td>1353</td>\n",
       "      <td>8.50</td>\n",
       "    </tr>\n",
       "    <tr>\n",
       "      <th>3</th>\n",
       "      <td>D</td>\n",
       "      <td>349</td>\n",
       "      <td>21</td>\n",
       "      <td>6.02</td>\n",
       "    </tr>\n",
       "    <tr>\n",
       "      <th>4</th>\n",
       "      <td>E</td>\n",
       "      <td>22</td>\n",
       "      <td>2</td>\n",
       "      <td>9.09</td>\n",
       "    </tr>\n",
       "  </tbody>\n",
       "</table>\n",
       "</div>"
      ],
      "text/plain": [
       "  Уровень дохода  Всего кредитополучателей  Количество должников  \\\n",
       "0              A                        25                     2   \n",
       "1              B                      5014                   354   \n",
       "2              C                     15921                  1353   \n",
       "3              D                       349                    21   \n",
       "4              E                        22                     2   \n",
       "\n",
       "   Процент должников  \n",
       "0               8.00  \n",
       "1               7.06  \n",
       "2               8.50  \n",
       "3               6.02  \n",
       "4               9.09  "
      ]
     },
     "execution_count": 49,
     "metadata": {},
     "output_type": "execute_result"
    }
   ],
   "source": [
    "income_ratio = create_pivot_table(data, ind=['total_income_category'], val='debt', name='Уровень дохода')\n",
    "income_ratio"
   ]
  },
  {
   "cell_type": "markdown",
   "id": "2dae15b7",
   "metadata": {},
   "source": [
    "по сводной таблице видно, что для эффективного анализа подходят только клиенты категорий B и C, так как по остальным категориям данных недостаточно для корректных выводов и мы будем получать большую статпогрешность\n",
    "\n",
    "Визуализируем показатели на графике"
   ]
  },
  {
   "cell_type": "code",
   "execution_count": 50,
   "id": "e0c119aa",
   "metadata": {},
   "outputs": [
    {
     "data": {
      "image/svg+xml": [
       "<?xml version=\"1.0\" encoding=\"utf-8\" standalone=\"no\"?>\r\n",
       "<!DOCTYPE svg PUBLIC \"-//W3C//DTD SVG 1.1//EN\"\r\n",
       "  \"http://www.w3.org/Graphics/SVG/1.1/DTD/svg11.dtd\">\r\n",
       "<!-- Created with matplotlib (https://matplotlib.org/) -->\r\n",
       "<svg height=\"339.05125pt\" version=\"1.1\" viewBox=\"0 0 711.040625 339.05125\" width=\"711.040625pt\" xmlns=\"http://www.w3.org/2000/svg\" xmlns:xlink=\"http://www.w3.org/1999/xlink\">\r\n",
       " <metadata>\r\n",
       "  <rdf:RDF xmlns:cc=\"http://creativecommons.org/ns#\" xmlns:dc=\"http://purl.org/dc/elements/1.1/\" xmlns:rdf=\"http://www.w3.org/1999/02/22-rdf-syntax-ns#\">\r\n",
       "   <cc:Work>\r\n",
       "    <dc:type rdf:resource=\"http://purl.org/dc/dcmitype/StillImage\"/>\r\n",
       "    <dc:date>2023-02-03T06:56:22.549423</dc:date>\r\n",
       "    <dc:format>image/svg+xml</dc:format>\r\n",
       "    <dc:creator>\r\n",
       "     <cc:Agent>\r\n",
       "      <dc:title>Matplotlib v3.3.4, https://matplotlib.org/</dc:title>\r\n",
       "     </cc:Agent>\r\n",
       "    </dc:creator>\r\n",
       "   </cc:Work>\r\n",
       "  </rdf:RDF>\r\n",
       " </metadata>\r\n",
       " <defs>\r\n",
       "  <style type=\"text/css\">*{stroke-linecap:butt;stroke-linejoin:round;}</style>\r\n",
       " </defs>\r\n",
       " <g id=\"figure_1\">\r\n",
       "  <g id=\"patch_1\">\r\n",
       "   <path d=\"M 0 339.05125 \r\n",
       "L 711.040625 339.05125 \r\n",
       "L 711.040625 0 \r\n",
       "L 0 0 \r\n",
       "z\r\n",
       "\" style=\"fill:#ffffff;\"/>\r\n",
       "  </g>\r\n",
       "  <g id=\"axes_1\">\r\n",
       "   <g id=\"patch_2\">\r\n",
       "    <path d=\"M 34.240625 301.495 \r\n",
       "L 703.840625 301.495 \r\n",
       "L 703.840625 24.295 \r\n",
       "L 34.240625 24.295 \r\n",
       "z\r\n",
       "\" style=\"fill:#ffffff;\"/>\r\n",
       "   </g>\r\n",
       "   <g id=\"patch_3\">\r\n",
       "    <path clip-path=\"url(#pf318479900)\" d=\"M 64.676989 301.495 \r\n",
       "L 166.131534 301.495 \r\n",
       "L 166.131534 69.151766 \r\n",
       "L 64.676989 69.151766 \r\n",
       "z\r\n",
       "\" style=\"fill:#18ab30;stroke:#000000;stroke-linejoin:miter;\"/>\r\n",
       "   </g>\r\n",
       "   <g id=\"patch_4\">\r\n",
       "    <path clip-path=\"url(#pf318479900)\" d=\"M 191.49517 301.495 \r\n",
       "L 292.949716 301.495 \r\n",
       "L 292.949716 96.452096 \r\n",
       "L 191.49517 96.452096 \r\n",
       "z\r\n",
       "\" style=\"fill:#18ab30;stroke:#000000;stroke-linejoin:miter;\"/>\r\n",
       "   </g>\r\n",
       "   <g id=\"patch_5\">\r\n",
       "    <path clip-path=\"url(#pf318479900)\" d=\"M 318.313352 301.495 \r\n",
       "L 419.767898 301.495 \r\n",
       "L 419.767898 54.630314 \r\n",
       "L 318.313352 54.630314 \r\n",
       "z\r\n",
       "\" style=\"fill:#18ab30;stroke:#000000;stroke-linejoin:miter;\"/>\r\n",
       "   </g>\r\n",
       "   <g id=\"patch_6\">\r\n",
       "    <path clip-path=\"url(#pf318479900)\" d=\"M 445.131534 301.495 \r\n",
       "L 546.58608 301.495 \r\n",
       "L 546.58608 126.656716 \r\n",
       "L 445.131534 126.656716 \r\n",
       "z\r\n",
       "\" style=\"fill:#18ab30;stroke:#000000;stroke-linejoin:miter;\"/>\r\n",
       "   </g>\r\n",
       "   <g id=\"patch_7\">\r\n",
       "    <path clip-path=\"url(#pf318479900)\" d=\"M 571.949716 301.495 \r\n",
       "L 673.404261 301.495 \r\n",
       "L 673.404261 37.495 \r\n",
       "L 571.949716 37.495 \r\n",
       "z\r\n",
       "\" style=\"fill:#18ab30;stroke:#000000;stroke-linejoin:miter;\"/>\r\n",
       "   </g>\r\n",
       "   <g id=\"matplotlib.axis_1\">\r\n",
       "    <g id=\"xtick_1\">\r\n",
       "     <g id=\"line2d_1\">\r\n",
       "      <defs>\r\n",
       "       <path d=\"M 0 0 \r\n",
       "L 0 3.5 \r\n",
       "\" id=\"m8d4b83c267\" style=\"stroke:#000000;stroke-width:0.8;\"/>\r\n",
       "      </defs>\r\n",
       "      <g>\r\n",
       "       <use style=\"stroke:#000000;stroke-width:0.8;\" x=\"115.404261\" xlink:href=\"#m8d4b83c267\" y=\"301.495\"/>\r\n",
       "      </g>\r\n",
       "     </g>\r\n",
       "     <g id=\"text_1\">\r\n",
       "      <!-- A -->\r\n",
       "      <g transform=\"translate(111.983949 316.093438)scale(0.1 -0.1)\">\r\n",
       "       <defs>\r\n",
       "        <path d=\"M 34.1875 63.1875 \r\n",
       "L 20.796875 26.90625 \r\n",
       "L 47.609375 26.90625 \r\n",
       "z\r\n",
       "M 28.609375 72.90625 \r\n",
       "L 39.796875 72.90625 \r\n",
       "L 67.578125 0 \r\n",
       "L 57.328125 0 \r\n",
       "L 50.6875 18.703125 \r\n",
       "L 17.828125 18.703125 \r\n",
       "L 11.1875 0 \r\n",
       "L 0.78125 0 \r\n",
       "z\r\n",
       "\" id=\"DejaVuSans-65\"/>\r\n",
       "       </defs>\r\n",
       "       <use xlink:href=\"#DejaVuSans-65\"/>\r\n",
       "      </g>\r\n",
       "     </g>\r\n",
       "    </g>\r\n",
       "    <g id=\"xtick_2\">\r\n",
       "     <g id=\"line2d_2\">\r\n",
       "      <g>\r\n",
       "       <use style=\"stroke:#000000;stroke-width:0.8;\" x=\"242.222443\" xlink:href=\"#m8d4b83c267\" y=\"301.495\"/>\r\n",
       "      </g>\r\n",
       "     </g>\r\n",
       "     <g id=\"text_2\">\r\n",
       "      <!-- B -->\r\n",
       "      <g transform=\"translate(238.791974 316.093438)scale(0.1 -0.1)\">\r\n",
       "       <defs>\r\n",
       "        <path d=\"M 19.671875 34.8125 \r\n",
       "L 19.671875 8.109375 \r\n",
       "L 35.5 8.109375 \r\n",
       "Q 43.453125 8.109375 47.28125 11.40625 \r\n",
       "Q 51.125 14.703125 51.125 21.484375 \r\n",
       "Q 51.125 28.328125 47.28125 31.5625 \r\n",
       "Q 43.453125 34.8125 35.5 34.8125 \r\n",
       "z\r\n",
       "M 19.671875 64.796875 \r\n",
       "L 19.671875 42.828125 \r\n",
       "L 34.28125 42.828125 \r\n",
       "Q 41.5 42.828125 45.03125 45.53125 \r\n",
       "Q 48.578125 48.25 48.578125 53.8125 \r\n",
       "Q 48.578125 59.328125 45.03125 62.0625 \r\n",
       "Q 41.5 64.796875 34.28125 64.796875 \r\n",
       "z\r\n",
       "M 9.8125 72.90625 \r\n",
       "L 35.015625 72.90625 \r\n",
       "Q 46.296875 72.90625 52.390625 68.21875 \r\n",
       "Q 58.5 63.53125 58.5 54.890625 \r\n",
       "Q 58.5 48.1875 55.375 44.234375 \r\n",
       "Q 52.25 40.28125 46.1875 39.3125 \r\n",
       "Q 53.46875 37.75 57.5 32.78125 \r\n",
       "Q 61.53125 27.828125 61.53125 20.40625 \r\n",
       "Q 61.53125 10.640625 54.890625 5.3125 \r\n",
       "Q 48.25 0 35.984375 0 \r\n",
       "L 9.8125 0 \r\n",
       "z\r\n",
       "\" id=\"DejaVuSans-66\"/>\r\n",
       "       </defs>\r\n",
       "       <use xlink:href=\"#DejaVuSans-66\"/>\r\n",
       "      </g>\r\n",
       "     </g>\r\n",
       "    </g>\r\n",
       "    <g id=\"xtick_3\">\r\n",
       "     <g id=\"line2d_3\">\r\n",
       "      <g>\r\n",
       "       <use style=\"stroke:#000000;stroke-width:0.8;\" x=\"369.040625\" xlink:href=\"#m8d4b83c267\" y=\"301.495\"/>\r\n",
       "      </g>\r\n",
       "     </g>\r\n",
       "     <g id=\"text_3\">\r\n",
       "      <!-- C -->\r\n",
       "      <g transform=\"translate(365.549219 316.093438)scale(0.1 -0.1)\">\r\n",
       "       <defs>\r\n",
       "        <path d=\"M 64.40625 67.28125 \r\n",
       "L 64.40625 56.890625 \r\n",
       "Q 59.421875 61.53125 53.78125 63.8125 \r\n",
       "Q 48.140625 66.109375 41.796875 66.109375 \r\n",
       "Q 29.296875 66.109375 22.65625 58.46875 \r\n",
       "Q 16.015625 50.828125 16.015625 36.375 \r\n",
       "Q 16.015625 21.96875 22.65625 14.328125 \r\n",
       "Q 29.296875 6.6875 41.796875 6.6875 \r\n",
       "Q 48.140625 6.6875 53.78125 8.984375 \r\n",
       "Q 59.421875 11.28125 64.40625 15.921875 \r\n",
       "L 64.40625 5.609375 \r\n",
       "Q 59.234375 2.09375 53.4375 0.328125 \r\n",
       "Q 47.65625 -1.421875 41.21875 -1.421875 \r\n",
       "Q 24.65625 -1.421875 15.125 8.703125 \r\n",
       "Q 5.609375 18.84375 5.609375 36.375 \r\n",
       "Q 5.609375 53.953125 15.125 64.078125 \r\n",
       "Q 24.65625 74.21875 41.21875 74.21875 \r\n",
       "Q 47.75 74.21875 53.53125 72.484375 \r\n",
       "Q 59.328125 70.75 64.40625 67.28125 \r\n",
       "z\r\n",
       "\" id=\"DejaVuSans-67\"/>\r\n",
       "       </defs>\r\n",
       "       <use xlink:href=\"#DejaVuSans-67\"/>\r\n",
       "      </g>\r\n",
       "     </g>\r\n",
       "    </g>\r\n",
       "    <g id=\"xtick_4\">\r\n",
       "     <g id=\"line2d_4\">\r\n",
       "      <g>\r\n",
       "       <use style=\"stroke:#000000;stroke-width:0.8;\" x=\"495.858807\" xlink:href=\"#m8d4b83c267\" y=\"301.495\"/>\r\n",
       "      </g>\r\n",
       "     </g>\r\n",
       "     <g id=\"text_4\">\r\n",
       "      <!-- D -->\r\n",
       "      <g transform=\"translate(492.008807 316.093438)scale(0.1 -0.1)\">\r\n",
       "       <defs>\r\n",
       "        <path d=\"M 19.671875 64.796875 \r\n",
       "L 19.671875 8.109375 \r\n",
       "L 31.59375 8.109375 \r\n",
       "Q 46.6875 8.109375 53.6875 14.9375 \r\n",
       "Q 60.6875 21.78125 60.6875 36.53125 \r\n",
       "Q 60.6875 51.171875 53.6875 57.984375 \r\n",
       "Q 46.6875 64.796875 31.59375 64.796875 \r\n",
       "z\r\n",
       "M 9.8125 72.90625 \r\n",
       "L 30.078125 72.90625 \r\n",
       "Q 51.265625 72.90625 61.171875 64.09375 \r\n",
       "Q 71.09375 55.28125 71.09375 36.53125 \r\n",
       "Q 71.09375 17.671875 61.125 8.828125 \r\n",
       "Q 51.171875 0 30.078125 0 \r\n",
       "L 9.8125 0 \r\n",
       "z\r\n",
       "\" id=\"DejaVuSans-68\"/>\r\n",
       "       </defs>\r\n",
       "       <use xlink:href=\"#DejaVuSans-68\"/>\r\n",
       "      </g>\r\n",
       "     </g>\r\n",
       "    </g>\r\n",
       "    <g id=\"xtick_5\">\r\n",
       "     <g id=\"line2d_5\">\r\n",
       "      <g>\r\n",
       "       <use style=\"stroke:#000000;stroke-width:0.8;\" x=\"622.676989\" xlink:href=\"#m8d4b83c267\" y=\"301.495\"/>\r\n",
       "      </g>\r\n",
       "     </g>\r\n",
       "     <g id=\"text_5\">\r\n",
       "      <!-- E -->\r\n",
       "      <g transform=\"translate(619.517614 316.093438)scale(0.1 -0.1)\">\r\n",
       "       <defs>\r\n",
       "        <path d=\"M 9.8125 72.90625 \r\n",
       "L 55.90625 72.90625 \r\n",
       "L 55.90625 64.59375 \r\n",
       "L 19.671875 64.59375 \r\n",
       "L 19.671875 43.015625 \r\n",
       "L 54.390625 43.015625 \r\n",
       "L 54.390625 34.71875 \r\n",
       "L 19.671875 34.71875 \r\n",
       "L 19.671875 8.296875 \r\n",
       "L 56.78125 8.296875 \r\n",
       "L 56.78125 0 \r\n",
       "L 9.8125 0 \r\n",
       "z\r\n",
       "\" id=\"DejaVuSans-69\"/>\r\n",
       "       </defs>\r\n",
       "       <use xlink:href=\"#DejaVuSans-69\"/>\r\n",
       "      </g>\r\n",
       "     </g>\r\n",
       "    </g>\r\n",
       "    <g id=\"text_6\">\r\n",
       "     <!-- категория дохода -->\r\n",
       "     <g transform=\"translate(316.357031 329.771563)scale(0.1 -0.1)\">\r\n",
       "      <defs>\r\n",
       "       <path d=\"M 8.40625 54.6875 \r\n",
       "L 25.875 54.6875 \r\n",
       "L 25.875 36.1875 \r\n",
       "L 45.359375 54.6875 \r\n",
       "L 64.5 54.6875 \r\n",
       "L 41.15625 32.46875 \r\n",
       "L 66.40625 0 \r\n",
       "L 48.34375 0 \r\n",
       "L 30.8125 22.609375 \r\n",
       "L 25.875 17.921875 \r\n",
       "L 25.875 0 \r\n",
       "L 8.40625 0 \r\n",
       "z\r\n",
       "\" id=\"DejaVuSans-Bold-1082\"/>\r\n",
       "       <path d=\"M 32.90625 24.609375 \r\n",
       "Q 27.4375 24.609375 24.671875 22.75 \r\n",
       "Q 21.921875 20.90625 21.921875 17.28125 \r\n",
       "Q 21.921875 13.96875 24.140625 12.078125 \r\n",
       "Q 26.375 10.203125 30.328125 10.203125 \r\n",
       "Q 35.25 10.203125 38.625 13.734375 \r\n",
       "Q 42 17.28125 42 22.609375 \r\n",
       "L 42 24.609375 \r\n",
       "z\r\n",
       "M 59.625 31.203125 \r\n",
       "L 59.625 0 \r\n",
       "L 42 0 \r\n",
       "L 42 8.109375 \r\n",
       "Q 38.484375 3.125 34.078125 0.84375 \r\n",
       "Q 29.6875 -1.421875 23.390625 -1.421875 \r\n",
       "Q 14.890625 -1.421875 9.59375 3.53125 \r\n",
       "Q 4.296875 8.5 4.296875 16.40625 \r\n",
       "Q 4.296875 26.03125 10.90625 30.515625 \r\n",
       "Q 17.53125 35.015625 31.6875 35.015625 \r\n",
       "L 42 35.015625 \r\n",
       "L 42 36.375 \r\n",
       "Q 42 40.53125 38.71875 42.453125 \r\n",
       "Q 35.453125 44.390625 28.515625 44.390625 \r\n",
       "Q 22.90625 44.390625 18.0625 43.265625 \r\n",
       "Q 13.234375 42.140625 9.078125 39.890625 \r\n",
       "L 9.078125 53.21875 \r\n",
       "Q 14.703125 54.59375 20.359375 55.296875 \r\n",
       "Q 26.03125 56 31.6875 56 \r\n",
       "Q 46.484375 56 53.046875 50.171875 \r\n",
       "Q 59.625 44.34375 59.625 31.203125 \r\n",
       "z\r\n",
       "\" id=\"DejaVuSans-Bold-1072\"/>\r\n",
       "       <path d=\"M 0.390625 54.6875 \r\n",
       "L 57.515625 54.6875 \r\n",
       "L 57.515625 43.890625 \r\n",
       "L 37.703125 43.890625 \r\n",
       "L 37.703125 0 \r\n",
       "L 20.265625 0 \r\n",
       "L 20.265625 43.890625 \r\n",
       "L 0.390625 43.890625 \r\n",
       "z\r\n",
       "\" id=\"DejaVuSans-Bold-1090\"/>\r\n",
       "       <path d=\"M 62.984375 27.484375 \r\n",
       "L 62.984375 22.515625 \r\n",
       "L 22.125 22.515625 \r\n",
       "Q 22.75 16.359375 26.5625 13.28125 \r\n",
       "Q 30.375 10.203125 37.203125 10.203125 \r\n",
       "Q 42.71875 10.203125 48.5 11.84375 \r\n",
       "Q 54.296875 13.484375 60.40625 16.796875 \r\n",
       "L 60.40625 3.328125 \r\n",
       "Q 54.203125 0.984375 48 -0.21875 \r\n",
       "Q 41.796875 -1.421875 35.59375 -1.421875 \r\n",
       "Q 20.75 -1.421875 12.515625 6.125 \r\n",
       "Q 4.296875 13.671875 4.296875 27.296875 \r\n",
       "Q 4.296875 40.671875 12.375 48.328125 \r\n",
       "Q 20.453125 56 34.625 56 \r\n",
       "Q 47.515625 56 55.25 48.234375 \r\n",
       "Q 62.984375 40.484375 62.984375 27.484375 \r\n",
       "z\r\n",
       "M 45.015625 33.296875 \r\n",
       "Q 45.015625 38.28125 42.109375 41.328125 \r\n",
       "Q 39.203125 44.390625 34.515625 44.390625 \r\n",
       "Q 29.4375 44.390625 26.265625 41.53125 \r\n",
       "Q 23.09375 38.671875 22.3125 33.296875 \r\n",
       "z\r\n",
       "\" id=\"DejaVuSans-Bold-1077\"/>\r\n",
       "       <path d=\"M 8.40625 0 \r\n",
       "L 8.40625 54.6875 \r\n",
       "L 49.859375 54.6875 \r\n",
       "L 49.859375 43.890625 \r\n",
       "L 25.875 43.890625 \r\n",
       "L 25.875 0 \r\n",
       "z\r\n",
       "\" id=\"DejaVuSans-Bold-1075\"/>\r\n",
       "       <path d=\"M 34.421875 43.5 \r\n",
       "Q 28.609375 43.5 25.5625 39.328125 \r\n",
       "Q 22.515625 35.15625 22.515625 27.296875 \r\n",
       "Q 22.515625 19.4375 25.5625 15.25 \r\n",
       "Q 28.609375 11.078125 34.421875 11.078125 \r\n",
       "Q 40.140625 11.078125 43.15625 15.25 \r\n",
       "Q 46.1875 19.4375 46.1875 27.296875 \r\n",
       "Q 46.1875 35.15625 43.15625 39.328125 \r\n",
       "Q 40.140625 43.5 34.421875 43.5 \r\n",
       "z\r\n",
       "M 34.421875 56 \r\n",
       "Q 48.53125 56 56.46875 48.375 \r\n",
       "Q 64.40625 40.765625 64.40625 27.296875 \r\n",
       "Q 64.40625 13.8125 56.46875 6.1875 \r\n",
       "Q 48.53125 -1.421875 34.421875 -1.421875 \r\n",
       "Q 20.265625 -1.421875 12.28125 6.1875 \r\n",
       "Q 4.296875 13.8125 4.296875 27.296875 \r\n",
       "Q 4.296875 40.765625 12.28125 48.375 \r\n",
       "Q 20.265625 56 34.421875 56 \r\n",
       "z\r\n",
       "\" id=\"DejaVuSans-Bold-1086\"/>\r\n",
       "       <path d=\"M 25.875 7.90625 \r\n",
       "L 25.875 -20.796875 \r\n",
       "L 8.40625 -20.796875 \r\n",
       "L 8.40625 54.6875 \r\n",
       "L 25.875 54.6875 \r\n",
       "L 25.875 46.6875 \r\n",
       "Q 29.5 51.46875 33.890625 53.734375 \r\n",
       "Q 38.28125 56 44 56 \r\n",
       "Q 54.109375 56 60.59375 47.96875 \r\n",
       "Q 67.09375 39.9375 67.09375 27.296875 \r\n",
       "Q 67.09375 14.65625 60.59375 6.609375 \r\n",
       "Q 54.109375 -1.421875 44 -1.421875 \r\n",
       "Q 38.28125 -1.421875 33.890625 0.84375 \r\n",
       "Q 29.5 3.125 25.875 7.90625 \r\n",
       "z\r\n",
       "M 37.5 43.3125 \r\n",
       "Q 31.890625 43.3125 28.875 39.1875 \r\n",
       "Q 25.875 35.0625 25.875 27.296875 \r\n",
       "Q 25.875 19.53125 28.875 15.40625 \r\n",
       "Q 31.890625 11.28125 37.5 11.28125 \r\n",
       "Q 43.109375 11.28125 46.0625 15.375 \r\n",
       "Q 49.03125 19.484375 49.03125 27.296875 \r\n",
       "Q 49.03125 35.109375 46.0625 39.203125 \r\n",
       "Q 43.109375 43.3125 37.5 43.3125 \r\n",
       "z\r\n",
       "\" id=\"DejaVuSans-Bold-1088\"/>\r\n",
       "       <path d=\"M 61.671875 54.6875 \r\n",
       "L 61.671875 0 \r\n",
       "L 44.1875 0 \r\n",
       "L 44.1875 29.109375 \r\n",
       "L 26.5625 0 \r\n",
       "L 8.40625 0 \r\n",
       "L 8.40625 54.6875 \r\n",
       "L 25.875 54.6875 \r\n",
       "L 25.875 25.59375 \r\n",
       "L 43.5 54.6875 \r\n",
       "z\r\n",
       "\" id=\"DejaVuSans-Bold-1080\"/>\r\n",
       "       <path d=\"M 23.875 37.40625 \r\n",
       "Q 23.875 33.890625 25.796875 32.328125 \r\n",
       "Q 27.734375 30.765625 32.171875 30.765625 \r\n",
       "L 38.484375 30.765625 \r\n",
       "L 38.484375 44 \r\n",
       "L 32.171875 44 \r\n",
       "Q 27.734375 44 25.796875 42.484375 \r\n",
       "Q 23.875 40.96875 23.875 37.40625 \r\n",
       "z\r\n",
       "M 3.078125 0 \r\n",
       "L 17.390625 23.390625 \r\n",
       "Q 13.234375 25.78125 10.15625 29.953125 \r\n",
       "Q 7.078125 34.125 7.078125 39.3125 \r\n",
       "Q 7.078125 47.078125 12.328125 50.875 \r\n",
       "Q 17.578125 54.6875 29.34375 54.6875 \r\n",
       "L 55.953125 54.6875 \r\n",
       "L 55.953125 0 \r\n",
       "L 38.484375 0 \r\n",
       "L 38.484375 19.96875 \r\n",
       "L 32.328125 19.96875 \r\n",
       "L 20.125 0 \r\n",
       "z\r\n",
       "\" id=\"DejaVuSans-Bold-1103\"/>\r\n",
       "       <path id=\"DejaVuSans-Bold-32\"/>\r\n",
       "       <path d=\"M 8.546875 12.5 \r\n",
       "Q 14.109375 14.359375 16.453125 20.53125 \r\n",
       "Q 18.796875 26.703125 18.796875 44.34375 \r\n",
       "L 18.796875 54.6875 \r\n",
       "L 66.0625 54.6875 \r\n",
       "L 66.0625 12.5 \r\n",
       "L 75.140625 12.5 \r\n",
       "L 75.140625 -13.8125 \r\n",
       "L 62.640625 -13.8125 \r\n",
       "L 62.640625 0 \r\n",
       "L 18.109375 0 \r\n",
       "L 18.109375 -13.8125 \r\n",
       "L 5.609375 -13.8125 \r\n",
       "L 5.609375 12.5 \r\n",
       "z\r\n",
       "M 48.578125 42.1875 \r\n",
       "L 36.28125 42.1875 \r\n",
       "L 36.28125 40.671875 \r\n",
       "Q 36.28125 22.75 32.234375 12.5 \r\n",
       "L 48.578125 12.5 \r\n",
       "z\r\n",
       "\" id=\"DejaVuSans-Bold-1076\"/>\r\n",
       "       <path d=\"M 22.21875 27.984375 \r\n",
       "L 2.484375 54.6875 \r\n",
       "L 21 54.6875 \r\n",
       "L 32.171875 38.484375 \r\n",
       "L 43.5 54.6875 \r\n",
       "L 62.015625 54.6875 \r\n",
       "L 42.28125 28.078125 \r\n",
       "L 62.984375 0 \r\n",
       "L 44.484375 0 \r\n",
       "L 32.171875 17.28125 \r\n",
       "L 20.015625 0 \r\n",
       "L 1.515625 0 \r\n",
       "z\r\n",
       "\" id=\"DejaVuSans-Bold-1093\"/>\r\n",
       "      </defs>\r\n",
       "      <use xlink:href=\"#DejaVuSans-Bold-1082\"/>\r\n",
       "      <use x=\"67.871094\" xlink:href=\"#DejaVuSans-Bold-1072\"/>\r\n",
       "      <use x=\"135.351562\" xlink:href=\"#DejaVuSans-Bold-1090\"/>\r\n",
       "      <use x=\"193.310547\" xlink:href=\"#DejaVuSans-Bold-1077\"/>\r\n",
       "      <use x=\"261.132812\" xlink:href=\"#DejaVuSans-Bold-1075\"/>\r\n",
       "      <use x=\"313.378906\" xlink:href=\"#DejaVuSans-Bold-1086\"/>\r\n",
       "      <use x=\"382.080078\" xlink:href=\"#DejaVuSans-Bold-1088\"/>\r\n",
       "      <use x=\"453.662109\" xlink:href=\"#DejaVuSans-Bold-1080\"/>\r\n",
       "      <use x=\"523.730469\" xlink:href=\"#DejaVuSans-Bold-1103\"/>\r\n",
       "      <use x=\"587.939453\" xlink:href=\"#DejaVuSans-Bold-32\"/>\r\n",
       "      <use x=\"622.753906\" xlink:href=\"#DejaVuSans-Bold-1076\"/>\r\n",
       "      <use x=\"703.515625\" xlink:href=\"#DejaVuSans-Bold-1086\"/>\r\n",
       "      <use x=\"772.216797\" xlink:href=\"#DejaVuSans-Bold-1093\"/>\r\n",
       "      <use x=\"836.71875\" xlink:href=\"#DejaVuSans-Bold-1086\"/>\r\n",
       "      <use x=\"905.419922\" xlink:href=\"#DejaVuSans-Bold-1076\"/>\r\n",
       "      <use x=\"986.181641\" xlink:href=\"#DejaVuSans-Bold-1072\"/>\r\n",
       "     </g>\r\n",
       "    </g>\r\n",
       "   </g>\r\n",
       "   <g id=\"matplotlib.axis_2\">\r\n",
       "    <g id=\"ytick_1\">\r\n",
       "     <g id=\"line2d_6\">\r\n",
       "      <path clip-path=\"url(#pf318479900)\" d=\"M 34.240625 301.495 \r\n",
       "L 703.840625 301.495 \r\n",
       "\" style=\"fill:none;stroke:#b0b0b0;stroke-linecap:square;stroke-width:0.8;\"/>\r\n",
       "     </g>\r\n",
       "     <g id=\"line2d_7\">\r\n",
       "      <defs>\r\n",
       "       <path d=\"M 0 0 \r\n",
       "L -3.5 0 \r\n",
       "\" id=\"m8908035450\" style=\"stroke:#000000;stroke-width:0.8;\"/>\r\n",
       "      </defs>\r\n",
       "      <g>\r\n",
       "       <use style=\"stroke:#000000;stroke-width:0.8;\" x=\"34.240625\" xlink:href=\"#m8908035450\" y=\"301.495\"/>\r\n",
       "      </g>\r\n",
       "     </g>\r\n",
       "     <g id=\"text_7\">\r\n",
       "      <!-- 0 -->\r\n",
       "      <g transform=\"translate(20.878125 305.294219)scale(0.1 -0.1)\">\r\n",
       "       <defs>\r\n",
       "        <path d=\"M 31.78125 66.40625 \r\n",
       "Q 24.171875 66.40625 20.328125 58.90625 \r\n",
       "Q 16.5 51.421875 16.5 36.375 \r\n",
       "Q 16.5 21.390625 20.328125 13.890625 \r\n",
       "Q 24.171875 6.390625 31.78125 6.390625 \r\n",
       "Q 39.453125 6.390625 43.28125 13.890625 \r\n",
       "Q 47.125 21.390625 47.125 36.375 \r\n",
       "Q 47.125 51.421875 43.28125 58.90625 \r\n",
       "Q 39.453125 66.40625 31.78125 66.40625 \r\n",
       "z\r\n",
       "M 31.78125 74.21875 \r\n",
       "Q 44.046875 74.21875 50.515625 64.515625 \r\n",
       "Q 56.984375 54.828125 56.984375 36.375 \r\n",
       "Q 56.984375 17.96875 50.515625 8.265625 \r\n",
       "Q 44.046875 -1.421875 31.78125 -1.421875 \r\n",
       "Q 19.53125 -1.421875 13.0625 8.265625 \r\n",
       "Q 6.59375 17.96875 6.59375 36.375 \r\n",
       "Q 6.59375 54.828125 13.0625 64.515625 \r\n",
       "Q 19.53125 74.21875 31.78125 74.21875 \r\n",
       "z\r\n",
       "\" id=\"DejaVuSans-48\"/>\r\n",
       "       </defs>\r\n",
       "       <use xlink:href=\"#DejaVuSans-48\"/>\r\n",
       "      </g>\r\n",
       "     </g>\r\n",
       "    </g>\r\n",
       "    <g id=\"ytick_2\">\r\n",
       "     <g id=\"line2d_8\">\r\n",
       "      <path clip-path=\"url(#pf318479900)\" d=\"M 34.240625 243.409191 \r\n",
       "L 703.840625 243.409191 \r\n",
       "\" style=\"fill:none;stroke:#b0b0b0;stroke-linecap:square;stroke-width:0.8;\"/>\r\n",
       "     </g>\r\n",
       "     <g id=\"line2d_9\">\r\n",
       "      <g>\r\n",
       "       <use style=\"stroke:#000000;stroke-width:0.8;\" x=\"34.240625\" xlink:href=\"#m8908035450\" y=\"243.409191\"/>\r\n",
       "      </g>\r\n",
       "     </g>\r\n",
       "     <g id=\"text_8\">\r\n",
       "      <!-- 2 -->\r\n",
       "      <g transform=\"translate(20.878125 247.20841)scale(0.1 -0.1)\">\r\n",
       "       <defs>\r\n",
       "        <path d=\"M 19.1875 8.296875 \r\n",
       "L 53.609375 8.296875 \r\n",
       "L 53.609375 0 \r\n",
       "L 7.328125 0 \r\n",
       "L 7.328125 8.296875 \r\n",
       "Q 12.9375 14.109375 22.625 23.890625 \r\n",
       "Q 32.328125 33.6875 34.8125 36.53125 \r\n",
       "Q 39.546875 41.84375 41.421875 45.53125 \r\n",
       "Q 43.3125 49.21875 43.3125 52.78125 \r\n",
       "Q 43.3125 58.59375 39.234375 62.25 \r\n",
       "Q 35.15625 65.921875 28.609375 65.921875 \r\n",
       "Q 23.96875 65.921875 18.8125 64.3125 \r\n",
       "Q 13.671875 62.703125 7.8125 59.421875 \r\n",
       "L 7.8125 69.390625 \r\n",
       "Q 13.765625 71.78125 18.9375 73 \r\n",
       "Q 24.125 74.21875 28.421875 74.21875 \r\n",
       "Q 39.75 74.21875 46.484375 68.546875 \r\n",
       "Q 53.21875 62.890625 53.21875 53.421875 \r\n",
       "Q 53.21875 48.921875 51.53125 44.890625 \r\n",
       "Q 49.859375 40.875 45.40625 35.40625 \r\n",
       "Q 44.1875 33.984375 37.640625 27.21875 \r\n",
       "Q 31.109375 20.453125 19.1875 8.296875 \r\n",
       "z\r\n",
       "\" id=\"DejaVuSans-50\"/>\r\n",
       "       </defs>\r\n",
       "       <use xlink:href=\"#DejaVuSans-50\"/>\r\n",
       "      </g>\r\n",
       "     </g>\r\n",
       "    </g>\r\n",
       "    <g id=\"ytick_3\">\r\n",
       "     <g id=\"line2d_10\">\r\n",
       "      <path clip-path=\"url(#pf318479900)\" d=\"M 34.240625 185.323383 \r\n",
       "L 703.840625 185.323383 \r\n",
       "\" style=\"fill:none;stroke:#b0b0b0;stroke-linecap:square;stroke-width:0.8;\"/>\r\n",
       "     </g>\r\n",
       "     <g id=\"line2d_11\">\r\n",
       "      <g>\r\n",
       "       <use style=\"stroke:#000000;stroke-width:0.8;\" x=\"34.240625\" xlink:href=\"#m8908035450\" y=\"185.323383\"/>\r\n",
       "      </g>\r\n",
       "     </g>\r\n",
       "     <g id=\"text_9\">\r\n",
       "      <!-- 4 -->\r\n",
       "      <g transform=\"translate(20.878125 189.122602)scale(0.1 -0.1)\">\r\n",
       "       <defs>\r\n",
       "        <path d=\"M 37.796875 64.3125 \r\n",
       "L 12.890625 25.390625 \r\n",
       "L 37.796875 25.390625 \r\n",
       "z\r\n",
       "M 35.203125 72.90625 \r\n",
       "L 47.609375 72.90625 \r\n",
       "L 47.609375 25.390625 \r\n",
       "L 58.015625 25.390625 \r\n",
       "L 58.015625 17.1875 \r\n",
       "L 47.609375 17.1875 \r\n",
       "L 47.609375 0 \r\n",
       "L 37.796875 0 \r\n",
       "L 37.796875 17.1875 \r\n",
       "L 4.890625 17.1875 \r\n",
       "L 4.890625 26.703125 \r\n",
       "z\r\n",
       "\" id=\"DejaVuSans-52\"/>\r\n",
       "       </defs>\r\n",
       "       <use xlink:href=\"#DejaVuSans-52\"/>\r\n",
       "      </g>\r\n",
       "     </g>\r\n",
       "    </g>\r\n",
       "    <g id=\"ytick_4\">\r\n",
       "     <g id=\"line2d_12\">\r\n",
       "      <path clip-path=\"url(#pf318479900)\" d=\"M 34.240625 127.237574 \r\n",
       "L 703.840625 127.237574 \r\n",
       "\" style=\"fill:none;stroke:#b0b0b0;stroke-linecap:square;stroke-width:0.8;\"/>\r\n",
       "     </g>\r\n",
       "     <g id=\"line2d_13\">\r\n",
       "      <g>\r\n",
       "       <use style=\"stroke:#000000;stroke-width:0.8;\" x=\"34.240625\" xlink:href=\"#m8908035450\" y=\"127.237574\"/>\r\n",
       "      </g>\r\n",
       "     </g>\r\n",
       "     <g id=\"text_10\">\r\n",
       "      <!-- 6 -->\r\n",
       "      <g transform=\"translate(20.878125 131.036793)scale(0.1 -0.1)\">\r\n",
       "       <defs>\r\n",
       "        <path d=\"M 33.015625 40.375 \r\n",
       "Q 26.375 40.375 22.484375 35.828125 \r\n",
       "Q 18.609375 31.296875 18.609375 23.390625 \r\n",
       "Q 18.609375 15.53125 22.484375 10.953125 \r\n",
       "Q 26.375 6.390625 33.015625 6.390625 \r\n",
       "Q 39.65625 6.390625 43.53125 10.953125 \r\n",
       "Q 47.40625 15.53125 47.40625 23.390625 \r\n",
       "Q 47.40625 31.296875 43.53125 35.828125 \r\n",
       "Q 39.65625 40.375 33.015625 40.375 \r\n",
       "z\r\n",
       "M 52.59375 71.296875 \r\n",
       "L 52.59375 62.3125 \r\n",
       "Q 48.875 64.0625 45.09375 64.984375 \r\n",
       "Q 41.3125 65.921875 37.59375 65.921875 \r\n",
       "Q 27.828125 65.921875 22.671875 59.328125 \r\n",
       "Q 17.53125 52.734375 16.796875 39.40625 \r\n",
       "Q 19.671875 43.65625 24.015625 45.921875 \r\n",
       "Q 28.375 48.1875 33.59375 48.1875 \r\n",
       "Q 44.578125 48.1875 50.953125 41.515625 \r\n",
       "Q 57.328125 34.859375 57.328125 23.390625 \r\n",
       "Q 57.328125 12.15625 50.6875 5.359375 \r\n",
       "Q 44.046875 -1.421875 33.015625 -1.421875 \r\n",
       "Q 20.359375 -1.421875 13.671875 8.265625 \r\n",
       "Q 6.984375 17.96875 6.984375 36.375 \r\n",
       "Q 6.984375 53.65625 15.1875 63.9375 \r\n",
       "Q 23.390625 74.21875 37.203125 74.21875 \r\n",
       "Q 40.921875 74.21875 44.703125 73.484375 \r\n",
       "Q 48.484375 72.75 52.59375 71.296875 \r\n",
       "z\r\n",
       "\" id=\"DejaVuSans-54\"/>\r\n",
       "       </defs>\r\n",
       "       <use xlink:href=\"#DejaVuSans-54\"/>\r\n",
       "      </g>\r\n",
       "     </g>\r\n",
       "    </g>\r\n",
       "    <g id=\"ytick_5\">\r\n",
       "     <g id=\"line2d_14\">\r\n",
       "      <path clip-path=\"url(#pf318479900)\" d=\"M 34.240625 69.151766 \r\n",
       "L 703.840625 69.151766 \r\n",
       "\" style=\"fill:none;stroke:#b0b0b0;stroke-linecap:square;stroke-width:0.8;\"/>\r\n",
       "     </g>\r\n",
       "     <g id=\"line2d_15\">\r\n",
       "      <g>\r\n",
       "       <use style=\"stroke:#000000;stroke-width:0.8;\" x=\"34.240625\" xlink:href=\"#m8908035450\" y=\"69.151766\"/>\r\n",
       "      </g>\r\n",
       "     </g>\r\n",
       "     <g id=\"text_11\">\r\n",
       "      <!-- 8 -->\r\n",
       "      <g transform=\"translate(20.878125 72.950984)scale(0.1 -0.1)\">\r\n",
       "       <defs>\r\n",
       "        <path d=\"M 31.78125 34.625 \r\n",
       "Q 24.75 34.625 20.71875 30.859375 \r\n",
       "Q 16.703125 27.09375 16.703125 20.515625 \r\n",
       "Q 16.703125 13.921875 20.71875 10.15625 \r\n",
       "Q 24.75 6.390625 31.78125 6.390625 \r\n",
       "Q 38.8125 6.390625 42.859375 10.171875 \r\n",
       "Q 46.921875 13.96875 46.921875 20.515625 \r\n",
       "Q 46.921875 27.09375 42.890625 30.859375 \r\n",
       "Q 38.875 34.625 31.78125 34.625 \r\n",
       "z\r\n",
       "M 21.921875 38.8125 \r\n",
       "Q 15.578125 40.375 12.03125 44.71875 \r\n",
       "Q 8.5 49.078125 8.5 55.328125 \r\n",
       "Q 8.5 64.0625 14.71875 69.140625 \r\n",
       "Q 20.953125 74.21875 31.78125 74.21875 \r\n",
       "Q 42.671875 74.21875 48.875 69.140625 \r\n",
       "Q 55.078125 64.0625 55.078125 55.328125 \r\n",
       "Q 55.078125 49.078125 51.53125 44.71875 \r\n",
       "Q 48 40.375 41.703125 38.8125 \r\n",
       "Q 48.828125 37.15625 52.796875 32.3125 \r\n",
       "Q 56.78125 27.484375 56.78125 20.515625 \r\n",
       "Q 56.78125 9.90625 50.3125 4.234375 \r\n",
       "Q 43.84375 -1.421875 31.78125 -1.421875 \r\n",
       "Q 19.734375 -1.421875 13.25 4.234375 \r\n",
       "Q 6.78125 9.90625 6.78125 20.515625 \r\n",
       "Q 6.78125 27.484375 10.78125 32.3125 \r\n",
       "Q 14.796875 37.15625 21.921875 38.8125 \r\n",
       "z\r\n",
       "M 18.3125 54.390625 \r\n",
       "Q 18.3125 48.734375 21.84375 45.5625 \r\n",
       "Q 25.390625 42.390625 31.78125 42.390625 \r\n",
       "Q 38.140625 42.390625 41.71875 45.5625 \r\n",
       "Q 45.3125 48.734375 45.3125 54.390625 \r\n",
       "Q 45.3125 60.0625 41.71875 63.234375 \r\n",
       "Q 38.140625 66.40625 31.78125 66.40625 \r\n",
       "Q 25.390625 66.40625 21.84375 63.234375 \r\n",
       "Q 18.3125 60.0625 18.3125 54.390625 \r\n",
       "z\r\n",
       "\" id=\"DejaVuSans-56\"/>\r\n",
       "       </defs>\r\n",
       "       <use xlink:href=\"#DejaVuSans-56\"/>\r\n",
       "      </g>\r\n",
       "     </g>\r\n",
       "    </g>\r\n",
       "    <g id=\"text_12\">\r\n",
       "     <!-- % с задолженностями по возврату -->\r\n",
       "     <g transform=\"translate(14.720313 263.289531)rotate(-90)scale(0.1 -0.1)\">\r\n",
       "      <defs>\r\n",
       "       <path d=\"M 77.484375 30.078125 \r\n",
       "Q 74.03125 30.078125 72.125 27.078125 \r\n",
       "Q 70.21875 24.078125 70.21875 18.5 \r\n",
       "Q 70.21875 12.890625 72.09375 9.890625 \r\n",
       "Q 73.96875 6.890625 77.484375 6.890625 \r\n",
       "Q 81 6.890625 82.859375 9.890625 \r\n",
       "Q 84.71875 12.890625 84.71875 18.5 \r\n",
       "Q 84.71875 24.078125 82.828125 27.078125 \r\n",
       "Q 80.953125 30.078125 77.484375 30.078125 \r\n",
       "z\r\n",
       "M 77.484375 38.28125 \r\n",
       "Q 86.578125 38.28125 91.796875 33 \r\n",
       "Q 97.015625 27.734375 97.015625 18.5 \r\n",
       "Q 97.015625 9.28125 91.796875 3.921875 \r\n",
       "Q 86.578125 -1.421875 77.484375 -1.421875 \r\n",
       "Q 68.40625 -1.421875 63.15625 3.921875 \r\n",
       "Q 57.90625 9.28125 57.90625 18.5 \r\n",
       "Q 57.90625 27.6875 63.15625 32.984375 \r\n",
       "Q 68.40625 38.28125 77.484375 38.28125 \r\n",
       "z\r\n",
       "M 32.71875 -1.421875 \r\n",
       "L 21.921875 -1.421875 \r\n",
       "L 67.484375 74.21875 \r\n",
       "L 78.328125 74.21875 \r\n",
       "z\r\n",
       "M 22.703125 74.21875 \r\n",
       "Q 31.78125 74.21875 36.984375 68.921875 \r\n",
       "Q 42.1875 63.625 42.1875 54.390625 \r\n",
       "Q 42.1875 45.171875 36.984375 39.84375 \r\n",
       "Q 31.78125 34.515625 22.703125 34.515625 \r\n",
       "Q 13.625 34.515625 8.421875 39.84375 \r\n",
       "Q 3.21875 45.171875 3.21875 54.390625 \r\n",
       "Q 3.21875 63.625 8.421875 68.921875 \r\n",
       "Q 13.625 74.21875 22.703125 74.21875 \r\n",
       "z\r\n",
       "M 22.703125 66.015625 \r\n",
       "Q 19.1875 66.015625 17.28125 62.984375 \r\n",
       "Q 15.375 59.96875 15.375 54.390625 \r\n",
       "Q 15.375 48.78125 17.28125 45.71875 \r\n",
       "Q 19.1875 42.671875 22.703125 42.671875 \r\n",
       "Q 26.21875 42.671875 28.09375 45.71875 \r\n",
       "Q 29.984375 48.78125 29.984375 54.390625 \r\n",
       "Q 29.984375 59.96875 28.078125 62.984375 \r\n",
       "Q 26.171875 66.015625 22.703125 66.015625 \r\n",
       "z\r\n",
       "\" id=\"DejaVuSans-Bold-37\"/>\r\n",
       "       <path d=\"M 52.59375 52.984375 \r\n",
       "L 52.59375 38.71875 \r\n",
       "Q 49.03125 41.15625 45.4375 42.328125 \r\n",
       "Q 41.84375 43.5 37.984375 43.5 \r\n",
       "Q 30.671875 43.5 26.59375 39.234375 \r\n",
       "Q 22.515625 34.96875 22.515625 27.296875 \r\n",
       "Q 22.515625 19.625 26.59375 15.34375 \r\n",
       "Q 30.671875 11.078125 37.984375 11.078125 \r\n",
       "Q 42.09375 11.078125 45.78125 12.296875 \r\n",
       "Q 49.46875 13.53125 52.59375 15.921875 \r\n",
       "L 52.59375 1.609375 \r\n",
       "Q 48.484375 0.09375 44.265625 -0.65625 \r\n",
       "Q 40.046875 -1.421875 35.796875 -1.421875 \r\n",
       "Q 21 -1.421875 12.640625 6.171875 \r\n",
       "Q 4.296875 13.765625 4.296875 27.296875 \r\n",
       "Q 4.296875 40.828125 12.640625 48.40625 \r\n",
       "Q 21 56 35.796875 56 \r\n",
       "Q 40.09375 56 44.265625 55.25 \r\n",
       "Q 48.4375 54.5 52.59375 52.984375 \r\n",
       "z\r\n",
       "\" id=\"DejaVuSans-Bold-1089\"/>\r\n",
       "       <path d=\"M 14.0625 34.078125 \r\n",
       "L 22.078125 34.078125 \r\n",
       "Q 29.25 34.078125 31.859375 35.640625 \r\n",
       "Q 34.46875 37.203125 34.46875 39.359375 \r\n",
       "Q 34.46875 44.390625 22.953125 44.390625 \r\n",
       "Q 13.328125 44.390625 7.375 41.015625 \r\n",
       "L 7.375 53.65625 \r\n",
       "Q 16.265625 56 26.765625 56 \r\n",
       "Q 39.0625 56 44.71875 52.515625 \r\n",
       "Q 50.390625 49.03125 50.390625 41.65625 \r\n",
       "Q 50.390625 31.984375 39.703125 29.5 \r\n",
       "Q 51.765625 26.515625 51.765625 15.53125 \r\n",
       "Q 51.765625 7.078125 45.125 2.828125 \r\n",
       "Q 38.484375 -1.421875 24.265625 -1.421875 \r\n",
       "Q 13.671875 -1.421875 4.890625 1.3125 \r\n",
       "L 4.890625 14.796875 \r\n",
       "Q 15.828125 10.203125 22.3125 10.203125 \r\n",
       "Q 29.4375 10.203125 32.640625 12.125 \r\n",
       "Q 35.84375 14.0625 35.84375 16.5 \r\n",
       "Q 35.84375 23.296875 21.78125 23.296875 \r\n",
       "L 14.0625 23.296875 \r\n",
       "z\r\n",
       "\" id=\"DejaVuSans-Bold-1079\"/>\r\n",
       "       <path d=\"M 5.515625 0 \r\n",
       "L 5.515625 12.5 \r\n",
       "Q 14.15625 14.265625 16.109375 19.96875 \r\n",
       "Q 17.578125 24.3125 17.578125 45.75 \r\n",
       "L 17.578125 54.6875 \r\n",
       "L 64.84375 54.6875 \r\n",
       "L 64.84375 0 \r\n",
       "L 47.359375 0 \r\n",
       "L 47.359375 42.1875 \r\n",
       "L 35.0625 42.1875 \r\n",
       "L 35.0625 40.375 \r\n",
       "Q 35.0625 18.953125 31.6875 12.703125 \r\n",
       "Q 24.859375 0 5.515625 0 \r\n",
       "z\r\n",
       "\" id=\"DejaVuSans-Bold-1083\"/>\r\n",
       "       <path d=\"M 1.46875 0 \r\n",
       "L 26.21875 32.46875 \r\n",
       "L 3.375 54.6875 \r\n",
       "L 22.515625 54.6875 \r\n",
       "L 41.015625 36.671875 \r\n",
       "L 41.015625 54.6875 \r\n",
       "L 58.5 54.6875 \r\n",
       "L 58.5 36.671875 \r\n",
       "L 77 54.6875 \r\n",
       "L 96.140625 54.6875 \r\n",
       "L 73.296875 32.46875 \r\n",
       "L 98.046875 0 \r\n",
       "L 79.984375 0 \r\n",
       "L 62.890625 22.359375 \r\n",
       "L 58.5 18.109375 \r\n",
       "L 58.5 0 \r\n",
       "L 41.015625 0 \r\n",
       "L 41.015625 18.109375 \r\n",
       "L 36.625 22.359375 \r\n",
       "L 19.53125 0 \r\n",
       "z\r\n",
       "\" id=\"DejaVuSans-Bold-1078\"/>\r\n",
       "       <path d=\"M 8.40625 54.6875 \r\n",
       "L 25.875 54.6875 \r\n",
       "L 25.875 33.890625 \r\n",
       "L 43.21875 33.890625 \r\n",
       "L 43.21875 54.6875 \r\n",
       "L 60.6875 54.6875 \r\n",
       "L 60.6875 0 \r\n",
       "L 43.21875 0 \r\n",
       "L 43.21875 23.09375 \r\n",
       "L 25.875 23.09375 \r\n",
       "L 25.875 0 \r\n",
       "L 8.40625 0 \r\n",
       "z\r\n",
       "\" id=\"DejaVuSans-Bold-1085\"/>\r\n",
       "       <path d=\"M 8.40625 54.6875 \r\n",
       "L 28.515625 54.6875 \r\n",
       "L 40.828125 27.34375 \r\n",
       "L 53.125 54.6875 \r\n",
       "L 73.296875 54.6875 \r\n",
       "L 73.296875 0 \r\n",
       "L 55.859375 0 \r\n",
       "L 55.859375 31 \r\n",
       "L 46.625 10.5 \r\n",
       "L 35.15625 10.5 \r\n",
       "L 25.875 31 \r\n",
       "L 25.875 0 \r\n",
       "L 8.40625 0 \r\n",
       "z\r\n",
       "\" id=\"DejaVuSans-Bold-1084\"/>\r\n",
       "       <path d=\"M 60.6875 54.6875 \r\n",
       "L 60.6875 0 \r\n",
       "L 43.21875 0 \r\n",
       "L 43.21875 42.1875 \r\n",
       "L 25.875 42.1875 \r\n",
       "L 25.875 0 \r\n",
       "L 8.40625 0 \r\n",
       "L 8.40625 54.6875 \r\n",
       "z\r\n",
       "\" id=\"DejaVuSans-Bold-1087\"/>\r\n",
       "       <path d=\"M 34.125 34.078125 \r\n",
       "Q 37.15625 34.078125 38.71875 35.328125 \r\n",
       "Q 40.28125 36.578125 40.28125 39.015625 \r\n",
       "Q 40.28125 41.453125 38.71875 42.671875 \r\n",
       "Q 37.15625 43.890625 34.125 43.890625 \r\n",
       "L 25.875 43.890625 \r\n",
       "L 25.875 34.078125 \r\n",
       "z\r\n",
       "M 34.71875 10.9375 \r\n",
       "Q 38.578125 10.9375 40.53125 12.46875 \r\n",
       "Q 42.484375 14.015625 42.484375 17.09375 \r\n",
       "Q 42.484375 20.125 40.53125 21.625 \r\n",
       "Q 38.578125 23.140625 34.71875 23.140625 \r\n",
       "L 25.875 23.140625 \r\n",
       "L 25.875 10.9375 \r\n",
       "z\r\n",
       "M 8.40625 54.6875 \r\n",
       "L 33.453125 54.6875 \r\n",
       "Q 45.609375 54.6875 51.046875 51.234375 \r\n",
       "Q 56.5 47.796875 56.5 40.234375 \r\n",
       "Q 56.5 36.234375 54.484375 33.421875 \r\n",
       "Q 52.484375 30.609375 48.734375 29.25 \r\n",
       "Q 53.5625 27.9375 56.21875 24.390625 \r\n",
       "Q 58.890625 20.84375 58.890625 15.671875 \r\n",
       "Q 58.890625 7.765625 53.171875 3.875 \r\n",
       "Q 47.46875 0 35.84375 0 \r\n",
       "L 8.40625 0 \r\n",
       "z\r\n",
       "\" id=\"DejaVuSans-Bold-1074\"/>\r\n",
       "       <path d=\"M 1.21875 54.6875 \r\n",
       "L 18.703125 54.6875 \r\n",
       "L 33.40625 17.578125 \r\n",
       "L 45.90625 54.6875 \r\n",
       "L 63.375 54.6875 \r\n",
       "L 40.375 -5.171875 \r\n",
       "Q 36.921875 -14.3125 32.296875 -17.9375 \r\n",
       "Q 27.6875 -21.578125 20.125 -21.578125 \r\n",
       "L 10.015625 -21.578125 \r\n",
       "L 10.015625 -10.109375 \r\n",
       "L 15.484375 -10.109375 \r\n",
       "Q 19.921875 -10.109375 21.9375 -8.6875 \r\n",
       "Q 23.96875 -7.28125 25.09375 -3.609375 \r\n",
       "L 25.59375 -2.09375 \r\n",
       "z\r\n",
       "\" id=\"DejaVuSans-Bold-1091\"/>\r\n",
       "      </defs>\r\n",
       "      <use xlink:href=\"#DejaVuSans-Bold-37\"/>\r\n",
       "      <use x=\"100.195312\" xlink:href=\"#DejaVuSans-Bold-32\"/>\r\n",
       "      <use x=\"135.009766\" xlink:href=\"#DejaVuSans-Bold-1089\"/>\r\n",
       "      <use x=\"194.287109\" xlink:href=\"#DejaVuSans-Bold-32\"/>\r\n",
       "      <use x=\"229.101562\" xlink:href=\"#DejaVuSans-Bold-1079\"/>\r\n",
       "      <use x=\"287.207031\" xlink:href=\"#DejaVuSans-Bold-1072\"/>\r\n",
       "      <use x=\"354.6875\" xlink:href=\"#DejaVuSans-Bold-1076\"/>\r\n",
       "      <use x=\"435.449219\" xlink:href=\"#DejaVuSans-Bold-1086\"/>\r\n",
       "      <use x=\"504.150391\" xlink:href=\"#DejaVuSans-Bold-1083\"/>\r\n",
       "      <use x=\"577.392578\" xlink:href=\"#DejaVuSans-Bold-1078\"/>\r\n",
       "      <use x=\"676.904297\" xlink:href=\"#DejaVuSans-Bold-1077\"/>\r\n",
       "      <use x=\"744.726562\" xlink:href=\"#DejaVuSans-Bold-1085\"/>\r\n",
       "      <use x=\"813.818359\" xlink:href=\"#DejaVuSans-Bold-1085\"/>\r\n",
       "      <use x=\"882.910156\" xlink:href=\"#DejaVuSans-Bold-1086\"/>\r\n",
       "      <use x=\"951.611328\" xlink:href=\"#DejaVuSans-Bold-1089\"/>\r\n",
       "      <use x=\"1010.888672\" xlink:href=\"#DejaVuSans-Bold-1090\"/>\r\n",
       "      <use x=\"1068.847656\" xlink:href=\"#DejaVuSans-Bold-1103\"/>\r\n",
       "      <use x=\"1133.056641\" xlink:href=\"#DejaVuSans-Bold-1084\"/>\r\n",
       "      <use x=\"1214.794922\" xlink:href=\"#DejaVuSans-Bold-1080\"/>\r\n",
       "      <use x=\"1284.863281\" xlink:href=\"#DejaVuSans-Bold-32\"/>\r\n",
       "      <use x=\"1319.677734\" xlink:href=\"#DejaVuSans-Bold-1087\"/>\r\n",
       "      <use x=\"1388.769531\" xlink:href=\"#DejaVuSans-Bold-1086\"/>\r\n",
       "      <use x=\"1457.470703\" xlink:href=\"#DejaVuSans-Bold-32\"/>\r\n",
       "      <use x=\"1492.285156\" xlink:href=\"#DejaVuSans-Bold-1074\"/>\r\n",
       "      <use x=\"1555.566406\" xlink:href=\"#DejaVuSans-Bold-1086\"/>\r\n",
       "      <use x=\"1624.267578\" xlink:href=\"#DejaVuSans-Bold-1079\"/>\r\n",
       "      <use x=\"1682.373047\" xlink:href=\"#DejaVuSans-Bold-1074\"/>\r\n",
       "      <use x=\"1745.654297\" xlink:href=\"#DejaVuSans-Bold-1088\"/>\r\n",
       "      <use x=\"1817.236328\" xlink:href=\"#DejaVuSans-Bold-1072\"/>\r\n",
       "      <use x=\"1884.716797\" xlink:href=\"#DejaVuSans-Bold-1090\"/>\r\n",
       "      <use x=\"1942.675781\" xlink:href=\"#DejaVuSans-Bold-1091\"/>\r\n",
       "     </g>\r\n",
       "    </g>\r\n",
       "   </g>\r\n",
       "   <g id=\"patch_8\">\r\n",
       "    <path d=\"M 34.240625 301.495 \r\n",
       "L 34.240625 24.295 \r\n",
       "\" style=\"fill:none;stroke:#000000;stroke-linecap:square;stroke-linejoin:miter;stroke-width:0.8;\"/>\r\n",
       "   </g>\r\n",
       "   <g id=\"patch_9\">\r\n",
       "    <path d=\"M 703.840625 301.495 \r\n",
       "L 703.840625 24.295 \r\n",
       "\" style=\"fill:none;stroke:#000000;stroke-linecap:square;stroke-linejoin:miter;stroke-width:0.8;\"/>\r\n",
       "   </g>\r\n",
       "   <g id=\"patch_10\">\r\n",
       "    <path d=\"M 34.240625 301.495 \r\n",
       "L 703.840625 301.495 \r\n",
       "\" style=\"fill:none;stroke:#000000;stroke-linecap:square;stroke-linejoin:miter;stroke-width:0.8;\"/>\r\n",
       "   </g>\r\n",
       "   <g id=\"patch_11\">\r\n",
       "    <path d=\"M 34.240625 24.295 \r\n",
       "L 703.840625 24.295 \r\n",
       "\" style=\"fill:none;stroke:#000000;stroke-linecap:square;stroke-linejoin:miter;stroke-width:0.8;\"/>\r\n",
       "   </g>\r\n",
       "   <g id=\"text_13\">\r\n",
       "    <!-- категории дохода и % проблемных клиентов в них -->\r\n",
       "    <g transform=\"translate(161.161406 18.295)scale(0.14 -0.14)\">\r\n",
       "     <defs>\r\n",
       "      <path d=\"M 5.375 30.328125 \r\n",
       "L 5.03125 38.484375 \r\n",
       "Q 4.296875 41.75 4.296875 45.015625 \r\n",
       "Q 4.296875 54.59375 7.125 60.84375 \r\n",
       "Q 12.359375 72.359375 19.34375 74.703125 \r\n",
       "Q 25.09375 76.703125 49.078125 78.609375 \r\n",
       "Q 51.515625 78.8125 54.296875 79.25 \r\n",
       "L 58.203125 68.40625 \r\n",
       "Q 54.5 67.4375 35.453125 65.765625 \r\n",
       "Q 27.09375 65.046875 23.6875 62.703125 \r\n",
       "Q 18.015625 58.84375 17.578125 51.5625 \r\n",
       "Q 24.75 56 35.546875 56 \r\n",
       "Q 49.65625 56 57.59375 48.375 \r\n",
       "Q 65.53125 40.765625 65.53125 27.296875 \r\n",
       "Q 65.53125 13.8125 57.609375 6.1875 \r\n",
       "Q 49.703125 -1.421875 35.546875 -1.421875 \r\n",
       "Q 21.390625 -1.421875 13.40625 6.1875 \r\n",
       "Q 5.421875 13.8125 5.421875 27.296875 \r\n",
       "Q 5.421875 29.15625 5.375 30.328125 \r\n",
       "z\r\n",
       "M 35.5 43.5 \r\n",
       "Q 29.734375 43.5 26.6875 39.328125 \r\n",
       "Q 23.640625 35.15625 23.640625 27.296875 \r\n",
       "Q 23.640625 19.4375 26.6875 15.25 \r\n",
       "Q 29.734375 11.078125 35.5 11.078125 \r\n",
       "Q 41.265625 11.078125 44.28125 15.25 \r\n",
       "Q 47.3125 19.4375 47.3125 27.296875 \r\n",
       "Q 47.3125 35.15625 44.28125 39.328125 \r\n",
       "Q 41.265625 43.5 35.5 43.5 \r\n",
       "z\r\n",
       "\" id=\"DejaVuSans-Bold-1073\"/>\r\n",
       "      <path d=\"M 64.90625 54.6875 \r\n",
       "L 82.375 54.6875 \r\n",
       "L 82.375 0 \r\n",
       "L 64.90625 0 \r\n",
       "z\r\n",
       "M 42.484375 17.09375 \r\n",
       "Q 42.484375 20.171875 40.53125 21.6875 \r\n",
       "Q 38.625 23.140625 34.71875 23.140625 \r\n",
       "L 25.875 23.140625 \r\n",
       "L 25.875 10.9375 \r\n",
       "L 34.71875 10.9375 \r\n",
       "Q 38.578125 10.9375 40.53125 12.5 \r\n",
       "Q 42.484375 14.015625 42.484375 17.09375 \r\n",
       "z\r\n",
       "M 8.40625 54.6875 \r\n",
       "L 25.875 54.6875 \r\n",
       "L 25.875 33.9375 \r\n",
       "L 35.796875 33.9375 \r\n",
       "Q 46.875 33.9375 52.828125 29.890625 \r\n",
       "Q 58.84375 25.78125 58.84375 16.890625 \r\n",
       "Q 58.84375 8.015625 52.828125 4 \r\n",
       "Q 46.875 0 35.796875 0 \r\n",
       "L 8.40625 0 \r\n",
       "z\r\n",
       "\" id=\"DejaVuSans-Bold-1099\"/>\r\n",
       "     </defs>\r\n",
       "     <use xlink:href=\"#DejaVuSans-Bold-1082\"/>\r\n",
       "     <use x=\"67.871094\" xlink:href=\"#DejaVuSans-Bold-1072\"/>\r\n",
       "     <use x=\"135.351562\" xlink:href=\"#DejaVuSans-Bold-1090\"/>\r\n",
       "     <use x=\"193.310547\" xlink:href=\"#DejaVuSans-Bold-1077\"/>\r\n",
       "     <use x=\"261.132812\" xlink:href=\"#DejaVuSans-Bold-1075\"/>\r\n",
       "     <use x=\"313.378906\" xlink:href=\"#DejaVuSans-Bold-1086\"/>\r\n",
       "     <use x=\"382.080078\" xlink:href=\"#DejaVuSans-Bold-1088\"/>\r\n",
       "     <use x=\"453.662109\" xlink:href=\"#DejaVuSans-Bold-1080\"/>\r\n",
       "     <use x=\"523.730469\" xlink:href=\"#DejaVuSans-Bold-1080\"/>\r\n",
       "     <use x=\"593.798828\" xlink:href=\"#DejaVuSans-Bold-32\"/>\r\n",
       "     <use x=\"628.613281\" xlink:href=\"#DejaVuSans-Bold-1076\"/>\r\n",
       "     <use x=\"709.375\" xlink:href=\"#DejaVuSans-Bold-1086\"/>\r\n",
       "     <use x=\"778.076172\" xlink:href=\"#DejaVuSans-Bold-1093\"/>\r\n",
       "     <use x=\"842.578125\" xlink:href=\"#DejaVuSans-Bold-1086\"/>\r\n",
       "     <use x=\"911.279297\" xlink:href=\"#DejaVuSans-Bold-1076\"/>\r\n",
       "     <use x=\"992.041016\" xlink:href=\"#DejaVuSans-Bold-1072\"/>\r\n",
       "     <use x=\"1059.521484\" xlink:href=\"#DejaVuSans-Bold-32\"/>\r\n",
       "     <use x=\"1094.335938\" xlink:href=\"#DejaVuSans-Bold-1080\"/>\r\n",
       "     <use x=\"1164.404297\" xlink:href=\"#DejaVuSans-Bold-32\"/>\r\n",
       "     <use x=\"1199.21875\" xlink:href=\"#DejaVuSans-Bold-37\"/>\r\n",
       "     <use x=\"1299.414062\" xlink:href=\"#DejaVuSans-Bold-32\"/>\r\n",
       "     <use x=\"1334.228516\" xlink:href=\"#DejaVuSans-Bold-1087\"/>\r\n",
       "     <use x=\"1403.320312\" xlink:href=\"#DejaVuSans-Bold-1088\"/>\r\n",
       "     <use x=\"1474.902344\" xlink:href=\"#DejaVuSans-Bold-1086\"/>\r\n",
       "     <use x=\"1543.603516\" xlink:href=\"#DejaVuSans-Bold-1073\"/>\r\n",
       "     <use x=\"1613.427734\" xlink:href=\"#DejaVuSans-Bold-1083\"/>\r\n",
       "     <use x=\"1686.669922\" xlink:href=\"#DejaVuSans-Bold-1077\"/>\r\n",
       "     <use x=\"1754.492188\" xlink:href=\"#DejaVuSans-Bold-1084\"/>\r\n",
       "     <use x=\"1836.230469\" xlink:href=\"#DejaVuSans-Bold-1085\"/>\r\n",
       "     <use x=\"1905.322266\" xlink:href=\"#DejaVuSans-Bold-1099\"/>\r\n",
       "     <use x=\"1995.751953\" xlink:href=\"#DejaVuSans-Bold-1093\"/>\r\n",
       "     <use x=\"2060.253906\" xlink:href=\"#DejaVuSans-Bold-32\"/>\r\n",
       "     <use x=\"2095.068359\" xlink:href=\"#DejaVuSans-Bold-1082\"/>\r\n",
       "     <use x=\"2162.939453\" xlink:href=\"#DejaVuSans-Bold-1083\"/>\r\n",
       "     <use x=\"2236.181641\" xlink:href=\"#DejaVuSans-Bold-1080\"/>\r\n",
       "     <use x=\"2306.25\" xlink:href=\"#DejaVuSans-Bold-1077\"/>\r\n",
       "     <use x=\"2374.072266\" xlink:href=\"#DejaVuSans-Bold-1085\"/>\r\n",
       "     <use x=\"2443.164062\" xlink:href=\"#DejaVuSans-Bold-1090\"/>\r\n",
       "     <use x=\"2501.123047\" xlink:href=\"#DejaVuSans-Bold-1086\"/>\r\n",
       "     <use x=\"2569.824219\" xlink:href=\"#DejaVuSans-Bold-1074\"/>\r\n",
       "     <use x=\"2633.105469\" xlink:href=\"#DejaVuSans-Bold-32\"/>\r\n",
       "     <use x=\"2667.919922\" xlink:href=\"#DejaVuSans-Bold-1074\"/>\r\n",
       "     <use x=\"2731.201172\" xlink:href=\"#DejaVuSans-Bold-32\"/>\r\n",
       "     <use x=\"2766.015625\" xlink:href=\"#DejaVuSans-Bold-1085\"/>\r\n",
       "     <use x=\"2835.107422\" xlink:href=\"#DejaVuSans-Bold-1080\"/>\r\n",
       "     <use x=\"2905.175781\" xlink:href=\"#DejaVuSans-Bold-1093\"/>\r\n",
       "    </g>\r\n",
       "   </g>\r\n",
       "  </g>\r\n",
       " </g>\r\n",
       " <defs>\r\n",
       "  <clipPath id=\"pf318479900\">\r\n",
       "   <rect height=\"277.2\" width=\"669.6\" x=\"34.240625\" y=\"24.295\"/>\r\n",
       "  </clipPath>\r\n",
       " </defs>\r\n",
       "</svg>\r\n"
      ],
      "text/plain": [
       "<Figure size 1200x500 with 1 Axes>"
      ]
     },
     "metadata": {},
     "output_type": "display_data"
    }
   ],
   "source": [
    "plt.bar(income_ratio['Уровень дохода'], income_ratio['Процент должников'], \n",
    "        color='#18ab30', linewidth=1.0, edgecolor='k')\n",
    "plt.xlabel('категория дохода', fontweight='bold')\n",
    "plt.ylabel('% с задолженностями по возврату', fontweight='bold')\n",
    "plt.title('категории дохода и % проблемных клиентов в них', fontweight='bold', fontsize=14)\n",
    "plt.grid(axis='y');"
   ]
  },
  {
   "cell_type": "markdown",
   "id": "1273c822",
   "metadata": {},
   "source": [
    "**Вывод:** корректные выводы можно сделать только по категориям B и C, так как в них достаточно данных для анализа.\n",
    "По ним мы видим, что:\n",
    "- среди клиентов из категории дохода B (от 200001 до 1000000) 7.06% задерживали погашение кредита в срок\n",
    "- а из клиентов из категории C с доходом пониже (от 50001 до 200000) таких оказалось 8.5%\n",
    "\n",
    "Сравнивая категории B и C мы можем сделать вывод о том, клиенты категории B более дисциплинированные и надёжные.\n",
    "\n",
    "Для корректного же анализа клиентов категорий A D и E недостаточно данных. Для них  изучения необходимы дополнительные данные"
   ]
  },
  {
   "cell_type": "markdown",
   "id": "e797dd53",
   "metadata": {
    "deletable": false,
    "id": "cd7e3720"
   },
   "source": [
    "----------\n",
    "----------"
   ]
  },
  {
   "cell_type": "markdown",
   "id": "6bc74e4c",
   "metadata": {
    "deletable": false,
    "editable": false,
    "id": "99ecbd1f"
   },
   "source": [
    "#### 3.4 Как разные цели кредита влияют на его возврат в срок?"
   ]
  },
  {
   "cell_type": "markdown",
   "id": "e1142014",
   "metadata": {},
   "source": [
    "изучим цели с возвратом в срок, для этого строим сводную таблицу"
   ]
  },
  {
   "cell_type": "code",
   "execution_count": 51,
   "id": "bc0803a5",
   "metadata": {},
   "outputs": [
    {
     "data": {
      "text/html": [
       "<div>\n",
       "<style scoped>\n",
       "    .dataframe tbody tr th:only-of-type {\n",
       "        vertical-align: middle;\n",
       "    }\n",
       "\n",
       "    .dataframe tbody tr th {\n",
       "        vertical-align: top;\n",
       "    }\n",
       "\n",
       "    .dataframe thead th {\n",
       "        text-align: right;\n",
       "    }\n",
       "</style>\n",
       "<table border=\"1\" class=\"dataframe\">\n",
       "  <thead>\n",
       "    <tr style=\"text-align: right;\">\n",
       "      <th></th>\n",
       "      <th>Цель кредита</th>\n",
       "      <th>Всего кредитополучателей</th>\n",
       "      <th>Количество должников</th>\n",
       "      <th>Процент должников</th>\n",
       "    </tr>\n",
       "  </thead>\n",
       "  <tbody>\n",
       "    <tr>\n",
       "      <th>0</th>\n",
       "      <td>операции с автомобилем</td>\n",
       "      <td>4279</td>\n",
       "      <td>400</td>\n",
       "      <td>9.35</td>\n",
       "    </tr>\n",
       "    <tr>\n",
       "      <th>1</th>\n",
       "      <td>операции с недвижимостью</td>\n",
       "      <td>10751</td>\n",
       "      <td>780</td>\n",
       "      <td>7.26</td>\n",
       "    </tr>\n",
       "    <tr>\n",
       "      <th>2</th>\n",
       "      <td>получение образования</td>\n",
       "      <td>3988</td>\n",
       "      <td>369</td>\n",
       "      <td>9.25</td>\n",
       "    </tr>\n",
       "    <tr>\n",
       "      <th>3</th>\n",
       "      <td>проведение свадьбы</td>\n",
       "      <td>2313</td>\n",
       "      <td>183</td>\n",
       "      <td>7.91</td>\n",
       "    </tr>\n",
       "  </tbody>\n",
       "</table>\n",
       "</div>"
      ],
      "text/plain": [
       "               Цель кредита  Всего кредитополучателей  Количество должников  \\\n",
       "0    операции с автомобилем                      4279                   400   \n",
       "1  операции с недвижимостью                     10751                   780   \n",
       "2     получение образования                      3988                   369   \n",
       "3        проведение свадьбы                      2313                   183   \n",
       "\n",
       "   Процент должников  \n",
       "0               9.35  \n",
       "1               7.26  \n",
       "2               9.25  \n",
       "3               7.91  "
      ]
     },
     "execution_count": 51,
     "metadata": {},
     "output_type": "execute_result"
    }
   ],
   "source": [
    "target_ratio = create_pivot_table(data, ind=['purpose_category'], val='debt', name='Цель кредита')\n",
    "target_ratio"
   ]
  },
  {
   "cell_type": "code",
   "execution_count": 52,
   "id": "9afea674",
   "metadata": {},
   "outputs": [
    {
     "data": {
      "image/svg+xml": [
       "<?xml version=\"1.0\" encoding=\"utf-8\" standalone=\"no\"?>\r\n",
       "<!DOCTYPE svg PUBLIC \"-//W3C//DTD SVG 1.1//EN\"\r\n",
       "  \"http://www.w3.org/Graphics/SVG/1.1/DTD/svg11.dtd\">\r\n",
       "<!-- Created with matplotlib (https://matplotlib.org/) -->\r\n",
       "<svg height=\"327.985094pt\" version=\"1.1\" viewBox=\"0 0 683.140625 327.985094\" width=\"683.140625pt\" xmlns=\"http://www.w3.org/2000/svg\" xmlns:xlink=\"http://www.w3.org/1999/xlink\">\r\n",
       " <metadata>\r\n",
       "  <rdf:RDF xmlns:cc=\"http://creativecommons.org/ns#\" xmlns:dc=\"http://purl.org/dc/elements/1.1/\" xmlns:rdf=\"http://www.w3.org/1999/02/22-rdf-syntax-ns#\">\r\n",
       "   <cc:Work>\r\n",
       "    <dc:type rdf:resource=\"http://purl.org/dc/dcmitype/StillImage\"/>\r\n",
       "    <dc:date>2023-02-03T06:56:22.742840</dc:date>\r\n",
       "    <dc:format>image/svg+xml</dc:format>\r\n",
       "    <dc:creator>\r\n",
       "     <cc:Agent>\r\n",
       "      <dc:title>Matplotlib v3.3.4, https://matplotlib.org/</dc:title>\r\n",
       "     </cc:Agent>\r\n",
       "    </dc:creator>\r\n",
       "   </cc:Work>\r\n",
       "  </rdf:RDF>\r\n",
       " </metadata>\r\n",
       " <defs>\r\n",
       "  <style type=\"text/css\">*{stroke-linecap:butt;stroke-linejoin:round;}</style>\r\n",
       " </defs>\r\n",
       " <g id=\"figure_1\">\r\n",
       "  <g id=\"patch_1\">\r\n",
       "   <path d=\"M 0 327.985094 \r\n",
       "L 683.140625 327.985094 \r\n",
       "L 683.140625 0 \r\n",
       "L 0 0 \r\n",
       "z\r\n",
       "\" style=\"fill:#ffffff;\"/>\r\n",
       "  </g>\r\n",
       "  <g id=\"axes_1\">\r\n",
       "   <g id=\"patch_2\">\r\n",
       "    <path d=\"M 34.240625 301.495 \r\n",
       "L 675.940625 301.495 \r\n",
       "L 675.940625 24.295 \r\n",
       "L 34.240625 24.295 \r\n",
       "z\r\n",
       "\" style=\"fill:#ffffff;\"/>\r\n",
       "   </g>\r\n",
       "   <g id=\"patch_3\">\r\n",
       "    <path clip-path=\"url(#pd8cd1e409f)\" d=\"M 63.408807 301.495 \r\n",
       "L 186.222204 301.495 \r\n",
       "L 186.222204 37.495 \r\n",
       "L 63.408807 37.495 \r\n",
       "z\r\n",
       "\" style=\"fill:#18ab30;stroke:#000000;stroke-linejoin:miter;\"/>\r\n",
       "   </g>\r\n",
       "   <g id=\"patch_4\">\r\n",
       "    <path clip-path=\"url(#pd8cd1e409f)\" d=\"M 216.925553 301.495 \r\n",
       "L 339.73895 301.495 \r\n",
       "L 339.73895 96.506765 \r\n",
       "L 216.925553 96.506765 \r\n",
       "z\r\n",
       "\" style=\"fill:#18ab30;stroke:#000000;stroke-linejoin:miter;\"/>\r\n",
       "   </g>\r\n",
       "   <g id=\"patch_5\">\r\n",
       "    <path clip-path=\"url(#pd8cd1e409f)\" d=\"M 370.4423 301.495 \r\n",
       "L 493.255697 301.495 \r\n",
       "L 493.255697 40.318529 \r\n",
       "L 370.4423 40.318529 \r\n",
       "z\r\n",
       "\" style=\"fill:#18ab30;stroke:#000000;stroke-linejoin:miter;\"/>\r\n",
       "   </g>\r\n",
       "   <g id=\"patch_6\">\r\n",
       "    <path clip-path=\"url(#pd8cd1e409f)\" d=\"M 523.959046 301.495 \r\n",
       "L 646.772443 301.495 \r\n",
       "L 646.772443 78.153824 \r\n",
       "L 523.959046 78.153824 \r\n",
       "z\r\n",
       "\" style=\"fill:#18ab30;stroke:#000000;stroke-linejoin:miter;\"/>\r\n",
       "   </g>\r\n",
       "   <g id=\"matplotlib.axis_1\">\r\n",
       "    <g id=\"xtick_1\">\r\n",
       "     <g id=\"line2d_1\">\r\n",
       "      <path clip-path=\"url(#pd8cd1e409f)\" d=\"M 124.815505 301.495 \r\n",
       "L 124.815505 24.295 \r\n",
       "\" style=\"fill:none;stroke:#b0b0b0;stroke-linecap:square;stroke-width:0.8;\"/>\r\n",
       "     </g>\r\n",
       "     <g id=\"line2d_2\">\r\n",
       "      <defs>\r\n",
       "       <path d=\"M 0 0 \r\n",
       "L 0 3.5 \r\n",
       "\" id=\"m8e318b116e\" style=\"stroke:#000000;stroke-width:0.8;\"/>\r\n",
       "      </defs>\r\n",
       "      <g>\r\n",
       "       <use style=\"stroke:#000000;stroke-width:0.8;\" x=\"124.815505\" xlink:href=\"#m8e318b116e\" y=\"301.495\"/>\r\n",
       "      </g>\r\n",
       "     </g>\r\n",
       "     <g id=\"text_1\">\r\n",
       "      <!-- операции с автомобилем -->\r\n",
       "      <g transform=\"translate(58.212021 318.589436)rotate(-1)scale(0.1 -0.1)\">\r\n",
       "       <defs>\r\n",
       "        <path d=\"M 30.609375 48.390625 \r\n",
       "Q 23.390625 48.390625 19.1875 42.75 \r\n",
       "Q 14.984375 37.109375 14.984375 27.296875 \r\n",
       "Q 14.984375 17.484375 19.15625 11.84375 \r\n",
       "Q 23.34375 6.203125 30.609375 6.203125 \r\n",
       "Q 37.796875 6.203125 41.984375 11.859375 \r\n",
       "Q 46.1875 17.53125 46.1875 27.296875 \r\n",
       "Q 46.1875 37.015625 41.984375 42.703125 \r\n",
       "Q 37.796875 48.390625 30.609375 48.390625 \r\n",
       "z\r\n",
       "M 30.609375 56 \r\n",
       "Q 42.328125 56 49.015625 48.375 \r\n",
       "Q 55.71875 40.765625 55.71875 27.296875 \r\n",
       "Q 55.71875 13.875 49.015625 6.21875 \r\n",
       "Q 42.328125 -1.421875 30.609375 -1.421875 \r\n",
       "Q 18.84375 -1.421875 12.171875 6.21875 \r\n",
       "Q 5.515625 13.875 5.515625 27.296875 \r\n",
       "Q 5.515625 40.765625 12.171875 48.375 \r\n",
       "Q 18.84375 56 30.609375 56 \r\n",
       "z\r\n",
       "\" id=\"DejaVuSans-1086\"/>\r\n",
       "        <path d=\"M 56.296875 54.6875 \r\n",
       "L 56.296875 0 \r\n",
       "L 47.265625 0 \r\n",
       "L 47.265625 47.515625 \r\n",
       "L 18.109375 47.515625 \r\n",
       "L 18.109375 0 \r\n",
       "L 9.078125 0 \r\n",
       "L 9.078125 54.6875 \r\n",
       "z\r\n",
       "\" id=\"DejaVuSans-1087\"/>\r\n",
       "        <path d=\"M 56.203125 29.59375 \r\n",
       "L 56.203125 25.203125 \r\n",
       "L 14.890625 25.203125 \r\n",
       "Q 15.484375 15.921875 20.484375 11.0625 \r\n",
       "Q 25.484375 6.203125 34.421875 6.203125 \r\n",
       "Q 39.59375 6.203125 44.453125 7.46875 \r\n",
       "Q 49.3125 8.734375 54.109375 11.28125 \r\n",
       "L 54.109375 2.78125 \r\n",
       "Q 49.265625 0.734375 44.1875 -0.34375 \r\n",
       "Q 39.109375 -1.421875 33.890625 -1.421875 \r\n",
       "Q 20.796875 -1.421875 13.15625 6.1875 \r\n",
       "Q 5.515625 13.8125 5.515625 26.8125 \r\n",
       "Q 5.515625 40.234375 12.765625 48.109375 \r\n",
       "Q 20.015625 56 32.328125 56 \r\n",
       "Q 43.359375 56 49.78125 48.890625 \r\n",
       "Q 56.203125 41.796875 56.203125 29.59375 \r\n",
       "z\r\n",
       "M 47.21875 32.234375 \r\n",
       "Q 47.125 39.59375 43.09375 43.984375 \r\n",
       "Q 39.0625 48.390625 32.421875 48.390625 \r\n",
       "Q 24.90625 48.390625 20.390625 44.140625 \r\n",
       "Q 15.875 39.890625 15.1875 32.171875 \r\n",
       "z\r\n",
       "\" id=\"DejaVuSans-1077\"/>\r\n",
       "        <path d=\"M 18.109375 8.203125 \r\n",
       "L 18.109375 -20.796875 \r\n",
       "L 9.078125 -20.796875 \r\n",
       "L 9.078125 54.6875 \r\n",
       "L 18.109375 54.6875 \r\n",
       "L 18.109375 46.390625 \r\n",
       "Q 20.953125 51.265625 25.265625 53.625 \r\n",
       "Q 29.59375 56 35.59375 56 \r\n",
       "Q 45.5625 56 51.78125 48.09375 \r\n",
       "Q 58.015625 40.1875 58.015625 27.296875 \r\n",
       "Q 58.015625 14.40625 51.78125 6.484375 \r\n",
       "Q 45.5625 -1.421875 35.59375 -1.421875 \r\n",
       "Q 29.59375 -1.421875 25.265625 0.953125 \r\n",
       "Q 20.953125 3.328125 18.109375 8.203125 \r\n",
       "z\r\n",
       "M 48.6875 27.296875 \r\n",
       "Q 48.6875 37.203125 44.609375 42.84375 \r\n",
       "Q 40.53125 48.484375 33.40625 48.484375 \r\n",
       "Q 26.265625 48.484375 22.1875 42.84375 \r\n",
       "Q 18.109375 37.203125 18.109375 27.296875 \r\n",
       "Q 18.109375 17.390625 22.1875 11.75 \r\n",
       "Q 26.265625 6.109375 33.40625 6.109375 \r\n",
       "Q 40.53125 6.109375 44.609375 11.75 \r\n",
       "Q 48.6875 17.390625 48.6875 27.296875 \r\n",
       "z\r\n",
       "\" id=\"DejaVuSans-1088\"/>\r\n",
       "        <path d=\"M 34.28125 27.484375 \r\n",
       "Q 23.390625 27.484375 19.1875 25 \r\n",
       "Q 14.984375 22.515625 14.984375 16.5 \r\n",
       "Q 14.984375 11.71875 18.140625 8.90625 \r\n",
       "Q 21.296875 6.109375 26.703125 6.109375 \r\n",
       "Q 34.1875 6.109375 38.703125 11.40625 \r\n",
       "Q 43.21875 16.703125 43.21875 25.484375 \r\n",
       "L 43.21875 27.484375 \r\n",
       "z\r\n",
       "M 52.203125 31.203125 \r\n",
       "L 52.203125 0 \r\n",
       "L 43.21875 0 \r\n",
       "L 43.21875 8.296875 \r\n",
       "Q 40.140625 3.328125 35.546875 0.953125 \r\n",
       "Q 30.953125 -1.421875 24.3125 -1.421875 \r\n",
       "Q 15.921875 -1.421875 10.953125 3.296875 \r\n",
       "Q 6 8.015625 6 15.921875 \r\n",
       "Q 6 25.140625 12.171875 29.828125 \r\n",
       "Q 18.359375 34.515625 30.609375 34.515625 \r\n",
       "L 43.21875 34.515625 \r\n",
       "L 43.21875 35.40625 \r\n",
       "Q 43.21875 41.609375 39.140625 45 \r\n",
       "Q 35.0625 48.390625 27.6875 48.390625 \r\n",
       "Q 23 48.390625 18.546875 47.265625 \r\n",
       "Q 14.109375 46.140625 10.015625 43.890625 \r\n",
       "L 10.015625 52.203125 \r\n",
       "Q 14.9375 54.109375 19.578125 55.046875 \r\n",
       "Q 24.21875 56 28.609375 56 \r\n",
       "Q 40.484375 56 46.34375 49.84375 \r\n",
       "Q 52.203125 43.703125 52.203125 31.203125 \r\n",
       "z\r\n",
       "\" id=\"DejaVuSans-1072\"/>\r\n",
       "        <path d=\"M 56.296875 0 \r\n",
       "L 9.078125 0 \r\n",
       "L 9.078125 54.6875 \r\n",
       "L 18.109375 54.6875 \r\n",
       "L 18.109375 7.171875 \r\n",
       "L 47.265625 7.171875 \r\n",
       "L 47.265625 54.6875 \r\n",
       "L 56.296875 54.6875 \r\n",
       "L 56.296875 7.171875 \r\n",
       "L 63.484375 7.171875 \r\n",
       "L 63.484375 -13.8125 \r\n",
       "L 56.296875 -13.8125 \r\n",
       "z\r\n",
       "\" id=\"DejaVuSans-1094\"/>\r\n",
       "        <path d=\"M 55.90625 54.6875 \r\n",
       "L 55.90625 0 \r\n",
       "L 46.96875 0 \r\n",
       "L 46.96875 43.890625 \r\n",
       "L 20.609375 0 \r\n",
       "L 9.078125 0 \r\n",
       "L 9.078125 54.6875 \r\n",
       "L 18.015625 54.6875 \r\n",
       "L 18.015625 10.890625 \r\n",
       "L 44.34375 54.6875 \r\n",
       "z\r\n",
       "\" id=\"DejaVuSans-1080\"/>\r\n",
       "        <path id=\"DejaVuSans-32\"/>\r\n",
       "        <path d=\"M 48.78125 52.59375 \r\n",
       "L 48.78125 44.1875 \r\n",
       "Q 44.96875 46.296875 41.140625 47.34375 \r\n",
       "Q 37.3125 48.390625 33.40625 48.390625 \r\n",
       "Q 24.65625 48.390625 19.8125 42.84375 \r\n",
       "Q 14.984375 37.3125 14.984375 27.296875 \r\n",
       "Q 14.984375 17.28125 19.8125 11.734375 \r\n",
       "Q 24.65625 6.203125 33.40625 6.203125 \r\n",
       "Q 37.3125 6.203125 41.140625 7.25 \r\n",
       "Q 44.96875 8.296875 48.78125 10.40625 \r\n",
       "L 48.78125 2.09375 \r\n",
       "Q 45.015625 0.34375 40.984375 -0.53125 \r\n",
       "Q 36.96875 -1.421875 32.421875 -1.421875 \r\n",
       "Q 20.0625 -1.421875 12.78125 6.34375 \r\n",
       "Q 5.515625 14.109375 5.515625 27.296875 \r\n",
       "Q 5.515625 40.671875 12.859375 48.328125 \r\n",
       "Q 20.21875 56 33.015625 56 \r\n",
       "Q 37.15625 56 41.109375 55.140625 \r\n",
       "Q 45.0625 54.296875 48.78125 52.59375 \r\n",
       "z\r\n",
       "\" id=\"DejaVuSans-1089\"/>\r\n",
       "        <path d=\"M 18.0625 25.203125 \r\n",
       "L 18.0625 7.171875 \r\n",
       "L 30.859375 7.171875 \r\n",
       "Q 37.015625 7.171875 40.234375 9.484375 \r\n",
       "Q 43.453125 11.8125 43.453125 16.21875 \r\n",
       "Q 43.453125 20.609375 40.234375 22.90625 \r\n",
       "Q 37.015625 25.203125 30.859375 25.203125 \r\n",
       "z\r\n",
       "M 18.0625 47.515625 \r\n",
       "L 18.0625 32.375 \r\n",
       "L 29.890625 32.375 \r\n",
       "Q 34.96875 32.375 38.1875 34.390625 \r\n",
       "Q 41.40625 36.421875 41.40625 40.046875 \r\n",
       "Q 41.40625 43.65625 38.1875 45.578125 \r\n",
       "Q 34.96875 47.515625 29.890625 47.515625 \r\n",
       "z\r\n",
       "M 9.078125 54.6875 \r\n",
       "L 30.46875 54.6875 \r\n",
       "Q 40.09375 54.6875 45.265625 51.171875 \r\n",
       "Q 50.4375 47.65625 50.4375 41.15625 \r\n",
       "Q 50.4375 36.140625 47.796875 33.171875 \r\n",
       "Q 45.171875 30.21875 39.984375 29.5 \r\n",
       "Q 46.1875 28.328125 49.609375 24.609375 \r\n",
       "Q 53.03125 20.90625 53.03125 15.328125 \r\n",
       "Q 53.03125 8.015625 47.390625 4 \r\n",
       "Q 41.75 0 31.296875 0 \r\n",
       "L 9.078125 0 \r\n",
       "z\r\n",
       "\" id=\"DejaVuSans-1074\"/>\r\n",
       "        <path d=\"M 2.9375 54.6875 \r\n",
       "L 55.328125 54.6875 \r\n",
       "L 55.328125 47.515625 \r\n",
       "L 33.546875 47.515625 \r\n",
       "L 33.546875 0 \r\n",
       "L 24.703125 0 \r\n",
       "L 24.703125 47.515625 \r\n",
       "L 2.9375 47.515625 \r\n",
       "z\r\n",
       "\" id=\"DejaVuSans-1090\"/>\r\n",
       "        <path d=\"M 9.078125 54.6875 \r\n",
       "L 22.21875 54.6875 \r\n",
       "L 37.75 18.0625 \r\n",
       "L 53.328125 54.6875 \r\n",
       "L 66.359375 54.6875 \r\n",
       "L 66.359375 0 \r\n",
       "L 57.328125 0 \r\n",
       "L 57.328125 46.09375 \r\n",
       "L 42.234375 10.5 \r\n",
       "L 33.25 10.5 \r\n",
       "L 18.109375 46.09375 \r\n",
       "L 18.109375 0 \r\n",
       "L 9.078125 0 \r\n",
       "z\r\n",
       "\" id=\"DejaVuSans-1084\"/>\r\n",
       "        <path d=\"M 31.109375 56 \r\n",
       "Q 42.828125 56 49.515625 48.375 \r\n",
       "Q 56.203125 40.765625 56.203125 27.296875 \r\n",
       "Q 56.203125 13.875 49.515625 6.21875 \r\n",
       "Q 42.828125 -1.421875 31.109375 -1.421875 \r\n",
       "Q 19.34375 -1.421875 12.84375 6 \r\n",
       "Q 6.34375 13.421875 6 27.296875 \r\n",
       "L 5.71875 38.484375 \r\n",
       "Q 5.46875 44.28125 5.46875 46.296875 \r\n",
       "Q 5.46875 54.109375 8.296875 59.859375 \r\n",
       "Q 12.75 68.890625 20.4375 72.796875 \r\n",
       "Q 28.125 76.703125 41.015625 76.8125 \r\n",
       "Q 46.96875 76.859375 49.609375 77.6875 \r\n",
       "L 52.09375 70.5625 \r\n",
       "Q 49.703125 69.578125 47.515625 69.53125 \r\n",
       "L 35.296875 68.703125 \r\n",
       "Q 29.15625 68.265625 25.4375 66.109375 \r\n",
       "Q 15.71875 60.40625 14.796875 52.9375 \r\n",
       "L 14.453125 50.203125 \r\n",
       "Q 20.796875 56 31.109375 56 \r\n",
       "z\r\n",
       "M 31.109375 48.390625 \r\n",
       "Q 23.875 48.390625 19.671875 42.75 \r\n",
       "Q 15.484375 37.109375 15.484375 27.296875 \r\n",
       "Q 15.484375 17.484375 19.65625 11.84375 \r\n",
       "Q 23.828125 6.203125 31.109375 6.203125 \r\n",
       "Q 38.28125 6.203125 42.484375 11.859375 \r\n",
       "Q 46.6875 17.53125 46.6875 27.296875 \r\n",
       "Q 46.6875 37.015625 42.484375 42.703125 \r\n",
       "Q 38.28125 48.390625 31.109375 48.390625 \r\n",
       "z\r\n",
       "\" id=\"DejaVuSans-1073\"/>\r\n",
       "        <path d=\"M 3.71875 0 \r\n",
       "L 3.71875 7.46875 \r\n",
       "Q 12.59375 8.84375 15.328125 14.984375 \r\n",
       "Q 18.65625 23.640625 18.65625 45.75 \r\n",
       "L 18.65625 54.6875 \r\n",
       "L 55.609375 54.6875 \r\n",
       "L 55.609375 0 \r\n",
       "L 46.625 0 \r\n",
       "L 46.625 47.515625 \r\n",
       "L 27.640625 47.515625 \r\n",
       "L 27.640625 42.09375 \r\n",
       "Q 27.640625 21 23.34375 11.53125 \r\n",
       "Q 18.75 1.421875 3.71875 0 \r\n",
       "z\r\n",
       "\" id=\"DejaVuSans-1083\"/>\r\n",
       "       </defs>\r\n",
       "       <use xlink:href=\"#DejaVuSans-1086\"/>\r\n",
       "       <use x=\"61.181641\" xlink:href=\"#DejaVuSans-1087\"/>\r\n",
       "       <use x=\"126.5625\" xlink:href=\"#DejaVuSans-1077\"/>\r\n",
       "       <use x=\"188.085938\" xlink:href=\"#DejaVuSans-1088\"/>\r\n",
       "       <use x=\"251.5625\" xlink:href=\"#DejaVuSans-1072\"/>\r\n",
       "       <use x=\"312.841797\" xlink:href=\"#DejaVuSans-1094\"/>\r\n",
       "       <use x=\"380.908203\" xlink:href=\"#DejaVuSans-1080\"/>\r\n",
       "       <use x=\"445.898438\" xlink:href=\"#DejaVuSans-1080\"/>\r\n",
       "       <use x=\"510.888672\" xlink:href=\"#DejaVuSans-32\"/>\r\n",
       "       <use x=\"542.675781\" xlink:href=\"#DejaVuSans-1089\"/>\r\n",
       "       <use x=\"597.65625\" xlink:href=\"#DejaVuSans-32\"/>\r\n",
       "       <use x=\"629.443359\" xlink:href=\"#DejaVuSans-1072\"/>\r\n",
       "       <use x=\"690.722656\" xlink:href=\"#DejaVuSans-1074\"/>\r\n",
       "       <use x=\"749.658203\" xlink:href=\"#DejaVuSans-1090\"/>\r\n",
       "       <use x=\"807.910156\" xlink:href=\"#DejaVuSans-1086\"/>\r\n",
       "       <use x=\"869.091797\" xlink:href=\"#DejaVuSans-1084\"/>\r\n",
       "       <use x=\"944.53125\" xlink:href=\"#DejaVuSans-1086\"/>\r\n",
       "       <use x=\"1005.712891\" xlink:href=\"#DejaVuSans-1073\"/>\r\n",
       "       <use x=\"1067.382812\" xlink:href=\"#DejaVuSans-1080\"/>\r\n",
       "       <use x=\"1132.373047\" xlink:href=\"#DejaVuSans-1083\"/>\r\n",
       "       <use x=\"1196.289062\" xlink:href=\"#DejaVuSans-1077\"/>\r\n",
       "       <use x=\"1257.8125\" xlink:href=\"#DejaVuSans-1084\"/>\r\n",
       "      </g>\r\n",
       "     </g>\r\n",
       "    </g>\r\n",
       "    <g id=\"xtick_2\">\r\n",
       "     <g id=\"line2d_3\">\r\n",
       "      <path clip-path=\"url(#pd8cd1e409f)\" d=\"M 278.332252 301.495 \r\n",
       "L 278.332252 24.295 \r\n",
       "\" style=\"fill:none;stroke:#b0b0b0;stroke-linecap:square;stroke-width:0.8;\"/>\r\n",
       "     </g>\r\n",
       "     <g id=\"line2d_4\">\r\n",
       "      <g>\r\n",
       "       <use style=\"stroke:#000000;stroke-width:0.8;\" x=\"278.332252\" xlink:href=\"#m8e318b116e\" y=\"301.495\"/>\r\n",
       "      </g>\r\n",
       "     </g>\r\n",
       "     <g id=\"text_2\">\r\n",
       "      <!-- операции с недвижимостью -->\r\n",
       "      <g transform=\"translate(203.518376 318.705724)rotate(-1)scale(0.1 -0.1)\">\r\n",
       "       <defs>\r\n",
       "        <path d=\"M 9.078125 54.6875 \r\n",
       "L 18.109375 54.6875 \r\n",
       "L 18.109375 32.375 \r\n",
       "L 47.265625 32.375 \r\n",
       "L 47.265625 54.6875 \r\n",
       "L 56.296875 54.6875 \r\n",
       "L 56.296875 0 \r\n",
       "L 47.265625 0 \r\n",
       "L 47.265625 25.203125 \r\n",
       "L 18.109375 25.203125 \r\n",
       "L 18.109375 0 \r\n",
       "L 9.078125 0 \r\n",
       "z\r\n",
       "\" id=\"DejaVuSans-1085\"/>\r\n",
       "        <path d=\"M 21.625 7.171875 \r\n",
       "L 47.703125 7.171875 \r\n",
       "L 47.703125 47.515625 \r\n",
       "L 28.8125 47.515625 \r\n",
       "L 28.8125 40.671875 \r\n",
       "Q 28.8125 20.5625 23.046875 9.8125 \r\n",
       "z\r\n",
       "M 8.59375 7.171875 \r\n",
       "Q 13.03125 9.125 14.984375 13.28125 \r\n",
       "Q 19.78125 23.578125 19.78125 44.34375 \r\n",
       "L 19.78125 54.6875 \r\n",
       "L 56.734375 54.6875 \r\n",
       "L 56.734375 7.171875 \r\n",
       "L 63.921875 7.171875 \r\n",
       "L 63.921875 -13.8125 \r\n",
       "L 56.734375 -13.8125 \r\n",
       "L 56.734375 0 \r\n",
       "L 12.40625 0 \r\n",
       "L 12.40625 -13.8125 \r\n",
       "L 5.21875 -13.8125 \r\n",
       "L 5.21875 7.171875 \r\n",
       "z\r\n",
       "\" id=\"DejaVuSans-1076\"/>\r\n",
       "        <path d=\"M 40.578125 54.6875 \r\n",
       "L 49.515625 54.6875 \r\n",
       "L 49.515625 29 \r\n",
       "L 73.390625 54.6875 \r\n",
       "L 83.84375 54.6875 \r\n",
       "L 64.203125 33.640625 \r\n",
       "L 86.671875 0 \r\n",
       "L 77.046875 0 \r\n",
       "L 58.640625 27.640625 \r\n",
       "L 49.515625 17.828125 \r\n",
       "L 49.515625 0 \r\n",
       "L 40.578125 0 \r\n",
       "L 40.578125 17.828125 \r\n",
       "L 31.453125 27.640625 \r\n",
       "L 13.03125 0 \r\n",
       "L 3.421875 0 \r\n",
       "L 25.875 33.640625 \r\n",
       "L 6.25 54.6875 \r\n",
       "L 16.703125 54.6875 \r\n",
       "L 40.578125 29 \r\n",
       "z\r\n",
       "\" id=\"DejaVuSans-1078\"/>\r\n",
       "        <path d=\"M 43.453125 16.21875 \r\n",
       "Q 43.453125 20.609375 40.25 22.90625 \r\n",
       "Q 37.0625 25.203125 30.90625 25.203125 \r\n",
       "L 18.109375 25.203125 \r\n",
       "L 18.109375 7.171875 \r\n",
       "L 30.90625 7.171875 \r\n",
       "Q 37.0625 7.171875 40.25 9.484375 \r\n",
       "Q 43.453125 11.8125 43.453125 16.21875 \r\n",
       "z\r\n",
       "M 9.078125 54.6875 \r\n",
       "L 18.109375 54.6875 \r\n",
       "L 18.109375 32.375 \r\n",
       "L 31.296875 32.375 \r\n",
       "Q 41.75 32.375 47.390625 28.390625 \r\n",
       "Q 53.03125 24.421875 53.03125 16.21875 \r\n",
       "Q 53.03125 8.015625 47.390625 4 \r\n",
       "Q 41.75 0 31.296875 0 \r\n",
       "L 9.078125 0 \r\n",
       "z\r\n",
       "\" id=\"DejaVuSans-1100\"/>\r\n",
       "        <path d=\"M 53.609375 48.390625 \r\n",
       "Q 46.390625 48.390625 42.1875 42.75 \r\n",
       "Q 37.984375 37.109375 37.984375 27.296875 \r\n",
       "Q 37.984375 17.484375 42.15625 11.84375 \r\n",
       "Q 46.34375 6.203125 53.609375 6.203125 \r\n",
       "Q 60.796875 6.203125 64.984375 11.859375 \r\n",
       "Q 69.1875 17.53125 69.1875 27.296875 \r\n",
       "Q 69.1875 37.015625 64.984375 42.703125 \r\n",
       "Q 60.796875 48.390625 53.609375 48.390625 \r\n",
       "z\r\n",
       "M 28.8125 32.859375 \r\n",
       "Q 29.734375 42.140625 35.8125 49.0625 \r\n",
       "Q 41.890625 56 53.609375 56 \r\n",
       "Q 65.328125 56 72.015625 48.375 \r\n",
       "Q 78.71875 40.765625 78.71875 27.296875 \r\n",
       "Q 78.71875 13.875 72.015625 6.21875 \r\n",
       "Q 65.328125 -1.421875 53.609375 -1.421875 \r\n",
       "Q 41.84375 -1.421875 35.421875 5.953125 \r\n",
       "Q 29 13.328125 28.5625 25.4375 \r\n",
       "L 18.40625 25.4375 \r\n",
       "L 18.40625 0 \r\n",
       "L 9.421875 0 \r\n",
       "L 9.421875 54.6875 \r\n",
       "L 18.40625 54.6875 \r\n",
       "L 18.40625 32.859375 \r\n",
       "z\r\n",
       "\" id=\"DejaVuSans-1102\"/>\r\n",
       "       </defs>\r\n",
       "       <use xlink:href=\"#DejaVuSans-1086\"/>\r\n",
       "       <use x=\"61.181641\" xlink:href=\"#DejaVuSans-1087\"/>\r\n",
       "       <use x=\"126.5625\" xlink:href=\"#DejaVuSans-1077\"/>\r\n",
       "       <use x=\"188.085938\" xlink:href=\"#DejaVuSans-1088\"/>\r\n",
       "       <use x=\"251.5625\" xlink:href=\"#DejaVuSans-1072\"/>\r\n",
       "       <use x=\"312.841797\" xlink:href=\"#DejaVuSans-1094\"/>\r\n",
       "       <use x=\"380.908203\" xlink:href=\"#DejaVuSans-1080\"/>\r\n",
       "       <use x=\"445.898438\" xlink:href=\"#DejaVuSans-1080\"/>\r\n",
       "       <use x=\"510.888672\" xlink:href=\"#DejaVuSans-32\"/>\r\n",
       "       <use x=\"542.675781\" xlink:href=\"#DejaVuSans-1089\"/>\r\n",
       "       <use x=\"597.65625\" xlink:href=\"#DejaVuSans-32\"/>\r\n",
       "       <use x=\"629.443359\" xlink:href=\"#DejaVuSans-1085\"/>\r\n",
       "       <use x=\"694.824219\" xlink:href=\"#DejaVuSans-1077\"/>\r\n",
       "       <use x=\"756.347656\" xlink:href=\"#DejaVuSans-1076\"/>\r\n",
       "       <use x=\"825.488281\" xlink:href=\"#DejaVuSans-1074\"/>\r\n",
       "       <use x=\"884.423828\" xlink:href=\"#DejaVuSans-1080\"/>\r\n",
       "       <use x=\"949.414062\" xlink:href=\"#DejaVuSans-1078\"/>\r\n",
       "       <use x=\"1039.501953\" xlink:href=\"#DejaVuSans-1080\"/>\r\n",
       "       <use x=\"1104.492188\" xlink:href=\"#DejaVuSans-1084\"/>\r\n",
       "       <use x=\"1179.931641\" xlink:href=\"#DejaVuSans-1086\"/>\r\n",
       "       <use x=\"1241.113281\" xlink:href=\"#DejaVuSans-1089\"/>\r\n",
       "       <use x=\"1296.09375\" xlink:href=\"#DejaVuSans-1090\"/>\r\n",
       "       <use x=\"1354.345703\" xlink:href=\"#DejaVuSans-1100\"/>\r\n",
       "       <use x=\"1413.28125\" xlink:href=\"#DejaVuSans-1102\"/>\r\n",
       "      </g>\r\n",
       "     </g>\r\n",
       "    </g>\r\n",
       "    <g id=\"xtick_3\">\r\n",
       "     <g id=\"line2d_5\">\r\n",
       "      <path clip-path=\"url(#pd8cd1e409f)\" d=\"M 431.848998 301.495 \r\n",
       "L 431.848998 24.295 \r\n",
       "\" style=\"fill:none;stroke:#b0b0b0;stroke-linecap:square;stroke-width:0.8;\"/>\r\n",
       "     </g>\r\n",
       "     <g id=\"line2d_6\">\r\n",
       "      <g>\r\n",
       "       <use style=\"stroke:#000000;stroke-width:0.8;\" x=\"431.848998\" xlink:href=\"#m8e318b116e\" y=\"301.495\"/>\r\n",
       "      </g>\r\n",
       "     </g>\r\n",
       "     <g id=\"text_3\">\r\n",
       "      <!-- получение образования -->\r\n",
       "      <g transform=\"translate(368.574694 318.473214)rotate(-1)scale(0.1 -0.1)\">\r\n",
       "       <defs>\r\n",
       "        <path d=\"M 32.171875 -5.078125 \r\n",
       "Q 28.375 -14.84375 24.75 -17.8125 \r\n",
       "Q 21.140625 -20.796875 15.09375 -20.796875 \r\n",
       "L 7.90625 -20.796875 \r\n",
       "L 7.90625 -13.28125 \r\n",
       "L 13.1875 -13.28125 \r\n",
       "Q 16.890625 -13.28125 18.9375 -11.515625 \r\n",
       "Q 21 -9.765625 23.484375 -3.21875 \r\n",
       "L 25.09375 0.875 \r\n",
       "L 2.984375 54.6875 \r\n",
       "L 12.5 54.6875 \r\n",
       "L 29.59375 11.921875 \r\n",
       "L 46.6875 54.6875 \r\n",
       "L 56.203125 54.6875 \r\n",
       "z\r\n",
       "\" id=\"DejaVuSans-1091\"/>\r\n",
       "        <path d=\"M 41.015625 0 \r\n",
       "L 41.015625 23 \r\n",
       "L 24.265625 23 \r\n",
       "Q 16.796875 23 11.8125 27.640625 \r\n",
       "Q 7.328125 31.84375 7.328125 40.828125 \r\n",
       "L 7.328125 54.6875 \r\n",
       "L 16.3125 54.6875 \r\n",
       "L 16.3125 41.65625 \r\n",
       "Q 16.3125 35.9375 18.84375 33.0625 \r\n",
       "Q 21.4375 30.171875 26.515625 30.171875 \r\n",
       "L 41.015625 30.171875 \r\n",
       "L 41.015625 54.6875 \r\n",
       "L 50 54.6875 \r\n",
       "L 50 0 \r\n",
       "z\r\n",
       "\" id=\"DejaVuSans-1095\"/>\r\n",
       "        <path d=\"M 34.46875 29.5 \r\n",
       "Q 40.53125 28.328125 43.890625 24.75 \r\n",
       "Q 47.265625 21.1875 47.265625 15.921875 \r\n",
       "Q 47.265625 7.46875 40.96875 3.015625 \r\n",
       "Q 34.671875 -1.421875 23.046875 -1.421875 \r\n",
       "Q 19.140625 -1.421875 15.015625 -0.734375 \r\n",
       "Q 10.890625 -0.046875 6.5 1.3125 \r\n",
       "L 6.5 9.671875 \r\n",
       "Q 9.96875 7.859375 14.109375 6.953125 \r\n",
       "Q 18.265625 6.0625 22.796875 6.0625 \r\n",
       "Q 30.171875 6.0625 34.296875 8.796875 \r\n",
       "Q 38.421875 11.53125 38.421875 15.921875 \r\n",
       "Q 38.421875 20.21875 34.765625 22.828125 \r\n",
       "Q 31.109375 25.4375 24.421875 25.4375 \r\n",
       "L 17.1875 25.4375 \r\n",
       "L 17.1875 32.859375 \r\n",
       "L 24.75 32.859375 \r\n",
       "Q 30.421875 32.859375 33.71875 35.03125 \r\n",
       "Q 37.015625 37.203125 37.015625 40.625 \r\n",
       "Q 37.015625 43.75 33.609375 46 \r\n",
       "Q 30.21875 48.25 24.421875 48.25 \r\n",
       "Q 20.953125 48.25 17.015625 47.609375 \r\n",
       "Q 13.09375 46.96875 8.34375 45.5625 \r\n",
       "L 8.34375 53.71875 \r\n",
       "Q 13.140625 54.890625 17.28125 55.46875 \r\n",
       "Q 21.4375 56.0625 25.140625 56.0625 \r\n",
       "Q 34.71875 56.0625 40.25 52.21875 \r\n",
       "Q 45.796875 48.390625 45.796875 41.5 \r\n",
       "Q 45.796875 36.96875 42.859375 33.8125 \r\n",
       "Q 39.9375 30.671875 34.46875 29.5 \r\n",
       "z\r\n",
       "\" id=\"DejaVuSans-1079\"/>\r\n",
       "        <path d=\"M 18.453125 38.921875 \r\n",
       "Q 18.453125 34.859375 21.578125 32.5625 \r\n",
       "Q 24.703125 30.28125 30.515625 30.28125 \r\n",
       "L 42.625 30.28125 \r\n",
       "L 42.625 47.515625 \r\n",
       "L 30.515625 47.515625 \r\n",
       "Q 24.703125 47.515625 21.578125 45.265625 \r\n",
       "Q 18.453125 43.015625 18.453125 38.921875 \r\n",
       "z\r\n",
       "M 5.671875 0 \r\n",
       "L 22.359375 23.96875 \r\n",
       "Q 16.703125 25.25 12.9375 28.59375 \r\n",
       "Q 9.1875 31.9375 9.1875 38.921875 \r\n",
       "Q 9.1875 46.828125 14.421875 50.75 \r\n",
       "Q 19.671875 54.6875 30.28125 54.6875 \r\n",
       "L 51.65625 54.6875 \r\n",
       "L 51.65625 0 \r\n",
       "L 42.625 0 \r\n",
       "L 42.625 23.09375 \r\n",
       "L 31.453125 23.09375 \r\n",
       "L 15.328125 0 \r\n",
       "z\r\n",
       "\" id=\"DejaVuSans-1103\"/>\r\n",
       "       </defs>\r\n",
       "       <use xlink:href=\"#DejaVuSans-1087\"/>\r\n",
       "       <use x=\"65.380859\" xlink:href=\"#DejaVuSans-1086\"/>\r\n",
       "       <use x=\"126.5625\" xlink:href=\"#DejaVuSans-1083\"/>\r\n",
       "       <use x=\"190.478516\" xlink:href=\"#DejaVuSans-1091\"/>\r\n",
       "       <use x=\"249.658203\" xlink:href=\"#DejaVuSans-1095\"/>\r\n",
       "       <use x=\"308.740234\" xlink:href=\"#DejaVuSans-1077\"/>\r\n",
       "       <use x=\"370.263672\" xlink:href=\"#DejaVuSans-1085\"/>\r\n",
       "       <use x=\"435.644531\" xlink:href=\"#DejaVuSans-1080\"/>\r\n",
       "       <use x=\"500.634766\" xlink:href=\"#DejaVuSans-1077\"/>\r\n",
       "       <use x=\"562.158203\" xlink:href=\"#DejaVuSans-32\"/>\r\n",
       "       <use x=\"593.945312\" xlink:href=\"#DejaVuSans-1086\"/>\r\n",
       "       <use x=\"655.126953\" xlink:href=\"#DejaVuSans-1073\"/>\r\n",
       "       <use x=\"716.796875\" xlink:href=\"#DejaVuSans-1088\"/>\r\n",
       "       <use x=\"780.273438\" xlink:href=\"#DejaVuSans-1072\"/>\r\n",
       "       <use x=\"841.552734\" xlink:href=\"#DejaVuSans-1079\"/>\r\n",
       "       <use x=\"894.726562\" xlink:href=\"#DejaVuSans-1086\"/>\r\n",
       "       <use x=\"955.908203\" xlink:href=\"#DejaVuSans-1074\"/>\r\n",
       "       <use x=\"1014.84375\" xlink:href=\"#DejaVuSans-1072\"/>\r\n",
       "       <use x=\"1076.123047\" xlink:href=\"#DejaVuSans-1085\"/>\r\n",
       "       <use x=\"1141.503906\" xlink:href=\"#DejaVuSans-1080\"/>\r\n",
       "       <use x=\"1206.494141\" xlink:href=\"#DejaVuSans-1103\"/>\r\n",
       "      </g>\r\n",
       "     </g>\r\n",
       "    </g>\r\n",
       "    <g id=\"xtick_4\">\r\n",
       "     <g id=\"line2d_7\">\r\n",
       "      <path clip-path=\"url(#pd8cd1e409f)\" d=\"M 585.365745 301.495 \r\n",
       "L 585.365745 24.295 \r\n",
       "\" style=\"fill:none;stroke:#b0b0b0;stroke-linecap:square;stroke-width:0.8;\"/>\r\n",
       "     </g>\r\n",
       "     <g id=\"line2d_8\">\r\n",
       "      <g>\r\n",
       "       <use style=\"stroke:#000000;stroke-width:0.8;\" x=\"585.365745\" xlink:href=\"#m8e318b116e\" y=\"301.495\"/>\r\n",
       "      </g>\r\n",
       "     </g>\r\n",
       "     <g id=\"text_4\">\r\n",
       "      <!-- проведение свадьбы -->\r\n",
       "      <g transform=\"translate(529.985551 318.19763)rotate(-1)scale(0.1 -0.1)\">\r\n",
       "       <defs>\r\n",
       "        <path d=\"M 61.046875 54.6875 \r\n",
       "L 70.03125 54.6875 \r\n",
       "L 70.03125 0 \r\n",
       "L 61.046875 0 \r\n",
       "z\r\n",
       "M 65.546875 56 \r\n",
       "z\r\n",
       "M 43.453125 16.21875 \r\n",
       "Q 43.453125 20.609375 40.25 22.90625 \r\n",
       "Q 37.0625 25.203125 30.90625 25.203125 \r\n",
       "L 18.109375 25.203125 \r\n",
       "L 18.109375 7.171875 \r\n",
       "L 30.90625 7.171875 \r\n",
       "Q 37.0625 7.171875 40.25 9.484375 \r\n",
       "Q 43.453125 11.8125 43.453125 16.21875 \r\n",
       "z\r\n",
       "M 9.078125 54.6875 \r\n",
       "L 18.109375 54.6875 \r\n",
       "L 18.109375 32.375 \r\n",
       "L 31.296875 32.375 \r\n",
       "Q 41.75 32.375 47.390625 28.390625 \r\n",
       "Q 53.03125 24.421875 53.03125 16.21875 \r\n",
       "Q 53.03125 8.015625 47.390625 4 \r\n",
       "Q 41.75 0 31.296875 0 \r\n",
       "L 9.078125 0 \r\n",
       "z\r\n",
       "\" id=\"DejaVuSans-1099\"/>\r\n",
       "       </defs>\r\n",
       "       <use xlink:href=\"#DejaVuSans-1087\"/>\r\n",
       "       <use x=\"65.380859\" xlink:href=\"#DejaVuSans-1088\"/>\r\n",
       "       <use x=\"128.857422\" xlink:href=\"#DejaVuSans-1086\"/>\r\n",
       "       <use x=\"190.039062\" xlink:href=\"#DejaVuSans-1074\"/>\r\n",
       "       <use x=\"248.974609\" xlink:href=\"#DejaVuSans-1077\"/>\r\n",
       "       <use x=\"310.498047\" xlink:href=\"#DejaVuSans-1076\"/>\r\n",
       "       <use x=\"379.638672\" xlink:href=\"#DejaVuSans-1077\"/>\r\n",
       "       <use x=\"441.162109\" xlink:href=\"#DejaVuSans-1085\"/>\r\n",
       "       <use x=\"506.542969\" xlink:href=\"#DejaVuSans-1080\"/>\r\n",
       "       <use x=\"571.533203\" xlink:href=\"#DejaVuSans-1077\"/>\r\n",
       "       <use x=\"633.056641\" xlink:href=\"#DejaVuSans-32\"/>\r\n",
       "       <use x=\"664.84375\" xlink:href=\"#DejaVuSans-1089\"/>\r\n",
       "       <use x=\"719.824219\" xlink:href=\"#DejaVuSans-1074\"/>\r\n",
       "       <use x=\"778.759766\" xlink:href=\"#DejaVuSans-1072\"/>\r\n",
       "       <use x=\"840.039062\" xlink:href=\"#DejaVuSans-1076\"/>\r\n",
       "       <use x=\"909.179688\" xlink:href=\"#DejaVuSans-1100\"/>\r\n",
       "       <use x=\"968.115234\" xlink:href=\"#DejaVuSans-1073\"/>\r\n",
       "       <use x=\"1029.785156\" xlink:href=\"#DejaVuSans-1099\"/>\r\n",
       "      </g>\r\n",
       "     </g>\r\n",
       "    </g>\r\n",
       "   </g>\r\n",
       "   <g id=\"matplotlib.axis_2\">\r\n",
       "    <g id=\"ytick_1\">\r\n",
       "     <g id=\"line2d_9\">\r\n",
       "      <path clip-path=\"url(#pd8cd1e409f)\" d=\"M 34.240625 301.495 \r\n",
       "L 675.940625 301.495 \r\n",
       "\" style=\"fill:none;stroke:#b0b0b0;stroke-linecap:square;stroke-width:0.8;\"/>\r\n",
       "     </g>\r\n",
       "     <g id=\"line2d_10\">\r\n",
       "      <defs>\r\n",
       "       <path d=\"M 0 0 \r\n",
       "L -3.5 0 \r\n",
       "\" id=\"m57a2191aa4\" style=\"stroke:#000000;stroke-width:0.8;\"/>\r\n",
       "      </defs>\r\n",
       "      <g>\r\n",
       "       <use style=\"stroke:#000000;stroke-width:0.8;\" x=\"34.240625\" xlink:href=\"#m57a2191aa4\" y=\"301.495\"/>\r\n",
       "      </g>\r\n",
       "     </g>\r\n",
       "     <g id=\"text_5\">\r\n",
       "      <!-- 0 -->\r\n",
       "      <g transform=\"translate(20.878125 305.294219)scale(0.1 -0.1)\">\r\n",
       "       <defs>\r\n",
       "        <path d=\"M 31.78125 66.40625 \r\n",
       "Q 24.171875 66.40625 20.328125 58.90625 \r\n",
       "Q 16.5 51.421875 16.5 36.375 \r\n",
       "Q 16.5 21.390625 20.328125 13.890625 \r\n",
       "Q 24.171875 6.390625 31.78125 6.390625 \r\n",
       "Q 39.453125 6.390625 43.28125 13.890625 \r\n",
       "Q 47.125 21.390625 47.125 36.375 \r\n",
       "Q 47.125 51.421875 43.28125 58.90625 \r\n",
       "Q 39.453125 66.40625 31.78125 66.40625 \r\n",
       "z\r\n",
       "M 31.78125 74.21875 \r\n",
       "Q 44.046875 74.21875 50.515625 64.515625 \r\n",
       "Q 56.984375 54.828125 56.984375 36.375 \r\n",
       "Q 56.984375 17.96875 50.515625 8.265625 \r\n",
       "Q 44.046875 -1.421875 31.78125 -1.421875 \r\n",
       "Q 19.53125 -1.421875 13.0625 8.265625 \r\n",
       "Q 6.59375 17.96875 6.59375 36.375 \r\n",
       "Q 6.59375 54.828125 13.0625 64.515625 \r\n",
       "Q 19.53125 74.21875 31.78125 74.21875 \r\n",
       "z\r\n",
       "\" id=\"DejaVuSans-48\"/>\r\n",
       "       </defs>\r\n",
       "       <use xlink:href=\"#DejaVuSans-48\"/>\r\n",
       "      </g>\r\n",
       "     </g>\r\n",
       "    </g>\r\n",
       "    <g id=\"ytick_2\">\r\n",
       "     <g id=\"line2d_11\">\r\n",
       "      <path clip-path=\"url(#pd8cd1e409f)\" d=\"M 34.240625 245.024412 \r\n",
       "L 675.940625 245.024412 \r\n",
       "\" style=\"fill:none;stroke:#b0b0b0;stroke-linecap:square;stroke-width:0.8;\"/>\r\n",
       "     </g>\r\n",
       "     <g id=\"line2d_12\">\r\n",
       "      <g>\r\n",
       "       <use style=\"stroke:#000000;stroke-width:0.8;\" x=\"34.240625\" xlink:href=\"#m57a2191aa4\" y=\"245.024412\"/>\r\n",
       "      </g>\r\n",
       "     </g>\r\n",
       "     <g id=\"text_6\">\r\n",
       "      <!-- 2 -->\r\n",
       "      <g transform=\"translate(20.878125 248.823631)scale(0.1 -0.1)\">\r\n",
       "       <defs>\r\n",
       "        <path d=\"M 19.1875 8.296875 \r\n",
       "L 53.609375 8.296875 \r\n",
       "L 53.609375 0 \r\n",
       "L 7.328125 0 \r\n",
       "L 7.328125 8.296875 \r\n",
       "Q 12.9375 14.109375 22.625 23.890625 \r\n",
       "Q 32.328125 33.6875 34.8125 36.53125 \r\n",
       "Q 39.546875 41.84375 41.421875 45.53125 \r\n",
       "Q 43.3125 49.21875 43.3125 52.78125 \r\n",
       "Q 43.3125 58.59375 39.234375 62.25 \r\n",
       "Q 35.15625 65.921875 28.609375 65.921875 \r\n",
       "Q 23.96875 65.921875 18.8125 64.3125 \r\n",
       "Q 13.671875 62.703125 7.8125 59.421875 \r\n",
       "L 7.8125 69.390625 \r\n",
       "Q 13.765625 71.78125 18.9375 73 \r\n",
       "Q 24.125 74.21875 28.421875 74.21875 \r\n",
       "Q 39.75 74.21875 46.484375 68.546875 \r\n",
       "Q 53.21875 62.890625 53.21875 53.421875 \r\n",
       "Q 53.21875 48.921875 51.53125 44.890625 \r\n",
       "Q 49.859375 40.875 45.40625 35.40625 \r\n",
       "Q 44.1875 33.984375 37.640625 27.21875 \r\n",
       "Q 31.109375 20.453125 19.1875 8.296875 \r\n",
       "z\r\n",
       "\" id=\"DejaVuSans-50\"/>\r\n",
       "       </defs>\r\n",
       "       <use xlink:href=\"#DejaVuSans-50\"/>\r\n",
       "      </g>\r\n",
       "     </g>\r\n",
       "    </g>\r\n",
       "    <g id=\"ytick_3\">\r\n",
       "     <g id=\"line2d_13\">\r\n",
       "      <path clip-path=\"url(#pd8cd1e409f)\" d=\"M 34.240625 188.553824 \r\n",
       "L 675.940625 188.553824 \r\n",
       "\" style=\"fill:none;stroke:#b0b0b0;stroke-linecap:square;stroke-width:0.8;\"/>\r\n",
       "     </g>\r\n",
       "     <g id=\"line2d_14\">\r\n",
       "      <g>\r\n",
       "       <use style=\"stroke:#000000;stroke-width:0.8;\" x=\"34.240625\" xlink:href=\"#m57a2191aa4\" y=\"188.553824\"/>\r\n",
       "      </g>\r\n",
       "     </g>\r\n",
       "     <g id=\"text_7\">\r\n",
       "      <!-- 4 -->\r\n",
       "      <g transform=\"translate(20.878125 192.353042)scale(0.1 -0.1)\">\r\n",
       "       <defs>\r\n",
       "        <path d=\"M 37.796875 64.3125 \r\n",
       "L 12.890625 25.390625 \r\n",
       "L 37.796875 25.390625 \r\n",
       "z\r\n",
       "M 35.203125 72.90625 \r\n",
       "L 47.609375 72.90625 \r\n",
       "L 47.609375 25.390625 \r\n",
       "L 58.015625 25.390625 \r\n",
       "L 58.015625 17.1875 \r\n",
       "L 47.609375 17.1875 \r\n",
       "L 47.609375 0 \r\n",
       "L 37.796875 0 \r\n",
       "L 37.796875 17.1875 \r\n",
       "L 4.890625 17.1875 \r\n",
       "L 4.890625 26.703125 \r\n",
       "z\r\n",
       "\" id=\"DejaVuSans-52\"/>\r\n",
       "       </defs>\r\n",
       "       <use xlink:href=\"#DejaVuSans-52\"/>\r\n",
       "      </g>\r\n",
       "     </g>\r\n",
       "    </g>\r\n",
       "    <g id=\"ytick_4\">\r\n",
       "     <g id=\"line2d_15\">\r\n",
       "      <path clip-path=\"url(#pd8cd1e409f)\" d=\"M 34.240625 132.083235 \r\n",
       "L 675.940625 132.083235 \r\n",
       "\" style=\"fill:none;stroke:#b0b0b0;stroke-linecap:square;stroke-width:0.8;\"/>\r\n",
       "     </g>\r\n",
       "     <g id=\"line2d_16\">\r\n",
       "      <g>\r\n",
       "       <use style=\"stroke:#000000;stroke-width:0.8;\" x=\"34.240625\" xlink:href=\"#m57a2191aa4\" y=\"132.083235\"/>\r\n",
       "      </g>\r\n",
       "     </g>\r\n",
       "     <g id=\"text_8\">\r\n",
       "      <!-- 6 -->\r\n",
       "      <g transform=\"translate(20.878125 135.882454)scale(0.1 -0.1)\">\r\n",
       "       <defs>\r\n",
       "        <path d=\"M 33.015625 40.375 \r\n",
       "Q 26.375 40.375 22.484375 35.828125 \r\n",
       "Q 18.609375 31.296875 18.609375 23.390625 \r\n",
       "Q 18.609375 15.53125 22.484375 10.953125 \r\n",
       "Q 26.375 6.390625 33.015625 6.390625 \r\n",
       "Q 39.65625 6.390625 43.53125 10.953125 \r\n",
       "Q 47.40625 15.53125 47.40625 23.390625 \r\n",
       "Q 47.40625 31.296875 43.53125 35.828125 \r\n",
       "Q 39.65625 40.375 33.015625 40.375 \r\n",
       "z\r\n",
       "M 52.59375 71.296875 \r\n",
       "L 52.59375 62.3125 \r\n",
       "Q 48.875 64.0625 45.09375 64.984375 \r\n",
       "Q 41.3125 65.921875 37.59375 65.921875 \r\n",
       "Q 27.828125 65.921875 22.671875 59.328125 \r\n",
       "Q 17.53125 52.734375 16.796875 39.40625 \r\n",
       "Q 19.671875 43.65625 24.015625 45.921875 \r\n",
       "Q 28.375 48.1875 33.59375 48.1875 \r\n",
       "Q 44.578125 48.1875 50.953125 41.515625 \r\n",
       "Q 57.328125 34.859375 57.328125 23.390625 \r\n",
       "Q 57.328125 12.15625 50.6875 5.359375 \r\n",
       "Q 44.046875 -1.421875 33.015625 -1.421875 \r\n",
       "Q 20.359375 -1.421875 13.671875 8.265625 \r\n",
       "Q 6.984375 17.96875 6.984375 36.375 \r\n",
       "Q 6.984375 53.65625 15.1875 63.9375 \r\n",
       "Q 23.390625 74.21875 37.203125 74.21875 \r\n",
       "Q 40.921875 74.21875 44.703125 73.484375 \r\n",
       "Q 48.484375 72.75 52.59375 71.296875 \r\n",
       "z\r\n",
       "\" id=\"DejaVuSans-54\"/>\r\n",
       "       </defs>\r\n",
       "       <use xlink:href=\"#DejaVuSans-54\"/>\r\n",
       "      </g>\r\n",
       "     </g>\r\n",
       "    </g>\r\n",
       "    <g id=\"ytick_5\">\r\n",
       "     <g id=\"line2d_17\">\r\n",
       "      <path clip-path=\"url(#pd8cd1e409f)\" d=\"M 34.240625 75.612647 \r\n",
       "L 675.940625 75.612647 \r\n",
       "\" style=\"fill:none;stroke:#b0b0b0;stroke-linecap:square;stroke-width:0.8;\"/>\r\n",
       "     </g>\r\n",
       "     <g id=\"line2d_18\">\r\n",
       "      <g>\r\n",
       "       <use style=\"stroke:#000000;stroke-width:0.8;\" x=\"34.240625\" xlink:href=\"#m57a2191aa4\" y=\"75.612647\"/>\r\n",
       "      </g>\r\n",
       "     </g>\r\n",
       "     <g id=\"text_9\">\r\n",
       "      <!-- 8 -->\r\n",
       "      <g transform=\"translate(20.878125 79.411866)scale(0.1 -0.1)\">\r\n",
       "       <defs>\r\n",
       "        <path d=\"M 31.78125 34.625 \r\n",
       "Q 24.75 34.625 20.71875 30.859375 \r\n",
       "Q 16.703125 27.09375 16.703125 20.515625 \r\n",
       "Q 16.703125 13.921875 20.71875 10.15625 \r\n",
       "Q 24.75 6.390625 31.78125 6.390625 \r\n",
       "Q 38.8125 6.390625 42.859375 10.171875 \r\n",
       "Q 46.921875 13.96875 46.921875 20.515625 \r\n",
       "Q 46.921875 27.09375 42.890625 30.859375 \r\n",
       "Q 38.875 34.625 31.78125 34.625 \r\n",
       "z\r\n",
       "M 21.921875 38.8125 \r\n",
       "Q 15.578125 40.375 12.03125 44.71875 \r\n",
       "Q 8.5 49.078125 8.5 55.328125 \r\n",
       "Q 8.5 64.0625 14.71875 69.140625 \r\n",
       "Q 20.953125 74.21875 31.78125 74.21875 \r\n",
       "Q 42.671875 74.21875 48.875 69.140625 \r\n",
       "Q 55.078125 64.0625 55.078125 55.328125 \r\n",
       "Q 55.078125 49.078125 51.53125 44.71875 \r\n",
       "Q 48 40.375 41.703125 38.8125 \r\n",
       "Q 48.828125 37.15625 52.796875 32.3125 \r\n",
       "Q 56.78125 27.484375 56.78125 20.515625 \r\n",
       "Q 56.78125 9.90625 50.3125 4.234375 \r\n",
       "Q 43.84375 -1.421875 31.78125 -1.421875 \r\n",
       "Q 19.734375 -1.421875 13.25 4.234375 \r\n",
       "Q 6.78125 9.90625 6.78125 20.515625 \r\n",
       "Q 6.78125 27.484375 10.78125 32.3125 \r\n",
       "Q 14.796875 37.15625 21.921875 38.8125 \r\n",
       "z\r\n",
       "M 18.3125 54.390625 \r\n",
       "Q 18.3125 48.734375 21.84375 45.5625 \r\n",
       "Q 25.390625 42.390625 31.78125 42.390625 \r\n",
       "Q 38.140625 42.390625 41.71875 45.5625 \r\n",
       "Q 45.3125 48.734375 45.3125 54.390625 \r\n",
       "Q 45.3125 60.0625 41.71875 63.234375 \r\n",
       "Q 38.140625 66.40625 31.78125 66.40625 \r\n",
       "Q 25.390625 66.40625 21.84375 63.234375 \r\n",
       "Q 18.3125 60.0625 18.3125 54.390625 \r\n",
       "z\r\n",
       "\" id=\"DejaVuSans-56\"/>\r\n",
       "       </defs>\r\n",
       "       <use xlink:href=\"#DejaVuSans-56\"/>\r\n",
       "      </g>\r\n",
       "     </g>\r\n",
       "    </g>\r\n",
       "    <g id=\"text_10\">\r\n",
       "     <!-- % с задолженностями по возврату -->\r\n",
       "     <g transform=\"translate(14.720313 263.289531)rotate(-90)scale(0.1 -0.1)\">\r\n",
       "      <defs>\r\n",
       "       <path d=\"M 77.484375 30.078125 \r\n",
       "Q 74.03125 30.078125 72.125 27.078125 \r\n",
       "Q 70.21875 24.078125 70.21875 18.5 \r\n",
       "Q 70.21875 12.890625 72.09375 9.890625 \r\n",
       "Q 73.96875 6.890625 77.484375 6.890625 \r\n",
       "Q 81 6.890625 82.859375 9.890625 \r\n",
       "Q 84.71875 12.890625 84.71875 18.5 \r\n",
       "Q 84.71875 24.078125 82.828125 27.078125 \r\n",
       "Q 80.953125 30.078125 77.484375 30.078125 \r\n",
       "z\r\n",
       "M 77.484375 38.28125 \r\n",
       "Q 86.578125 38.28125 91.796875 33 \r\n",
       "Q 97.015625 27.734375 97.015625 18.5 \r\n",
       "Q 97.015625 9.28125 91.796875 3.921875 \r\n",
       "Q 86.578125 -1.421875 77.484375 -1.421875 \r\n",
       "Q 68.40625 -1.421875 63.15625 3.921875 \r\n",
       "Q 57.90625 9.28125 57.90625 18.5 \r\n",
       "Q 57.90625 27.6875 63.15625 32.984375 \r\n",
       "Q 68.40625 38.28125 77.484375 38.28125 \r\n",
       "z\r\n",
       "M 32.71875 -1.421875 \r\n",
       "L 21.921875 -1.421875 \r\n",
       "L 67.484375 74.21875 \r\n",
       "L 78.328125 74.21875 \r\n",
       "z\r\n",
       "M 22.703125 74.21875 \r\n",
       "Q 31.78125 74.21875 36.984375 68.921875 \r\n",
       "Q 42.1875 63.625 42.1875 54.390625 \r\n",
       "Q 42.1875 45.171875 36.984375 39.84375 \r\n",
       "Q 31.78125 34.515625 22.703125 34.515625 \r\n",
       "Q 13.625 34.515625 8.421875 39.84375 \r\n",
       "Q 3.21875 45.171875 3.21875 54.390625 \r\n",
       "Q 3.21875 63.625 8.421875 68.921875 \r\n",
       "Q 13.625 74.21875 22.703125 74.21875 \r\n",
       "z\r\n",
       "M 22.703125 66.015625 \r\n",
       "Q 19.1875 66.015625 17.28125 62.984375 \r\n",
       "Q 15.375 59.96875 15.375 54.390625 \r\n",
       "Q 15.375 48.78125 17.28125 45.71875 \r\n",
       "Q 19.1875 42.671875 22.703125 42.671875 \r\n",
       "Q 26.21875 42.671875 28.09375 45.71875 \r\n",
       "Q 29.984375 48.78125 29.984375 54.390625 \r\n",
       "Q 29.984375 59.96875 28.078125 62.984375 \r\n",
       "Q 26.171875 66.015625 22.703125 66.015625 \r\n",
       "z\r\n",
       "\" id=\"DejaVuSans-Bold-37\"/>\r\n",
       "       <path id=\"DejaVuSans-Bold-32\"/>\r\n",
       "       <path d=\"M 52.59375 52.984375 \r\n",
       "L 52.59375 38.71875 \r\n",
       "Q 49.03125 41.15625 45.4375 42.328125 \r\n",
       "Q 41.84375 43.5 37.984375 43.5 \r\n",
       "Q 30.671875 43.5 26.59375 39.234375 \r\n",
       "Q 22.515625 34.96875 22.515625 27.296875 \r\n",
       "Q 22.515625 19.625 26.59375 15.34375 \r\n",
       "Q 30.671875 11.078125 37.984375 11.078125 \r\n",
       "Q 42.09375 11.078125 45.78125 12.296875 \r\n",
       "Q 49.46875 13.53125 52.59375 15.921875 \r\n",
       "L 52.59375 1.609375 \r\n",
       "Q 48.484375 0.09375 44.265625 -0.65625 \r\n",
       "Q 40.046875 -1.421875 35.796875 -1.421875 \r\n",
       "Q 21 -1.421875 12.640625 6.171875 \r\n",
       "Q 4.296875 13.765625 4.296875 27.296875 \r\n",
       "Q 4.296875 40.828125 12.640625 48.40625 \r\n",
       "Q 21 56 35.796875 56 \r\n",
       "Q 40.09375 56 44.265625 55.25 \r\n",
       "Q 48.4375 54.5 52.59375 52.984375 \r\n",
       "z\r\n",
       "\" id=\"DejaVuSans-Bold-1089\"/>\r\n",
       "       <path d=\"M 14.0625 34.078125 \r\n",
       "L 22.078125 34.078125 \r\n",
       "Q 29.25 34.078125 31.859375 35.640625 \r\n",
       "Q 34.46875 37.203125 34.46875 39.359375 \r\n",
       "Q 34.46875 44.390625 22.953125 44.390625 \r\n",
       "Q 13.328125 44.390625 7.375 41.015625 \r\n",
       "L 7.375 53.65625 \r\n",
       "Q 16.265625 56 26.765625 56 \r\n",
       "Q 39.0625 56 44.71875 52.515625 \r\n",
       "Q 50.390625 49.03125 50.390625 41.65625 \r\n",
       "Q 50.390625 31.984375 39.703125 29.5 \r\n",
       "Q 51.765625 26.515625 51.765625 15.53125 \r\n",
       "Q 51.765625 7.078125 45.125 2.828125 \r\n",
       "Q 38.484375 -1.421875 24.265625 -1.421875 \r\n",
       "Q 13.671875 -1.421875 4.890625 1.3125 \r\n",
       "L 4.890625 14.796875 \r\n",
       "Q 15.828125 10.203125 22.3125 10.203125 \r\n",
       "Q 29.4375 10.203125 32.640625 12.125 \r\n",
       "Q 35.84375 14.0625 35.84375 16.5 \r\n",
       "Q 35.84375 23.296875 21.78125 23.296875 \r\n",
       "L 14.0625 23.296875 \r\n",
       "z\r\n",
       "\" id=\"DejaVuSans-Bold-1079\"/>\r\n",
       "       <path d=\"M 32.90625 24.609375 \r\n",
       "Q 27.4375 24.609375 24.671875 22.75 \r\n",
       "Q 21.921875 20.90625 21.921875 17.28125 \r\n",
       "Q 21.921875 13.96875 24.140625 12.078125 \r\n",
       "Q 26.375 10.203125 30.328125 10.203125 \r\n",
       "Q 35.25 10.203125 38.625 13.734375 \r\n",
       "Q 42 17.28125 42 22.609375 \r\n",
       "L 42 24.609375 \r\n",
       "z\r\n",
       "M 59.625 31.203125 \r\n",
       "L 59.625 0 \r\n",
       "L 42 0 \r\n",
       "L 42 8.109375 \r\n",
       "Q 38.484375 3.125 34.078125 0.84375 \r\n",
       "Q 29.6875 -1.421875 23.390625 -1.421875 \r\n",
       "Q 14.890625 -1.421875 9.59375 3.53125 \r\n",
       "Q 4.296875 8.5 4.296875 16.40625 \r\n",
       "Q 4.296875 26.03125 10.90625 30.515625 \r\n",
       "Q 17.53125 35.015625 31.6875 35.015625 \r\n",
       "L 42 35.015625 \r\n",
       "L 42 36.375 \r\n",
       "Q 42 40.53125 38.71875 42.453125 \r\n",
       "Q 35.453125 44.390625 28.515625 44.390625 \r\n",
       "Q 22.90625 44.390625 18.0625 43.265625 \r\n",
       "Q 13.234375 42.140625 9.078125 39.890625 \r\n",
       "L 9.078125 53.21875 \r\n",
       "Q 14.703125 54.59375 20.359375 55.296875 \r\n",
       "Q 26.03125 56 31.6875 56 \r\n",
       "Q 46.484375 56 53.046875 50.171875 \r\n",
       "Q 59.625 44.34375 59.625 31.203125 \r\n",
       "z\r\n",
       "\" id=\"DejaVuSans-Bold-1072\"/>\r\n",
       "       <path d=\"M 8.546875 12.5 \r\n",
       "Q 14.109375 14.359375 16.453125 20.53125 \r\n",
       "Q 18.796875 26.703125 18.796875 44.34375 \r\n",
       "L 18.796875 54.6875 \r\n",
       "L 66.0625 54.6875 \r\n",
       "L 66.0625 12.5 \r\n",
       "L 75.140625 12.5 \r\n",
       "L 75.140625 -13.8125 \r\n",
       "L 62.640625 -13.8125 \r\n",
       "L 62.640625 0 \r\n",
       "L 18.109375 0 \r\n",
       "L 18.109375 -13.8125 \r\n",
       "L 5.609375 -13.8125 \r\n",
       "L 5.609375 12.5 \r\n",
       "z\r\n",
       "M 48.578125 42.1875 \r\n",
       "L 36.28125 42.1875 \r\n",
       "L 36.28125 40.671875 \r\n",
       "Q 36.28125 22.75 32.234375 12.5 \r\n",
       "L 48.578125 12.5 \r\n",
       "z\r\n",
       "\" id=\"DejaVuSans-Bold-1076\"/>\r\n",
       "       <path d=\"M 34.421875 43.5 \r\n",
       "Q 28.609375 43.5 25.5625 39.328125 \r\n",
       "Q 22.515625 35.15625 22.515625 27.296875 \r\n",
       "Q 22.515625 19.4375 25.5625 15.25 \r\n",
       "Q 28.609375 11.078125 34.421875 11.078125 \r\n",
       "Q 40.140625 11.078125 43.15625 15.25 \r\n",
       "Q 46.1875 19.4375 46.1875 27.296875 \r\n",
       "Q 46.1875 35.15625 43.15625 39.328125 \r\n",
       "Q 40.140625 43.5 34.421875 43.5 \r\n",
       "z\r\n",
       "M 34.421875 56 \r\n",
       "Q 48.53125 56 56.46875 48.375 \r\n",
       "Q 64.40625 40.765625 64.40625 27.296875 \r\n",
       "Q 64.40625 13.8125 56.46875 6.1875 \r\n",
       "Q 48.53125 -1.421875 34.421875 -1.421875 \r\n",
       "Q 20.265625 -1.421875 12.28125 6.1875 \r\n",
       "Q 4.296875 13.8125 4.296875 27.296875 \r\n",
       "Q 4.296875 40.765625 12.28125 48.375 \r\n",
       "Q 20.265625 56 34.421875 56 \r\n",
       "z\r\n",
       "\" id=\"DejaVuSans-Bold-1086\"/>\r\n",
       "       <path d=\"M 5.515625 0 \r\n",
       "L 5.515625 12.5 \r\n",
       "Q 14.15625 14.265625 16.109375 19.96875 \r\n",
       "Q 17.578125 24.3125 17.578125 45.75 \r\n",
       "L 17.578125 54.6875 \r\n",
       "L 64.84375 54.6875 \r\n",
       "L 64.84375 0 \r\n",
       "L 47.359375 0 \r\n",
       "L 47.359375 42.1875 \r\n",
       "L 35.0625 42.1875 \r\n",
       "L 35.0625 40.375 \r\n",
       "Q 35.0625 18.953125 31.6875 12.703125 \r\n",
       "Q 24.859375 0 5.515625 0 \r\n",
       "z\r\n",
       "\" id=\"DejaVuSans-Bold-1083\"/>\r\n",
       "       <path d=\"M 1.46875 0 \r\n",
       "L 26.21875 32.46875 \r\n",
       "L 3.375 54.6875 \r\n",
       "L 22.515625 54.6875 \r\n",
       "L 41.015625 36.671875 \r\n",
       "L 41.015625 54.6875 \r\n",
       "L 58.5 54.6875 \r\n",
       "L 58.5 36.671875 \r\n",
       "L 77 54.6875 \r\n",
       "L 96.140625 54.6875 \r\n",
       "L 73.296875 32.46875 \r\n",
       "L 98.046875 0 \r\n",
       "L 79.984375 0 \r\n",
       "L 62.890625 22.359375 \r\n",
       "L 58.5 18.109375 \r\n",
       "L 58.5 0 \r\n",
       "L 41.015625 0 \r\n",
       "L 41.015625 18.109375 \r\n",
       "L 36.625 22.359375 \r\n",
       "L 19.53125 0 \r\n",
       "z\r\n",
       "\" id=\"DejaVuSans-Bold-1078\"/>\r\n",
       "       <path d=\"M 62.984375 27.484375 \r\n",
       "L 62.984375 22.515625 \r\n",
       "L 22.125 22.515625 \r\n",
       "Q 22.75 16.359375 26.5625 13.28125 \r\n",
       "Q 30.375 10.203125 37.203125 10.203125 \r\n",
       "Q 42.71875 10.203125 48.5 11.84375 \r\n",
       "Q 54.296875 13.484375 60.40625 16.796875 \r\n",
       "L 60.40625 3.328125 \r\n",
       "Q 54.203125 0.984375 48 -0.21875 \r\n",
       "Q 41.796875 -1.421875 35.59375 -1.421875 \r\n",
       "Q 20.75 -1.421875 12.515625 6.125 \r\n",
       "Q 4.296875 13.671875 4.296875 27.296875 \r\n",
       "Q 4.296875 40.671875 12.375 48.328125 \r\n",
       "Q 20.453125 56 34.625 56 \r\n",
       "Q 47.515625 56 55.25 48.234375 \r\n",
       "Q 62.984375 40.484375 62.984375 27.484375 \r\n",
       "z\r\n",
       "M 45.015625 33.296875 \r\n",
       "Q 45.015625 38.28125 42.109375 41.328125 \r\n",
       "Q 39.203125 44.390625 34.515625 44.390625 \r\n",
       "Q 29.4375 44.390625 26.265625 41.53125 \r\n",
       "Q 23.09375 38.671875 22.3125 33.296875 \r\n",
       "z\r\n",
       "\" id=\"DejaVuSans-Bold-1077\"/>\r\n",
       "       <path d=\"M 8.40625 54.6875 \r\n",
       "L 25.875 54.6875 \r\n",
       "L 25.875 33.890625 \r\n",
       "L 43.21875 33.890625 \r\n",
       "L 43.21875 54.6875 \r\n",
       "L 60.6875 54.6875 \r\n",
       "L 60.6875 0 \r\n",
       "L 43.21875 0 \r\n",
       "L 43.21875 23.09375 \r\n",
       "L 25.875 23.09375 \r\n",
       "L 25.875 0 \r\n",
       "L 8.40625 0 \r\n",
       "z\r\n",
       "\" id=\"DejaVuSans-Bold-1085\"/>\r\n",
       "       <path d=\"M 0.390625 54.6875 \r\n",
       "L 57.515625 54.6875 \r\n",
       "L 57.515625 43.890625 \r\n",
       "L 37.703125 43.890625 \r\n",
       "L 37.703125 0 \r\n",
       "L 20.265625 0 \r\n",
       "L 20.265625 43.890625 \r\n",
       "L 0.390625 43.890625 \r\n",
       "z\r\n",
       "\" id=\"DejaVuSans-Bold-1090\"/>\r\n",
       "       <path d=\"M 23.875 37.40625 \r\n",
       "Q 23.875 33.890625 25.796875 32.328125 \r\n",
       "Q 27.734375 30.765625 32.171875 30.765625 \r\n",
       "L 38.484375 30.765625 \r\n",
       "L 38.484375 44 \r\n",
       "L 32.171875 44 \r\n",
       "Q 27.734375 44 25.796875 42.484375 \r\n",
       "Q 23.875 40.96875 23.875 37.40625 \r\n",
       "z\r\n",
       "M 3.078125 0 \r\n",
       "L 17.390625 23.390625 \r\n",
       "Q 13.234375 25.78125 10.15625 29.953125 \r\n",
       "Q 7.078125 34.125 7.078125 39.3125 \r\n",
       "Q 7.078125 47.078125 12.328125 50.875 \r\n",
       "Q 17.578125 54.6875 29.34375 54.6875 \r\n",
       "L 55.953125 54.6875 \r\n",
       "L 55.953125 0 \r\n",
       "L 38.484375 0 \r\n",
       "L 38.484375 19.96875 \r\n",
       "L 32.328125 19.96875 \r\n",
       "L 20.125 0 \r\n",
       "z\r\n",
       "\" id=\"DejaVuSans-Bold-1103\"/>\r\n",
       "       <path d=\"M 8.40625 54.6875 \r\n",
       "L 28.515625 54.6875 \r\n",
       "L 40.828125 27.34375 \r\n",
       "L 53.125 54.6875 \r\n",
       "L 73.296875 54.6875 \r\n",
       "L 73.296875 0 \r\n",
       "L 55.859375 0 \r\n",
       "L 55.859375 31 \r\n",
       "L 46.625 10.5 \r\n",
       "L 35.15625 10.5 \r\n",
       "L 25.875 31 \r\n",
       "L 25.875 0 \r\n",
       "L 8.40625 0 \r\n",
       "z\r\n",
       "\" id=\"DejaVuSans-Bold-1084\"/>\r\n",
       "       <path d=\"M 61.671875 54.6875 \r\n",
       "L 61.671875 0 \r\n",
       "L 44.1875 0 \r\n",
       "L 44.1875 29.109375 \r\n",
       "L 26.5625 0 \r\n",
       "L 8.40625 0 \r\n",
       "L 8.40625 54.6875 \r\n",
       "L 25.875 54.6875 \r\n",
       "L 25.875 25.59375 \r\n",
       "L 43.5 54.6875 \r\n",
       "z\r\n",
       "\" id=\"DejaVuSans-Bold-1080\"/>\r\n",
       "       <path d=\"M 60.6875 54.6875 \r\n",
       "L 60.6875 0 \r\n",
       "L 43.21875 0 \r\n",
       "L 43.21875 42.1875 \r\n",
       "L 25.875 42.1875 \r\n",
       "L 25.875 0 \r\n",
       "L 8.40625 0 \r\n",
       "L 8.40625 54.6875 \r\n",
       "z\r\n",
       "\" id=\"DejaVuSans-Bold-1087\"/>\r\n",
       "       <path d=\"M 34.125 34.078125 \r\n",
       "Q 37.15625 34.078125 38.71875 35.328125 \r\n",
       "Q 40.28125 36.578125 40.28125 39.015625 \r\n",
       "Q 40.28125 41.453125 38.71875 42.671875 \r\n",
       "Q 37.15625 43.890625 34.125 43.890625 \r\n",
       "L 25.875 43.890625 \r\n",
       "L 25.875 34.078125 \r\n",
       "z\r\n",
       "M 34.71875 10.9375 \r\n",
       "Q 38.578125 10.9375 40.53125 12.46875 \r\n",
       "Q 42.484375 14.015625 42.484375 17.09375 \r\n",
       "Q 42.484375 20.125 40.53125 21.625 \r\n",
       "Q 38.578125 23.140625 34.71875 23.140625 \r\n",
       "L 25.875 23.140625 \r\n",
       "L 25.875 10.9375 \r\n",
       "z\r\n",
       "M 8.40625 54.6875 \r\n",
       "L 33.453125 54.6875 \r\n",
       "Q 45.609375 54.6875 51.046875 51.234375 \r\n",
       "Q 56.5 47.796875 56.5 40.234375 \r\n",
       "Q 56.5 36.234375 54.484375 33.421875 \r\n",
       "Q 52.484375 30.609375 48.734375 29.25 \r\n",
       "Q 53.5625 27.9375 56.21875 24.390625 \r\n",
       "Q 58.890625 20.84375 58.890625 15.671875 \r\n",
       "Q 58.890625 7.765625 53.171875 3.875 \r\n",
       "Q 47.46875 0 35.84375 0 \r\n",
       "L 8.40625 0 \r\n",
       "z\r\n",
       "\" id=\"DejaVuSans-Bold-1074\"/>\r\n",
       "       <path d=\"M 25.875 7.90625 \r\n",
       "L 25.875 -20.796875 \r\n",
       "L 8.40625 -20.796875 \r\n",
       "L 8.40625 54.6875 \r\n",
       "L 25.875 54.6875 \r\n",
       "L 25.875 46.6875 \r\n",
       "Q 29.5 51.46875 33.890625 53.734375 \r\n",
       "Q 38.28125 56 44 56 \r\n",
       "Q 54.109375 56 60.59375 47.96875 \r\n",
       "Q 67.09375 39.9375 67.09375 27.296875 \r\n",
       "Q 67.09375 14.65625 60.59375 6.609375 \r\n",
       "Q 54.109375 -1.421875 44 -1.421875 \r\n",
       "Q 38.28125 -1.421875 33.890625 0.84375 \r\n",
       "Q 29.5 3.125 25.875 7.90625 \r\n",
       "z\r\n",
       "M 37.5 43.3125 \r\n",
       "Q 31.890625 43.3125 28.875 39.1875 \r\n",
       "Q 25.875 35.0625 25.875 27.296875 \r\n",
       "Q 25.875 19.53125 28.875 15.40625 \r\n",
       "Q 31.890625 11.28125 37.5 11.28125 \r\n",
       "Q 43.109375 11.28125 46.0625 15.375 \r\n",
       "Q 49.03125 19.484375 49.03125 27.296875 \r\n",
       "Q 49.03125 35.109375 46.0625 39.203125 \r\n",
       "Q 43.109375 43.3125 37.5 43.3125 \r\n",
       "z\r\n",
       "\" id=\"DejaVuSans-Bold-1088\"/>\r\n",
       "       <path d=\"M 1.21875 54.6875 \r\n",
       "L 18.703125 54.6875 \r\n",
       "L 33.40625 17.578125 \r\n",
       "L 45.90625 54.6875 \r\n",
       "L 63.375 54.6875 \r\n",
       "L 40.375 -5.171875 \r\n",
       "Q 36.921875 -14.3125 32.296875 -17.9375 \r\n",
       "Q 27.6875 -21.578125 20.125 -21.578125 \r\n",
       "L 10.015625 -21.578125 \r\n",
       "L 10.015625 -10.109375 \r\n",
       "L 15.484375 -10.109375 \r\n",
       "Q 19.921875 -10.109375 21.9375 -8.6875 \r\n",
       "Q 23.96875 -7.28125 25.09375 -3.609375 \r\n",
       "L 25.59375 -2.09375 \r\n",
       "z\r\n",
       "\" id=\"DejaVuSans-Bold-1091\"/>\r\n",
       "      </defs>\r\n",
       "      <use xlink:href=\"#DejaVuSans-Bold-37\"/>\r\n",
       "      <use x=\"100.195312\" xlink:href=\"#DejaVuSans-Bold-32\"/>\r\n",
       "      <use x=\"135.009766\" xlink:href=\"#DejaVuSans-Bold-1089\"/>\r\n",
       "      <use x=\"194.287109\" xlink:href=\"#DejaVuSans-Bold-32\"/>\r\n",
       "      <use x=\"229.101562\" xlink:href=\"#DejaVuSans-Bold-1079\"/>\r\n",
       "      <use x=\"287.207031\" xlink:href=\"#DejaVuSans-Bold-1072\"/>\r\n",
       "      <use x=\"354.6875\" xlink:href=\"#DejaVuSans-Bold-1076\"/>\r\n",
       "      <use x=\"435.449219\" xlink:href=\"#DejaVuSans-Bold-1086\"/>\r\n",
       "      <use x=\"504.150391\" xlink:href=\"#DejaVuSans-Bold-1083\"/>\r\n",
       "      <use x=\"577.392578\" xlink:href=\"#DejaVuSans-Bold-1078\"/>\r\n",
       "      <use x=\"676.904297\" xlink:href=\"#DejaVuSans-Bold-1077\"/>\r\n",
       "      <use x=\"744.726562\" xlink:href=\"#DejaVuSans-Bold-1085\"/>\r\n",
       "      <use x=\"813.818359\" xlink:href=\"#DejaVuSans-Bold-1085\"/>\r\n",
       "      <use x=\"882.910156\" xlink:href=\"#DejaVuSans-Bold-1086\"/>\r\n",
       "      <use x=\"951.611328\" xlink:href=\"#DejaVuSans-Bold-1089\"/>\r\n",
       "      <use x=\"1010.888672\" xlink:href=\"#DejaVuSans-Bold-1090\"/>\r\n",
       "      <use x=\"1068.847656\" xlink:href=\"#DejaVuSans-Bold-1103\"/>\r\n",
       "      <use x=\"1133.056641\" xlink:href=\"#DejaVuSans-Bold-1084\"/>\r\n",
       "      <use x=\"1214.794922\" xlink:href=\"#DejaVuSans-Bold-1080\"/>\r\n",
       "      <use x=\"1284.863281\" xlink:href=\"#DejaVuSans-Bold-32\"/>\r\n",
       "      <use x=\"1319.677734\" xlink:href=\"#DejaVuSans-Bold-1087\"/>\r\n",
       "      <use x=\"1388.769531\" xlink:href=\"#DejaVuSans-Bold-1086\"/>\r\n",
       "      <use x=\"1457.470703\" xlink:href=\"#DejaVuSans-Bold-32\"/>\r\n",
       "      <use x=\"1492.285156\" xlink:href=\"#DejaVuSans-Bold-1074\"/>\r\n",
       "      <use x=\"1555.566406\" xlink:href=\"#DejaVuSans-Bold-1086\"/>\r\n",
       "      <use x=\"1624.267578\" xlink:href=\"#DejaVuSans-Bold-1079\"/>\r\n",
       "      <use x=\"1682.373047\" xlink:href=\"#DejaVuSans-Bold-1074\"/>\r\n",
       "      <use x=\"1745.654297\" xlink:href=\"#DejaVuSans-Bold-1088\"/>\r\n",
       "      <use x=\"1817.236328\" xlink:href=\"#DejaVuSans-Bold-1072\"/>\r\n",
       "      <use x=\"1884.716797\" xlink:href=\"#DejaVuSans-Bold-1090\"/>\r\n",
       "      <use x=\"1942.675781\" xlink:href=\"#DejaVuSans-Bold-1091\"/>\r\n",
       "     </g>\r\n",
       "    </g>\r\n",
       "   </g>\r\n",
       "   <g id=\"patch_7\">\r\n",
       "    <path d=\"M 34.240625 301.495 \r\n",
       "L 34.240625 24.295 \r\n",
       "\" style=\"fill:none;stroke:#000000;stroke-linecap:square;stroke-linejoin:miter;stroke-width:0.8;\"/>\r\n",
       "   </g>\r\n",
       "   <g id=\"patch_8\">\r\n",
       "    <path d=\"M 675.940625 301.495 \r\n",
       "L 675.940625 24.295 \r\n",
       "\" style=\"fill:none;stroke:#000000;stroke-linecap:square;stroke-linejoin:miter;stroke-width:0.8;\"/>\r\n",
       "   </g>\r\n",
       "   <g id=\"patch_9\">\r\n",
       "    <path d=\"M 34.240625 301.495 \r\n",
       "L 675.940625 301.495 \r\n",
       "\" style=\"fill:none;stroke:#000000;stroke-linecap:square;stroke-linejoin:miter;stroke-width:0.8;\"/>\r\n",
       "   </g>\r\n",
       "   <g id=\"patch_10\">\r\n",
       "    <path d=\"M 34.240625 24.295 \r\n",
       "L 675.940625 24.295 \r\n",
       "\" style=\"fill:none;stroke:#000000;stroke-linecap:square;stroke-linejoin:miter;stroke-width:0.8;\"/>\r\n",
       "   </g>\r\n",
       "   <g id=\"text_11\">\r\n",
       "    <!-- цели кредита и % проблемных клиентов в них -->\r\n",
       "    <g transform=\"translate(165.124844 18.295)scale(0.14 -0.14)\">\r\n",
       "     <defs>\r\n",
       "      <path d=\"M 57.28125 -13.8125 \r\n",
       "L 57.28125 0 \r\n",
       "L 8.40625 0 \r\n",
       "L 8.40625 54.6875 \r\n",
       "L 25.875 54.6875 \r\n",
       "L 25.875 12.5 \r\n",
       "L 43.21875 12.5 \r\n",
       "L 43.21875 54.6875 \r\n",
       "L 60.6875 54.6875 \r\n",
       "L 60.6875 12.5 \r\n",
       "L 69.78125 12.5 \r\n",
       "L 69.78125 -13.8125 \r\n",
       "z\r\n",
       "\" id=\"DejaVuSans-Bold-1094\"/>\r\n",
       "      <path d=\"M 8.40625 54.6875 \r\n",
       "L 25.875 54.6875 \r\n",
       "L 25.875 36.1875 \r\n",
       "L 45.359375 54.6875 \r\n",
       "L 64.5 54.6875 \r\n",
       "L 41.15625 32.46875 \r\n",
       "L 66.40625 0 \r\n",
       "L 48.34375 0 \r\n",
       "L 30.8125 22.609375 \r\n",
       "L 25.875 17.921875 \r\n",
       "L 25.875 0 \r\n",
       "L 8.40625 0 \r\n",
       "z\r\n",
       "\" id=\"DejaVuSans-Bold-1082\"/>\r\n",
       "      <path d=\"M 5.375 30.328125 \r\n",
       "L 5.03125 38.484375 \r\n",
       "Q 4.296875 41.75 4.296875 45.015625 \r\n",
       "Q 4.296875 54.59375 7.125 60.84375 \r\n",
       "Q 12.359375 72.359375 19.34375 74.703125 \r\n",
       "Q 25.09375 76.703125 49.078125 78.609375 \r\n",
       "Q 51.515625 78.8125 54.296875 79.25 \r\n",
       "L 58.203125 68.40625 \r\n",
       "Q 54.5 67.4375 35.453125 65.765625 \r\n",
       "Q 27.09375 65.046875 23.6875 62.703125 \r\n",
       "Q 18.015625 58.84375 17.578125 51.5625 \r\n",
       "Q 24.75 56 35.546875 56 \r\n",
       "Q 49.65625 56 57.59375 48.375 \r\n",
       "Q 65.53125 40.765625 65.53125 27.296875 \r\n",
       "Q 65.53125 13.8125 57.609375 6.1875 \r\n",
       "Q 49.703125 -1.421875 35.546875 -1.421875 \r\n",
       "Q 21.390625 -1.421875 13.40625 6.1875 \r\n",
       "Q 5.421875 13.8125 5.421875 27.296875 \r\n",
       "Q 5.421875 29.15625 5.375 30.328125 \r\n",
       "z\r\n",
       "M 35.5 43.5 \r\n",
       "Q 29.734375 43.5 26.6875 39.328125 \r\n",
       "Q 23.640625 35.15625 23.640625 27.296875 \r\n",
       "Q 23.640625 19.4375 26.6875 15.25 \r\n",
       "Q 29.734375 11.078125 35.5 11.078125 \r\n",
       "Q 41.265625 11.078125 44.28125 15.25 \r\n",
       "Q 47.3125 19.4375 47.3125 27.296875 \r\n",
       "Q 47.3125 35.15625 44.28125 39.328125 \r\n",
       "Q 41.265625 43.5 35.5 43.5 \r\n",
       "z\r\n",
       "\" id=\"DejaVuSans-Bold-1073\"/>\r\n",
       "      <path d=\"M 64.90625 54.6875 \r\n",
       "L 82.375 54.6875 \r\n",
       "L 82.375 0 \r\n",
       "L 64.90625 0 \r\n",
       "z\r\n",
       "M 42.484375 17.09375 \r\n",
       "Q 42.484375 20.171875 40.53125 21.6875 \r\n",
       "Q 38.625 23.140625 34.71875 23.140625 \r\n",
       "L 25.875 23.140625 \r\n",
       "L 25.875 10.9375 \r\n",
       "L 34.71875 10.9375 \r\n",
       "Q 38.578125 10.9375 40.53125 12.5 \r\n",
       "Q 42.484375 14.015625 42.484375 17.09375 \r\n",
       "z\r\n",
       "M 8.40625 54.6875 \r\n",
       "L 25.875 54.6875 \r\n",
       "L 25.875 33.9375 \r\n",
       "L 35.796875 33.9375 \r\n",
       "Q 46.875 33.9375 52.828125 29.890625 \r\n",
       "Q 58.84375 25.78125 58.84375 16.890625 \r\n",
       "Q 58.84375 8.015625 52.828125 4 \r\n",
       "Q 46.875 0 35.796875 0 \r\n",
       "L 8.40625 0 \r\n",
       "z\r\n",
       "\" id=\"DejaVuSans-Bold-1099\"/>\r\n",
       "      <path d=\"M 22.21875 27.984375 \r\n",
       "L 2.484375 54.6875 \r\n",
       "L 21 54.6875 \r\n",
       "L 32.171875 38.484375 \r\n",
       "L 43.5 54.6875 \r\n",
       "L 62.015625 54.6875 \r\n",
       "L 42.28125 28.078125 \r\n",
       "L 62.984375 0 \r\n",
       "L 44.484375 0 \r\n",
       "L 32.171875 17.28125 \r\n",
       "L 20.015625 0 \r\n",
       "L 1.515625 0 \r\n",
       "z\r\n",
       "\" id=\"DejaVuSans-Bold-1093\"/>\r\n",
       "     </defs>\r\n",
       "     <use xlink:href=\"#DejaVuSans-Bold-1094\"/>\r\n",
       "     <use x=\"74.121094\" xlink:href=\"#DejaVuSans-Bold-1077\"/>\r\n",
       "     <use x=\"141.943359\" xlink:href=\"#DejaVuSans-Bold-1083\"/>\r\n",
       "     <use x=\"215.185547\" xlink:href=\"#DejaVuSans-Bold-1080\"/>\r\n",
       "     <use x=\"285.253906\" xlink:href=\"#DejaVuSans-Bold-32\"/>\r\n",
       "     <use x=\"320.068359\" xlink:href=\"#DejaVuSans-Bold-1082\"/>\r\n",
       "     <use x=\"387.939453\" xlink:href=\"#DejaVuSans-Bold-1088\"/>\r\n",
       "     <use x=\"459.521484\" xlink:href=\"#DejaVuSans-Bold-1077\"/>\r\n",
       "     <use x=\"527.34375\" xlink:href=\"#DejaVuSans-Bold-1076\"/>\r\n",
       "     <use x=\"608.105469\" xlink:href=\"#DejaVuSans-Bold-1080\"/>\r\n",
       "     <use x=\"678.173828\" xlink:href=\"#DejaVuSans-Bold-1090\"/>\r\n",
       "     <use x=\"736.132812\" xlink:href=\"#DejaVuSans-Bold-1072\"/>\r\n",
       "     <use x=\"803.613281\" xlink:href=\"#DejaVuSans-Bold-32\"/>\r\n",
       "     <use x=\"838.427734\" xlink:href=\"#DejaVuSans-Bold-1080\"/>\r\n",
       "     <use x=\"908.496094\" xlink:href=\"#DejaVuSans-Bold-32\"/>\r\n",
       "     <use x=\"943.310547\" xlink:href=\"#DejaVuSans-Bold-37\"/>\r\n",
       "     <use x=\"1043.505859\" xlink:href=\"#DejaVuSans-Bold-32\"/>\r\n",
       "     <use x=\"1078.320312\" xlink:href=\"#DejaVuSans-Bold-1087\"/>\r\n",
       "     <use x=\"1147.412109\" xlink:href=\"#DejaVuSans-Bold-1088\"/>\r\n",
       "     <use x=\"1218.994141\" xlink:href=\"#DejaVuSans-Bold-1086\"/>\r\n",
       "     <use x=\"1287.695312\" xlink:href=\"#DejaVuSans-Bold-1073\"/>\r\n",
       "     <use x=\"1357.519531\" xlink:href=\"#DejaVuSans-Bold-1083\"/>\r\n",
       "     <use x=\"1430.761719\" xlink:href=\"#DejaVuSans-Bold-1077\"/>\r\n",
       "     <use x=\"1498.583984\" xlink:href=\"#DejaVuSans-Bold-1084\"/>\r\n",
       "     <use x=\"1580.322266\" xlink:href=\"#DejaVuSans-Bold-1085\"/>\r\n",
       "     <use x=\"1649.414062\" xlink:href=\"#DejaVuSans-Bold-1099\"/>\r\n",
       "     <use x=\"1739.84375\" xlink:href=\"#DejaVuSans-Bold-1093\"/>\r\n",
       "     <use x=\"1804.345703\" xlink:href=\"#DejaVuSans-Bold-32\"/>\r\n",
       "     <use x=\"1839.160156\" xlink:href=\"#DejaVuSans-Bold-1082\"/>\r\n",
       "     <use x=\"1907.03125\" xlink:href=\"#DejaVuSans-Bold-1083\"/>\r\n",
       "     <use x=\"1980.273438\" xlink:href=\"#DejaVuSans-Bold-1080\"/>\r\n",
       "     <use x=\"2050.341797\" xlink:href=\"#DejaVuSans-Bold-1077\"/>\r\n",
       "     <use x=\"2118.164062\" xlink:href=\"#DejaVuSans-Bold-1085\"/>\r\n",
       "     <use x=\"2187.255859\" xlink:href=\"#DejaVuSans-Bold-1090\"/>\r\n",
       "     <use x=\"2245.214844\" xlink:href=\"#DejaVuSans-Bold-1086\"/>\r\n",
       "     <use x=\"2313.916016\" xlink:href=\"#DejaVuSans-Bold-1074\"/>\r\n",
       "     <use x=\"2377.197266\" xlink:href=\"#DejaVuSans-Bold-32\"/>\r\n",
       "     <use x=\"2412.011719\" xlink:href=\"#DejaVuSans-Bold-1074\"/>\r\n",
       "     <use x=\"2475.292969\" xlink:href=\"#DejaVuSans-Bold-32\"/>\r\n",
       "     <use x=\"2510.107422\" xlink:href=\"#DejaVuSans-Bold-1085\"/>\r\n",
       "     <use x=\"2579.199219\" xlink:href=\"#DejaVuSans-Bold-1080\"/>\r\n",
       "     <use x=\"2649.267578\" xlink:href=\"#DejaVuSans-Bold-1093\"/>\r\n",
       "    </g>\r\n",
       "   </g>\r\n",
       "  </g>\r\n",
       " </g>\r\n",
       " <defs>\r\n",
       "  <clipPath id=\"pd8cd1e409f\">\r\n",
       "   <rect height=\"277.2\" width=\"641.7\" x=\"34.240625\" y=\"24.295\"/>\r\n",
       "  </clipPath>\r\n",
       " </defs>\r\n",
       "</svg>\r\n"
      ],
      "text/plain": [
       "<Figure size 1150x500 with 1 Axes>"
      ]
     },
     "metadata": {},
     "output_type": "display_data"
    }
   ],
   "source": [
    "plt.figure(figsize=(11.5, 5))\n",
    "plt.bar(target_ratio['Цель кредита'], target_ratio['Процент должников'], \n",
    "        color='#18ab30', linewidth=1.0, edgecolor='k')\n",
    "plt.xticks(rotation=1)\n",
    "plt.ylabel('% с задолженностями по возврату', fontweight='bold')\n",
    "plt.title('цели кредита и % проблемных клиентов в них', fontweight='bold', fontsize=14)\n",
    "plt.grid();"
   ]
  },
  {
   "cell_type": "markdown",
   "id": "4270a880",
   "metadata": {
    "deletable": false,
    "id": "b4bb2ce6"
   },
   "source": [
    "**Вывод:** цели кредита влияют на его возврат в срок и очень даже. По имеющимся данным мы можем сделать вывод о том, что клиенты, обращающиеся за кредитом с целью осуществления каких-либо операций с недвижимостью, более надёжны в вопросах выплат (7.26% проблемных клиентов), нежели те кленты, что берут кредит на опрерации с авто (9.35% проблемных клиентов). Высокий процент проблемных клиентов наблюдается и среди получающих кредит в образовательных целях (9.25%), с этими умниками надо быть настороже"
   ]
  },
  {
   "cell_type": "markdown",
   "id": "8399cbaf",
   "metadata": {},
   "source": [
    "----------\n",
    "----------"
   ]
  },
  {
   "cell_type": "markdown",
   "id": "c991aa2f",
   "metadata": {},
   "source": [
    "**дополнительно о purpose** - это текстовые значения и их очень много. Мы с ними поработали, а значит можем перенести в отдельный именной справочник. Сами значения прогоним через LabelEncoder - этот алгоритм преобразует текстовые значения из ```purpose``` в числа, такими в таблице их и оставим, а признак ```purpose_category``` сделаем dummy-переменной (у него всего 4 значения, норм)"
   ]
  },
  {
   "cell_type": "code",
   "execution_count": 53,
   "id": "b1af1152",
   "metadata": {},
   "outputs": [],
   "source": [
    "data['purpose_id'] = LabelEncoder().fit_transform(data['purpose'])\n",
    "purpose_type_catalog = data[['purpose', 'purpose_id']].drop_duplicates(keep='first').reset_index(drop=True)\n",
    "data['purpose_id'] = data['purpose_id'].astype('category')\n",
    "data = data.drop(columns='purpose')"
   ]
  },
  {
   "cell_type": "code",
   "execution_count": 54,
   "id": "d64e77e4",
   "metadata": {},
   "outputs": [],
   "source": [
    "# # решение с помощью OneHotEncoder\n",
    "# from sklearn.preprocessing import OneHotEncoder \n",
    "# encoder = OneHotEncoder()\n",
    "# Enc_label = LabelEncoder()\n",
    "# data['purpose_category'] = Enc_label.fit_transform(data['purpose_category'])\n",
    "# df = pd.DataFrame(encoder.fit_transform(data[['purpose_category']]).todense(), columns = Enc_label.classes_)"
   ]
  },
  {
   "cell_type": "code",
   "execution_count": 55,
   "id": "cd9beac5",
   "metadata": {},
   "outputs": [],
   "source": [
    "data = pd.concat([data, pd.get_dummies(data['purpose_category'])], axis=1)\n",
    "data.drop(columns='purpose_category', inplace=True)"
   ]
  },
  {
   "cell_type": "code",
   "execution_count": 56,
   "id": "7557a1e4",
   "metadata": {},
   "outputs": [],
   "source": [
    "# сохранить справочник purpose_type_catalog в файл\n",
    "#purpose_type_catalog.to_csv('purpose_type_catalog.csv', index=False)"
   ]
  },
  {
   "cell_type": "markdown",
   "id": "8381c06e",
   "metadata": {},
   "source": [
    "и вот так теперь, после всех манипуляций, выглядит наш датафрейм. Теперь егоможно импользовать и для других исследований"
   ]
  },
  {
   "cell_type": "code",
   "execution_count": 57,
   "id": "447ac5fe",
   "metadata": {},
   "outputs": [
    {
     "data": {
      "text/html": [
       "<div>\n",
       "<style scoped>\n",
       "    .dataframe tbody tr th:only-of-type {\n",
       "        vertical-align: middle;\n",
       "    }\n",
       "\n",
       "    .dataframe tbody tr th {\n",
       "        vertical-align: top;\n",
       "    }\n",
       "\n",
       "    .dataframe thead th {\n",
       "        text-align: right;\n",
       "    }\n",
       "</style>\n",
       "<table border=\"1\" class=\"dataframe\">\n",
       "  <thead>\n",
       "    <tr style=\"text-align: right;\">\n",
       "      <th></th>\n",
       "      <th>children</th>\n",
       "      <th>days_employed</th>\n",
       "      <th>dob_years</th>\n",
       "      <th>education_id</th>\n",
       "      <th>family_status_id</th>\n",
       "      <th>gender</th>\n",
       "      <th>debt</th>\n",
       "      <th>total_income</th>\n",
       "      <th>total_income_category</th>\n",
       "      <th>income_type_id</th>\n",
       "      <th>purpose_id</th>\n",
       "      <th>операции с автомобилем</th>\n",
       "      <th>операции с недвижимостью</th>\n",
       "      <th>получение образования</th>\n",
       "      <th>проведение свадьбы</th>\n",
       "    </tr>\n",
       "  </thead>\n",
       "  <tbody>\n",
       "    <tr>\n",
       "      <th>0</th>\n",
       "      <td>1</td>\n",
       "      <td>8437.673028</td>\n",
       "      <td>42</td>\n",
       "      <td>0</td>\n",
       "      <td>0</td>\n",
       "      <td>0</td>\n",
       "      <td>0</td>\n",
       "      <td>253875</td>\n",
       "      <td>B</td>\n",
       "      <td>3</td>\n",
       "      <td>18</td>\n",
       "      <td>0</td>\n",
       "      <td>1</td>\n",
       "      <td>0</td>\n",
       "      <td>0</td>\n",
       "    </tr>\n",
       "    <tr>\n",
       "      <th>1</th>\n",
       "      <td>1</td>\n",
       "      <td>4024.803754</td>\n",
       "      <td>36</td>\n",
       "      <td>1</td>\n",
       "      <td>0</td>\n",
       "      <td>0</td>\n",
       "      <td>0</td>\n",
       "      <td>112080</td>\n",
       "      <td>C</td>\n",
       "      <td>3</td>\n",
       "      <td>27</td>\n",
       "      <td>1</td>\n",
       "      <td>0</td>\n",
       "      <td>0</td>\n",
       "      <td>0</td>\n",
       "    </tr>\n",
       "    <tr>\n",
       "      <th>2</th>\n",
       "      <td>0</td>\n",
       "      <td>5623.422610</td>\n",
       "      <td>33</td>\n",
       "      <td>1</td>\n",
       "      <td>0</td>\n",
       "      <td>1</td>\n",
       "      <td>0</td>\n",
       "      <td>145885</td>\n",
       "      <td>C</td>\n",
       "      <td>3</td>\n",
       "      <td>18</td>\n",
       "      <td>0</td>\n",
       "      <td>1</td>\n",
       "      <td>0</td>\n",
       "      <td>0</td>\n",
       "    </tr>\n",
       "    <tr>\n",
       "      <th>3</th>\n",
       "      <td>3</td>\n",
       "      <td>4124.747207</td>\n",
       "      <td>32</td>\n",
       "      <td>1</td>\n",
       "      <td>0</td>\n",
       "      <td>1</td>\n",
       "      <td>0</td>\n",
       "      <td>267628</td>\n",
       "      <td>B</td>\n",
       "      <td>3</td>\n",
       "      <td>3</td>\n",
       "      <td>0</td>\n",
       "      <td>0</td>\n",
       "      <td>1</td>\n",
       "      <td>0</td>\n",
       "    </tr>\n",
       "    <tr>\n",
       "      <th>4</th>\n",
       "      <td>0</td>\n",
       "      <td>340266.072047</td>\n",
       "      <td>53</td>\n",
       "      <td>1</td>\n",
       "      <td>1</td>\n",
       "      <td>0</td>\n",
       "      <td>0</td>\n",
       "      <td>158616</td>\n",
       "      <td>C</td>\n",
       "      <td>2</td>\n",
       "      <td>37</td>\n",
       "      <td>0</td>\n",
       "      <td>0</td>\n",
       "      <td>0</td>\n",
       "      <td>1</td>\n",
       "    </tr>\n",
       "    <tr>\n",
       "      <th>5</th>\n",
       "      <td>0</td>\n",
       "      <td>926.185831</td>\n",
       "      <td>27</td>\n",
       "      <td>0</td>\n",
       "      <td>1</td>\n",
       "      <td>1</td>\n",
       "      <td>0</td>\n",
       "      <td>255763</td>\n",
       "      <td>B</td>\n",
       "      <td>1</td>\n",
       "      <td>18</td>\n",
       "      <td>0</td>\n",
       "      <td>1</td>\n",
       "      <td>0</td>\n",
       "      <td>0</td>\n",
       "    </tr>\n",
       "    <tr>\n",
       "      <th>6</th>\n",
       "      <td>0</td>\n",
       "      <td>2879.202052</td>\n",
       "      <td>43</td>\n",
       "      <td>0</td>\n",
       "      <td>0</td>\n",
       "      <td>0</td>\n",
       "      <td>0</td>\n",
       "      <td>240525</td>\n",
       "      <td>B</td>\n",
       "      <td>1</td>\n",
       "      <td>13</td>\n",
       "      <td>0</td>\n",
       "      <td>1</td>\n",
       "      <td>0</td>\n",
       "      <td>0</td>\n",
       "    </tr>\n",
       "    <tr>\n",
       "      <th>7</th>\n",
       "      <td>0</td>\n",
       "      <td>152.779569</td>\n",
       "      <td>50</td>\n",
       "      <td>1</td>\n",
       "      <td>0</td>\n",
       "      <td>1</td>\n",
       "      <td>0</td>\n",
       "      <td>135823</td>\n",
       "      <td>C</td>\n",
       "      <td>3</td>\n",
       "      <td>12</td>\n",
       "      <td>0</td>\n",
       "      <td>0</td>\n",
       "      <td>1</td>\n",
       "      <td>0</td>\n",
       "    </tr>\n",
       "    <tr>\n",
       "      <th>8</th>\n",
       "      <td>2</td>\n",
       "      <td>6929.865299</td>\n",
       "      <td>35</td>\n",
       "      <td>0</td>\n",
       "      <td>1</td>\n",
       "      <td>0</td>\n",
       "      <td>0</td>\n",
       "      <td>95856</td>\n",
       "      <td>C</td>\n",
       "      <td>3</td>\n",
       "      <td>10</td>\n",
       "      <td>0</td>\n",
       "      <td>0</td>\n",
       "      <td>0</td>\n",
       "      <td>1</td>\n",
       "    </tr>\n",
       "    <tr>\n",
       "      <th>9</th>\n",
       "      <td>0</td>\n",
       "      <td>2188.756445</td>\n",
       "      <td>41</td>\n",
       "      <td>1</td>\n",
       "      <td>0</td>\n",
       "      <td>1</td>\n",
       "      <td>0</td>\n",
       "      <td>144425</td>\n",
       "      <td>C</td>\n",
       "      <td>3</td>\n",
       "      <td>20</td>\n",
       "      <td>0</td>\n",
       "      <td>1</td>\n",
       "      <td>0</td>\n",
       "      <td>0</td>\n",
       "    </tr>\n",
       "  </tbody>\n",
       "</table>\n",
       "</div>"
      ],
      "text/plain": [
       "   children  days_employed  dob_years education_id family_status_id gender  \\\n",
       "0         1    8437.673028         42            0                0      0   \n",
       "1         1    4024.803754         36            1                0      0   \n",
       "2         0    5623.422610         33            1                0      1   \n",
       "3         3    4124.747207         32            1                0      1   \n",
       "4         0  340266.072047         53            1                1      0   \n",
       "5         0     926.185831         27            0                1      1   \n",
       "6         0    2879.202052         43            0                0      0   \n",
       "7         0     152.779569         50            1                0      1   \n",
       "8         2    6929.865299         35            0                1      0   \n",
       "9         0    2188.756445         41            1                0      1   \n",
       "\n",
       "   debt  total_income total_income_category income_type_id purpose_id  \\\n",
       "0     0        253875                     B              3         18   \n",
       "1     0        112080                     C              3         27   \n",
       "2     0        145885                     C              3         18   \n",
       "3     0        267628                     B              3          3   \n",
       "4     0        158616                     C              2         37   \n",
       "5     0        255763                     B              1         18   \n",
       "6     0        240525                     B              1         13   \n",
       "7     0        135823                     C              3         12   \n",
       "8     0         95856                     C              3         10   \n",
       "9     0        144425                     C              3         20   \n",
       "\n",
       "   операции с автомобилем  операции с недвижимостью  получение образования  \\\n",
       "0                       0                         1                      0   \n",
       "1                       1                         0                      0   \n",
       "2                       0                         1                      0   \n",
       "3                       0                         0                      1   \n",
       "4                       0                         0                      0   \n",
       "5                       0                         1                      0   \n",
       "6                       0                         1                      0   \n",
       "7                       0                         0                      1   \n",
       "8                       0                         0                      0   \n",
       "9                       0                         1                      0   \n",
       "\n",
       "   проведение свадьбы  \n",
       "0                   0  \n",
       "1                   0  \n",
       "2                   0  \n",
       "3                   0  \n",
       "4                   1  \n",
       "5                   0  \n",
       "6                   0  \n",
       "7                   0  \n",
       "8                   1  \n",
       "9                   0  "
      ]
     },
     "execution_count": 57,
     "metadata": {},
     "output_type": "execute_result"
    }
   ],
   "source": [
    "data.head(10)"
   ]
  },
  {
   "cell_type": "code",
   "execution_count": 58,
   "id": "034752f4",
   "metadata": {},
   "outputs": [
    {
     "name": "stdout",
     "output_type": "stream",
     "text": [
      "<class 'pandas.core.frame.DataFrame'>\n",
      "Int64Index: 21331 entries, 0 to 21524\n",
      "Data columns (total 15 columns):\n",
      " #   Column                    Non-Null Count  Dtype   \n",
      "---  ------                    --------------  -----   \n",
      " 0   children                  21331 non-null  int64   \n",
      " 1   days_employed             21331 non-null  float64 \n",
      " 2   dob_years                 21331 non-null  int64   \n",
      " 3   education_id              21331 non-null  category\n",
      " 4   family_status_id          21331 non-null  category\n",
      " 5   gender                    21331 non-null  category\n",
      " 6   debt                      21331 non-null  int64   \n",
      " 7   total_income              21331 non-null  int32   \n",
      " 8   total_income_category     21331 non-null  object  \n",
      " 9   income_type_id            21331 non-null  category\n",
      " 10  purpose_id                21331 non-null  category\n",
      " 11  операции с автомобилем    21331 non-null  uint8   \n",
      " 12  операции с недвижимостью  21331 non-null  uint8   \n",
      " 13  получение образования     21331 non-null  uint8   \n",
      " 14  проведение свадьбы        21331 non-null  uint8   \n",
      "dtypes: category(5), float64(1), int32(1), int64(3), object(1), uint8(4)\n",
      "memory usage: 1.2+ MB\n"
     ]
    }
   ],
   "source": [
    "data.info()"
   ]
  },
  {
   "cell_type": "markdown",
   "id": "dc0ded3f",
   "metadata": {},
   "source": [
    "----------\n",
    "----------"
   ]
  },
  {
   "cell_type": "markdown",
   "id": "8389096c",
   "metadata": {
    "deletable": false,
    "editable": false,
    "id": "09c3ac4c"
   },
   "source": [
    "#### 3.5 Приведите возможные причины появления пропусков в исходных данных."
   ]
  },
  {
   "cell_type": "markdown",
   "id": "6c278302",
   "metadata": {
    "deletable": false,
    "id": "9da2ceda"
   },
   "source": [
    "*Ответ:* пропуски по причинам своего появления в данных можно условно разделить на три категории:\n",
    "\n",
    "* ```полностью случайные``` - это если вероятность встретить пропуск не зависит ни от каких других значений\n",
    "* ```случайные``` - если вероятность появления пропуска зависит от других значений в данных, но не от значений собственного столбца. Такие лучше замещать дефолтными значениями\n",
    "* ```неслучайные``` - если вероятность появления пропуска зависит от других значений в данных, в том числе и от значений собственного столбца\n",
    "\n",
    "в наших данных пропуски были в признаках:\n",
    "\n",
    "- ```days_employed``` - общий трудовой стаж в днях - 2174\n",
    "- ```total_income``` - ежемесячный доход - 2174\n",
    "\n",
    "вариантов возникновения пропусков в наших данных можно предположить два:\n",
    "\n",
    "1) учитывая то, что мы исследуем данные о платёжеспособности клиентов, можно обратить внимание на то, что пропуски в данных есть в таких связанных между собой признаках, как стаж и доход. На этом основании можно предположить, что появление пропусков вызвано, в первую очередь, нежеланием потенциальных клиентов банка раскрывать всю финансовую информацию о себе. Это было бы логично для клиентов с высоким доходом.\n",
    "\n",
    "Однако, если мы посмотрим, в каких именно типах занятости встречаются пропуски стажа и дохода: "
   ]
  },
  {
   "cell_type": "code",
   "execution_count": 59,
   "id": "d329273b",
   "metadata": {},
   "outputs": [
    {
     "data": {
      "text/plain": [
       "сотрудник          1105\n",
       "компаньон           508\n",
       "пенсионер           413\n",
       "госслужащий         147\n",
       "предприниматель       1\n",
       "Name: income_type, dtype: int64"
      ]
     },
     "execution_count": 59,
     "metadata": {},
     "output_type": "execute_result"
    }
   ],
   "source": [
    "question = pd.read_csv('data.csv')\n",
    "question.loc[(question['days_employed'].isna()) & (question['total_income'].isna()), 'income_type'].value_counts()"
   ]
  },
  {
   "cell_type": "markdown",
   "id": "7afdf7be",
   "metadata": {},
   "source": [
    "то увидим, что информацию о себе предпочли \"утаить\" не только категории сотрудников и компаньонов, но и пенсионеры с госслужащими. Пенсионеры любой страны меньше всего похожи на тех, кто имеет доход настолько высокий, что предпочитает его утаивать.\n",
    "\n",
    "2) Плюс, если обратить внимание ещё и на тот факт, что данных в столбцах не хватает одинаковое количество и при этом заполнены все другие значения таблицы, то такой \"ровный\" пропуск данных может свидетельствовать о каком-то техническом сбое."
   ]
  },
  {
   "cell_type": "code",
   "execution_count": 60,
   "id": "a1857b47",
   "metadata": {},
   "outputs": [
    {
     "data": {
      "text/plain": [
       "children               0\n",
       "days_employed       2174\n",
       "dob_years              0\n",
       "education              0\n",
       "education_id           0\n",
       "family_status          0\n",
       "family_status_id       0\n",
       "gender                 0\n",
       "income_type            0\n",
       "debt                   0\n",
       "total_income        2174\n",
       "purpose                0\n",
       "dtype: int64"
      ]
     },
     "execution_count": 60,
     "metadata": {},
     "output_type": "execute_result"
    }
   ],
   "source": [
    "question.isna().sum()"
   ]
  },
  {
   "cell_type": "markdown",
   "id": "2abc7576",
   "metadata": {},
   "source": [
    "Для более точного понимания природы пропусков правильным было бы запросить дополнительную информацию о них у сотрудников банка, отвечающих за сбор, хранение и передачу информации, так как потеря большого объёма важной для исследования информации может отражаться на результатах всего исследования."
   ]
  },
  {
   "cell_type": "markdown",
   "id": "8bea965f",
   "metadata": {},
   "source": [
    "----------\n",
    "----------"
   ]
  },
  {
   "cell_type": "markdown",
   "id": "7897d162",
   "metadata": {
    "deletable": false,
    "editable": false,
    "id": "7b0487d6"
   },
   "source": [
    "#### 3.6 Объясните, почему заполнить пропуски медианным значением — лучшее решение для количественных переменных."
   ]
  },
  {
   "cell_type": "markdown",
   "id": "5567689b",
   "metadata": {
    "deletable": false,
    "id": "7ecf2b8e"
   },
   "source": [
    "*Ответ:* пропуски для количественных переменных притяно заполнять т.н. ```характерными значениями``` - значениями, в целом характеризующими состояние выборки - это среднее или медианное значение. Но медиана в заполнении пропусков более предпочтительна, так как она, при наличии в выборке выбросов или резких отклонений, вернёт более объективный результат.\n",
    "\n",
    "Проверим:"
   ]
  },
  {
   "cell_type": "code",
   "execution_count": 61,
   "id": "3d59f68d",
   "metadata": {},
   "outputs": [
    {
     "name": "stdout",
     "output_type": "stream",
     "text": [
      "выборка = [    10     10 500000     10     20     15     10     10     10     10]\n",
      "среднее = 50010.5\n",
      "медиана = 10.0\n"
     ]
    }
   ],
   "source": [
    "a = np.array([10, 10, 500000, 10, 20, 15, 10, 10, 10, 10])\n",
    "print(f'выборка = {a}\\nсреднее = {a.mean()}\\nмедиана = {np.median(a)}')"
   ]
  },
  {
   "cell_type": "markdown",
   "id": "0d55f457",
   "metadata": {},
   "source": [
    "----------\n",
    "----------"
   ]
  },
  {
   "cell_type": "markdown",
   "id": "dff78f5c",
   "metadata": {
    "deletable": false,
    "editable": false,
    "id": "6db5255a"
   },
   "source": [
    "### Шаг 4: общий вывод."
   ]
  },
  {
   "cell_type": "markdown",
   "id": "bee1a637",
   "metadata": {
    "deletable": false,
    "id": "bad65432"
   },
   "source": [
    "мы исследовали статистику платёжеспособности клиентов банка по представленным данным с целью проверки гипотезы о том, что семейное положение и количество детей в семьях клиентов влияют на факты погашения клиентами кредитов в срок. Результаты проверки этих гипотез должны быть учтены при построении модели кредитного скоринга.\n",
    "\n",
    "В ходе исследования данных было сделано:\n",
    "1) технические детали\n",
    "- найдены и заполнены пропуски в данных (total_income - медианным значением по типу занятости)\n",
    "- найдены и откорректированы аномалии в данных (отрицательный трудовой стаж в days_employed)\n",
    "- обработаны дубликаты и небольшие неточности в данных (такие как отрицательный возраст)\n",
    "- произведена группировка кредитополучателей по уровню дохода с присвоением соответствующих категорий\n",
    "- произведена группировка целей, на которые запрашиваются кредитные средства\n",
    "- оптимизирован общий вид типов хранения данных с выделением некоторых категорий данных в отдельные именованные справочники \n",
    "\n",
    "2) детали исследования:\n",
    "- рассмотрели зависимость между количеством детей клиента и возвратом кредита в срок \n",
    "- вычислили долю клиентов с детьми, имевших задолженность по возврату кредитов\n",
    "- определили долю клиентов среди бездетных, имевших задолженность по возврату кредитов\n",
    "- рассмотрели зависимость между возвратом кредита в срок и социальным статусом клиента \n",
    "- вычислили долю \"проблемных\" клиентов в разных социальных статусах\n",
    "- на имеющихся данных изучили возможную связь между доходами клиентов и выплатами ими кредитов в срок\n",
    "- изучили возможную взаимосвязь между целями, на которые запрашивается кредит, и вероятностью задержек кредитных выплат в требуемый срок.\n",
    "\n",
    "В результате исследования были выявлены следующие закономерности:"
   ]
  },
  {
   "cell_type": "markdown",
   "id": "e7eb9f02",
   "metadata": {},
   "source": [
    "**1)** гипотеза о влиянии семейного положения частично подтверждается и количество детей в семье действительно влияет на погашение кредита в срок. Клиенты с детьми задерживают возвраты по кредитам чаще, чем бездетные клиенты. \n",
    "- доля задерживающих платежи клиентов с детьми:\n",
    "\n",
    "+ 1 ребёнок: 9.23%\n",
    "\n",
    "+ 2 ребёнка: 9.45%\n",
    "\n",
    "+ 3 ребёнка: 8.18%\n",
    "\n",
    "+ 4 ребёнка: 9.76%\n",
    "- доля задерживающих платежи клиентов без детей 7,5%\n",
    "\n",
    "Клиенты с 5-ю детьми в исследовании не учтены, так как для анализа их было слишком мало (всего 9). \n",
    "\n",
    "Отдельно стоит сказать о клиентах без детей - среди таких чаще всего не возвращают кредит в срок неженатые клиенты (9.28%) и клиенты, находящиеся в гражданском браке (8,39%) - эти категории клиентов резко выбиваются на фоне остальных \"бездетных\" клиентов (женатые 6.91% и вдовцы 6.26%)\n",
    "\n",
    "**2)** зависимость между семейным положением и возвратом кредита в срок тоже есть - холостые люди чаще не отдают кредит в срок (9.76%), они же - самая молодая группа из рассматриваемых (38 лет). \n",
    "\n",
    "Вдовцы же, наоборот, самые примерные плательщики из рассматриваемых категорий (6.62%), они же и самая старшая группа из всех (56 лет).\n",
    "\n",
    "**3)** по зависимости между уровнем дохода и возвратом кредита в срок корректные выводы можно сделать только по клиентским категориям B и C, так как в них достаточно данных для анализа.\n",
    "По ним мы видим, что:\n",
    "- среди клиентов из категории дохода B (от 200001 до 1000000) 7.06% задерживали погашение кредита в срок\n",
    "- а из клиентов из категории C с доходом пониже (от 50001 до 200000) таких оказалось 8.5%\n",
    "\n",
    "Сравнивая категории B и C мы можем сделать вывод о том, клиенты категории B более дисциплинированные и надёжные.\n",
    "\n",
    "Для корректного анализа клиентов категорий A D и E недостаточно данных и для них изучения необходима дополнительная информация\n",
    "\n",
    "**4)** цели, для которых запрашивается кредит, влияют на его возврат в срок. По имеющимся данным мы можем сделать вывод о том, что:\n",
    "- клиенты, обращающиеся за кредитом с целью осуществления каких-либо операций с недвижимостью, более надёжны в вопросах выплат (7.26% проблемных клиентов), в сравнении с\n",
    "- клентами, что берут кредит на опрерации с авто (9.35% проблемных клиентов). \n",
    "- Высокий процент проблемных клиентов наблюдается и среди получающих кредит в образовательных целях (9.25%)."
   ]
  },
  {
   "cell_type": "markdown",
   "id": "2c172f80",
   "metadata": {},
   "source": [
    "**что могло повлиять на результаты исследования:**\n",
    "- непропорциональное гендерное соотношение в выборке: 14092 женщин против 7238 мужчин\n",
    "- малое количество данных по клиентам с уровнями дохода A, D и E, по ним требуется отдельное исследование\n",
    "- наличие пропусков в признаках days_employed и total_income - стоит уточнить природу происхождения этих пропусков"
   ]
  },
  {
   "cell_type": "markdown",
   "id": "fef99e5c",
   "metadata": {
    "deletable": false,
    "id": "e8593def"
   },
   "source": [
    "**В качестве рекомендаций:** \n",
    "\n",
    "- можно предложить другую категоризацию по доходам \n",
    "- исследовать другие признаки, рассчитать другие метрики (отношение дохода к сумме выплат и др.)\n",
    "- в анкете сделать поля о доходе и стаже обязательными к заполнению\n",
    "- добавить автопроверку на формат вводимых пользователем данных"
   ]
  },
  {
   "cell_type": "code",
   "execution_count": null,
   "id": "20b5013b",
   "metadata": {
    "deletable": false,
    "id": "2b687290"
   },
   "outputs": [],
   "source": []
  }
 ],
 "metadata": {
  "ExecuteTimeLog": [
   {
    "duration": 461,
    "start_time": "2023-01-31T23:30:20.797Z"
   },
   {
    "duration": 23,
    "start_time": "2023-01-31T23:30:25.304Z"
   },
   {
    "duration": 14,
    "start_time": "2023-01-31T23:30:30.743Z"
   },
   {
    "duration": 13,
    "start_time": "2023-01-31T23:30:34.182Z"
   },
   {
    "duration": 32,
    "start_time": "2023-01-31T23:30:38.519Z"
   },
   {
    "duration": 4,
    "start_time": "2023-01-31T23:30:53.414Z"
   },
   {
    "duration": 7,
    "start_time": "2023-01-31T23:31:09.682Z"
   },
   {
    "duration": 5,
    "start_time": "2023-01-31T23:31:17.494Z"
   },
   {
    "duration": 7,
    "start_time": "2023-01-31T23:31:26.309Z"
   },
   {
    "duration": 5,
    "start_time": "2023-01-31T23:31:29.086Z"
   },
   {
    "duration": 31,
    "start_time": "2023-01-31T23:31:38.293Z"
   },
   {
    "duration": 9,
    "start_time": "2023-01-31T23:31:40.338Z"
   },
   {
    "duration": 4,
    "start_time": "2023-01-31T23:31:48.232Z"
   },
   {
    "duration": 13,
    "start_time": "2023-01-31T23:31:55.815Z"
   },
   {
    "duration": 22,
    "start_time": "2023-01-31T23:31:57.216Z"
   },
   {
    "duration": 20,
    "start_time": "2023-01-31T23:32:11.224Z"
   },
   {
    "duration": 4,
    "start_time": "2023-01-31T23:32:26.706Z"
   },
   {
    "duration": 10,
    "start_time": "2023-01-31T23:32:30.429Z"
   },
   {
    "duration": 6,
    "start_time": "2023-01-31T23:32:32.142Z"
   },
   {
    "duration": 4,
    "start_time": "2023-01-31T23:32:35.210Z"
   },
   {
    "duration": 8,
    "start_time": "2023-01-31T23:32:43.249Z"
   },
   {
    "duration": 4,
    "start_time": "2023-01-31T23:35:27.385Z"
   },
   {
    "duration": 4,
    "start_time": "2023-01-31T23:37:07.565Z"
   },
   {
    "duration": 74,
    "start_time": "2023-01-31T23:41:22.282Z"
   },
   {
    "duration": 15,
    "start_time": "2023-01-31T23:41:38.988Z"
   },
   {
    "duration": 15,
    "start_time": "2023-01-31T23:41:59.214Z"
   },
   {
    "duration": 12,
    "start_time": "2023-01-31T23:42:13.586Z"
   },
   {
    "duration": 15,
    "start_time": "2023-01-31T23:45:55.537Z"
   },
   {
    "duration": 13,
    "start_time": "2023-01-31T23:46:08.136Z"
   },
   {
    "duration": 1085,
    "start_time": "2023-01-31T23:52:54.398Z"
   },
   {
    "duration": 134,
    "start_time": "2023-01-31T23:54:11.952Z"
   },
   {
    "duration": 141,
    "start_time": "2023-01-31T23:54:41.713Z"
   },
   {
    "duration": 398,
    "start_time": "2023-01-31T23:55:01.813Z"
   },
   {
    "duration": 124,
    "start_time": "2023-01-31T23:55:41.245Z"
   },
   {
    "duration": 149,
    "start_time": "2023-01-31T23:55:52.167Z"
   },
   {
    "duration": 140,
    "start_time": "2023-01-31T23:55:59.233Z"
   },
   {
    "duration": 139,
    "start_time": "2023-01-31T23:56:04.628Z"
   },
   {
    "duration": 44,
    "start_time": "2023-02-01T00:01:06.169Z"
   },
   {
    "duration": 12,
    "start_time": "2023-02-01T00:01:11.322Z"
   },
   {
    "duration": 9,
    "start_time": "2023-02-01T00:01:19.515Z"
   },
   {
    "duration": 5,
    "start_time": "2023-02-01T00:01:24.338Z"
   },
   {
    "duration": 16,
    "start_time": "2023-02-01T00:03:00.618Z"
   },
   {
    "duration": 23,
    "start_time": "2023-02-01T00:03:07.227Z"
   },
   {
    "duration": 12,
    "start_time": "2023-02-01T00:03:36.091Z"
   },
   {
    "duration": 8,
    "start_time": "2023-02-01T00:03:53.187Z"
   },
   {
    "duration": 6,
    "start_time": "2023-02-01T00:04:03.117Z"
   },
   {
    "duration": 6,
    "start_time": "2023-02-01T00:04:44.722Z"
   },
   {
    "duration": 9,
    "start_time": "2023-02-01T00:06:20.791Z"
   },
   {
    "duration": 8,
    "start_time": "2023-02-01T00:06:45.517Z"
   },
   {
    "duration": 6,
    "start_time": "2023-02-01T00:07:47.548Z"
   },
   {
    "duration": 8,
    "start_time": "2023-02-01T00:08:22.700Z"
   },
   {
    "duration": 5,
    "start_time": "2023-02-01T00:12:58.293Z"
   },
   {
    "duration": 8,
    "start_time": "2023-02-01T00:20:25.596Z"
   },
   {
    "duration": 104,
    "start_time": "2023-02-01T00:20:44.490Z"
   },
   {
    "duration": 105,
    "start_time": "2023-02-01T00:21:52.474Z"
   },
   {
    "duration": 6,
    "start_time": "2023-02-01T00:22:35.238Z"
   },
   {
    "duration": 5,
    "start_time": "2023-02-01T00:22:44.482Z"
   },
   {
    "duration": 110,
    "start_time": "2023-02-01T00:23:00.524Z"
   },
   {
    "duration": 109,
    "start_time": "2023-02-01T00:23:52.994Z"
   },
   {
    "duration": 116,
    "start_time": "2023-02-01T00:26:50.503Z"
   },
   {
    "duration": 125,
    "start_time": "2023-02-01T00:27:07.846Z"
   },
   {
    "duration": 127,
    "start_time": "2023-02-01T00:27:22.585Z"
   },
   {
    "duration": 56,
    "start_time": "2023-02-01T00:27:50.322Z"
   },
   {
    "duration": 48,
    "start_time": "2023-02-01T00:28:54.547Z"
   },
   {
    "duration": 121,
    "start_time": "2023-02-01T00:29:03.756Z"
   },
   {
    "duration": 132,
    "start_time": "2023-02-01T00:29:09.858Z"
   },
   {
    "duration": 118,
    "start_time": "2023-02-01T00:30:38.110Z"
   },
   {
    "duration": 125,
    "start_time": "2023-02-01T00:30:44.921Z"
   },
   {
    "duration": 122,
    "start_time": "2023-02-01T00:31:13.635Z"
   },
   {
    "duration": 124,
    "start_time": "2023-02-01T00:31:18.380Z"
   },
   {
    "duration": 130,
    "start_time": "2023-02-01T00:31:26.756Z"
   },
   {
    "duration": 8,
    "start_time": "2023-02-01T00:34:30.777Z"
   },
   {
    "duration": 8,
    "start_time": "2023-02-01T00:35:10.763Z"
   },
   {
    "duration": 7,
    "start_time": "2023-02-01T00:35:18.637Z"
   },
   {
    "duration": 8,
    "start_time": "2023-02-01T00:35:58.302Z"
   },
   {
    "duration": 8,
    "start_time": "2023-02-01T00:49:11.714Z"
   },
   {
    "duration": 7,
    "start_time": "2023-02-01T00:49:40.928Z"
   },
   {
    "duration": 6,
    "start_time": "2023-02-01T00:51:37.067Z"
   },
   {
    "duration": 13,
    "start_time": "2023-02-01T00:51:44.014Z"
   },
   {
    "duration": 8,
    "start_time": "2023-02-01T00:52:02.037Z"
   },
   {
    "duration": 8,
    "start_time": "2023-02-01T00:52:17.515Z"
   },
   {
    "duration": 8,
    "start_time": "2023-02-01T00:52:22.860Z"
   },
   {
    "duration": 8,
    "start_time": "2023-02-01T00:52:26.722Z"
   },
   {
    "duration": 9,
    "start_time": "2023-02-01T00:52:42.078Z"
   },
   {
    "duration": 6,
    "start_time": "2023-02-01T00:53:08.022Z"
   },
   {
    "duration": 8,
    "start_time": "2023-02-01T00:53:12.782Z"
   },
   {
    "duration": 8,
    "start_time": "2023-02-01T00:53:26.932Z"
   },
   {
    "duration": 7,
    "start_time": "2023-02-01T00:53:53.686Z"
   },
   {
    "duration": 11,
    "start_time": "2023-02-01T00:55:31.480Z"
   },
   {
    "duration": 122,
    "start_time": "2023-02-01T00:56:35.003Z"
   },
   {
    "duration": 9,
    "start_time": "2023-02-01T00:58:02.014Z"
   },
   {
    "duration": 7,
    "start_time": "2023-02-01T00:58:20.288Z"
   },
   {
    "duration": 119,
    "start_time": "2023-02-01T01:02:07.047Z"
   },
   {
    "duration": 16,
    "start_time": "2023-02-01T01:18:25.278Z"
   },
   {
    "duration": 18,
    "start_time": "2023-02-01T01:18:48.946Z"
   },
   {
    "duration": 16,
    "start_time": "2023-02-01T01:19:27.207Z"
   },
   {
    "duration": 14,
    "start_time": "2023-02-01T01:19:51.961Z"
   },
   {
    "duration": 60,
    "start_time": "2023-02-01T01:20:27.916Z"
   },
   {
    "duration": 15,
    "start_time": "2023-02-01T01:20:32.811Z"
   },
   {
    "duration": 16,
    "start_time": "2023-02-01T01:21:03.697Z"
   },
   {
    "duration": 22,
    "start_time": "2023-02-01T01:21:12.580Z"
   },
   {
    "duration": 22,
    "start_time": "2023-02-01T01:21:35.062Z"
   },
   {
    "duration": 22,
    "start_time": "2023-02-01T01:21:57.411Z"
   },
   {
    "duration": 26,
    "start_time": "2023-02-01T01:22:07.879Z"
   },
   {
    "duration": 21,
    "start_time": "2023-02-01T01:22:12.044Z"
   },
   {
    "duration": 21,
    "start_time": "2023-02-01T01:26:04.527Z"
   },
   {
    "duration": 26,
    "start_time": "2023-02-01T01:26:09.168Z"
   },
   {
    "duration": 25,
    "start_time": "2023-02-01T01:26:22.179Z"
   },
   {
    "duration": 23,
    "start_time": "2023-02-01T01:26:36.345Z"
   },
   {
    "duration": 26,
    "start_time": "2023-02-01T01:26:47.083Z"
   },
   {
    "duration": 30,
    "start_time": "2023-02-01T01:27:08.765Z"
   },
   {
    "duration": 27,
    "start_time": "2023-02-01T01:27:27.010Z"
   },
   {
    "duration": 96,
    "start_time": "2023-02-01T01:28:54.960Z"
   },
   {
    "duration": 147,
    "start_time": "2023-02-01T01:29:05.082Z"
   },
   {
    "duration": 132,
    "start_time": "2023-02-01T01:29:11.875Z"
   },
   {
    "duration": 5,
    "start_time": "2023-02-01T01:29:50.476Z"
   },
   {
    "duration": 4,
    "start_time": "2023-02-01T01:30:32.777Z"
   },
   {
    "duration": 112,
    "start_time": "2023-02-01T01:30:41.561Z"
   },
   {
    "duration": 61,
    "start_time": "2023-02-01T01:31:09.405Z"
   },
   {
    "duration": 55,
    "start_time": "2023-02-01T01:31:38.649Z"
   },
   {
    "duration": 92,
    "start_time": "2023-02-01T01:31:57.417Z"
   },
   {
    "duration": 142,
    "start_time": "2023-02-01T01:32:09.626Z"
   },
   {
    "duration": 18,
    "start_time": "2023-02-01T01:32:57.420Z"
   },
   {
    "duration": 19,
    "start_time": "2023-02-01T01:33:49.807Z"
   },
   {
    "duration": 18,
    "start_time": "2023-02-01T01:34:11.922Z"
   },
   {
    "duration": 9,
    "start_time": "2023-02-01T01:34:44.731Z"
   },
   {
    "duration": 6,
    "start_time": "2023-02-01T01:34:59.624Z"
   },
   {
    "duration": 17,
    "start_time": "2023-02-01T01:35:14.913Z"
   },
   {
    "duration": 5,
    "start_time": "2023-02-01T01:40:44.798Z"
   },
   {
    "duration": 7,
    "start_time": "2023-02-01T01:41:24.047Z"
   },
   {
    "duration": 423,
    "start_time": "2023-02-01T01:41:32.398Z"
   },
   {
    "duration": 8,
    "start_time": "2023-02-01T01:41:50.645Z"
   },
   {
    "duration": 31,
    "start_time": "2023-02-01T01:42:52.904Z"
   },
   {
    "duration": 6,
    "start_time": "2023-02-01T01:43:31.848Z"
   },
   {
    "duration": 27,
    "start_time": "2023-02-01T01:43:42.864Z"
   },
   {
    "duration": 7,
    "start_time": "2023-02-01T01:43:47.201Z"
   },
   {
    "duration": 5,
    "start_time": "2023-02-01T01:49:06.285Z"
   },
   {
    "duration": 3,
    "start_time": "2023-02-01T01:49:21.726Z"
   },
   {
    "duration": 7,
    "start_time": "2023-02-01T01:49:28.485Z"
   },
   {
    "duration": 9,
    "start_time": "2023-02-01T01:49:43.865Z"
   },
   {
    "duration": 5,
    "start_time": "2023-02-01T01:49:52.198Z"
   },
   {
    "duration": 4,
    "start_time": "2023-02-01T01:50:18.193Z"
   },
   {
    "duration": 3,
    "start_time": "2023-02-01T01:50:22.757Z"
   },
   {
    "duration": 5,
    "start_time": "2023-02-01T01:51:29.331Z"
   },
   {
    "duration": 8,
    "start_time": "2023-02-01T01:51:42.540Z"
   },
   {
    "duration": 5,
    "start_time": "2023-02-01T01:51:51.486Z"
   },
   {
    "duration": 8,
    "start_time": "2023-02-01T01:53:13.282Z"
   },
   {
    "duration": 69,
    "start_time": "2023-02-01T01:53:37.229Z"
   },
   {
    "duration": 4,
    "start_time": "2023-02-01T01:53:49.702Z"
   },
   {
    "duration": 1131,
    "start_time": "2023-02-01T01:54:08.602Z"
   },
   {
    "duration": 71,
    "start_time": "2023-02-01T01:54:09.735Z"
   },
   {
    "duration": 19,
    "start_time": "2023-02-01T01:54:09.808Z"
   },
   {
    "duration": 14,
    "start_time": "2023-02-01T01:54:09.829Z"
   },
   {
    "duration": 8,
    "start_time": "2023-02-01T01:54:09.844Z"
   },
   {
    "duration": 49,
    "start_time": "2023-02-01T01:54:09.854Z"
   },
   {
    "duration": 3,
    "start_time": "2023-02-01T01:54:09.905Z"
   },
   {
    "duration": 12,
    "start_time": "2023-02-01T01:54:09.909Z"
   },
   {
    "duration": 4,
    "start_time": "2023-02-01T01:54:09.923Z"
   },
   {
    "duration": 11,
    "start_time": "2023-02-01T01:54:09.929Z"
   },
   {
    "duration": 6,
    "start_time": "2023-02-01T01:54:09.941Z"
   },
   {
    "duration": 52,
    "start_time": "2023-02-01T01:54:09.949Z"
   },
   {
    "duration": 10,
    "start_time": "2023-02-01T01:54:10.003Z"
   },
   {
    "duration": 10,
    "start_time": "2023-02-01T01:54:10.014Z"
   },
   {
    "duration": 19,
    "start_time": "2023-02-01T01:54:10.025Z"
   },
   {
    "duration": 23,
    "start_time": "2023-02-01T01:54:10.046Z"
   },
   {
    "duration": 30,
    "start_time": "2023-02-01T01:54:10.071Z"
   },
   {
    "duration": 4,
    "start_time": "2023-02-01T01:54:10.103Z"
   },
   {
    "duration": 27,
    "start_time": "2023-02-01T01:54:10.110Z"
   },
   {
    "duration": 12,
    "start_time": "2023-02-01T01:54:10.139Z"
   },
   {
    "duration": 4,
    "start_time": "2023-02-01T01:54:10.153Z"
   },
   {
    "duration": 10,
    "start_time": "2023-02-01T01:54:10.159Z"
   },
   {
    "duration": 3,
    "start_time": "2023-02-01T01:54:10.171Z"
   },
   {
    "duration": 26,
    "start_time": "2023-02-01T01:54:10.175Z"
   },
   {
    "duration": 8,
    "start_time": "2023-02-01T01:54:10.203Z"
   },
   {
    "duration": 143,
    "start_time": "2023-02-01T01:54:10.212Z"
   },
   {
    "duration": 7,
    "start_time": "2023-02-01T01:54:10.356Z"
   },
   {
    "duration": 42,
    "start_time": "2023-02-01T01:54:10.366Z"
   },
   {
    "duration": 4,
    "start_time": "2023-02-01T01:54:10.409Z"
   },
   {
    "duration": 12,
    "start_time": "2023-02-01T01:54:10.415Z"
   },
   {
    "duration": 9,
    "start_time": "2023-02-01T01:54:10.428Z"
   },
   {
    "duration": 6,
    "start_time": "2023-02-01T01:54:10.438Z"
   },
   {
    "duration": 5,
    "start_time": "2023-02-01T01:54:10.445Z"
   },
   {
    "duration": 50,
    "start_time": "2023-02-01T01:58:58.478Z"
   },
   {
    "duration": 3,
    "start_time": "2023-02-01T01:59:13.020Z"
   },
   {
    "duration": 3,
    "start_time": "2023-02-01T01:59:17.364Z"
   },
   {
    "duration": 5,
    "start_time": "2023-02-01T02:00:03.446Z"
   },
   {
    "duration": 4,
    "start_time": "2023-02-01T02:00:18.516Z"
   },
   {
    "duration": 4,
    "start_time": "2023-02-01T02:00:27.625Z"
   },
   {
    "duration": 4,
    "start_time": "2023-02-01T02:00:33.699Z"
   },
   {
    "duration": 5,
    "start_time": "2023-02-01T02:05:18.638Z"
   },
   {
    "duration": 5,
    "start_time": "2023-02-01T02:05:22.464Z"
   },
   {
    "duration": 6,
    "start_time": "2023-02-01T02:05:35.904Z"
   },
   {
    "duration": 5,
    "start_time": "2023-02-01T02:06:57.313Z"
   },
   {
    "duration": 5,
    "start_time": "2023-02-01T02:07:01.743Z"
   },
   {
    "duration": 5,
    "start_time": "2023-02-01T02:07:07.846Z"
   },
   {
    "duration": 5,
    "start_time": "2023-02-01T02:07:10.709Z"
   },
   {
    "duration": 5,
    "start_time": "2023-02-01T02:07:14.209Z"
   },
   {
    "duration": 5,
    "start_time": "2023-02-01T02:07:36.237Z"
   },
   {
    "duration": 5,
    "start_time": "2023-02-01T02:07:49.485Z"
   },
   {
    "duration": 4,
    "start_time": "2023-02-01T02:07:52.926Z"
   },
   {
    "duration": 5,
    "start_time": "2023-02-01T02:07:59.249Z"
   },
   {
    "duration": 6,
    "start_time": "2023-02-01T02:08:04.878Z"
   },
   {
    "duration": 4,
    "start_time": "2023-02-01T02:08:09.084Z"
   },
   {
    "duration": 5,
    "start_time": "2023-02-01T02:08:12.557Z"
   },
   {
    "duration": 5,
    "start_time": "2023-02-01T02:08:35.879Z"
   },
   {
    "duration": 5,
    "start_time": "2023-02-01T02:09:21.126Z"
   },
   {
    "duration": 5,
    "start_time": "2023-02-01T02:09:24.610Z"
   },
   {
    "duration": 6,
    "start_time": "2023-02-01T02:09:27.529Z"
   },
   {
    "duration": 6,
    "start_time": "2023-02-01T02:09:36.003Z"
   },
   {
    "duration": 5,
    "start_time": "2023-02-01T02:09:39.810Z"
   },
   {
    "duration": 5,
    "start_time": "2023-02-01T02:09:43.994Z"
   },
   {
    "duration": 5,
    "start_time": "2023-02-01T02:09:46.901Z"
   },
   {
    "duration": 5,
    "start_time": "2023-02-01T02:10:02.320Z"
   },
   {
    "duration": 5,
    "start_time": "2023-02-01T02:10:12.298Z"
   },
   {
    "duration": 5,
    "start_time": "2023-02-01T02:10:17.120Z"
   },
   {
    "duration": 5,
    "start_time": "2023-02-01T02:10:21.391Z"
   },
   {
    "duration": 5,
    "start_time": "2023-02-01T02:10:31.699Z"
   },
   {
    "duration": 5,
    "start_time": "2023-02-01T02:10:35.586Z"
   },
   {
    "duration": 5,
    "start_time": "2023-02-01T02:10:38.729Z"
   },
   {
    "duration": 93,
    "start_time": "2023-02-01T02:10:48.641Z"
   },
   {
    "duration": 6,
    "start_time": "2023-02-01T02:11:08.754Z"
   },
   {
    "duration": 51,
    "start_time": "2023-02-01T02:13:00.787Z"
   },
   {
    "duration": 3,
    "start_time": "2023-02-01T02:13:14.944Z"
   },
   {
    "duration": 4,
    "start_time": "2023-02-01T02:14:30.197Z"
   },
   {
    "duration": 9,
    "start_time": "2023-02-01T02:14:31.134Z"
   },
   {
    "duration": 21,
    "start_time": "2023-02-01T02:19:42.661Z"
   },
   {
    "duration": 14,
    "start_time": "2023-02-01T02:20:27.986Z"
   },
   {
    "duration": 22,
    "start_time": "2023-02-01T02:20:34.921Z"
   },
   {
    "duration": 10,
    "start_time": "2023-02-01T02:21:09.851Z"
   },
   {
    "duration": 17,
    "start_time": "2023-02-01T02:21:38.412Z"
   },
   {
    "duration": 355,
    "start_time": "2023-02-01T02:21:43.510Z"
   },
   {
    "duration": 5,
    "start_time": "2023-02-01T02:22:25.801Z"
   },
   {
    "duration": 11,
    "start_time": "2023-02-01T02:22:38.586Z"
   },
   {
    "duration": 9,
    "start_time": "2023-02-01T02:23:01.000Z"
   },
   {
    "duration": 8,
    "start_time": "2023-02-01T02:24:30.704Z"
   },
   {
    "duration": 11,
    "start_time": "2023-02-01T02:24:40.916Z"
   },
   {
    "duration": 8,
    "start_time": "2023-02-01T02:24:43.949Z"
   },
   {
    "duration": 6,
    "start_time": "2023-02-01T02:24:51.278Z"
   },
   {
    "duration": 8,
    "start_time": "2023-02-01T02:25:03.978Z"
   },
   {
    "duration": 8,
    "start_time": "2023-02-01T02:25:29.082Z"
   },
   {
    "duration": 9,
    "start_time": "2023-02-01T02:25:37.805Z"
   },
   {
    "duration": 7,
    "start_time": "2023-02-01T02:25:51.657Z"
   },
   {
    "duration": 8,
    "start_time": "2023-02-01T02:25:57.585Z"
   },
   {
    "duration": 12,
    "start_time": "2023-02-01T02:26:53.268Z"
   },
   {
    "duration": 2,
    "start_time": "2023-02-01T02:27:11.269Z"
   },
   {
    "duration": 3,
    "start_time": "2023-02-01T02:27:15.665Z"
   },
   {
    "duration": 11,
    "start_time": "2023-02-01T02:28:00.552Z"
   },
   {
    "duration": 10,
    "start_time": "2023-02-01T02:28:16.851Z"
   },
   {
    "duration": 13,
    "start_time": "2023-02-01T02:28:29.709Z"
   },
   {
    "duration": 11,
    "start_time": "2023-02-01T02:29:46.402Z"
   },
   {
    "duration": 80,
    "start_time": "2023-02-01T02:29:46.415Z"
   },
   {
    "duration": 15,
    "start_time": "2023-02-01T02:29:46.497Z"
   },
   {
    "duration": 15,
    "start_time": "2023-02-01T02:29:46.514Z"
   },
   {
    "duration": 9,
    "start_time": "2023-02-01T02:29:46.531Z"
   },
   {
    "duration": 56,
    "start_time": "2023-02-01T02:29:46.548Z"
   },
   {
    "duration": 3,
    "start_time": "2023-02-01T02:29:46.606Z"
   },
   {
    "duration": 11,
    "start_time": "2023-02-01T02:29:46.610Z"
   },
   {
    "duration": 3,
    "start_time": "2023-02-01T02:29:46.624Z"
   },
   {
    "duration": 7,
    "start_time": "2023-02-01T02:29:46.628Z"
   },
   {
    "duration": 4,
    "start_time": "2023-02-01T02:29:46.637Z"
   },
   {
    "duration": 57,
    "start_time": "2023-02-01T02:29:46.642Z"
   },
   {
    "duration": 9,
    "start_time": "2023-02-01T02:29:46.700Z"
   },
   {
    "duration": 3,
    "start_time": "2023-02-01T02:29:46.711Z"
   },
   {
    "duration": 11,
    "start_time": "2023-02-01T02:29:46.716Z"
   },
   {
    "duration": 18,
    "start_time": "2023-02-01T02:29:46.729Z"
   },
   {
    "duration": 16,
    "start_time": "2023-02-01T02:29:46.748Z"
   },
   {
    "duration": 4,
    "start_time": "2023-02-01T02:29:46.792Z"
   },
   {
    "duration": 11,
    "start_time": "2023-02-01T02:29:46.798Z"
   },
   {
    "duration": 8,
    "start_time": "2023-02-01T02:29:46.810Z"
   },
   {
    "duration": 3,
    "start_time": "2023-02-01T02:29:46.820Z"
   },
   {
    "duration": 10,
    "start_time": "2023-02-01T02:29:46.825Z"
   },
   {
    "duration": 3,
    "start_time": "2023-02-01T02:29:46.837Z"
   },
   {
    "duration": 11,
    "start_time": "2023-02-01T02:29:46.842Z"
   },
   {
    "duration": 38,
    "start_time": "2023-02-01T02:29:46.854Z"
   },
   {
    "duration": 127,
    "start_time": "2023-02-01T02:29:46.893Z"
   },
   {
    "duration": 7,
    "start_time": "2023-02-01T02:29:47.021Z"
   },
   {
    "duration": 30,
    "start_time": "2023-02-01T02:29:47.029Z"
   },
   {
    "duration": 32,
    "start_time": "2023-02-01T02:30:06.429Z"
   },
   {
    "duration": 10,
    "start_time": "2023-02-01T02:30:23.214Z"
   },
   {
    "duration": 14,
    "start_time": "2023-02-01T02:30:26.727Z"
   },
   {
    "duration": 12,
    "start_time": "2023-02-01T02:31:29.918Z"
   },
   {
    "duration": 12,
    "start_time": "2023-02-01T02:31:38.317Z"
   },
   {
    "duration": 12,
    "start_time": "2023-02-01T02:31:45.688Z"
   },
   {
    "duration": 13,
    "start_time": "2023-02-01T02:32:11.597Z"
   },
   {
    "duration": 11,
    "start_time": "2023-02-01T02:32:19.081Z"
   },
   {
    "duration": 15,
    "start_time": "2023-02-01T02:32:22.117Z"
   },
   {
    "duration": 13,
    "start_time": "2023-02-01T02:32:24.799Z"
   },
   {
    "duration": 10,
    "start_time": "2023-02-01T02:35:13.129Z"
   },
   {
    "duration": 9,
    "start_time": "2023-02-01T02:35:26.631Z"
   },
   {
    "duration": 13,
    "start_time": "2023-02-01T02:35:29.915Z"
   },
   {
    "duration": 11,
    "start_time": "2023-02-01T02:35:34.922Z"
   },
   {
    "duration": 4,
    "start_time": "2023-02-01T02:35:37.115Z"
   },
   {
    "duration": 12,
    "start_time": "2023-02-01T02:35:38.359Z"
   },
   {
    "duration": 29,
    "start_time": "2023-02-01T02:35:47.705Z"
   },
   {
    "duration": 12,
    "start_time": "2023-02-01T02:35:53.564Z"
   },
   {
    "duration": 12,
    "start_time": "2023-02-01T02:36:30.768Z"
   },
   {
    "duration": 14,
    "start_time": "2023-02-01T02:36:38.925Z"
   },
   {
    "duration": 13,
    "start_time": "2023-02-01T02:36:59.957Z"
   },
   {
    "duration": 23,
    "start_time": "2023-02-01T02:37:52.550Z"
   },
   {
    "duration": 9,
    "start_time": "2023-02-01T02:38:00.048Z"
   },
   {
    "duration": 4,
    "start_time": "2023-02-01T02:38:05.159Z"
   },
   {
    "duration": 7,
    "start_time": "2023-02-01T02:38:12.153Z"
   },
   {
    "duration": 3,
    "start_time": "2023-02-01T02:39:16.678Z"
   },
   {
    "duration": 14,
    "start_time": "2023-02-01T02:39:27.784Z"
   },
   {
    "duration": 11,
    "start_time": "2023-02-01T02:39:41.883Z"
   },
   {
    "duration": 12,
    "start_time": "2023-02-01T02:39:44.121Z"
   },
   {
    "duration": 524,
    "start_time": "2023-02-01T02:43:05.429Z"
   },
   {
    "duration": 468,
    "start_time": "2023-02-01T02:44:37.784Z"
   },
   {
    "duration": 11,
    "start_time": "2023-02-01T02:47:35.328Z"
   },
   {
    "duration": 76,
    "start_time": "2023-02-01T02:47:35.341Z"
   },
   {
    "duration": 17,
    "start_time": "2023-02-01T02:47:35.418Z"
   },
   {
    "duration": 17,
    "start_time": "2023-02-01T02:47:35.437Z"
   },
   {
    "duration": 10,
    "start_time": "2023-02-01T02:47:35.455Z"
   },
   {
    "duration": 52,
    "start_time": "2023-02-01T02:47:35.467Z"
   },
   {
    "duration": 3,
    "start_time": "2023-02-01T02:47:35.521Z"
   },
   {
    "duration": 10,
    "start_time": "2023-02-01T02:47:35.525Z"
   },
   {
    "duration": 4,
    "start_time": "2023-02-01T02:47:35.536Z"
   },
   {
    "duration": 22,
    "start_time": "2023-02-01T02:47:35.542Z"
   },
   {
    "duration": 5,
    "start_time": "2023-02-01T02:47:35.566Z"
   },
   {
    "duration": 43,
    "start_time": "2023-02-01T02:47:35.573Z"
   },
   {
    "duration": 10,
    "start_time": "2023-02-01T02:47:35.618Z"
   },
   {
    "duration": 4,
    "start_time": "2023-02-01T02:47:35.630Z"
   },
   {
    "duration": 11,
    "start_time": "2023-02-01T02:47:35.635Z"
   },
   {
    "duration": 46,
    "start_time": "2023-02-01T02:47:35.647Z"
   },
   {
    "duration": 17,
    "start_time": "2023-02-01T02:47:35.695Z"
   },
   {
    "duration": 4,
    "start_time": "2023-02-01T02:47:35.714Z"
   },
   {
    "duration": 17,
    "start_time": "2023-02-01T02:47:35.720Z"
   },
   {
    "duration": 7,
    "start_time": "2023-02-01T02:47:35.739Z"
   },
   {
    "duration": 4,
    "start_time": "2023-02-01T02:47:35.747Z"
   },
   {
    "duration": 12,
    "start_time": "2023-02-01T02:47:35.753Z"
   },
   {
    "duration": 28,
    "start_time": "2023-02-01T02:47:35.767Z"
   },
   {
    "duration": 17,
    "start_time": "2023-02-01T02:47:35.797Z"
   },
   {
    "duration": 8,
    "start_time": "2023-02-01T02:47:35.816Z"
   },
   {
    "duration": 147,
    "start_time": "2023-02-01T02:47:35.825Z"
   },
   {
    "duration": 7,
    "start_time": "2023-02-01T02:47:35.973Z"
   },
   {
    "duration": 6,
    "start_time": "2023-02-01T02:47:41.063Z"
   },
   {
    "duration": 30,
    "start_time": "2023-02-01T02:47:42.996Z"
   },
   {
    "duration": 10,
    "start_time": "2023-02-01T02:47:59.091Z"
   },
   {
    "duration": 13,
    "start_time": "2023-02-01T02:48:02.557Z"
   },
   {
    "duration": 5,
    "start_time": "2023-02-01T02:49:17.513Z"
   },
   {
    "duration": 13,
    "start_time": "2023-02-01T02:49:23.021Z"
   },
   {
    "duration": 14,
    "start_time": "2023-02-01T02:49:53.525Z"
   },
   {
    "duration": 14,
    "start_time": "2023-02-01T02:50:13.889Z"
   },
   {
    "duration": 370,
    "start_time": "2023-02-01T02:50:33.328Z"
   },
   {
    "duration": 18,
    "start_time": "2023-02-01T02:50:39.559Z"
   },
   {
    "duration": 10,
    "start_time": "2023-02-01T02:50:47.542Z"
   },
   {
    "duration": 105,
    "start_time": "2023-02-01T02:50:47.554Z"
   },
   {
    "duration": 14,
    "start_time": "2023-02-01T02:50:47.661Z"
   },
   {
    "duration": 15,
    "start_time": "2023-02-01T02:50:47.677Z"
   },
   {
    "duration": 17,
    "start_time": "2023-02-01T02:50:47.694Z"
   },
   {
    "duration": 39,
    "start_time": "2023-02-01T02:50:47.713Z"
   },
   {
    "duration": 3,
    "start_time": "2023-02-01T02:50:47.754Z"
   },
   {
    "duration": 11,
    "start_time": "2023-02-01T02:50:47.759Z"
   },
   {
    "duration": 10,
    "start_time": "2023-02-01T02:50:47.771Z"
   },
   {
    "duration": 5,
    "start_time": "2023-02-01T02:50:47.792Z"
   },
   {
    "duration": 6,
    "start_time": "2023-02-01T02:50:47.799Z"
   },
   {
    "duration": 40,
    "start_time": "2023-02-01T02:50:47.806Z"
   },
   {
    "duration": 10,
    "start_time": "2023-02-01T02:50:47.848Z"
   },
   {
    "duration": 3,
    "start_time": "2023-02-01T02:50:47.859Z"
   },
   {
    "duration": 30,
    "start_time": "2023-02-01T02:50:47.864Z"
   },
   {
    "duration": 19,
    "start_time": "2023-02-01T02:50:47.896Z"
   },
   {
    "duration": 18,
    "start_time": "2023-02-01T02:50:47.916Z"
   },
   {
    "duration": 3,
    "start_time": "2023-02-01T02:50:47.936Z"
   },
   {
    "duration": 14,
    "start_time": "2023-02-01T02:50:47.941Z"
   },
   {
    "duration": 12,
    "start_time": "2023-02-01T02:50:47.957Z"
   },
   {
    "duration": 23,
    "start_time": "2023-02-01T02:50:47.970Z"
   },
   {
    "duration": 22,
    "start_time": "2023-02-01T02:50:47.995Z"
   },
   {
    "duration": 6,
    "start_time": "2023-02-01T02:50:48.018Z"
   },
   {
    "duration": 13,
    "start_time": "2023-02-01T02:50:48.026Z"
   },
   {
    "duration": 11,
    "start_time": "2023-02-01T02:50:48.042Z"
   },
   {
    "duration": 122,
    "start_time": "2023-02-01T02:50:48.055Z"
   },
   {
    "duration": 14,
    "start_time": "2023-02-01T02:50:48.178Z"
   },
   {
    "duration": 28,
    "start_time": "2023-02-01T02:50:48.195Z"
   },
   {
    "duration": 8,
    "start_time": "2023-02-01T02:50:48.224Z"
   },
   {
    "duration": 17,
    "start_time": "2023-02-01T02:51:36.281Z"
   },
   {
    "duration": 12,
    "start_time": "2023-02-01T02:51:42.758Z"
   },
   {
    "duration": 17,
    "start_time": "2023-02-01T02:51:50.690Z"
   },
   {
    "duration": 17,
    "start_time": "2023-02-01T02:51:58.504Z"
   },
   {
    "duration": 9,
    "start_time": "2023-02-01T02:52:19.781Z"
   },
   {
    "duration": 10,
    "start_time": "2023-02-01T02:52:23.489Z"
   },
   {
    "duration": 9,
    "start_time": "2023-02-01T02:52:31.634Z"
   },
   {
    "duration": 51,
    "start_time": "2023-02-01T02:52:37.977Z"
   },
   {
    "duration": 10,
    "start_time": "2023-02-01T02:52:41.215Z"
   },
   {
    "duration": 9,
    "start_time": "2023-02-01T02:53:02.781Z"
   },
   {
    "duration": 13,
    "start_time": "2023-02-01T02:53:08.610Z"
   },
   {
    "duration": 19,
    "start_time": "2023-02-01T02:53:43.081Z"
   },
   {
    "duration": 11,
    "start_time": "2023-02-01T02:54:53.727Z"
   },
   {
    "duration": 76,
    "start_time": "2023-02-01T02:54:53.740Z"
   },
   {
    "duration": 15,
    "start_time": "2023-02-01T02:54:53.817Z"
   },
   {
    "duration": 21,
    "start_time": "2023-02-01T02:54:53.834Z"
   },
   {
    "duration": 9,
    "start_time": "2023-02-01T02:54:53.857Z"
   },
   {
    "duration": 48,
    "start_time": "2023-02-01T02:54:53.868Z"
   },
   {
    "duration": 3,
    "start_time": "2023-02-01T02:54:53.918Z"
   },
   {
    "duration": 21,
    "start_time": "2023-02-01T02:54:53.923Z"
   },
   {
    "duration": 21,
    "start_time": "2023-02-01T02:54:53.946Z"
   },
   {
    "duration": 14,
    "start_time": "2023-02-01T02:54:53.969Z"
   },
   {
    "duration": 15,
    "start_time": "2023-02-01T02:54:53.985Z"
   },
   {
    "duration": 56,
    "start_time": "2023-02-01T02:54:54.001Z"
   },
   {
    "duration": 8,
    "start_time": "2023-02-01T02:54:54.059Z"
   },
   {
    "duration": 13,
    "start_time": "2023-02-01T02:54:54.069Z"
   },
   {
    "duration": 18,
    "start_time": "2023-02-01T02:54:54.083Z"
   },
   {
    "duration": 43,
    "start_time": "2023-02-01T02:54:54.103Z"
   },
   {
    "duration": 20,
    "start_time": "2023-02-01T02:54:54.147Z"
   },
   {
    "duration": 4,
    "start_time": "2023-02-01T02:54:54.169Z"
   },
   {
    "duration": 19,
    "start_time": "2023-02-01T02:54:54.174Z"
   },
   {
    "duration": 5,
    "start_time": "2023-02-01T02:54:54.195Z"
   },
   {
    "duration": 32,
    "start_time": "2023-02-01T02:54:54.202Z"
   },
   {
    "duration": 22,
    "start_time": "2023-02-01T02:54:54.235Z"
   },
   {
    "duration": 6,
    "start_time": "2023-02-01T02:54:54.259Z"
   },
   {
    "duration": 28,
    "start_time": "2023-02-01T02:54:54.266Z"
   },
   {
    "duration": 15,
    "start_time": "2023-02-01T02:54:54.295Z"
   },
   {
    "duration": 137,
    "start_time": "2023-02-01T02:54:54.312Z"
   },
   {
    "duration": 7,
    "start_time": "2023-02-01T02:54:59.014Z"
   },
   {
    "duration": 8,
    "start_time": "2023-02-01T03:09:46.330Z"
   },
   {
    "duration": 19,
    "start_time": "2023-02-01T03:09:47.749Z"
   },
   {
    "duration": 50,
    "start_time": "2023-02-01T03:11:16.127Z"
   },
   {
    "duration": 57,
    "start_time": "2023-02-01T03:11:26.515Z"
   },
   {
    "duration": 57,
    "start_time": "2023-02-01T03:11:38.589Z"
   },
   {
    "duration": 41,
    "start_time": "2023-02-01T03:11:43.122Z"
   },
   {
    "duration": 59,
    "start_time": "2023-02-01T03:11:49.431Z"
   },
   {
    "duration": 8,
    "start_time": "2023-02-01T03:12:01.717Z"
   },
   {
    "duration": 8,
    "start_time": "2023-02-01T03:12:06.091Z"
   },
   {
    "duration": 19,
    "start_time": "2023-02-01T03:12:09.436Z"
   },
   {
    "duration": 8,
    "start_time": "2023-02-01T03:12:18.680Z"
   },
   {
    "duration": 52,
    "start_time": "2023-02-01T03:12:32.204Z"
   },
   {
    "duration": 21,
    "start_time": "2023-02-01T03:12:36.008Z"
   },
   {
    "duration": 18,
    "start_time": "2023-02-01T03:12:49.082Z"
   },
   {
    "duration": 19,
    "start_time": "2023-02-01T03:13:00.700Z"
   },
   {
    "duration": 9,
    "start_time": "2023-02-01T03:13:02.891Z"
   },
   {
    "duration": 1258,
    "start_time": "2023-02-01T10:32:45.908Z"
   },
   {
    "duration": 13,
    "start_time": "2023-02-01T10:36:56.635Z"
   },
   {
    "duration": 11,
    "start_time": "2023-02-01T10:37:11.607Z"
   },
   {
    "duration": 343,
    "start_time": "2023-02-01T10:37:11.619Z"
   },
   {
    "duration": 19,
    "start_time": "2023-02-01T10:37:11.964Z"
   },
   {
    "duration": 14,
    "start_time": "2023-02-01T10:37:11.985Z"
   },
   {
    "duration": 10,
    "start_time": "2023-02-01T10:37:12.000Z"
   },
   {
    "duration": 47,
    "start_time": "2023-02-01T10:37:12.012Z"
   },
   {
    "duration": 3,
    "start_time": "2023-02-01T10:37:12.061Z"
   },
   {
    "duration": 10,
    "start_time": "2023-02-01T10:37:12.066Z"
   },
   {
    "duration": 5,
    "start_time": "2023-02-01T10:37:12.077Z"
   },
   {
    "duration": 12,
    "start_time": "2023-02-01T10:37:12.084Z"
   },
   {
    "duration": 5,
    "start_time": "2023-02-01T10:37:12.097Z"
   },
   {
    "duration": 60,
    "start_time": "2023-02-01T10:37:12.104Z"
   },
   {
    "duration": 11,
    "start_time": "2023-02-01T10:37:12.165Z"
   },
   {
    "duration": 8,
    "start_time": "2023-02-01T10:37:12.177Z"
   },
   {
    "duration": 12,
    "start_time": "2023-02-01T10:37:12.187Z"
   },
   {
    "duration": 17,
    "start_time": "2023-02-01T10:37:12.201Z"
   },
   {
    "duration": 34,
    "start_time": "2023-02-01T10:37:12.219Z"
   },
   {
    "duration": 3,
    "start_time": "2023-02-01T10:37:12.254Z"
   },
   {
    "duration": 17,
    "start_time": "2023-02-01T10:37:12.258Z"
   },
   {
    "duration": 5,
    "start_time": "2023-02-01T10:37:12.277Z"
   },
   {
    "duration": 3,
    "start_time": "2023-02-01T10:37:12.283Z"
   },
   {
    "duration": 11,
    "start_time": "2023-02-01T10:37:12.287Z"
   },
   {
    "duration": 3,
    "start_time": "2023-02-01T10:37:12.300Z"
   },
   {
    "duration": 12,
    "start_time": "2023-02-01T10:37:12.304Z"
   },
   {
    "duration": 7,
    "start_time": "2023-02-01T10:37:12.317Z"
   },
   {
    "duration": 120,
    "start_time": "2023-02-01T10:37:14.815Z"
   },
   {
    "duration": 8,
    "start_time": "2023-02-01T10:38:02.717Z"
   },
   {
    "duration": 27,
    "start_time": "2023-02-01T10:38:04.335Z"
   },
   {
    "duration": 8,
    "start_time": "2023-02-01T10:38:07.164Z"
   },
   {
    "duration": 18,
    "start_time": "2023-02-01T10:38:08.628Z"
   },
   {
    "duration": 96,
    "start_time": "2023-02-01T10:40:15.814Z"
   },
   {
    "duration": 20,
    "start_time": "2023-02-01T10:40:37.255Z"
   },
   {
    "duration": 126,
    "start_time": "2023-02-01T10:40:39.818Z"
   },
   {
    "duration": 121,
    "start_time": "2023-02-01T10:43:37.363Z"
   },
   {
    "duration": 20,
    "start_time": "2023-02-01T10:43:53.019Z"
   },
   {
    "duration": 19,
    "start_time": "2023-02-01T10:44:01.708Z"
   },
   {
    "duration": 118,
    "start_time": "2023-02-01T10:44:04.498Z"
   },
   {
    "duration": 204,
    "start_time": "2023-02-01T10:44:09.523Z"
   },
   {
    "duration": 110,
    "start_time": "2023-02-01T10:44:23.404Z"
   },
   {
    "duration": 132,
    "start_time": "2023-02-01T10:44:33.750Z"
   },
   {
    "duration": 119,
    "start_time": "2023-02-01T10:45:08.497Z"
   },
   {
    "duration": 116,
    "start_time": "2023-02-01T10:45:20.507Z"
   },
   {
    "duration": 123,
    "start_time": "2023-02-01T10:45:29.992Z"
   },
   {
    "duration": 108,
    "start_time": "2023-02-01T10:46:03.302Z"
   },
   {
    "duration": 102,
    "start_time": "2023-02-01T10:46:19.132Z"
   },
   {
    "duration": 111,
    "start_time": "2023-02-01T11:20:57.551Z"
   },
   {
    "duration": 106,
    "start_time": "2023-02-01T11:22:24.457Z"
   },
   {
    "duration": 9,
    "start_time": "2023-02-01T11:22:28.951Z"
   },
   {
    "duration": 99,
    "start_time": "2023-02-01T11:22:41.430Z"
   },
   {
    "duration": 13,
    "start_time": "2023-02-01T11:22:52.991Z"
   },
   {
    "duration": 136,
    "start_time": "2023-02-01T11:23:07.691Z"
   },
   {
    "duration": 12,
    "start_time": "2023-02-01T11:23:16.490Z"
   },
   {
    "duration": 132,
    "start_time": "2023-02-01T11:23:22.718Z"
   },
   {
    "duration": 145,
    "start_time": "2023-02-01T11:23:58.048Z"
   },
   {
    "duration": 150,
    "start_time": "2023-02-01T11:24:02.806Z"
   },
   {
    "duration": 166,
    "start_time": "2023-02-01T11:24:10.512Z"
   },
   {
    "duration": 129,
    "start_time": "2023-02-01T11:29:08.893Z"
   },
   {
    "duration": 121,
    "start_time": "2023-02-01T11:29:17.556Z"
   },
   {
    "duration": 49,
    "start_time": "2023-02-01T11:30:40.605Z"
   },
   {
    "duration": 6,
    "start_time": "2023-02-01T11:33:11.867Z"
   },
   {
    "duration": 951,
    "start_time": "2023-02-01T11:33:42.131Z"
   },
   {
    "duration": 7,
    "start_time": "2023-02-01T11:33:53.811Z"
   },
   {
    "duration": 8,
    "start_time": "2023-02-01T11:34:10.346Z"
   },
   {
    "duration": 9,
    "start_time": "2023-02-01T11:34:22.298Z"
   },
   {
    "duration": 2377,
    "start_time": "2023-02-01T11:35:12.647Z"
   },
   {
    "duration": 10,
    "start_time": "2023-02-01T11:35:28.997Z"
   },
   {
    "duration": 13,
    "start_time": "2023-02-01T11:35:44.452Z"
   },
   {
    "duration": 10,
    "start_time": "2023-02-01T11:36:11.956Z"
   },
   {
    "duration": 28,
    "start_time": "2023-02-01T11:41:00.340Z"
   },
   {
    "duration": 22,
    "start_time": "2023-02-01T11:41:36.349Z"
   },
   {
    "duration": 25,
    "start_time": "2023-02-01T11:42:12.968Z"
   },
   {
    "duration": 28,
    "start_time": "2023-02-01T11:42:36.457Z"
   },
   {
    "duration": 40,
    "start_time": "2023-02-01T11:43:11.036Z"
   },
   {
    "duration": 38,
    "start_time": "2023-02-01T11:43:33.236Z"
   },
   {
    "duration": 8,
    "start_time": "2023-02-01T11:44:54.623Z"
   },
   {
    "duration": 39,
    "start_time": "2023-02-01T11:45:17.500Z"
   },
   {
    "duration": 10,
    "start_time": "2023-02-01T11:45:50.429Z"
   },
   {
    "duration": 18,
    "start_time": "2023-02-01T11:45:51.505Z"
   },
   {
    "duration": 5,
    "start_time": "2023-02-01T11:57:41.267Z"
   },
   {
    "duration": 6,
    "start_time": "2023-02-01T11:57:58.020Z"
   },
   {
    "duration": 4,
    "start_time": "2023-02-01T12:01:00.424Z"
   },
   {
    "duration": 9,
    "start_time": "2023-02-01T12:01:04.908Z"
   },
   {
    "duration": 6,
    "start_time": "2023-02-01T12:01:23.900Z"
   },
   {
    "duration": 9,
    "start_time": "2023-02-01T12:01:40.352Z"
   },
   {
    "duration": 9,
    "start_time": "2023-02-01T12:02:37.596Z"
   },
   {
    "duration": 7,
    "start_time": "2023-02-01T12:02:40.012Z"
   },
   {
    "duration": 8,
    "start_time": "2023-02-01T12:02:56.134Z"
   },
   {
    "duration": 7,
    "start_time": "2023-02-01T12:02:56.994Z"
   },
   {
    "duration": 5,
    "start_time": "2023-02-01T12:03:58.462Z"
   },
   {
    "duration": 6,
    "start_time": "2023-02-01T12:04:22.416Z"
   },
   {
    "duration": 5,
    "start_time": "2023-02-01T12:06:28.816Z"
   },
   {
    "duration": 4,
    "start_time": "2023-02-01T12:06:44.597Z"
   },
   {
    "duration": 5,
    "start_time": "2023-02-01T12:09:09.316Z"
   },
   {
    "duration": 4,
    "start_time": "2023-02-01T12:13:18.107Z"
   },
   {
    "duration": 19,
    "start_time": "2023-02-01T12:13:21.670Z"
   },
   {
    "duration": 28,
    "start_time": "2023-02-01T12:15:10.119Z"
   },
   {
    "duration": 24,
    "start_time": "2023-02-01T12:17:07.920Z"
   },
   {
    "duration": 10,
    "start_time": "2023-02-01T12:18:36.236Z"
   },
   {
    "duration": 7,
    "start_time": "2023-02-01T12:18:42.324Z"
   },
   {
    "duration": 89,
    "start_time": "2023-02-01T12:19:08.900Z"
   },
   {
    "duration": 116,
    "start_time": "2023-02-01T12:35:45.680Z"
   },
   {
    "duration": 34,
    "start_time": "2023-02-01T12:46:23.969Z"
   },
   {
    "duration": 28,
    "start_time": "2023-02-01T12:47:00.435Z"
   },
   {
    "duration": 38,
    "start_time": "2023-02-01T12:47:44.227Z"
   },
   {
    "duration": 37,
    "start_time": "2023-02-01T12:48:58.119Z"
   },
   {
    "duration": 37,
    "start_time": "2023-02-01T12:49:09.964Z"
   },
   {
    "duration": 1266,
    "start_time": "2023-02-01T22:38:23.329Z"
   },
   {
    "duration": 69,
    "start_time": "2023-02-01T22:38:24.597Z"
   },
   {
    "duration": 19,
    "start_time": "2023-02-01T22:38:24.667Z"
   },
   {
    "duration": 13,
    "start_time": "2023-02-01T22:38:24.688Z"
   },
   {
    "duration": 9,
    "start_time": "2023-02-01T22:38:24.703Z"
   },
   {
    "duration": 48,
    "start_time": "2023-02-01T22:38:24.713Z"
   },
   {
    "duration": 3,
    "start_time": "2023-02-01T22:38:24.762Z"
   },
   {
    "duration": 15,
    "start_time": "2023-02-01T22:38:24.767Z"
   },
   {
    "duration": 4,
    "start_time": "2023-02-01T22:38:24.783Z"
   },
   {
    "duration": 9,
    "start_time": "2023-02-01T22:38:24.788Z"
   },
   {
    "duration": 4,
    "start_time": "2023-02-01T22:38:24.799Z"
   },
   {
    "duration": 48,
    "start_time": "2023-02-01T22:38:24.804Z"
   },
   {
    "duration": 9,
    "start_time": "2023-02-01T22:38:24.853Z"
   },
   {
    "duration": 3,
    "start_time": "2023-02-01T22:38:24.864Z"
   },
   {
    "duration": 13,
    "start_time": "2023-02-01T22:38:24.869Z"
   },
   {
    "duration": 16,
    "start_time": "2023-02-01T22:38:24.884Z"
   },
   {
    "duration": 14,
    "start_time": "2023-02-01T22:38:24.902Z"
   },
   {
    "duration": 3,
    "start_time": "2023-02-01T22:38:24.917Z"
   },
   {
    "duration": 36,
    "start_time": "2023-02-01T22:38:24.921Z"
   },
   {
    "duration": 5,
    "start_time": "2023-02-01T22:38:24.959Z"
   },
   {
    "duration": 4,
    "start_time": "2023-02-01T22:38:24.965Z"
   },
   {
    "duration": 11,
    "start_time": "2023-02-01T22:38:24.970Z"
   },
   {
    "duration": 8,
    "start_time": "2023-02-01T22:38:30.235Z"
   },
   {
    "duration": 17,
    "start_time": "2023-02-01T22:38:54.922Z"
   },
   {
    "duration": 2,
    "start_time": "2023-02-01T22:39:05.563Z"
   },
   {
    "duration": 7,
    "start_time": "2023-02-01T22:39:44.736Z"
   },
   {
    "duration": 17,
    "start_time": "2023-02-01T22:40:11.216Z"
   },
   {
    "duration": 7,
    "start_time": "2023-02-01T22:40:22.899Z"
   },
   {
    "duration": 177,
    "start_time": "2023-02-01T22:41:04.412Z"
   },
   {
    "duration": 13,
    "start_time": "2023-02-01T22:41:32.063Z"
   },
   {
    "duration": 2,
    "start_time": "2023-02-01T22:41:41.304Z"
   },
   {
    "duration": 6,
    "start_time": "2023-02-01T22:42:03.321Z"
   },
   {
    "duration": 8,
    "start_time": "2023-02-01T22:42:27.230Z"
   },
   {
    "duration": 7,
    "start_time": "2023-02-01T22:42:43.917Z"
   },
   {
    "duration": 3,
    "start_time": "2023-02-01T22:44:12.510Z"
   },
   {
    "duration": 7,
    "start_time": "2023-02-01T22:44:53.750Z"
   },
   {
    "duration": 9,
    "start_time": "2023-02-01T22:45:16.963Z"
   },
   {
    "duration": 30,
    "start_time": "2023-02-01T22:45:55.643Z"
   },
   {
    "duration": 224,
    "start_time": "2023-02-01T22:46:30.495Z"
   },
   {
    "duration": 7,
    "start_time": "2023-02-01T22:49:54.195Z"
   },
   {
    "duration": 6,
    "start_time": "2023-02-01T22:50:03.131Z"
   },
   {
    "duration": 43,
    "start_time": "2023-02-01T22:50:37.310Z"
   },
   {
    "duration": 8,
    "start_time": "2023-02-01T22:51:08.079Z"
   },
   {
    "duration": 24,
    "start_time": "2023-02-01T22:51:15.896Z"
   },
   {
    "duration": 125,
    "start_time": "2023-02-01T22:51:40.139Z"
   },
   {
    "duration": 10,
    "start_time": "2023-02-01T22:52:33.485Z"
   },
   {
    "duration": 6,
    "start_time": "2023-02-01T22:52:48.446Z"
   },
   {
    "duration": 5,
    "start_time": "2023-02-01T22:53:07.978Z"
   },
   {
    "duration": 2,
    "start_time": "2023-02-01T22:53:16.914Z"
   },
   {
    "duration": 24,
    "start_time": "2023-02-01T22:54:30.589Z"
   },
   {
    "duration": 105,
    "start_time": "2023-02-01T22:54:51.090Z"
   },
   {
    "duration": 28,
    "start_time": "2023-02-01T22:56:17.090Z"
   },
   {
    "duration": 163,
    "start_time": "2023-02-01T22:56:27.959Z"
   },
   {
    "duration": 17,
    "start_time": "2023-02-01T22:58:02.133Z"
   },
   {
    "duration": 10,
    "start_time": "2023-02-01T22:58:08.682Z"
   },
   {
    "duration": 2,
    "start_time": "2023-02-01T22:58:15.749Z"
   },
   {
    "duration": 15,
    "start_time": "2023-02-01T22:58:34.229Z"
   },
   {
    "duration": 17,
    "start_time": "2023-02-01T22:58:44.645Z"
   },
   {
    "duration": 5,
    "start_time": "2023-02-01T22:59:24.353Z"
   },
   {
    "duration": 1171,
    "start_time": "2023-02-01T23:00:38.379Z"
   },
   {
    "duration": 76,
    "start_time": "2023-02-01T23:00:39.552Z"
   },
   {
    "duration": 20,
    "start_time": "2023-02-01T23:00:39.629Z"
   },
   {
    "duration": 13,
    "start_time": "2023-02-01T23:00:39.651Z"
   },
   {
    "duration": 9,
    "start_time": "2023-02-01T23:00:39.666Z"
   },
   {
    "duration": 33,
    "start_time": "2023-02-01T23:00:39.676Z"
   },
   {
    "duration": 3,
    "start_time": "2023-02-01T23:00:39.711Z"
   },
   {
    "duration": 11,
    "start_time": "2023-02-01T23:00:39.715Z"
   },
   {
    "duration": 4,
    "start_time": "2023-02-01T23:00:39.748Z"
   },
   {
    "duration": 7,
    "start_time": "2023-02-01T23:00:39.754Z"
   },
   {
    "duration": 6,
    "start_time": "2023-02-01T23:00:39.762Z"
   },
   {
    "duration": 34,
    "start_time": "2023-02-01T23:00:39.769Z"
   },
   {
    "duration": 9,
    "start_time": "2023-02-01T23:00:39.804Z"
   },
   {
    "duration": 3,
    "start_time": "2023-02-01T23:00:39.816Z"
   },
   {
    "duration": 11,
    "start_time": "2023-02-01T23:00:39.847Z"
   },
   {
    "duration": 30,
    "start_time": "2023-02-01T23:00:39.859Z"
   },
   {
    "duration": 18,
    "start_time": "2023-02-01T23:00:39.891Z"
   },
   {
    "duration": 4,
    "start_time": "2023-02-01T23:00:39.910Z"
   },
   {
    "duration": 14,
    "start_time": "2023-02-01T23:00:39.915Z"
   },
   {
    "duration": 19,
    "start_time": "2023-02-01T23:00:39.931Z"
   },
   {
    "duration": 3,
    "start_time": "2023-02-01T23:00:39.951Z"
   },
   {
    "duration": 10,
    "start_time": "2023-02-01T23:00:39.956Z"
   },
   {
    "duration": 7,
    "start_time": "2023-02-01T23:00:39.968Z"
   },
   {
    "duration": 18,
    "start_time": "2023-02-01T23:00:39.977Z"
   },
   {
    "duration": 2,
    "start_time": "2023-02-01T23:00:39.997Z"
   },
   {
    "duration": 20,
    "start_time": "2023-02-01T23:00:40.000Z"
   },
   {
    "duration": 35,
    "start_time": "2023-02-01T23:00:40.022Z"
   },
   {
    "duration": 6,
    "start_time": "2023-02-01T23:00:40.059Z"
   },
   {
    "duration": 16,
    "start_time": "2023-02-01T23:00:40.066Z"
   },
   {
    "duration": 2,
    "start_time": "2023-02-01T23:00:40.084Z"
   },
   {
    "duration": 10,
    "start_time": "2023-02-01T23:00:40.087Z"
   },
   {
    "duration": 10,
    "start_time": "2023-02-01T23:00:40.098Z"
   },
   {
    "duration": 5,
    "start_time": "2023-02-01T23:00:40.110Z"
   },
   {
    "duration": 31,
    "start_time": "2023-02-01T23:00:40.117Z"
   },
   {
    "duration": 8,
    "start_time": "2023-02-01T23:00:40.149Z"
   },
   {
    "duration": 8,
    "start_time": "2023-02-01T23:00:40.158Z"
   },
   {
    "duration": 30,
    "start_time": "2023-02-01T23:00:40.168Z"
   },
   {
    "duration": 243,
    "start_time": "2023-02-01T23:00:40.199Z"
   },
   {
    "duration": 6,
    "start_time": "2023-02-01T23:00:40.444Z"
   },
   {
    "duration": 10,
    "start_time": "2023-02-01T23:00:40.451Z"
   },
   {
    "duration": 45,
    "start_time": "2023-02-01T23:00:40.464Z"
   },
   {
    "duration": 7,
    "start_time": "2023-02-01T23:00:40.511Z"
   },
   {
    "duration": 20,
    "start_time": "2023-02-01T23:00:40.520Z"
   },
   {
    "duration": 128,
    "start_time": "2023-02-01T23:00:40.547Z"
   },
   {
    "duration": 9,
    "start_time": "2023-02-01T23:00:40.677Z"
   },
   {
    "duration": 6,
    "start_time": "2023-02-01T23:00:40.687Z"
   },
   {
    "duration": 6,
    "start_time": "2023-02-01T23:00:40.695Z"
   },
   {
    "duration": 6,
    "start_time": "2023-02-01T23:00:40.702Z"
   },
   {
    "duration": 48,
    "start_time": "2023-02-01T23:00:40.709Z"
   },
   {
    "duration": 108,
    "start_time": "2023-02-01T23:00:40.758Z"
   },
   {
    "duration": 28,
    "start_time": "2023-02-01T23:00:40.867Z"
   },
   {
    "duration": 123,
    "start_time": "2023-02-01T23:00:40.897Z"
   },
   {
    "duration": 16,
    "start_time": "2023-02-01T23:00:41.022Z"
   },
   {
    "duration": 8,
    "start_time": "2023-02-01T23:00:41.048Z"
   },
   {
    "duration": 2,
    "start_time": "2023-02-01T23:00:41.058Z"
   },
   {
    "duration": 23,
    "start_time": "2023-02-01T23:00:41.062Z"
   },
   {
    "duration": 18,
    "start_time": "2023-02-01T23:00:41.086Z"
   },
   {
    "duration": 3,
    "start_time": "2023-02-01T23:00:41.106Z"
   },
   {
    "duration": 1273,
    "start_time": "2023-02-01T23:06:50.012Z"
   },
   {
    "duration": 71,
    "start_time": "2023-02-01T23:06:51.287Z"
   },
   {
    "duration": 17,
    "start_time": "2023-02-01T23:06:51.360Z"
   },
   {
    "duration": 13,
    "start_time": "2023-02-01T23:06:51.379Z"
   },
   {
    "duration": 11,
    "start_time": "2023-02-01T23:06:51.394Z"
   },
   {
    "duration": 43,
    "start_time": "2023-02-01T23:06:51.406Z"
   },
   {
    "duration": 3,
    "start_time": "2023-02-01T23:06:51.451Z"
   },
   {
    "duration": 12,
    "start_time": "2023-02-01T23:06:51.455Z"
   },
   {
    "duration": 7,
    "start_time": "2023-02-01T23:06:51.469Z"
   },
   {
    "duration": 9,
    "start_time": "2023-02-01T23:06:51.477Z"
   },
   {
    "duration": 7,
    "start_time": "2023-02-01T23:06:51.487Z"
   },
   {
    "duration": 39,
    "start_time": "2023-02-01T23:06:51.495Z"
   },
   {
    "duration": 10,
    "start_time": "2023-02-01T23:06:51.547Z"
   },
   {
    "duration": 8,
    "start_time": "2023-02-01T23:06:51.560Z"
   },
   {
    "duration": 13,
    "start_time": "2023-02-01T23:06:51.569Z"
   },
   {
    "duration": 19,
    "start_time": "2023-02-01T23:06:51.583Z"
   },
   {
    "duration": 18,
    "start_time": "2023-02-01T23:06:51.604Z"
   },
   {
    "duration": 25,
    "start_time": "2023-02-01T23:06:51.623Z"
   },
   {
    "duration": 11,
    "start_time": "2023-02-01T23:06:51.650Z"
   },
   {
    "duration": 11,
    "start_time": "2023-02-01T23:06:51.663Z"
   },
   {
    "duration": 3,
    "start_time": "2023-02-01T23:06:51.675Z"
   },
   {
    "duration": 10,
    "start_time": "2023-02-01T23:06:51.680Z"
   },
   {
    "duration": 8,
    "start_time": "2023-02-01T23:06:51.691Z"
   },
   {
    "duration": 14,
    "start_time": "2023-02-01T23:06:51.700Z"
   },
   {
    "duration": 2,
    "start_time": "2023-02-01T23:06:51.716Z"
   },
   {
    "duration": 30,
    "start_time": "2023-02-01T23:06:51.719Z"
   },
   {
    "duration": 17,
    "start_time": "2023-02-01T23:06:51.750Z"
   },
   {
    "duration": 6,
    "start_time": "2023-02-01T23:06:51.768Z"
   },
   {
    "duration": 15,
    "start_time": "2023-02-01T23:06:51.776Z"
   },
   {
    "duration": 3,
    "start_time": "2023-02-01T23:06:51.792Z"
   },
   {
    "duration": 19,
    "start_time": "2023-02-01T23:06:51.796Z"
   },
   {
    "duration": 12,
    "start_time": "2023-02-01T23:06:51.816Z"
   },
   {
    "duration": 22,
    "start_time": "2023-02-01T23:06:51.830Z"
   },
   {
    "duration": 4,
    "start_time": "2023-02-01T23:06:51.854Z"
   },
   {
    "duration": 11,
    "start_time": "2023-02-01T23:06:51.860Z"
   },
   {
    "duration": 11,
    "start_time": "2023-02-01T23:06:51.873Z"
   },
   {
    "duration": 37,
    "start_time": "2023-02-01T23:06:51.885Z"
   },
   {
    "duration": 215,
    "start_time": "2023-02-01T23:06:51.924Z"
   },
   {
    "duration": 7,
    "start_time": "2023-02-01T23:06:52.163Z"
   },
   {
    "duration": 8,
    "start_time": "2023-02-01T23:06:52.171Z"
   },
   {
    "duration": 41,
    "start_time": "2023-02-01T23:06:52.183Z"
   },
   {
    "duration": 7,
    "start_time": "2023-02-01T23:06:52.226Z"
   },
   {
    "duration": 28,
    "start_time": "2023-02-01T23:06:52.235Z"
   },
   {
    "duration": 145,
    "start_time": "2023-02-01T23:06:52.265Z"
   },
   {
    "duration": 9,
    "start_time": "2023-02-01T23:06:52.411Z"
   },
   {
    "duration": 6,
    "start_time": "2023-02-01T23:06:52.422Z"
   },
   {
    "duration": 21,
    "start_time": "2023-02-01T23:06:52.429Z"
   },
   {
    "duration": 7,
    "start_time": "2023-02-01T23:06:52.451Z"
   },
   {
    "duration": 27,
    "start_time": "2023-02-01T23:06:52.459Z"
   },
   {
    "duration": 120,
    "start_time": "2023-02-01T23:06:52.487Z"
   },
   {
    "duration": 28,
    "start_time": "2023-02-01T23:06:52.609Z"
   },
   {
    "duration": 111,
    "start_time": "2023-02-01T23:06:52.648Z"
   },
   {
    "duration": 14,
    "start_time": "2023-02-01T23:06:52.760Z"
   },
   {
    "duration": 7,
    "start_time": "2023-02-01T23:06:52.776Z"
   },
   {
    "duration": 2,
    "start_time": "2023-02-01T23:06:52.785Z"
   },
   {
    "duration": 17,
    "start_time": "2023-02-01T23:06:52.788Z"
   },
   {
    "duration": 44,
    "start_time": "2023-02-01T23:06:52.807Z"
   },
   {
    "duration": 4,
    "start_time": "2023-02-01T23:06:52.853Z"
   },
   {
    "duration": 1913,
    "start_time": "2023-02-02T00:08:43.477Z"
   },
   {
    "duration": 89,
    "start_time": "2023-02-02T00:08:45.392Z"
   },
   {
    "duration": 21,
    "start_time": "2023-02-02T00:08:45.483Z"
   },
   {
    "duration": 25,
    "start_time": "2023-02-02T00:08:45.506Z"
   },
   {
    "duration": 15,
    "start_time": "2023-02-02T00:08:45.533Z"
   },
   {
    "duration": 62,
    "start_time": "2023-02-02T00:08:45.549Z"
   },
   {
    "duration": 4,
    "start_time": "2023-02-02T00:08:45.613Z"
   },
   {
    "duration": 22,
    "start_time": "2023-02-02T00:08:45.618Z"
   },
   {
    "duration": 27,
    "start_time": "2023-02-02T00:08:45.642Z"
   },
   {
    "duration": 20,
    "start_time": "2023-02-02T00:08:45.673Z"
   },
   {
    "duration": 20,
    "start_time": "2023-02-02T00:08:45.695Z"
   },
   {
    "duration": 55,
    "start_time": "2023-02-02T00:08:45.716Z"
   },
   {
    "duration": 9,
    "start_time": "2023-02-02T00:08:45.773Z"
   },
   {
    "duration": 25,
    "start_time": "2023-02-02T00:08:45.784Z"
   },
   {
    "duration": 31,
    "start_time": "2023-02-02T00:08:45.811Z"
   },
   {
    "duration": 43,
    "start_time": "2023-02-02T00:08:45.844Z"
   },
   {
    "duration": 19,
    "start_time": "2023-02-02T00:08:45.889Z"
   },
   {
    "duration": 8,
    "start_time": "2023-02-02T00:08:45.910Z"
   },
   {
    "duration": 46,
    "start_time": "2023-02-02T00:08:45.919Z"
   },
   {
    "duration": 14,
    "start_time": "2023-02-02T00:08:45.966Z"
   },
   {
    "duration": 21,
    "start_time": "2023-02-02T00:08:45.981Z"
   },
   {
    "duration": 16,
    "start_time": "2023-02-02T00:08:46.004Z"
   },
   {
    "duration": 24,
    "start_time": "2023-02-02T00:08:46.022Z"
   },
   {
    "duration": 34,
    "start_time": "2023-02-02T00:08:46.048Z"
   },
   {
    "duration": 10,
    "start_time": "2023-02-02T00:08:46.084Z"
   },
   {
    "duration": 17,
    "start_time": "2023-02-02T00:08:46.096Z"
   },
   {
    "duration": 38,
    "start_time": "2023-02-02T00:08:46.115Z"
   },
   {
    "duration": 17,
    "start_time": "2023-02-02T00:08:46.156Z"
   },
   {
    "duration": 30,
    "start_time": "2023-02-02T00:08:46.175Z"
   },
   {
    "duration": 11,
    "start_time": "2023-02-02T00:08:46.207Z"
   },
   {
    "duration": 32,
    "start_time": "2023-02-02T00:08:46.220Z"
   },
   {
    "duration": 20,
    "start_time": "2023-02-02T00:08:46.254Z"
   },
   {
    "duration": 19,
    "start_time": "2023-02-02T00:08:46.276Z"
   },
   {
    "duration": 14,
    "start_time": "2023-02-02T00:08:46.296Z"
   },
   {
    "duration": 25,
    "start_time": "2023-02-02T00:08:46.311Z"
   },
   {
    "duration": 17,
    "start_time": "2023-02-02T00:08:46.338Z"
   },
   {
    "duration": 52,
    "start_time": "2023-02-02T00:08:46.357Z"
   },
   {
    "duration": 293,
    "start_time": "2023-02-02T00:08:46.412Z"
   },
   {
    "duration": 7,
    "start_time": "2023-02-02T00:08:46.706Z"
   },
   {
    "duration": 13,
    "start_time": "2023-02-02T00:08:46.715Z"
   },
   {
    "duration": 60,
    "start_time": "2023-02-02T00:08:46.730Z"
   },
   {
    "duration": 9,
    "start_time": "2023-02-02T00:08:46.792Z"
   },
   {
    "duration": 34,
    "start_time": "2023-02-02T00:08:46.803Z"
   },
   {
    "duration": 188,
    "start_time": "2023-02-02T00:08:46.839Z"
   },
   {
    "duration": 14,
    "start_time": "2023-02-02T00:08:47.029Z"
   },
   {
    "duration": 17,
    "start_time": "2023-02-02T00:08:47.045Z"
   },
   {
    "duration": 11,
    "start_time": "2023-02-02T00:08:47.064Z"
   },
   {
    "duration": 14,
    "start_time": "2023-02-02T00:08:47.077Z"
   },
   {
    "duration": 30,
    "start_time": "2023-02-02T00:08:47.093Z"
   },
   {
    "duration": 126,
    "start_time": "2023-02-02T00:08:47.125Z"
   },
   {
    "duration": 31,
    "start_time": "2023-02-02T00:08:47.252Z"
   },
   {
    "duration": 144,
    "start_time": "2023-02-02T00:08:47.285Z"
   },
   {
    "duration": 24,
    "start_time": "2023-02-02T00:08:47.430Z"
   },
   {
    "duration": 21,
    "start_time": "2023-02-02T00:08:47.456Z"
   },
   {
    "duration": 30,
    "start_time": "2023-02-02T00:08:47.480Z"
   },
   {
    "duration": 26,
    "start_time": "2023-02-02T00:08:47.512Z"
   },
   {
    "duration": 39,
    "start_time": "2023-02-02T00:08:47.540Z"
   },
   {
    "duration": 8,
    "start_time": "2023-02-02T00:08:47.581Z"
   },
   {
    "duration": 1325,
    "start_time": "2023-02-02T00:13:52.896Z"
   },
   {
    "duration": 1305,
    "start_time": "2023-02-02T00:14:25.409Z"
   },
   {
    "duration": 1265,
    "start_time": "2023-02-02T00:15:31.553Z"
   },
   {
    "duration": 1167,
    "start_time": "2023-02-02T00:15:42.446Z"
   },
   {
    "duration": 18,
    "start_time": "2023-02-02T00:16:07.033Z"
   },
   {
    "duration": 80,
    "start_time": "2023-02-02T00:16:07.053Z"
   },
   {
    "duration": 16,
    "start_time": "2023-02-02T00:16:07.136Z"
   },
   {
    "duration": 18,
    "start_time": "2023-02-02T00:16:07.153Z"
   },
   {
    "duration": 11,
    "start_time": "2023-02-02T00:16:07.173Z"
   },
   {
    "duration": 74,
    "start_time": "2023-02-02T00:16:07.186Z"
   },
   {
    "duration": 3,
    "start_time": "2023-02-02T00:16:07.262Z"
   },
   {
    "duration": 12,
    "start_time": "2023-02-02T00:16:07.267Z"
   },
   {
    "duration": 4,
    "start_time": "2023-02-02T00:16:07.281Z"
   },
   {
    "duration": 11,
    "start_time": "2023-02-02T00:16:07.287Z"
   },
   {
    "duration": 9,
    "start_time": "2023-02-02T00:16:07.300Z"
   },
   {
    "duration": 137,
    "start_time": "2023-02-02T00:16:07.311Z"
   },
   {
    "duration": 10,
    "start_time": "2023-02-02T00:16:07.450Z"
   },
   {
    "duration": 4,
    "start_time": "2023-02-02T00:16:07.463Z"
   },
   {
    "duration": 12,
    "start_time": "2023-02-02T00:16:07.469Z"
   },
   {
    "duration": 20,
    "start_time": "2023-02-02T00:16:07.483Z"
   },
   {
    "duration": 47,
    "start_time": "2023-02-02T00:16:07.504Z"
   },
   {
    "duration": 5,
    "start_time": "2023-02-02T00:16:07.553Z"
   },
   {
    "duration": 13,
    "start_time": "2023-02-02T00:16:07.560Z"
   },
   {
    "duration": 11,
    "start_time": "2023-02-02T00:16:07.575Z"
   },
   {
    "duration": 4,
    "start_time": "2023-02-02T00:16:07.588Z"
   },
   {
    "duration": 15,
    "start_time": "2023-02-02T00:16:07.594Z"
   },
   {
    "duration": 32,
    "start_time": "2023-02-02T00:16:07.610Z"
   },
   {
    "duration": 21,
    "start_time": "2023-02-02T00:16:07.644Z"
   },
   {
    "duration": 2,
    "start_time": "2023-02-02T00:16:07.668Z"
   },
   {
    "duration": 16,
    "start_time": "2023-02-02T00:16:07.672Z"
   },
   {
    "duration": 20,
    "start_time": "2023-02-02T00:16:07.690Z"
   },
   {
    "duration": 11,
    "start_time": "2023-02-02T00:16:10.527Z"
   },
   {
    "duration": 10,
    "start_time": "2023-02-02T00:16:15.773Z"
   },
   {
    "duration": 76,
    "start_time": "2023-02-02T00:16:15.785Z"
   },
   {
    "duration": 16,
    "start_time": "2023-02-02T00:16:15.862Z"
   },
   {
    "duration": 21,
    "start_time": "2023-02-02T00:16:15.880Z"
   },
   {
    "duration": 12,
    "start_time": "2023-02-02T00:16:15.902Z"
   },
   {
    "duration": 37,
    "start_time": "2023-02-02T00:16:15.941Z"
   },
   {
    "duration": 3,
    "start_time": "2023-02-02T00:16:15.980Z"
   },
   {
    "duration": 19,
    "start_time": "2023-02-02T00:16:15.985Z"
   },
   {
    "duration": 5,
    "start_time": "2023-02-02T00:16:16.006Z"
   },
   {
    "duration": 27,
    "start_time": "2023-02-02T00:16:16.013Z"
   },
   {
    "duration": 5,
    "start_time": "2023-02-02T00:16:16.042Z"
   },
   {
    "duration": 41,
    "start_time": "2023-02-02T00:16:16.049Z"
   },
   {
    "duration": 11,
    "start_time": "2023-02-02T00:16:16.092Z"
   },
   {
    "duration": 7,
    "start_time": "2023-02-02T00:16:16.105Z"
   },
   {
    "duration": 33,
    "start_time": "2023-02-02T00:16:16.113Z"
   },
   {
    "duration": 28,
    "start_time": "2023-02-02T00:16:16.148Z"
   },
   {
    "duration": 18,
    "start_time": "2023-02-02T00:16:16.178Z"
   },
   {
    "duration": 5,
    "start_time": "2023-02-02T00:16:16.198Z"
   },
   {
    "duration": 41,
    "start_time": "2023-02-02T00:16:16.205Z"
   },
   {
    "duration": 9,
    "start_time": "2023-02-02T00:16:16.248Z"
   },
   {
    "duration": 5,
    "start_time": "2023-02-02T00:16:16.259Z"
   },
   {
    "duration": 15,
    "start_time": "2023-02-02T00:16:16.266Z"
   },
   {
    "duration": 14,
    "start_time": "2023-02-02T00:16:16.283Z"
   },
   {
    "duration": 17,
    "start_time": "2023-02-02T00:16:16.300Z"
   },
   {
    "duration": 3,
    "start_time": "2023-02-02T00:16:16.319Z"
   },
   {
    "duration": 20,
    "start_time": "2023-02-02T00:16:16.323Z"
   },
   {
    "duration": 6,
    "start_time": "2023-02-02T00:16:22.486Z"
   },
   {
    "duration": 6,
    "start_time": "2023-02-02T00:16:28.588Z"
   },
   {
    "duration": 6,
    "start_time": "2023-02-02T00:16:45.457Z"
   },
   {
    "duration": 12,
    "start_time": "2023-02-02T00:18:31.564Z"
   },
   {
    "duration": 8,
    "start_time": "2023-02-02T00:18:41.615Z"
   },
   {
    "duration": 1978,
    "start_time": "2023-02-02T00:52:47.928Z"
   },
   {
    "duration": 76,
    "start_time": "2023-02-02T00:52:49.908Z"
   },
   {
    "duration": 21,
    "start_time": "2023-02-02T00:52:49.986Z"
   },
   {
    "duration": 32,
    "start_time": "2023-02-02T00:52:50.010Z"
   },
   {
    "duration": 12,
    "start_time": "2023-02-02T00:52:50.044Z"
   },
   {
    "duration": 43,
    "start_time": "2023-02-02T00:52:50.058Z"
   },
   {
    "duration": 4,
    "start_time": "2023-02-02T00:52:50.103Z"
   },
   {
    "duration": 32,
    "start_time": "2023-02-02T00:52:50.109Z"
   },
   {
    "duration": 20,
    "start_time": "2023-02-02T00:52:50.143Z"
   },
   {
    "duration": 19,
    "start_time": "2023-02-02T00:52:50.167Z"
   },
   {
    "duration": 10,
    "start_time": "2023-02-02T00:52:50.188Z"
   },
   {
    "duration": 43,
    "start_time": "2023-02-02T00:52:50.200Z"
   },
   {
    "duration": 11,
    "start_time": "2023-02-02T00:52:50.245Z"
   },
   {
    "duration": 10,
    "start_time": "2023-02-02T00:52:50.258Z"
   },
   {
    "duration": 26,
    "start_time": "2023-02-02T00:52:50.270Z"
   },
   {
    "duration": 31,
    "start_time": "2023-02-02T00:52:50.297Z"
   },
   {
    "duration": 17,
    "start_time": "2023-02-02T00:52:50.330Z"
   },
   {
    "duration": 7,
    "start_time": "2023-02-02T00:52:50.349Z"
   },
   {
    "duration": 19,
    "start_time": "2023-02-02T00:52:50.357Z"
   },
   {
    "duration": 10,
    "start_time": "2023-02-02T00:52:50.377Z"
   },
   {
    "duration": 20,
    "start_time": "2023-02-02T00:52:50.388Z"
   },
   {
    "duration": 19,
    "start_time": "2023-02-02T00:52:50.410Z"
   },
   {
    "duration": 15,
    "start_time": "2023-02-02T00:52:50.430Z"
   },
   {
    "duration": 26,
    "start_time": "2023-02-02T00:52:50.447Z"
   },
   {
    "duration": 3,
    "start_time": "2023-02-02T00:52:50.475Z"
   },
   {
    "duration": 23,
    "start_time": "2023-02-02T00:52:50.480Z"
   },
   {
    "duration": 27,
    "start_time": "2023-02-02T00:52:50.505Z"
   },
   {
    "duration": 7,
    "start_time": "2023-02-02T00:52:50.537Z"
   },
   {
    "duration": 22,
    "start_time": "2023-02-02T00:52:50.546Z"
   },
   {
    "duration": 9,
    "start_time": "2023-02-02T00:52:50.569Z"
   },
   {
    "duration": 34,
    "start_time": "2023-02-02T00:52:50.579Z"
   },
   {
    "duration": 23,
    "start_time": "2023-02-02T00:52:50.615Z"
   },
   {
    "duration": 27,
    "start_time": "2023-02-02T00:52:50.640Z"
   },
   {
    "duration": 21,
    "start_time": "2023-02-02T00:52:50.668Z"
   },
   {
    "duration": 21,
    "start_time": "2023-02-02T00:52:50.691Z"
   },
   {
    "duration": 15,
    "start_time": "2023-02-02T00:52:50.714Z"
   },
   {
    "duration": 42,
    "start_time": "2023-02-02T00:52:50.730Z"
   },
   {
    "duration": 247,
    "start_time": "2023-02-02T00:52:50.774Z"
   },
   {
    "duration": 7,
    "start_time": "2023-02-02T00:52:51.023Z"
   },
   {
    "duration": 22,
    "start_time": "2023-02-02T00:52:51.031Z"
   },
   {
    "duration": 73,
    "start_time": "2023-02-02T00:52:51.054Z"
   },
   {
    "duration": 8,
    "start_time": "2023-02-02T00:52:51.129Z"
   },
   {
    "duration": 21,
    "start_time": "2023-02-02T00:52:51.139Z"
   },
   {
    "duration": 155,
    "start_time": "2023-02-02T00:52:51.162Z"
   },
   {
    "duration": 9,
    "start_time": "2023-02-02T00:52:51.319Z"
   },
   {
    "duration": 29,
    "start_time": "2023-02-02T00:52:51.329Z"
   },
   {
    "duration": 11,
    "start_time": "2023-02-02T00:52:51.359Z"
   },
   {
    "duration": 7,
    "start_time": "2023-02-02T00:52:51.372Z"
   },
   {
    "duration": 29,
    "start_time": "2023-02-02T00:52:51.380Z"
   },
   {
    "duration": 110,
    "start_time": "2023-02-02T00:52:51.410Z"
   },
   {
    "duration": 35,
    "start_time": "2023-02-02T00:52:51.521Z"
   },
   {
    "duration": 120,
    "start_time": "2023-02-02T00:52:51.557Z"
   },
   {
    "duration": 15,
    "start_time": "2023-02-02T00:52:51.678Z"
   },
   {
    "duration": 9,
    "start_time": "2023-02-02T00:52:51.694Z"
   },
   {
    "duration": 10,
    "start_time": "2023-02-02T00:52:51.704Z"
   },
   {
    "duration": 28,
    "start_time": "2023-02-02T00:52:51.715Z"
   },
   {
    "duration": 21,
    "start_time": "2023-02-02T00:52:51.745Z"
   },
   {
    "duration": 4,
    "start_time": "2023-02-02T00:52:51.767Z"
   },
   {
    "duration": 101,
    "start_time": "2023-02-02T01:02:11.795Z"
   },
   {
    "duration": 7,
    "start_time": "2023-02-02T01:14:09.072Z"
   },
   {
    "duration": 7,
    "start_time": "2023-02-02T01:25:48.788Z"
   },
   {
    "duration": 7,
    "start_time": "2023-02-02T01:33:34.020Z"
   },
   {
    "duration": 4,
    "start_time": "2023-02-02T01:33:59.919Z"
   },
   {
    "duration": 3,
    "start_time": "2023-02-02T01:34:15.110Z"
   },
   {
    "duration": 4,
    "start_time": "2023-02-02T01:34:21.090Z"
   },
   {
    "duration": 5,
    "start_time": "2023-02-02T01:34:38.910Z"
   },
   {
    "duration": 4,
    "start_time": "2023-02-02T01:34:47.710Z"
   },
   {
    "duration": 4,
    "start_time": "2023-02-02T01:34:51.120Z"
   },
   {
    "duration": 52,
    "start_time": "2023-02-02T02:00:20.756Z"
   },
   {
    "duration": 1373,
    "start_time": "2023-02-02T02:00:28.354Z"
   },
   {
    "duration": 304,
    "start_time": "2023-02-02T02:00:29.728Z"
   },
   {
    "duration": 18,
    "start_time": "2023-02-02T02:00:30.034Z"
   },
   {
    "duration": 27,
    "start_time": "2023-02-02T02:00:30.054Z"
   },
   {
    "duration": 33,
    "start_time": "2023-02-02T02:00:30.083Z"
   },
   {
    "duration": 54,
    "start_time": "2023-02-02T02:00:30.118Z"
   },
   {
    "duration": 4,
    "start_time": "2023-02-02T02:00:30.173Z"
   },
   {
    "duration": 47,
    "start_time": "2023-02-02T02:00:30.178Z"
   },
   {
    "duration": 12,
    "start_time": "2023-02-02T02:00:30.226Z"
   },
   {
    "duration": 33,
    "start_time": "2023-02-02T02:00:30.240Z"
   },
   {
    "duration": 41,
    "start_time": "2023-02-02T02:00:30.275Z"
   },
   {
    "duration": 84,
    "start_time": "2023-02-02T02:00:30.317Z"
   },
   {
    "duration": 12,
    "start_time": "2023-02-02T02:00:30.403Z"
   },
   {
    "duration": 27,
    "start_time": "2023-02-02T02:00:30.416Z"
   },
   {
    "duration": 40,
    "start_time": "2023-02-02T02:00:30.444Z"
   },
   {
    "duration": 68,
    "start_time": "2023-02-02T02:00:30.486Z"
   },
   {
    "duration": 26,
    "start_time": "2023-02-02T02:00:30.556Z"
   },
   {
    "duration": 18,
    "start_time": "2023-02-02T02:00:30.584Z"
   },
   {
    "duration": 62,
    "start_time": "2023-02-02T02:00:30.604Z"
   },
   {
    "duration": 43,
    "start_time": "2023-02-02T02:00:30.667Z"
   },
   {
    "duration": 26,
    "start_time": "2023-02-02T02:00:30.712Z"
   },
   {
    "duration": 50,
    "start_time": "2023-02-02T02:00:30.739Z"
   },
   {
    "duration": 61,
    "start_time": "2023-02-02T02:00:30.791Z"
   },
   {
    "duration": 62,
    "start_time": "2023-02-02T02:00:30.854Z"
   },
   {
    "duration": 29,
    "start_time": "2023-02-02T02:00:30.918Z"
   },
   {
    "duration": 58,
    "start_time": "2023-02-02T02:00:30.948Z"
   },
   {
    "duration": 53,
    "start_time": "2023-02-02T02:00:31.007Z"
   },
   {
    "duration": 11,
    "start_time": "2023-02-02T02:03:28.041Z"
   },
   {
    "duration": 79,
    "start_time": "2023-02-02T02:03:28.053Z"
   },
   {
    "duration": 14,
    "start_time": "2023-02-02T02:03:28.134Z"
   },
   {
    "duration": 15,
    "start_time": "2023-02-02T02:03:28.150Z"
   },
   {
    "duration": 33,
    "start_time": "2023-02-02T02:03:28.167Z"
   },
   {
    "duration": 32,
    "start_time": "2023-02-02T02:03:28.202Z"
   },
   {
    "duration": 4,
    "start_time": "2023-02-02T02:03:28.235Z"
   },
   {
    "duration": 10,
    "start_time": "2023-02-02T02:03:28.240Z"
   },
   {
    "duration": 5,
    "start_time": "2023-02-02T02:03:28.252Z"
   },
   {
    "duration": 34,
    "start_time": "2023-02-02T02:03:28.260Z"
   },
   {
    "duration": 4,
    "start_time": "2023-02-02T02:03:28.295Z"
   },
   {
    "duration": 35,
    "start_time": "2023-02-02T02:03:28.301Z"
   },
   {
    "duration": 8,
    "start_time": "2023-02-02T02:03:28.338Z"
   },
   {
    "duration": 4,
    "start_time": "2023-02-02T02:03:28.348Z"
   },
   {
    "duration": 12,
    "start_time": "2023-02-02T02:03:28.353Z"
   },
   {
    "duration": 38,
    "start_time": "2023-02-02T02:03:28.366Z"
   },
   {
    "duration": 15,
    "start_time": "2023-02-02T02:03:28.405Z"
   },
   {
    "duration": 3,
    "start_time": "2023-02-02T02:03:28.422Z"
   },
   {
    "duration": 13,
    "start_time": "2023-02-02T02:03:28.426Z"
   },
   {
    "duration": 6,
    "start_time": "2023-02-02T02:03:28.440Z"
   },
   {
    "duration": 7,
    "start_time": "2023-02-02T02:03:28.447Z"
   },
   {
    "duration": 36,
    "start_time": "2023-02-02T02:03:28.455Z"
   },
   {
    "duration": 11,
    "start_time": "2023-02-02T02:03:28.493Z"
   },
   {
    "duration": 18,
    "start_time": "2023-02-02T02:03:28.505Z"
   },
   {
    "duration": 2,
    "start_time": "2023-02-02T02:03:28.525Z"
   },
   {
    "duration": 19,
    "start_time": "2023-02-02T02:03:28.528Z"
   },
   {
    "duration": 14,
    "start_time": "2023-02-02T02:03:28.548Z"
   },
   {
    "duration": 5,
    "start_time": "2023-02-02T02:03:28.565Z"
   },
   {
    "duration": 14,
    "start_time": "2023-02-02T02:03:28.591Z"
   },
   {
    "duration": 2,
    "start_time": "2023-02-02T02:03:28.606Z"
   },
   {
    "duration": 8,
    "start_time": "2023-02-02T02:03:28.610Z"
   },
   {
    "duration": 12,
    "start_time": "2023-02-02T02:03:28.619Z"
   },
   {
    "duration": 8,
    "start_time": "2023-02-02T02:03:36.388Z"
   },
   {
    "duration": 8,
    "start_time": "2023-02-02T02:08:56.393Z"
   },
   {
    "duration": 77,
    "start_time": "2023-02-02T02:09:55.041Z"
   },
   {
    "duration": 14,
    "start_time": "2023-02-02T02:10:06.023Z"
   },
   {
    "duration": 27,
    "start_time": "2023-02-02T02:10:57.185Z"
   },
   {
    "duration": 12,
    "start_time": "2023-02-02T02:11:09.903Z"
   },
   {
    "duration": 101,
    "start_time": "2023-02-02T02:11:09.917Z"
   },
   {
    "duration": 16,
    "start_time": "2023-02-02T02:11:10.020Z"
   },
   {
    "duration": 16,
    "start_time": "2023-02-02T02:11:10.038Z"
   },
   {
    "duration": 10,
    "start_time": "2023-02-02T02:11:10.056Z"
   },
   {
    "duration": 38,
    "start_time": "2023-02-02T02:11:10.092Z"
   },
   {
    "duration": 4,
    "start_time": "2023-02-02T02:11:10.132Z"
   },
   {
    "duration": 12,
    "start_time": "2023-02-02T02:11:10.137Z"
   },
   {
    "duration": 13,
    "start_time": "2023-02-02T02:11:10.151Z"
   },
   {
    "duration": 7,
    "start_time": "2023-02-02T02:11:10.167Z"
   },
   {
    "duration": 17,
    "start_time": "2023-02-02T02:11:10.176Z"
   },
   {
    "duration": 39,
    "start_time": "2023-02-02T02:11:10.195Z"
   },
   {
    "duration": 10,
    "start_time": "2023-02-02T02:11:10.235Z"
   },
   {
    "duration": 7,
    "start_time": "2023-02-02T02:11:10.247Z"
   },
   {
    "duration": 12,
    "start_time": "2023-02-02T02:11:10.255Z"
   },
   {
    "duration": 36,
    "start_time": "2023-02-02T02:11:10.269Z"
   },
   {
    "duration": 19,
    "start_time": "2023-02-02T02:11:10.307Z"
   },
   {
    "duration": 3,
    "start_time": "2023-02-02T02:11:10.328Z"
   },
   {
    "duration": 12,
    "start_time": "2023-02-02T02:11:10.332Z"
   },
   {
    "duration": 5,
    "start_time": "2023-02-02T02:11:10.346Z"
   },
   {
    "duration": 6,
    "start_time": "2023-02-02T02:11:10.353Z"
   },
   {
    "duration": 34,
    "start_time": "2023-02-02T02:11:10.360Z"
   },
   {
    "duration": 14,
    "start_time": "2023-02-02T02:11:10.395Z"
   },
   {
    "duration": 16,
    "start_time": "2023-02-02T02:11:10.411Z"
   },
   {
    "duration": 2,
    "start_time": "2023-02-02T02:11:10.428Z"
   },
   {
    "duration": 10,
    "start_time": "2023-02-02T02:11:10.432Z"
   },
   {
    "duration": 14,
    "start_time": "2023-02-02T02:11:10.444Z"
   },
   {
    "duration": 33,
    "start_time": "2023-02-02T02:11:10.461Z"
   },
   {
    "duration": 16,
    "start_time": "2023-02-02T02:11:10.496Z"
   },
   {
    "duration": 2,
    "start_time": "2023-02-02T02:11:10.514Z"
   },
   {
    "duration": 9,
    "start_time": "2023-02-02T02:11:10.518Z"
   },
   {
    "duration": 11,
    "start_time": "2023-02-02T02:11:10.529Z"
   },
   {
    "duration": 9,
    "start_time": "2023-02-02T02:11:10.542Z"
   },
   {
    "duration": 7,
    "start_time": "2023-02-02T02:11:10.552Z"
   },
   {
    "duration": 8,
    "start_time": "2023-02-02T02:11:10.560Z"
   },
   {
    "duration": 7,
    "start_time": "2023-02-02T02:11:10.591Z"
   },
   {
    "duration": 27,
    "start_time": "2023-02-02T02:11:14.292Z"
   },
   {
    "duration": 29,
    "start_time": "2023-02-02T02:11:39.995Z"
   },
   {
    "duration": 12,
    "start_time": "2023-02-02T02:13:26.971Z"
   },
   {
    "duration": 28,
    "start_time": "2023-02-02T02:13:34.749Z"
   },
   {
    "duration": 27,
    "start_time": "2023-02-02T02:13:49.109Z"
   },
   {
    "duration": 16,
    "start_time": "2023-02-02T02:15:54.696Z"
   },
   {
    "duration": 28,
    "start_time": "2023-02-02T02:16:28.120Z"
   },
   {
    "duration": 5,
    "start_time": "2023-02-02T02:20:56.729Z"
   },
   {
    "duration": 5,
    "start_time": "2023-02-02T02:21:02.202Z"
   },
   {
    "duration": 26,
    "start_time": "2023-02-02T02:21:42.018Z"
   },
   {
    "duration": 8,
    "start_time": "2023-02-02T02:28:02.025Z"
   },
   {
    "duration": 11,
    "start_time": "2023-02-02T02:28:41.129Z"
   },
   {
    "duration": 92,
    "start_time": "2023-02-02T02:28:41.142Z"
   },
   {
    "duration": 13,
    "start_time": "2023-02-02T02:28:41.236Z"
   },
   {
    "duration": 19,
    "start_time": "2023-02-02T02:28:41.251Z"
   },
   {
    "duration": 25,
    "start_time": "2023-02-02T02:28:41.271Z"
   },
   {
    "duration": 48,
    "start_time": "2023-02-02T02:28:41.299Z"
   },
   {
    "duration": 3,
    "start_time": "2023-02-02T02:28:41.349Z"
   },
   {
    "duration": 25,
    "start_time": "2023-02-02T02:28:41.354Z"
   },
   {
    "duration": 4,
    "start_time": "2023-02-02T02:28:41.382Z"
   },
   {
    "duration": 6,
    "start_time": "2023-02-02T02:28:41.388Z"
   },
   {
    "duration": 15,
    "start_time": "2023-02-02T02:28:41.396Z"
   },
   {
    "duration": 32,
    "start_time": "2023-02-02T02:28:41.413Z"
   },
   {
    "duration": 10,
    "start_time": "2023-02-02T02:28:41.447Z"
   },
   {
    "duration": 3,
    "start_time": "2023-02-02T02:28:41.459Z"
   },
   {
    "duration": 32,
    "start_time": "2023-02-02T02:28:41.464Z"
   },
   {
    "duration": 24,
    "start_time": "2023-02-02T02:28:41.498Z"
   },
   {
    "duration": 15,
    "start_time": "2023-02-02T02:28:41.525Z"
   },
   {
    "duration": 3,
    "start_time": "2023-02-02T02:28:41.541Z"
   },
   {
    "duration": 10,
    "start_time": "2023-02-02T02:28:41.546Z"
   },
   {
    "duration": 6,
    "start_time": "2023-02-02T02:28:41.557Z"
   },
   {
    "duration": 5,
    "start_time": "2023-02-02T02:28:41.591Z"
   },
   {
    "duration": 22,
    "start_time": "2023-02-02T02:28:41.597Z"
   },
   {
    "duration": 11,
    "start_time": "2023-02-02T02:28:41.620Z"
   },
   {
    "duration": 12,
    "start_time": "2023-02-02T02:28:41.634Z"
   },
   {
    "duration": 2,
    "start_time": "2023-02-02T02:28:41.647Z"
   },
   {
    "duration": 12,
    "start_time": "2023-02-02T02:28:41.651Z"
   },
   {
    "duration": 13,
    "start_time": "2023-02-02T02:28:41.664Z"
   },
   {
    "duration": 10,
    "start_time": "2023-02-02T02:28:41.692Z"
   },
   {
    "duration": 18,
    "start_time": "2023-02-02T02:28:41.704Z"
   },
   {
    "duration": 2,
    "start_time": "2023-02-02T02:28:41.724Z"
   },
   {
    "duration": 9,
    "start_time": "2023-02-02T02:28:41.727Z"
   },
   {
    "duration": 9,
    "start_time": "2023-02-02T02:28:41.737Z"
   },
   {
    "duration": 5,
    "start_time": "2023-02-02T02:28:41.748Z"
   },
   {
    "duration": 6,
    "start_time": "2023-02-02T02:28:41.755Z"
   },
   {
    "duration": 35,
    "start_time": "2023-02-02T02:28:41.763Z"
   },
   {
    "duration": 49,
    "start_time": "2023-02-02T02:28:41.800Z"
   },
   {
    "duration": 8,
    "start_time": "2023-02-02T02:28:44.918Z"
   },
   {
    "duration": 9,
    "start_time": "2023-02-02T02:29:10.878Z"
   },
   {
    "duration": 12,
    "start_time": "2023-02-02T02:29:18.203Z"
   },
   {
    "duration": 87,
    "start_time": "2023-02-02T02:29:18.218Z"
   },
   {
    "duration": 17,
    "start_time": "2023-02-02T02:29:18.307Z"
   },
   {
    "duration": 16,
    "start_time": "2023-02-02T02:29:18.326Z"
   },
   {
    "duration": 9,
    "start_time": "2023-02-02T02:29:18.344Z"
   },
   {
    "duration": 64,
    "start_time": "2023-02-02T02:29:18.354Z"
   },
   {
    "duration": 3,
    "start_time": "2023-02-02T02:29:18.420Z"
   },
   {
    "duration": 11,
    "start_time": "2023-02-02T02:29:18.424Z"
   },
   {
    "duration": 6,
    "start_time": "2023-02-02T02:29:18.436Z"
   },
   {
    "duration": 9,
    "start_time": "2023-02-02T02:29:18.445Z"
   },
   {
    "duration": 17,
    "start_time": "2023-02-02T02:29:18.455Z"
   },
   {
    "duration": 53,
    "start_time": "2023-02-02T02:29:18.473Z"
   },
   {
    "duration": 9,
    "start_time": "2023-02-02T02:29:18.528Z"
   },
   {
    "duration": 4,
    "start_time": "2023-02-02T02:29:18.538Z"
   },
   {
    "duration": 11,
    "start_time": "2023-02-02T02:29:18.543Z"
   },
   {
    "duration": 16,
    "start_time": "2023-02-02T02:29:18.556Z"
   },
   {
    "duration": 23,
    "start_time": "2023-02-02T02:29:18.592Z"
   },
   {
    "duration": 3,
    "start_time": "2023-02-02T02:29:18.616Z"
   },
   {
    "duration": 14,
    "start_time": "2023-02-02T02:29:18.621Z"
   },
   {
    "duration": 6,
    "start_time": "2023-02-02T02:29:18.636Z"
   },
   {
    "duration": 7,
    "start_time": "2023-02-02T02:29:18.643Z"
   },
   {
    "duration": 15,
    "start_time": "2023-02-02T02:29:18.651Z"
   },
   {
    "duration": 24,
    "start_time": "2023-02-02T02:29:18.668Z"
   },
   {
    "duration": 20,
    "start_time": "2023-02-02T02:29:18.696Z"
   },
   {
    "duration": 3,
    "start_time": "2023-02-02T02:29:18.717Z"
   },
   {
    "duration": 8,
    "start_time": "2023-02-02T02:29:18.721Z"
   },
   {
    "duration": 12,
    "start_time": "2023-02-02T02:29:18.730Z"
   },
   {
    "duration": 6,
    "start_time": "2023-02-02T02:29:18.745Z"
   },
   {
    "duration": 16,
    "start_time": "2023-02-02T02:29:18.752Z"
   },
   {
    "duration": 2,
    "start_time": "2023-02-02T02:29:18.791Z"
   },
   {
    "duration": 23,
    "start_time": "2023-02-02T02:29:18.795Z"
   },
   {
    "duration": 10,
    "start_time": "2023-02-02T02:29:18.819Z"
   },
   {
    "duration": 7,
    "start_time": "2023-02-02T02:29:18.830Z"
   },
   {
    "duration": 7,
    "start_time": "2023-02-02T02:29:18.838Z"
   },
   {
    "duration": 18,
    "start_time": "2023-02-02T02:29:18.846Z"
   },
   {
    "duration": 37,
    "start_time": "2023-02-02T02:29:18.866Z"
   },
   {
    "duration": 14,
    "start_time": "2023-02-02T02:29:36.097Z"
   },
   {
    "duration": 12,
    "start_time": "2023-02-02T02:31:15.159Z"
   },
   {
    "duration": 84,
    "start_time": "2023-02-02T02:31:15.173Z"
   },
   {
    "duration": 15,
    "start_time": "2023-02-02T02:31:15.258Z"
   },
   {
    "duration": 25,
    "start_time": "2023-02-02T02:31:15.275Z"
   },
   {
    "duration": 16,
    "start_time": "2023-02-02T02:31:15.302Z"
   },
   {
    "duration": 32,
    "start_time": "2023-02-02T02:31:15.320Z"
   },
   {
    "duration": 3,
    "start_time": "2023-02-02T02:31:15.354Z"
   },
   {
    "duration": 10,
    "start_time": "2023-02-02T02:31:15.359Z"
   },
   {
    "duration": 5,
    "start_time": "2023-02-02T02:31:15.371Z"
   },
   {
    "duration": 5,
    "start_time": "2023-02-02T02:31:15.394Z"
   },
   {
    "duration": 16,
    "start_time": "2023-02-02T02:31:15.401Z"
   },
   {
    "duration": 32,
    "start_time": "2023-02-02T02:31:15.418Z"
   },
   {
    "duration": 10,
    "start_time": "2023-02-02T02:31:15.453Z"
   },
   {
    "duration": 24,
    "start_time": "2023-02-02T02:31:15.464Z"
   },
   {
    "duration": 29,
    "start_time": "2023-02-02T02:31:15.490Z"
   },
   {
    "duration": 23,
    "start_time": "2023-02-02T02:31:15.520Z"
   },
   {
    "duration": 19,
    "start_time": "2023-02-02T02:31:15.545Z"
   },
   {
    "duration": 10,
    "start_time": "2023-02-02T02:31:15.566Z"
   },
   {
    "duration": 28,
    "start_time": "2023-02-02T02:31:15.577Z"
   },
   {
    "duration": 11,
    "start_time": "2023-02-02T02:31:15.608Z"
   },
   {
    "duration": 4,
    "start_time": "2023-02-02T02:31:15.621Z"
   },
   {
    "duration": 19,
    "start_time": "2023-02-02T02:31:15.627Z"
   },
   {
    "duration": 12,
    "start_time": "2023-02-02T02:31:15.648Z"
   },
   {
    "duration": 28,
    "start_time": "2023-02-02T02:31:15.662Z"
   },
   {
    "duration": 4,
    "start_time": "2023-02-02T02:31:15.691Z"
   },
   {
    "duration": 13,
    "start_time": "2023-02-02T02:31:15.696Z"
   },
   {
    "duration": 14,
    "start_time": "2023-02-02T02:31:15.710Z"
   },
   {
    "duration": 7,
    "start_time": "2023-02-02T02:31:15.725Z"
   },
   {
    "duration": 18,
    "start_time": "2023-02-02T02:31:15.733Z"
   },
   {
    "duration": 3,
    "start_time": "2023-02-02T02:31:15.753Z"
   },
   {
    "duration": 9,
    "start_time": "2023-02-02T02:31:15.758Z"
   },
   {
    "duration": 32,
    "start_time": "2023-02-02T02:31:15.769Z"
   },
   {
    "duration": 20,
    "start_time": "2023-02-02T02:31:15.804Z"
   },
   {
    "duration": 5,
    "start_time": "2023-02-02T02:31:15.826Z"
   },
   {
    "duration": 9,
    "start_time": "2023-02-02T02:31:15.833Z"
   },
   {
    "duration": 27,
    "start_time": "2023-02-02T02:31:18.100Z"
   },
   {
    "duration": 25,
    "start_time": "2023-02-02T02:33:16.005Z"
   },
   {
    "duration": 238,
    "start_time": "2023-02-02T02:35:35.845Z"
   },
   {
    "duration": 150,
    "start_time": "2023-02-02T02:35:49.470Z"
   },
   {
    "duration": 207,
    "start_time": "2023-02-02T02:35:57.994Z"
   },
   {
    "duration": 164,
    "start_time": "2023-02-02T02:37:37.279Z"
   },
   {
    "duration": 163,
    "start_time": "2023-02-02T02:38:15.280Z"
   },
   {
    "duration": 9,
    "start_time": "2023-02-02T02:38:41.484Z"
   },
   {
    "duration": 30,
    "start_time": "2023-02-02T02:39:12.471Z"
   },
   {
    "duration": 29,
    "start_time": "2023-02-02T02:39:27.251Z"
   },
   {
    "duration": 8,
    "start_time": "2023-02-02T02:39:33.869Z"
   },
   {
    "duration": 5,
    "start_time": "2023-02-02T02:39:44.562Z"
   },
   {
    "duration": 7,
    "start_time": "2023-02-02T02:39:54.279Z"
   },
   {
    "duration": 160,
    "start_time": "2023-02-02T02:40:54.982Z"
   },
   {
    "duration": 156,
    "start_time": "2023-02-02T02:41:07.565Z"
   },
   {
    "duration": 5,
    "start_time": "2023-02-02T02:41:26.157Z"
   },
   {
    "duration": 189,
    "start_time": "2023-02-02T02:42:07.054Z"
   },
   {
    "duration": 188,
    "start_time": "2023-02-02T02:42:37.149Z"
   },
   {
    "duration": 177,
    "start_time": "2023-02-02T02:43:03.149Z"
   },
   {
    "duration": 221,
    "start_time": "2023-02-02T02:43:16.301Z"
   },
   {
    "duration": 190,
    "start_time": "2023-02-02T02:43:27.590Z"
   },
   {
    "duration": 192,
    "start_time": "2023-02-02T02:44:48.189Z"
   },
   {
    "duration": 192,
    "start_time": "2023-02-02T02:44:53.886Z"
   },
   {
    "duration": 197,
    "start_time": "2023-02-02T02:45:11.324Z"
   },
   {
    "duration": 49,
    "start_time": "2023-02-02T02:45:53.379Z"
   },
   {
    "duration": 25,
    "start_time": "2023-02-02T02:48:10.897Z"
   },
   {
    "duration": 11,
    "start_time": "2023-02-02T02:48:18.158Z"
   },
   {
    "duration": 85,
    "start_time": "2023-02-02T02:48:18.171Z"
   },
   {
    "duration": 14,
    "start_time": "2023-02-02T02:48:18.258Z"
   },
   {
    "duration": 25,
    "start_time": "2023-02-02T02:48:18.273Z"
   },
   {
    "duration": 9,
    "start_time": "2023-02-02T02:48:18.300Z"
   },
   {
    "duration": 32,
    "start_time": "2023-02-02T02:48:18.310Z"
   },
   {
    "duration": 4,
    "start_time": "2023-02-02T02:48:18.343Z"
   },
   {
    "duration": 12,
    "start_time": "2023-02-02T02:48:18.348Z"
   },
   {
    "duration": 4,
    "start_time": "2023-02-02T02:48:18.361Z"
   },
   {
    "duration": 24,
    "start_time": "2023-02-02T02:48:18.367Z"
   },
   {
    "duration": 7,
    "start_time": "2023-02-02T02:48:18.394Z"
   },
   {
    "duration": 36,
    "start_time": "2023-02-02T02:48:18.403Z"
   },
   {
    "duration": 11,
    "start_time": "2023-02-02T02:48:18.441Z"
   },
   {
    "duration": 8,
    "start_time": "2023-02-02T02:48:18.453Z"
   },
   {
    "duration": 29,
    "start_time": "2023-02-02T02:48:18.462Z"
   },
   {
    "duration": 19,
    "start_time": "2023-02-02T02:48:18.493Z"
   },
   {
    "duration": 16,
    "start_time": "2023-02-02T02:48:18.514Z"
   },
   {
    "duration": 4,
    "start_time": "2023-02-02T02:48:18.532Z"
   },
   {
    "duration": 17,
    "start_time": "2023-02-02T02:48:18.538Z"
   },
   {
    "duration": 11,
    "start_time": "2023-02-02T02:48:18.557Z"
   },
   {
    "duration": 21,
    "start_time": "2023-02-02T02:48:18.570Z"
   },
   {
    "duration": 9,
    "start_time": "2023-02-02T02:48:18.592Z"
   },
   {
    "duration": 10,
    "start_time": "2023-02-02T02:48:18.603Z"
   },
   {
    "duration": 16,
    "start_time": "2023-02-02T02:48:18.614Z"
   },
   {
    "duration": 2,
    "start_time": "2023-02-02T02:48:18.632Z"
   },
   {
    "duration": 9,
    "start_time": "2023-02-02T02:48:18.635Z"
   },
   {
    "duration": 12,
    "start_time": "2023-02-02T02:48:18.646Z"
   },
   {
    "duration": 33,
    "start_time": "2023-02-02T02:48:18.660Z"
   },
   {
    "duration": 14,
    "start_time": "2023-02-02T02:48:18.697Z"
   },
   {
    "duration": 3,
    "start_time": "2023-02-02T02:48:18.713Z"
   },
   {
    "duration": 9,
    "start_time": "2023-02-02T02:48:18.718Z"
   },
   {
    "duration": 9,
    "start_time": "2023-02-02T02:48:18.728Z"
   },
   {
    "duration": 6,
    "start_time": "2023-02-02T02:48:18.739Z"
   },
   {
    "duration": 4,
    "start_time": "2023-02-02T02:48:18.746Z"
   },
   {
    "duration": 41,
    "start_time": "2023-02-02T02:48:18.751Z"
   },
   {
    "duration": 23,
    "start_time": "2023-02-02T02:48:18.794Z"
   },
   {
    "duration": 26,
    "start_time": "2023-02-02T02:48:18.818Z"
   },
   {
    "duration": 213,
    "start_time": "2023-02-02T02:48:18.845Z"
   },
   {
    "duration": 8,
    "start_time": "2023-02-02T02:48:27.989Z"
   },
   {
    "duration": 5,
    "start_time": "2023-02-02T02:48:31.431Z"
   },
   {
    "duration": 37,
    "start_time": "2023-02-02T02:48:55.207Z"
   },
   {
    "duration": 8,
    "start_time": "2023-02-02T02:49:14.052Z"
   },
   {
    "duration": 15,
    "start_time": "2023-02-02T02:49:15.415Z"
   },
   {
    "duration": 7,
    "start_time": "2023-02-02T02:50:10.298Z"
   },
   {
    "duration": 21,
    "start_time": "2023-02-02T02:50:10.307Z"
   },
   {
    "duration": 151,
    "start_time": "2023-02-02T02:50:10.329Z"
   },
   {
    "duration": 9,
    "start_time": "2023-02-02T02:50:10.482Z"
   },
   {
    "duration": 7,
    "start_time": "2023-02-02T02:50:10.492Z"
   },
   {
    "duration": 8,
    "start_time": "2023-02-02T02:50:10.501Z"
   },
   {
    "duration": 7,
    "start_time": "2023-02-02T02:50:10.511Z"
   },
   {
    "duration": 27,
    "start_time": "2023-02-02T02:50:10.519Z"
   },
   {
    "duration": 124,
    "start_time": "2023-02-02T02:50:10.547Z"
   },
   {
    "duration": 32,
    "start_time": "2023-02-02T02:50:10.674Z"
   },
   {
    "duration": 119,
    "start_time": "2023-02-02T02:50:10.707Z"
   },
   {
    "duration": 14,
    "start_time": "2023-02-02T02:50:10.828Z"
   },
   {
    "duration": 20,
    "start_time": "2023-02-02T02:50:10.843Z"
   },
   {
    "duration": 12,
    "start_time": "2023-02-02T02:50:10.865Z"
   },
   {
    "duration": 20,
    "start_time": "2023-02-02T02:50:10.878Z"
   },
   {
    "duration": 19,
    "start_time": "2023-02-02T02:50:10.899Z"
   },
   {
    "duration": 3,
    "start_time": "2023-02-02T02:50:10.920Z"
   },
   {
    "duration": 10,
    "start_time": "2023-02-02T02:51:02.236Z"
   },
   {
    "duration": 95,
    "start_time": "2023-02-02T02:51:02.249Z"
   },
   {
    "duration": 15,
    "start_time": "2023-02-02T02:51:02.346Z"
   },
   {
    "duration": 31,
    "start_time": "2023-02-02T02:51:02.362Z"
   },
   {
    "duration": 20,
    "start_time": "2023-02-02T02:51:02.395Z"
   },
   {
    "duration": 40,
    "start_time": "2023-02-02T02:51:02.416Z"
   },
   {
    "duration": 4,
    "start_time": "2023-02-02T02:51:02.458Z"
   },
   {
    "duration": 26,
    "start_time": "2023-02-02T02:51:02.463Z"
   },
   {
    "duration": 19,
    "start_time": "2023-02-02T02:51:02.490Z"
   },
   {
    "duration": 38,
    "start_time": "2023-02-02T02:51:02.511Z"
   },
   {
    "duration": 19,
    "start_time": "2023-02-02T02:51:02.551Z"
   },
   {
    "duration": 46,
    "start_time": "2023-02-02T02:51:02.571Z"
   },
   {
    "duration": 9,
    "start_time": "2023-02-02T02:51:02.620Z"
   },
   {
    "duration": 24,
    "start_time": "2023-02-02T02:51:02.630Z"
   },
   {
    "duration": 34,
    "start_time": "2023-02-02T02:51:02.656Z"
   },
   {
    "duration": 41,
    "start_time": "2023-02-02T02:51:02.692Z"
   },
   {
    "duration": 24,
    "start_time": "2023-02-02T02:51:02.734Z"
   },
   {
    "duration": 25,
    "start_time": "2023-02-02T02:51:02.759Z"
   },
   {
    "duration": 38,
    "start_time": "2023-02-02T02:51:02.786Z"
   },
   {
    "duration": 42,
    "start_time": "2023-02-02T02:51:02.826Z"
   },
   {
    "duration": 19,
    "start_time": "2023-02-02T02:51:02.870Z"
   },
   {
    "duration": 30,
    "start_time": "2023-02-02T02:51:02.890Z"
   },
   {
    "duration": 18,
    "start_time": "2023-02-02T02:51:02.921Z"
   },
   {
    "duration": 20,
    "start_time": "2023-02-02T02:51:02.941Z"
   },
   {
    "duration": 2,
    "start_time": "2023-02-02T02:51:02.963Z"
   },
   {
    "duration": 21,
    "start_time": "2023-02-02T02:51:02.967Z"
   },
   {
    "duration": 16,
    "start_time": "2023-02-02T02:51:02.990Z"
   },
   {
    "duration": 7,
    "start_time": "2023-02-02T02:51:03.008Z"
   },
   {
    "duration": 29,
    "start_time": "2023-02-02T02:51:03.016Z"
   },
   {
    "duration": 10,
    "start_time": "2023-02-02T02:51:03.047Z"
   },
   {
    "duration": 27,
    "start_time": "2023-02-02T02:51:03.059Z"
   },
   {
    "duration": 16,
    "start_time": "2023-02-02T02:51:03.088Z"
   },
   {
    "duration": 16,
    "start_time": "2023-02-02T02:51:03.105Z"
   },
   {
    "duration": 12,
    "start_time": "2023-02-02T02:51:03.123Z"
   },
   {
    "duration": 10,
    "start_time": "2023-02-02T02:51:03.136Z"
   },
   {
    "duration": 22,
    "start_time": "2023-02-02T02:51:03.148Z"
   },
   {
    "duration": 25,
    "start_time": "2023-02-02T02:51:03.173Z"
   },
   {
    "duration": 184,
    "start_time": "2023-02-02T02:51:03.200Z"
   },
   {
    "duration": 11,
    "start_time": "2023-02-02T02:51:03.385Z"
   },
   {
    "duration": 8,
    "start_time": "2023-02-02T02:51:03.397Z"
   },
   {
    "duration": 38,
    "start_time": "2023-02-02T02:51:03.406Z"
   },
   {
    "duration": 7,
    "start_time": "2023-02-02T02:51:08.312Z"
   },
   {
    "duration": 14,
    "start_time": "2023-02-02T02:51:09.600Z"
   },
   {
    "duration": 26,
    "start_time": "2023-02-02T02:52:31.138Z"
   },
   {
    "duration": 121,
    "start_time": "2023-02-02T02:52:53.633Z"
   },
   {
    "duration": 4,
    "start_time": "2023-02-02T02:53:34.769Z"
   },
   {
    "duration": 10,
    "start_time": "2023-02-02T02:54:55.232Z"
   },
   {
    "duration": 97,
    "start_time": "2023-02-02T02:55:04.627Z"
   },
   {
    "duration": 93,
    "start_time": "2023-02-02T02:55:19.243Z"
   },
   {
    "duration": 102,
    "start_time": "2023-02-02T02:56:41.869Z"
   },
   {
    "duration": 105,
    "start_time": "2023-02-02T02:57:44.894Z"
   },
   {
    "duration": 98,
    "start_time": "2023-02-02T02:57:56.100Z"
   },
   {
    "duration": 33,
    "start_time": "2023-02-02T03:21:21.799Z"
   },
   {
    "duration": 107,
    "start_time": "2023-02-02T03:21:48.136Z"
   },
   {
    "duration": 97,
    "start_time": "2023-02-02T03:22:00.668Z"
   },
   {
    "duration": 10,
    "start_time": "2023-02-02T03:22:59.438Z"
   },
   {
    "duration": 79,
    "start_time": "2023-02-02T03:22:59.450Z"
   },
   {
    "duration": 15,
    "start_time": "2023-02-02T03:22:59.531Z"
   },
   {
    "duration": 16,
    "start_time": "2023-02-02T03:22:59.547Z"
   },
   {
    "duration": 9,
    "start_time": "2023-02-02T03:22:59.565Z"
   },
   {
    "duration": 31,
    "start_time": "2023-02-02T03:22:59.591Z"
   },
   {
    "duration": 3,
    "start_time": "2023-02-02T03:22:59.623Z"
   },
   {
    "duration": 11,
    "start_time": "2023-02-02T03:22:59.628Z"
   },
   {
    "duration": 4,
    "start_time": "2023-02-02T03:22:59.641Z"
   },
   {
    "duration": 7,
    "start_time": "2023-02-02T03:22:59.647Z"
   },
   {
    "duration": 4,
    "start_time": "2023-02-02T03:22:59.656Z"
   },
   {
    "duration": 61,
    "start_time": "2023-02-02T03:22:59.661Z"
   },
   {
    "duration": 8,
    "start_time": "2023-02-02T03:22:59.724Z"
   },
   {
    "duration": 3,
    "start_time": "2023-02-02T03:22:59.735Z"
   },
   {
    "duration": 20,
    "start_time": "2023-02-02T03:22:59.739Z"
   },
   {
    "duration": 39,
    "start_time": "2023-02-02T03:22:59.761Z"
   },
   {
    "duration": 18,
    "start_time": "2023-02-02T03:22:59.801Z"
   },
   {
    "duration": 4,
    "start_time": "2023-02-02T03:22:59.820Z"
   },
   {
    "duration": 17,
    "start_time": "2023-02-02T03:22:59.825Z"
   },
   {
    "duration": 9,
    "start_time": "2023-02-02T03:22:59.843Z"
   },
   {
    "duration": 5,
    "start_time": "2023-02-02T03:22:59.853Z"
   },
   {
    "duration": 12,
    "start_time": "2023-02-02T03:22:59.859Z"
   },
   {
    "duration": 23,
    "start_time": "2023-02-02T03:22:59.872Z"
   },
   {
    "duration": 18,
    "start_time": "2023-02-02T03:22:59.897Z"
   },
   {
    "duration": 6,
    "start_time": "2023-02-02T03:22:59.917Z"
   },
   {
    "duration": 11,
    "start_time": "2023-02-02T03:22:59.924Z"
   },
   {
    "duration": 13,
    "start_time": "2023-02-02T03:22:59.936Z"
   },
   {
    "duration": 11,
    "start_time": "2023-02-02T03:22:59.950Z"
   },
   {
    "duration": 16,
    "start_time": "2023-02-02T03:22:59.962Z"
   },
   {
    "duration": 3,
    "start_time": "2023-02-02T03:22:59.991Z"
   },
   {
    "duration": 10,
    "start_time": "2023-02-02T03:22:59.995Z"
   },
   {
    "duration": 15,
    "start_time": "2023-02-02T03:23:00.006Z"
   },
   {
    "duration": 16,
    "start_time": "2023-02-02T03:23:00.023Z"
   },
   {
    "duration": 12,
    "start_time": "2023-02-02T03:23:00.040Z"
   },
   {
    "duration": 15,
    "start_time": "2023-02-02T03:23:00.053Z"
   },
   {
    "duration": 23,
    "start_time": "2023-02-02T03:23:00.070Z"
   },
   {
    "duration": 26,
    "start_time": "2023-02-02T03:23:00.095Z"
   },
   {
    "duration": 201,
    "start_time": "2023-02-02T03:23:00.122Z"
   },
   {
    "duration": 7,
    "start_time": "2023-02-02T03:23:00.325Z"
   },
   {
    "duration": 50,
    "start_time": "2023-02-02T03:23:00.333Z"
   },
   {
    "duration": 47,
    "start_time": "2023-02-02T03:23:00.387Z"
   },
   {
    "duration": 9,
    "start_time": "2023-02-02T03:23:00.435Z"
   },
   {
    "duration": 35,
    "start_time": "2023-02-02T03:23:00.445Z"
   },
   {
    "duration": 131,
    "start_time": "2023-02-02T03:23:00.481Z"
   },
   {
    "duration": 9,
    "start_time": "2023-02-02T03:23:00.614Z"
   },
   {
    "duration": 18,
    "start_time": "2023-02-02T03:23:00.625Z"
   },
   {
    "duration": 24,
    "start_time": "2023-02-02T03:23:00.644Z"
   },
   {
    "duration": 34,
    "start_time": "2023-02-02T03:23:00.669Z"
   },
   {
    "duration": 45,
    "start_time": "2023-02-02T03:23:00.705Z"
   },
   {
    "duration": 106,
    "start_time": "2023-02-02T03:23:00.751Z"
   },
   {
    "duration": 40,
    "start_time": "2023-02-02T03:23:00.859Z"
   },
   {
    "duration": 106,
    "start_time": "2023-02-02T03:23:00.901Z"
   },
   {
    "duration": 14,
    "start_time": "2023-02-02T03:23:01.009Z"
   },
   {
    "duration": 23,
    "start_time": "2023-02-02T03:23:01.025Z"
   },
   {
    "duration": 7,
    "start_time": "2023-02-02T03:23:44.542Z"
   },
   {
    "duration": 15,
    "start_time": "2023-02-02T03:23:49.048Z"
   },
   {
    "duration": 11,
    "start_time": "2023-02-02T03:28:41.214Z"
   },
   {
    "duration": 76,
    "start_time": "2023-02-02T03:28:41.227Z"
   },
   {
    "duration": 14,
    "start_time": "2023-02-02T03:28:41.305Z"
   },
   {
    "duration": 16,
    "start_time": "2023-02-02T03:28:41.321Z"
   },
   {
    "duration": 10,
    "start_time": "2023-02-02T03:28:41.338Z"
   },
   {
    "duration": 66,
    "start_time": "2023-02-02T03:28:41.349Z"
   },
   {
    "duration": 3,
    "start_time": "2023-02-02T03:28:41.417Z"
   },
   {
    "duration": 15,
    "start_time": "2023-02-02T03:28:41.422Z"
   },
   {
    "duration": 5,
    "start_time": "2023-02-02T03:28:41.439Z"
   },
   {
    "duration": 15,
    "start_time": "2023-02-02T03:28:41.447Z"
   },
   {
    "duration": 28,
    "start_time": "2023-02-02T03:28:41.464Z"
   },
   {
    "duration": 32,
    "start_time": "2023-02-02T03:28:41.494Z"
   },
   {
    "duration": 11,
    "start_time": "2023-02-02T03:28:41.528Z"
   },
   {
    "duration": 11,
    "start_time": "2023-02-02T03:28:41.540Z"
   },
   {
    "duration": 26,
    "start_time": "2023-02-02T03:28:41.552Z"
   },
   {
    "duration": 21,
    "start_time": "2023-02-02T03:28:41.592Z"
   },
   {
    "duration": 16,
    "start_time": "2023-02-02T03:28:41.614Z"
   },
   {
    "duration": 4,
    "start_time": "2023-02-02T03:28:41.631Z"
   },
   {
    "duration": 14,
    "start_time": "2023-02-02T03:28:41.636Z"
   },
   {
    "duration": 7,
    "start_time": "2023-02-02T03:28:41.651Z"
   },
   {
    "duration": 7,
    "start_time": "2023-02-02T03:28:41.660Z"
   },
   {
    "duration": 24,
    "start_time": "2023-02-02T03:28:41.668Z"
   },
   {
    "duration": 9,
    "start_time": "2023-02-02T03:28:41.694Z"
   },
   {
    "duration": 17,
    "start_time": "2023-02-02T03:28:41.705Z"
   },
   {
    "duration": 2,
    "start_time": "2023-02-02T03:28:41.724Z"
   },
   {
    "duration": 11,
    "start_time": "2023-02-02T03:28:41.727Z"
   },
   {
    "duration": 16,
    "start_time": "2023-02-02T03:28:41.739Z"
   },
   {
    "duration": 6,
    "start_time": "2023-02-02T03:28:41.758Z"
   },
   {
    "duration": 40,
    "start_time": "2023-02-02T03:28:41.766Z"
   },
   {
    "duration": 9,
    "start_time": "2023-02-02T03:28:41.807Z"
   },
   {
    "duration": 12,
    "start_time": "2023-02-02T03:28:41.818Z"
   },
   {
    "duration": 14,
    "start_time": "2023-02-02T03:28:41.832Z"
   },
   {
    "duration": 15,
    "start_time": "2023-02-02T03:28:41.848Z"
   },
   {
    "duration": 11,
    "start_time": "2023-02-02T03:28:41.864Z"
   },
   {
    "duration": 18,
    "start_time": "2023-02-02T03:28:41.877Z"
   },
   {
    "duration": 22,
    "start_time": "2023-02-02T03:28:41.897Z"
   },
   {
    "duration": 27,
    "start_time": "2023-02-02T03:28:41.921Z"
   },
   {
    "duration": 211,
    "start_time": "2023-02-02T03:28:41.949Z"
   },
   {
    "duration": 7,
    "start_time": "2023-02-02T03:28:42.162Z"
   },
   {
    "duration": 21,
    "start_time": "2023-02-02T03:28:42.171Z"
   },
   {
    "duration": 41,
    "start_time": "2023-02-02T03:28:42.194Z"
   },
   {
    "duration": 5,
    "start_time": "2023-02-02T03:28:42.237Z"
   },
   {
    "duration": 14,
    "start_time": "2023-02-02T03:28:42.244Z"
   },
   {
    "duration": 120,
    "start_time": "2023-02-02T03:28:42.260Z"
   },
   {
    "duration": 15,
    "start_time": "2023-02-02T03:28:42.382Z"
   },
   {
    "duration": 10,
    "start_time": "2023-02-02T03:28:42.399Z"
   },
   {
    "duration": 6,
    "start_time": "2023-02-02T03:28:42.410Z"
   },
   {
    "duration": 5,
    "start_time": "2023-02-02T03:28:42.418Z"
   },
   {
    "duration": 28,
    "start_time": "2023-02-02T03:28:42.424Z"
   },
   {
    "duration": 116,
    "start_time": "2023-02-02T03:28:42.453Z"
   },
   {
    "duration": 36,
    "start_time": "2023-02-02T03:28:42.570Z"
   },
   {
    "duration": 107,
    "start_time": "2023-02-02T03:28:42.607Z"
   },
   {
    "duration": 15,
    "start_time": "2023-02-02T03:28:53.362Z"
   },
   {
    "duration": 24,
    "start_time": "2023-02-02T03:29:11.865Z"
   },
   {
    "duration": 3,
    "start_time": "2023-02-02T03:31:53.976Z"
   },
   {
    "duration": 14,
    "start_time": "2023-02-02T03:33:21.087Z"
   },
   {
    "duration": 2,
    "start_time": "2023-02-02T03:34:58.949Z"
   },
   {
    "duration": 15,
    "start_time": "2023-02-02T03:35:44.094Z"
   },
   {
    "duration": 7,
    "start_time": "2023-02-02T03:36:32.657Z"
   },
   {
    "duration": 12,
    "start_time": "2023-02-02T03:36:46.434Z"
   },
   {
    "duration": 10,
    "start_time": "2023-02-02T03:36:59.687Z"
   },
   {
    "duration": 6,
    "start_time": "2023-02-02T03:37:07.502Z"
   },
   {
    "duration": 17,
    "start_time": "2023-02-02T03:38:03.972Z"
   },
   {
    "duration": 9,
    "start_time": "2023-02-02T03:39:20.219Z"
   },
   {
    "duration": 4,
    "start_time": "2023-02-02T03:39:28.115Z"
   },
   {
    "duration": 12,
    "start_time": "2023-02-02T03:39:42.341Z"
   },
   {
    "duration": 83,
    "start_time": "2023-02-02T03:39:42.354Z"
   },
   {
    "duration": 14,
    "start_time": "2023-02-02T03:39:42.439Z"
   },
   {
    "duration": 16,
    "start_time": "2023-02-02T03:39:42.455Z"
   },
   {
    "duration": 28,
    "start_time": "2023-02-02T03:39:42.473Z"
   },
   {
    "duration": 33,
    "start_time": "2023-02-02T03:39:42.503Z"
   },
   {
    "duration": 3,
    "start_time": "2023-02-02T03:39:42.538Z"
   },
   {
    "duration": 13,
    "start_time": "2023-02-02T03:39:42.543Z"
   },
   {
    "duration": 4,
    "start_time": "2023-02-02T03:39:42.557Z"
   },
   {
    "duration": 5,
    "start_time": "2023-02-02T03:39:42.592Z"
   },
   {
    "duration": 9,
    "start_time": "2023-02-02T03:39:42.598Z"
   },
   {
    "duration": 34,
    "start_time": "2023-02-02T03:39:42.608Z"
   },
   {
    "duration": 9,
    "start_time": "2023-02-02T03:39:42.644Z"
   },
   {
    "duration": 3,
    "start_time": "2023-02-02T03:39:42.655Z"
   },
   {
    "duration": 33,
    "start_time": "2023-02-02T03:39:42.659Z"
   },
   {
    "duration": 18,
    "start_time": "2023-02-02T03:39:42.693Z"
   },
   {
    "duration": 15,
    "start_time": "2023-02-02T03:39:42.712Z"
   },
   {
    "duration": 3,
    "start_time": "2023-02-02T03:39:42.729Z"
   },
   {
    "duration": 11,
    "start_time": "2023-02-02T03:39:42.734Z"
   },
   {
    "duration": 5,
    "start_time": "2023-02-02T03:39:42.746Z"
   },
   {
    "duration": 3,
    "start_time": "2023-02-02T03:39:42.753Z"
   },
   {
    "duration": 39,
    "start_time": "2023-02-02T03:39:42.757Z"
   },
   {
    "duration": 10,
    "start_time": "2023-02-02T03:39:42.797Z"
   },
   {
    "duration": 12,
    "start_time": "2023-02-02T03:39:42.809Z"
   },
   {
    "duration": 2,
    "start_time": "2023-02-02T03:39:42.823Z"
   },
   {
    "duration": 11,
    "start_time": "2023-02-02T03:39:42.827Z"
   },
   {
    "duration": 13,
    "start_time": "2023-02-02T03:39:42.840Z"
   },
   {
    "duration": 15,
    "start_time": "2023-02-02T03:39:42.856Z"
   },
   {
    "duration": 27,
    "start_time": "2023-02-02T03:39:42.872Z"
   },
   {
    "duration": 2,
    "start_time": "2023-02-02T03:39:42.901Z"
   },
   {
    "duration": 19,
    "start_time": "2023-02-02T03:39:42.905Z"
   },
   {
    "duration": 11,
    "start_time": "2023-02-02T03:39:42.926Z"
   },
   {
    "duration": 6,
    "start_time": "2023-02-02T03:39:42.938Z"
   },
   {
    "duration": 9,
    "start_time": "2023-02-02T03:39:42.946Z"
   },
   {
    "duration": 9,
    "start_time": "2023-02-02T03:39:42.957Z"
   },
   {
    "duration": 47,
    "start_time": "2023-02-02T03:39:42.968Z"
   },
   {
    "duration": 35,
    "start_time": "2023-02-02T03:39:43.017Z"
   },
   {
    "duration": 213,
    "start_time": "2023-02-02T03:39:43.054Z"
   },
   {
    "duration": 6,
    "start_time": "2023-02-02T03:39:43.269Z"
   },
   {
    "duration": 19,
    "start_time": "2023-02-02T03:39:43.277Z"
   },
   {
    "duration": 38,
    "start_time": "2023-02-02T03:39:43.298Z"
   },
   {
    "duration": 7,
    "start_time": "2023-02-02T03:39:43.337Z"
   },
   {
    "duration": 14,
    "start_time": "2023-02-02T03:39:43.346Z"
   },
   {
    "duration": 142,
    "start_time": "2023-02-02T03:39:43.362Z"
   },
   {
    "duration": 11,
    "start_time": "2023-02-02T03:39:43.505Z"
   },
   {
    "duration": 12,
    "start_time": "2023-02-02T03:39:43.517Z"
   },
   {
    "duration": 13,
    "start_time": "2023-02-02T03:39:43.531Z"
   },
   {
    "duration": 10,
    "start_time": "2023-02-02T03:39:43.545Z"
   },
   {
    "duration": 41,
    "start_time": "2023-02-02T03:39:43.556Z"
   },
   {
    "duration": 102,
    "start_time": "2023-02-02T03:39:43.598Z"
   },
   {
    "duration": 28,
    "start_time": "2023-02-02T03:39:43.702Z"
   },
   {
    "duration": 121,
    "start_time": "2023-02-02T03:39:43.732Z"
   },
   {
    "duration": 15,
    "start_time": "2023-02-02T03:39:43.855Z"
   },
   {
    "duration": 34,
    "start_time": "2023-02-02T03:39:43.871Z"
   },
   {
    "duration": 3,
    "start_time": "2023-02-02T03:39:46.656Z"
   },
   {
    "duration": 10,
    "start_time": "2023-02-02T03:40:02.281Z"
   },
   {
    "duration": 11,
    "start_time": "2023-02-02T03:40:25.753Z"
   },
   {
    "duration": 2,
    "start_time": "2023-02-02T03:41:05.597Z"
   },
   {
    "duration": 2,
    "start_time": "2023-02-02T03:41:06.936Z"
   },
   {
    "duration": 2,
    "start_time": "2023-02-02T03:41:08.560Z"
   },
   {
    "duration": 15,
    "start_time": "2023-02-02T03:41:14.977Z"
   },
   {
    "duration": 20,
    "start_time": "2023-02-02T03:41:45.149Z"
   },
   {
    "duration": 8,
    "start_time": "2023-02-02T03:41:51.345Z"
   },
   {
    "duration": 21,
    "start_time": "2023-02-02T03:41:57.443Z"
   },
   {
    "duration": 75,
    "start_time": "2023-02-02T04:44:09.296Z"
   },
   {
    "duration": 19,
    "start_time": "2023-02-02T04:44:09.779Z"
   },
   {
    "duration": 11,
    "start_time": "2023-02-02T04:45:28.027Z"
   },
   {
    "duration": 9,
    "start_time": "2023-02-02T04:46:05.406Z"
   },
   {
    "duration": 6,
    "start_time": "2023-02-02T04:46:10.694Z"
   },
   {
    "duration": 691,
    "start_time": "2023-02-02T04:46:25.053Z"
   },
   {
    "duration": 9,
    "start_time": "2023-02-02T04:46:31.408Z"
   },
   {
    "duration": 703,
    "start_time": "2023-02-02T04:46:37.845Z"
   },
   {
    "duration": 8,
    "start_time": "2023-02-02T04:46:58.550Z"
   },
   {
    "duration": 7,
    "start_time": "2023-02-02T04:47:03.782Z"
   },
   {
    "duration": 22,
    "start_time": "2023-02-02T04:47:11.253Z"
   },
   {
    "duration": 351,
    "start_time": "2023-02-02T04:47:17.722Z"
   },
   {
    "duration": 20,
    "start_time": "2023-02-02T04:48:06.708Z"
   },
   {
    "duration": 47,
    "start_time": "2023-02-02T04:50:37.367Z"
   },
   {
    "duration": 49,
    "start_time": "2023-02-02T04:51:02.431Z"
   },
   {
    "duration": 48,
    "start_time": "2023-02-02T04:51:31.461Z"
   },
   {
    "duration": 42,
    "start_time": "2023-02-02T04:52:43.924Z"
   },
   {
    "duration": 19,
    "start_time": "2023-02-02T04:54:56.979Z"
   },
   {
    "duration": 49,
    "start_time": "2023-02-02T04:55:34.601Z"
   },
   {
    "duration": 46,
    "start_time": "2023-02-02T04:55:48.185Z"
   },
   {
    "duration": 10,
    "start_time": "2023-02-02T04:56:29.661Z"
   },
   {
    "duration": 15,
    "start_time": "2023-02-02T04:56:40.785Z"
   },
   {
    "duration": 7,
    "start_time": "2023-02-02T04:57:54.124Z"
   },
   {
    "duration": 12,
    "start_time": "2023-02-02T04:58:13.562Z"
   },
   {
    "duration": 6,
    "start_time": "2023-02-02T04:58:49.888Z"
   },
   {
    "duration": 9,
    "start_time": "2023-02-02T04:59:17.690Z"
   },
   {
    "duration": 746,
    "start_time": "2023-02-02T05:01:34.841Z"
   },
   {
    "duration": 3,
    "start_time": "2023-02-02T05:02:22.632Z"
   },
   {
    "duration": 7,
    "start_time": "2023-02-02T05:02:57.531Z"
   },
   {
    "duration": 80,
    "start_time": "2023-02-02T05:07:37.315Z"
   },
   {
    "duration": 78,
    "start_time": "2023-02-02T05:11:36.788Z"
   },
   {
    "duration": 9,
    "start_time": "2023-02-02T05:12:10.361Z"
   },
   {
    "duration": 78,
    "start_time": "2023-02-02T05:13:16.988Z"
   },
   {
    "duration": 77,
    "start_time": "2023-02-02T05:13:27.511Z"
   },
   {
    "duration": 10,
    "start_time": "2023-02-02T05:16:26.552Z"
   },
   {
    "duration": 81,
    "start_time": "2023-02-02T05:18:57.795Z"
   },
   {
    "duration": 3,
    "start_time": "2023-02-02T06:39:22.053Z"
   },
   {
    "duration": 23,
    "start_time": "2023-02-02T06:40:45.128Z"
   },
   {
    "duration": 11,
    "start_time": "2023-02-02T06:40:59.033Z"
   },
   {
    "duration": 79,
    "start_time": "2023-02-02T06:40:59.046Z"
   },
   {
    "duration": 15,
    "start_time": "2023-02-02T06:40:59.127Z"
   },
   {
    "duration": 18,
    "start_time": "2023-02-02T06:40:59.144Z"
   },
   {
    "duration": 29,
    "start_time": "2023-02-02T06:40:59.163Z"
   },
   {
    "duration": 33,
    "start_time": "2023-02-02T06:40:59.193Z"
   },
   {
    "duration": 3,
    "start_time": "2023-02-02T06:40:59.227Z"
   },
   {
    "duration": 14,
    "start_time": "2023-02-02T06:40:59.232Z"
   },
   {
    "duration": 4,
    "start_time": "2023-02-02T06:40:59.247Z"
   },
   {
    "duration": 6,
    "start_time": "2023-02-02T06:40:59.253Z"
   },
   {
    "duration": 5,
    "start_time": "2023-02-02T06:40:59.260Z"
   },
   {
    "duration": 33,
    "start_time": "2023-02-02T06:40:59.291Z"
   },
   {
    "duration": 9,
    "start_time": "2023-02-02T06:40:59.325Z"
   },
   {
    "duration": 7,
    "start_time": "2023-02-02T06:40:59.335Z"
   },
   {
    "duration": 11,
    "start_time": "2023-02-02T06:40:59.344Z"
   },
   {
    "duration": 36,
    "start_time": "2023-02-02T06:40:59.356Z"
   },
   {
    "duration": 16,
    "start_time": "2023-02-02T06:40:59.394Z"
   },
   {
    "duration": 3,
    "start_time": "2023-02-02T06:40:59.412Z"
   },
   {
    "duration": 13,
    "start_time": "2023-02-02T06:40:59.416Z"
   },
   {
    "duration": 5,
    "start_time": "2023-02-02T06:40:59.431Z"
   },
   {
    "duration": 11,
    "start_time": "2023-02-02T06:40:59.438Z"
   },
   {
    "duration": 10,
    "start_time": "2023-02-02T06:40:59.450Z"
   },
   {
    "duration": 7,
    "start_time": "2023-02-02T06:40:59.461Z"
   },
   {
    "duration": 33,
    "start_time": "2023-02-02T06:40:59.469Z"
   },
   {
    "duration": 1,
    "start_time": "2023-02-02T06:40:59.504Z"
   },
   {
    "duration": 10,
    "start_time": "2023-02-02T06:40:59.507Z"
   },
   {
    "duration": 12,
    "start_time": "2023-02-02T06:40:59.519Z"
   },
   {
    "duration": 7,
    "start_time": "2023-02-02T06:40:59.533Z"
   },
   {
    "duration": 16,
    "start_time": "2023-02-02T06:40:59.541Z"
   },
   {
    "duration": 2,
    "start_time": "2023-02-02T06:40:59.558Z"
   },
   {
    "duration": 35,
    "start_time": "2023-02-02T06:40:59.561Z"
   },
   {
    "duration": 10,
    "start_time": "2023-02-02T06:40:59.597Z"
   },
   {
    "duration": 5,
    "start_time": "2023-02-02T06:40:59.609Z"
   },
   {
    "duration": 6,
    "start_time": "2023-02-02T06:40:59.616Z"
   },
   {
    "duration": 7,
    "start_time": "2023-02-02T06:40:59.624Z"
   },
   {
    "duration": 24,
    "start_time": "2023-02-02T06:40:59.633Z"
   },
   {
    "duration": 44,
    "start_time": "2023-02-02T06:40:59.659Z"
   },
   {
    "duration": 3,
    "start_time": "2023-02-02T06:41:19.307Z"
   },
   {
    "duration": 27,
    "start_time": "2023-02-02T06:42:31.244Z"
   },
   {
    "duration": 24,
    "start_time": "2023-02-02T06:43:25.818Z"
   },
   {
    "duration": 4,
    "start_time": "2023-02-02T06:44:04.169Z"
   },
   {
    "duration": 2,
    "start_time": "2023-02-02T06:44:09.883Z"
   },
   {
    "duration": 31,
    "start_time": "2023-02-02T06:44:12.572Z"
   },
   {
    "duration": 27,
    "start_time": "2023-02-02T06:44:22.482Z"
   },
   {
    "duration": 4,
    "start_time": "2023-02-02T06:46:42.171Z"
   },
   {
    "duration": 24,
    "start_time": "2023-02-02T06:47:07.751Z"
   },
   {
    "duration": 5,
    "start_time": "2023-02-02T06:48:10.692Z"
   },
   {
    "duration": 21,
    "start_time": "2023-02-02T06:48:17.926Z"
   },
   {
    "duration": 26,
    "start_time": "2023-02-02T06:48:25.167Z"
   },
   {
    "duration": 2,
    "start_time": "2023-02-02T06:48:37.375Z"
   },
   {
    "duration": 24,
    "start_time": "2023-02-02T06:49:33.173Z"
   },
   {
    "duration": 25,
    "start_time": "2023-02-02T06:49:48.644Z"
   },
   {
    "duration": 69,
    "start_time": "2023-02-02T06:50:06.781Z"
   },
   {
    "duration": 28,
    "start_time": "2023-02-02T06:50:10.985Z"
   },
   {
    "duration": 25,
    "start_time": "2023-02-02T06:50:20.206Z"
   },
   {
    "duration": 40,
    "start_time": "2023-02-02T06:50:26.302Z"
   },
   {
    "duration": 8,
    "start_time": "2023-02-02T06:50:47.567Z"
   },
   {
    "duration": 16,
    "start_time": "2023-02-02T06:50:48.670Z"
   },
   {
    "duration": 24,
    "start_time": "2023-02-02T06:51:18.868Z"
   },
   {
    "duration": 31,
    "start_time": "2023-02-02T06:51:55.401Z"
   },
   {
    "duration": 12,
    "start_time": "2023-02-02T06:52:55.144Z"
   },
   {
    "duration": 109,
    "start_time": "2023-02-02T06:52:55.158Z"
   },
   {
    "duration": 17,
    "start_time": "2023-02-02T06:52:55.268Z"
   },
   {
    "duration": 31,
    "start_time": "2023-02-02T06:52:55.292Z"
   },
   {
    "duration": 11,
    "start_time": "2023-02-02T06:52:55.325Z"
   },
   {
    "duration": 36,
    "start_time": "2023-02-02T06:52:55.337Z"
   },
   {
    "duration": 28,
    "start_time": "2023-02-02T06:52:55.375Z"
   },
   {
    "duration": 11,
    "start_time": "2023-02-02T06:52:55.407Z"
   },
   {
    "duration": 7,
    "start_time": "2023-02-02T06:52:55.420Z"
   },
   {
    "duration": 5,
    "start_time": "2023-02-02T06:52:55.430Z"
   },
   {
    "duration": 9,
    "start_time": "2023-02-02T06:52:55.436Z"
   },
   {
    "duration": 32,
    "start_time": "2023-02-02T06:52:55.446Z"
   },
   {
    "duration": 25,
    "start_time": "2023-02-02T06:52:55.480Z"
   },
   {
    "duration": 7,
    "start_time": "2023-02-02T06:52:55.506Z"
   },
   {
    "duration": 13,
    "start_time": "2023-02-02T06:52:55.515Z"
   },
   {
    "duration": 21,
    "start_time": "2023-02-02T06:52:55.530Z"
   },
   {
    "duration": 16,
    "start_time": "2023-02-02T06:52:55.552Z"
   },
   {
    "duration": 4,
    "start_time": "2023-02-02T06:52:55.569Z"
   },
   {
    "duration": 31,
    "start_time": "2023-02-02T06:52:55.574Z"
   },
   {
    "duration": 16,
    "start_time": "2023-02-02T06:52:55.607Z"
   },
   {
    "duration": 9,
    "start_time": "2023-02-02T06:52:55.625Z"
   },
   {
    "duration": 23,
    "start_time": "2023-02-02T06:52:55.635Z"
   },
   {
    "duration": 13,
    "start_time": "2023-02-02T06:52:55.660Z"
   },
   {
    "duration": 33,
    "start_time": "2023-02-02T06:52:55.675Z"
   },
   {
    "duration": 2,
    "start_time": "2023-02-02T06:52:55.710Z"
   },
   {
    "duration": 10,
    "start_time": "2023-02-02T06:52:55.714Z"
   },
   {
    "duration": 13,
    "start_time": "2023-02-02T06:52:55.725Z"
   },
   {
    "duration": 6,
    "start_time": "2023-02-02T06:52:55.744Z"
   },
   {
    "duration": 52,
    "start_time": "2023-02-02T06:52:55.752Z"
   },
   {
    "duration": 4,
    "start_time": "2023-02-02T06:52:55.806Z"
   },
   {
    "duration": 14,
    "start_time": "2023-02-02T06:52:55.811Z"
   },
   {
    "duration": 12,
    "start_time": "2023-02-02T06:52:55.826Z"
   },
   {
    "duration": 8,
    "start_time": "2023-02-02T06:52:55.839Z"
   },
   {
    "duration": 10,
    "start_time": "2023-02-02T06:52:55.849Z"
   },
   {
    "duration": 8,
    "start_time": "2023-02-02T06:52:55.860Z"
   },
   {
    "duration": 6,
    "start_time": "2023-02-02T06:52:55.869Z"
   },
   {
    "duration": 40,
    "start_time": "2023-02-02T06:52:55.876Z"
   },
   {
    "duration": 27,
    "start_time": "2023-02-02T06:52:55.918Z"
   },
   {
    "duration": 2,
    "start_time": "2023-02-02T06:52:55.947Z"
   },
   {
    "duration": 258,
    "start_time": "2023-02-02T06:52:55.951Z"
   },
   {
    "duration": 8,
    "start_time": "2023-02-02T06:52:56.211Z"
   },
   {
    "duration": 11,
    "start_time": "2023-02-02T06:52:56.221Z"
   },
   {
    "duration": 31,
    "start_time": "2023-02-02T06:52:56.234Z"
   },
   {
    "duration": 7,
    "start_time": "2023-02-02T06:52:56.267Z"
   },
   {
    "duration": 45,
    "start_time": "2023-02-02T06:52:56.276Z"
   },
   {
    "duration": 178,
    "start_time": "2023-02-02T06:52:56.324Z"
   },
   {
    "duration": 11,
    "start_time": "2023-02-02T06:52:56.505Z"
   },
   {
    "duration": 18,
    "start_time": "2023-02-02T06:52:56.518Z"
   },
   {
    "duration": 8,
    "start_time": "2023-02-02T06:52:56.538Z"
   },
   {
    "duration": 10,
    "start_time": "2023-02-02T06:52:56.548Z"
   },
   {
    "duration": 42,
    "start_time": "2023-02-02T06:52:56.560Z"
   },
   {
    "duration": 121,
    "start_time": "2023-02-02T06:52:56.604Z"
   },
   {
    "duration": 27,
    "start_time": "2023-02-02T06:52:56.727Z"
   },
   {
    "duration": 134,
    "start_time": "2023-02-02T06:52:56.755Z"
   },
   {
    "duration": 20,
    "start_time": "2023-02-02T06:52:56.898Z"
   },
   {
    "duration": 22,
    "start_time": "2023-02-02T06:52:56.920Z"
   },
   {
    "duration": 3,
    "start_time": "2023-02-02T06:52:56.943Z"
   },
   {
    "duration": 10,
    "start_time": "2023-02-02T06:52:56.948Z"
   },
   {
    "duration": 63,
    "start_time": "2023-02-02T06:52:56.959Z"
   },
   {
    "duration": 6,
    "start_time": "2023-02-02T06:52:57.024Z"
   },
   {
    "duration": 12,
    "start_time": "2023-02-02T06:52:57.032Z"
   },
   {
    "duration": 3,
    "start_time": "2023-02-02T06:52:57.046Z"
   },
   {
    "duration": 30,
    "start_time": "2023-02-02T06:52:57.050Z"
   },
   {
    "duration": 31,
    "start_time": "2023-02-02T06:52:57.082Z"
   },
   {
    "duration": 111,
    "start_time": "2023-02-02T06:52:57.115Z"
   },
   {
    "duration": 11,
    "start_time": "2023-02-02T06:52:57.228Z"
   },
   {
    "duration": 4,
    "start_time": "2023-02-02T06:52:57.241Z"
   },
   {
    "duration": 63,
    "start_time": "2023-02-02T07:07:01.166Z"
   },
   {
    "duration": 245,
    "start_time": "2023-02-02T07:07:05.780Z"
   },
   {
    "duration": 18,
    "start_time": "2023-02-02T07:07:33.478Z"
   },
   {
    "duration": 17,
    "start_time": "2023-02-02T07:07:49.391Z"
   },
   {
    "duration": 19,
    "start_time": "2023-02-02T07:07:56.027Z"
   },
   {
    "duration": 23,
    "start_time": "2023-02-02T07:08:08.849Z"
   },
   {
    "duration": 19,
    "start_time": "2023-02-02T07:08:30.899Z"
   },
   {
    "duration": 25,
    "start_time": "2023-02-02T07:08:34.251Z"
   },
   {
    "duration": 22,
    "start_time": "2023-02-02T07:09:50.268Z"
   },
   {
    "duration": 22,
    "start_time": "2023-02-02T07:09:56.822Z"
   },
   {
    "duration": 23,
    "start_time": "2023-02-02T07:10:12.767Z"
   },
   {
    "duration": 5,
    "start_time": "2023-02-02T07:13:28.014Z"
   },
   {
    "duration": 32,
    "start_time": "2023-02-02T07:13:59.167Z"
   },
   {
    "duration": 4,
    "start_time": "2023-02-02T07:14:41.560Z"
   },
   {
    "duration": 10,
    "start_time": "2023-02-02T07:14:57.043Z"
   },
   {
    "duration": 25,
    "start_time": "2023-02-02T07:15:10.425Z"
   },
   {
    "duration": 833,
    "start_time": "2023-02-02T07:16:06.147Z"
   },
   {
    "duration": 932,
    "start_time": "2023-02-02T07:16:36.710Z"
   },
   {
    "duration": 944,
    "start_time": "2023-02-02T07:16:50.483Z"
   },
   {
    "duration": 14,
    "start_time": "2023-02-02T07:17:06.268Z"
   },
   {
    "duration": 34,
    "start_time": "2023-02-02T07:17:06.284Z"
   },
   {
    "duration": 104,
    "start_time": "2023-02-02T07:17:06.321Z"
   },
   {
    "duration": 22,
    "start_time": "2023-02-02T07:17:06.428Z"
   },
   {
    "duration": 27,
    "start_time": "2023-02-02T07:17:06.452Z"
   },
   {
    "duration": 19,
    "start_time": "2023-02-02T07:17:06.481Z"
   },
   {
    "duration": 55,
    "start_time": "2023-02-02T07:17:06.502Z"
   },
   {
    "duration": 3,
    "start_time": "2023-02-02T07:17:06.558Z"
   },
   {
    "duration": 10,
    "start_time": "2023-02-02T07:17:06.563Z"
   },
   {
    "duration": 4,
    "start_time": "2023-02-02T07:17:06.575Z"
   },
   {
    "duration": 10,
    "start_time": "2023-02-02T07:17:06.580Z"
   },
   {
    "duration": 11,
    "start_time": "2023-02-02T07:17:06.595Z"
   },
   {
    "duration": 43,
    "start_time": "2023-02-02T07:17:06.607Z"
   },
   {
    "duration": 10,
    "start_time": "2023-02-02T07:17:06.652Z"
   },
   {
    "duration": 7,
    "start_time": "2023-02-02T07:17:06.663Z"
   },
   {
    "duration": 14,
    "start_time": "2023-02-02T07:17:06.672Z"
   },
   {
    "duration": 28,
    "start_time": "2023-02-02T07:17:06.688Z"
   },
   {
    "duration": 16,
    "start_time": "2023-02-02T07:17:06.717Z"
   },
   {
    "duration": 4,
    "start_time": "2023-02-02T07:17:06.734Z"
   },
   {
    "duration": 18,
    "start_time": "2023-02-02T07:17:06.739Z"
   },
   {
    "duration": 5,
    "start_time": "2023-02-02T07:17:06.759Z"
   },
   {
    "duration": 3,
    "start_time": "2023-02-02T07:17:06.765Z"
   },
   {
    "duration": 11,
    "start_time": "2023-02-02T07:17:06.770Z"
   },
   {
    "duration": 13,
    "start_time": "2023-02-02T07:17:06.791Z"
   },
   {
    "duration": 15,
    "start_time": "2023-02-02T07:17:06.806Z"
   },
   {
    "duration": 2,
    "start_time": "2023-02-02T07:17:06.823Z"
   },
   {
    "duration": 14,
    "start_time": "2023-02-02T07:17:06.826Z"
   },
   {
    "duration": 24,
    "start_time": "2023-02-02T07:17:06.842Z"
   },
   {
    "duration": 17,
    "start_time": "2023-02-02T07:17:06.868Z"
   },
   {
    "duration": 31,
    "start_time": "2023-02-02T07:17:06.887Z"
   },
   {
    "duration": 3,
    "start_time": "2023-02-02T07:17:06.920Z"
   },
   {
    "duration": 18,
    "start_time": "2023-02-02T07:17:06.925Z"
   },
   {
    "duration": 10,
    "start_time": "2023-02-02T07:17:06.945Z"
   },
   {
    "duration": 6,
    "start_time": "2023-02-02T07:17:06.956Z"
   },
   {
    "duration": 11,
    "start_time": "2023-02-02T07:17:06.963Z"
   },
   {
    "duration": 30,
    "start_time": "2023-02-02T07:17:06.976Z"
   },
   {
    "duration": 29,
    "start_time": "2023-02-02T07:17:07.008Z"
   },
   {
    "duration": 31,
    "start_time": "2023-02-02T07:17:18.387Z"
   },
   {
    "duration": 5,
    "start_time": "2023-02-02T07:21:34.801Z"
   },
   {
    "duration": 25,
    "start_time": "2023-02-02T07:22:10.333Z"
   },
   {
    "duration": 29,
    "start_time": "2023-02-02T07:22:57.095Z"
   },
   {
    "duration": 11,
    "start_time": "2023-02-02T07:23:07.404Z"
   },
   {
    "duration": 8,
    "start_time": "2023-02-02T07:23:07.417Z"
   },
   {
    "duration": 83,
    "start_time": "2023-02-02T07:23:07.427Z"
   },
   {
    "duration": 15,
    "start_time": "2023-02-02T07:23:07.512Z"
   },
   {
    "duration": 14,
    "start_time": "2023-02-02T07:23:07.530Z"
   },
   {
    "duration": 9,
    "start_time": "2023-02-02T07:23:07.546Z"
   },
   {
    "duration": 61,
    "start_time": "2023-02-02T07:23:07.556Z"
   },
   {
    "duration": 3,
    "start_time": "2023-02-02T07:23:07.619Z"
   },
   {
    "duration": 11,
    "start_time": "2023-02-02T07:23:07.623Z"
   },
   {
    "duration": 3,
    "start_time": "2023-02-02T07:23:07.636Z"
   },
   {
    "duration": 8,
    "start_time": "2023-02-02T07:23:07.640Z"
   },
   {
    "duration": 10,
    "start_time": "2023-02-02T07:23:07.649Z"
   },
   {
    "duration": 56,
    "start_time": "2023-02-02T07:23:07.661Z"
   },
   {
    "duration": 9,
    "start_time": "2023-02-02T07:23:07.720Z"
   },
   {
    "duration": 21,
    "start_time": "2023-02-02T07:23:07.731Z"
   },
   {
    "duration": 23,
    "start_time": "2023-02-02T07:23:07.754Z"
   },
   {
    "duration": 32,
    "start_time": "2023-02-02T07:23:07.779Z"
   },
   {
    "duration": 21,
    "start_time": "2023-02-02T07:23:07.813Z"
   },
   {
    "duration": 7,
    "start_time": "2023-02-02T07:23:07.836Z"
   },
   {
    "duration": 18,
    "start_time": "2023-02-02T07:23:07.845Z"
   },
   {
    "duration": 6,
    "start_time": "2023-02-02T07:23:07.864Z"
   },
   {
    "duration": 4,
    "start_time": "2023-02-02T07:23:07.872Z"
   },
   {
    "duration": 34,
    "start_time": "2023-02-02T07:23:07.877Z"
   },
   {
    "duration": 8,
    "start_time": "2023-02-02T07:23:07.912Z"
   },
   {
    "duration": 16,
    "start_time": "2023-02-02T07:23:07.922Z"
   },
   {
    "duration": 2,
    "start_time": "2023-02-02T07:23:07.940Z"
   },
   {
    "duration": 8,
    "start_time": "2023-02-02T07:23:07.943Z"
   },
   {
    "duration": 13,
    "start_time": "2023-02-02T07:23:07.952Z"
   },
   {
    "duration": 6,
    "start_time": "2023-02-02T07:23:07.966Z"
   },
   {
    "duration": 30,
    "start_time": "2023-02-02T07:23:07.974Z"
   },
   {
    "duration": 2,
    "start_time": "2023-02-02T07:23:08.006Z"
   },
   {
    "duration": 9,
    "start_time": "2023-02-02T07:23:08.010Z"
   },
   {
    "duration": 9,
    "start_time": "2023-02-02T07:23:08.020Z"
   },
   {
    "duration": 5,
    "start_time": "2023-02-02T07:23:08.031Z"
   },
   {
    "duration": 7,
    "start_time": "2023-02-02T07:23:08.038Z"
   },
   {
    "duration": 24,
    "start_time": "2023-02-02T07:23:08.046Z"
   },
   {
    "duration": 32,
    "start_time": "2023-02-02T07:23:17.853Z"
   },
   {
    "duration": 28,
    "start_time": "2023-02-02T07:23:29.899Z"
   },
   {
    "duration": 28,
    "start_time": "2023-02-02T07:23:58.068Z"
   },
   {
    "duration": 34,
    "start_time": "2023-02-02T07:24:56.410Z"
   },
   {
    "duration": 25,
    "start_time": "2023-02-02T07:25:51.711Z"
   },
   {
    "duration": 7,
    "start_time": "2023-02-02T07:26:04.613Z"
   },
   {
    "duration": 17,
    "start_time": "2023-02-02T07:26:07.679Z"
   },
   {
    "duration": 235,
    "start_time": "2023-02-02T07:28:04.935Z"
   },
   {
    "duration": 14,
    "start_time": "2023-02-02T07:28:24.889Z"
   },
   {
    "duration": 15,
    "start_time": "2023-02-02T07:29:05.449Z"
   },
   {
    "duration": 17,
    "start_time": "2023-02-02T07:29:10.338Z"
   },
   {
    "duration": 10,
    "start_time": "2023-02-02T07:29:35.575Z"
   },
   {
    "duration": 13,
    "start_time": "2023-02-02T07:29:41.973Z"
   },
   {
    "duration": 7,
    "start_time": "2023-02-02T07:29:41.987Z"
   },
   {
    "duration": 92,
    "start_time": "2023-02-02T07:29:41.995Z"
   },
   {
    "duration": 15,
    "start_time": "2023-02-02T07:29:42.088Z"
   },
   {
    "duration": 19,
    "start_time": "2023-02-02T07:29:42.105Z"
   },
   {
    "duration": 9,
    "start_time": "2023-02-02T07:29:42.126Z"
   },
   {
    "duration": 33,
    "start_time": "2023-02-02T07:29:42.137Z"
   },
   {
    "duration": 20,
    "start_time": "2023-02-02T07:29:42.171Z"
   },
   {
    "duration": 11,
    "start_time": "2023-02-02T07:29:42.193Z"
   },
   {
    "duration": 9,
    "start_time": "2023-02-02T07:29:42.206Z"
   },
   {
    "duration": 11,
    "start_time": "2023-02-02T07:29:42.217Z"
   },
   {
    "duration": 10,
    "start_time": "2023-02-02T07:29:42.229Z"
   },
   {
    "duration": 33,
    "start_time": "2023-02-02T07:29:42.240Z"
   },
   {
    "duration": 17,
    "start_time": "2023-02-02T07:29:42.275Z"
   },
   {
    "duration": 4,
    "start_time": "2023-02-02T07:29:42.293Z"
   },
   {
    "duration": 26,
    "start_time": "2023-02-02T07:29:42.298Z"
   },
   {
    "duration": 32,
    "start_time": "2023-02-02T07:29:42.326Z"
   },
   {
    "duration": 23,
    "start_time": "2023-02-02T07:29:42.359Z"
   },
   {
    "duration": 3,
    "start_time": "2023-02-02T07:29:42.384Z"
   },
   {
    "duration": 15,
    "start_time": "2023-02-02T07:29:42.388Z"
   },
   {
    "duration": 5,
    "start_time": "2023-02-02T07:29:42.405Z"
   },
   {
    "duration": 8,
    "start_time": "2023-02-02T07:29:42.411Z"
   },
   {
    "duration": 10,
    "start_time": "2023-02-02T07:29:42.420Z"
   },
   {
    "duration": 9,
    "start_time": "2023-02-02T07:29:42.431Z"
   },
   {
    "duration": 26,
    "start_time": "2023-02-02T07:29:42.442Z"
   },
   {
    "duration": 2,
    "start_time": "2023-02-02T07:29:42.470Z"
   },
   {
    "duration": 11,
    "start_time": "2023-02-02T07:29:42.473Z"
   },
   {
    "duration": 38,
    "start_time": "2023-02-02T07:29:42.485Z"
   },
   {
    "duration": 19,
    "start_time": "2023-02-02T07:29:42.524Z"
   },
   {
    "duration": 25,
    "start_time": "2023-02-02T07:29:42.544Z"
   },
   {
    "duration": 13,
    "start_time": "2023-02-02T07:29:42.570Z"
   },
   {
    "duration": 26,
    "start_time": "2023-02-02T07:29:42.584Z"
   },
   {
    "duration": 11,
    "start_time": "2023-02-02T07:29:42.612Z"
   },
   {
    "duration": 20,
    "start_time": "2023-02-02T07:29:42.624Z"
   },
   {
    "duration": 12,
    "start_time": "2023-02-02T07:29:42.645Z"
   },
   {
    "duration": 38,
    "start_time": "2023-02-02T07:29:42.658Z"
   },
   {
    "duration": 24,
    "start_time": "2023-02-02T07:29:42.698Z"
   },
   {
    "duration": 192,
    "start_time": "2023-02-02T07:29:42.724Z"
   },
   {
    "duration": 6,
    "start_time": "2023-02-02T07:29:42.918Z"
   },
   {
    "duration": 16,
    "start_time": "2023-02-02T07:29:42.926Z"
   },
   {
    "duration": 28,
    "start_time": "2023-02-02T07:29:42.945Z"
   },
   {
    "duration": 19,
    "start_time": "2023-02-02T07:29:42.974Z"
   },
   {
    "duration": 16,
    "start_time": "2023-02-02T07:29:42.994Z"
   },
   {
    "duration": 11,
    "start_time": "2023-02-02T07:29:49.187Z"
   },
   {
    "duration": 47,
    "start_time": "2023-02-02T07:30:30.330Z"
   },
   {
    "duration": 13,
    "start_time": "2023-02-02T07:30:38.457Z"
   },
   {
    "duration": 111,
    "start_time": "2023-02-02T07:31:03.134Z"
   },
   {
    "duration": 23,
    "start_time": "2023-02-02T07:31:34.944Z"
   },
   {
    "duration": 26,
    "start_time": "2023-02-02T07:32:08.654Z"
   },
   {
    "duration": 12,
    "start_time": "2023-02-02T07:32:44.403Z"
   },
   {
    "duration": 42,
    "start_time": "2023-02-02T07:32:44.417Z"
   },
   {
    "duration": 114,
    "start_time": "2023-02-02T07:32:44.461Z"
   },
   {
    "duration": 14,
    "start_time": "2023-02-02T07:32:44.577Z"
   },
   {
    "duration": 26,
    "start_time": "2023-02-02T07:32:44.592Z"
   },
   {
    "duration": 34,
    "start_time": "2023-02-02T07:32:44.619Z"
   },
   {
    "duration": 35,
    "start_time": "2023-02-02T07:32:44.655Z"
   },
   {
    "duration": 12,
    "start_time": "2023-02-02T07:32:44.691Z"
   },
   {
    "duration": 17,
    "start_time": "2023-02-02T07:32:44.704Z"
   },
   {
    "duration": 25,
    "start_time": "2023-02-02T07:32:44.723Z"
   },
   {
    "duration": 24,
    "start_time": "2023-02-02T07:32:44.749Z"
   },
   {
    "duration": 23,
    "start_time": "2023-02-02T07:32:44.774Z"
   },
   {
    "duration": 44,
    "start_time": "2023-02-02T07:32:44.799Z"
   },
   {
    "duration": 9,
    "start_time": "2023-02-02T07:32:44.845Z"
   },
   {
    "duration": 12,
    "start_time": "2023-02-02T07:32:44.855Z"
   },
   {
    "duration": 25,
    "start_time": "2023-02-02T07:32:44.869Z"
   },
   {
    "duration": 43,
    "start_time": "2023-02-02T07:32:44.895Z"
   },
   {
    "duration": 21,
    "start_time": "2023-02-02T07:32:44.940Z"
   },
   {
    "duration": 15,
    "start_time": "2023-02-02T07:32:44.962Z"
   },
   {
    "duration": 20,
    "start_time": "2023-02-02T07:32:44.978Z"
   },
   {
    "duration": 57,
    "start_time": "2023-02-02T07:32:45.000Z"
   },
   {
    "duration": 49,
    "start_time": "2023-02-02T07:32:45.059Z"
   },
   {
    "duration": 38,
    "start_time": "2023-02-02T07:32:45.110Z"
   },
   {
    "duration": 28,
    "start_time": "2023-02-02T07:32:45.149Z"
   },
   {
    "duration": 35,
    "start_time": "2023-02-02T07:32:45.179Z"
   },
   {
    "duration": 12,
    "start_time": "2023-02-02T07:32:45.216Z"
   },
   {
    "duration": 46,
    "start_time": "2023-02-02T07:32:45.230Z"
   },
   {
    "duration": 21,
    "start_time": "2023-02-02T07:32:45.280Z"
   },
   {
    "duration": 52,
    "start_time": "2023-02-02T07:32:45.303Z"
   },
   {
    "duration": 53,
    "start_time": "2023-02-02T07:32:45.357Z"
   },
   {
    "duration": 23,
    "start_time": "2023-02-02T07:32:45.411Z"
   },
   {
    "duration": 34,
    "start_time": "2023-02-02T07:32:45.436Z"
   },
   {
    "duration": 8,
    "start_time": "2023-02-02T07:32:45.472Z"
   },
   {
    "duration": 5,
    "start_time": "2023-02-02T07:32:45.482Z"
   },
   {
    "duration": 9,
    "start_time": "2023-02-02T07:32:45.489Z"
   },
   {
    "duration": 28,
    "start_time": "2023-02-02T07:32:45.499Z"
   },
   {
    "duration": 28,
    "start_time": "2023-02-02T07:32:45.529Z"
   },
   {
    "duration": 218,
    "start_time": "2023-02-02T07:32:45.558Z"
   },
   {
    "duration": 19,
    "start_time": "2023-02-02T07:32:45.777Z"
   },
   {
    "duration": 13,
    "start_time": "2023-02-02T07:32:45.797Z"
   },
   {
    "duration": 55,
    "start_time": "2023-02-02T07:32:45.811Z"
   },
   {
    "duration": 20,
    "start_time": "2023-02-02T07:32:45.867Z"
   },
   {
    "duration": 58,
    "start_time": "2023-02-02T07:32:45.888Z"
   },
   {
    "duration": 113,
    "start_time": "2023-02-02T07:32:45.947Z"
   },
   {
    "duration": 7,
    "start_time": "2023-02-02T07:32:46.062Z"
   },
   {
    "duration": 8,
    "start_time": "2023-02-02T07:32:46.071Z"
   },
   {
    "duration": 7,
    "start_time": "2023-02-02T07:32:46.091Z"
   },
   {
    "duration": 7,
    "start_time": "2023-02-02T07:32:46.099Z"
   },
   {
    "duration": 24,
    "start_time": "2023-02-02T07:32:46.108Z"
   },
   {
    "duration": 121,
    "start_time": "2023-02-02T07:32:46.134Z"
   },
   {
    "duration": 36,
    "start_time": "2023-02-02T07:32:46.257Z"
   },
   {
    "duration": 148,
    "start_time": "2023-02-02T07:32:46.296Z"
   },
   {
    "duration": 19,
    "start_time": "2023-02-02T07:32:46.446Z"
   },
   {
    "duration": 9,
    "start_time": "2023-02-02T07:32:46.467Z"
   },
   {
    "duration": 20,
    "start_time": "2023-02-02T07:32:46.478Z"
   },
   {
    "duration": 7,
    "start_time": "2023-02-02T07:32:46.500Z"
   },
   {
    "duration": 8,
    "start_time": "2023-02-02T07:32:46.509Z"
   },
   {
    "duration": 26,
    "start_time": "2023-02-02T07:32:46.519Z"
   },
   {
    "duration": 2,
    "start_time": "2023-02-02T07:32:46.547Z"
   },
   {
    "duration": 20,
    "start_time": "2023-02-02T07:32:46.551Z"
   },
   {
    "duration": 25,
    "start_time": "2023-02-02T07:32:46.572Z"
   },
   {
    "duration": 88,
    "start_time": "2023-02-02T07:32:46.599Z"
   },
   {
    "duration": 9,
    "start_time": "2023-02-02T07:32:46.689Z"
   },
   {
    "duration": 4,
    "start_time": "2023-02-02T07:32:46.699Z"
   },
   {
    "duration": 1362,
    "start_time": "2023-02-02T07:37:05.863Z"
   },
   {
    "duration": 5,
    "start_time": "2023-02-02T07:37:07.227Z"
   },
   {
    "duration": 93,
    "start_time": "2023-02-02T07:37:07.233Z"
   },
   {
    "duration": 17,
    "start_time": "2023-02-02T07:37:07.328Z"
   },
   {
    "duration": 14,
    "start_time": "2023-02-02T07:37:07.347Z"
   },
   {
    "duration": 30,
    "start_time": "2023-02-02T07:37:07.362Z"
   },
   {
    "duration": 32,
    "start_time": "2023-02-02T07:37:07.393Z"
   },
   {
    "duration": 3,
    "start_time": "2023-02-02T07:37:07.426Z"
   },
   {
    "duration": 12,
    "start_time": "2023-02-02T07:37:07.431Z"
   },
   {
    "duration": 16,
    "start_time": "2023-02-02T07:37:07.445Z"
   },
   {
    "duration": 25,
    "start_time": "2023-02-02T07:37:07.463Z"
   },
   {
    "duration": 10,
    "start_time": "2023-02-02T07:37:07.489Z"
   },
   {
    "duration": 40,
    "start_time": "2023-02-02T07:37:07.500Z"
   },
   {
    "duration": 9,
    "start_time": "2023-02-02T07:37:07.543Z"
   },
   {
    "duration": 24,
    "start_time": "2023-02-02T07:37:07.553Z"
   },
   {
    "duration": 15,
    "start_time": "2023-02-02T07:37:07.578Z"
   },
   {
    "duration": 34,
    "start_time": "2023-02-02T07:37:07.594Z"
   },
   {
    "duration": 17,
    "start_time": "2023-02-02T07:37:07.630Z"
   },
   {
    "duration": 10,
    "start_time": "2023-02-02T07:37:07.649Z"
   },
   {
    "duration": 44,
    "start_time": "2023-02-02T07:37:07.660Z"
   },
   {
    "duration": 7,
    "start_time": "2023-02-02T07:37:07.705Z"
   },
   {
    "duration": 5,
    "start_time": "2023-02-02T07:37:07.713Z"
   },
   {
    "duration": 11,
    "start_time": "2023-02-02T07:37:07.719Z"
   },
   {
    "duration": 16,
    "start_time": "2023-02-02T07:37:07.732Z"
   },
   {
    "duration": 31,
    "start_time": "2023-02-02T07:37:07.750Z"
   },
   {
    "duration": 31,
    "start_time": "2023-02-02T07:37:07.783Z"
   },
   {
    "duration": 26,
    "start_time": "2023-02-02T07:37:07.815Z"
   },
   {
    "duration": 29,
    "start_time": "2023-02-02T07:37:07.843Z"
   },
   {
    "duration": 38,
    "start_time": "2023-02-02T07:37:07.874Z"
   },
   {
    "duration": 39,
    "start_time": "2023-02-02T07:37:07.913Z"
   },
   {
    "duration": 12,
    "start_time": "2023-02-02T07:37:07.954Z"
   },
   {
    "duration": 26,
    "start_time": "2023-02-02T07:37:07.968Z"
   },
   {
    "duration": 26,
    "start_time": "2023-02-02T07:37:07.995Z"
   },
   {
    "duration": 17,
    "start_time": "2023-02-02T07:37:08.023Z"
   },
   {
    "duration": 27,
    "start_time": "2023-02-02T07:37:08.041Z"
   },
   {
    "duration": 44,
    "start_time": "2023-02-02T07:37:08.070Z"
   },
   {
    "duration": 45,
    "start_time": "2023-02-02T07:37:08.117Z"
   },
   {
    "duration": 273,
    "start_time": "2023-02-02T07:37:08.164Z"
   },
   {
    "duration": 0,
    "start_time": "2023-02-02T07:37:08.439Z"
   },
   {
    "duration": 0,
    "start_time": "2023-02-02T07:37:08.440Z"
   },
   {
    "duration": 0,
    "start_time": "2023-02-02T07:37:08.441Z"
   },
   {
    "duration": 0,
    "start_time": "2023-02-02T07:37:08.442Z"
   },
   {
    "duration": 0,
    "start_time": "2023-02-02T07:37:08.445Z"
   },
   {
    "duration": 0,
    "start_time": "2023-02-02T07:37:08.446Z"
   },
   {
    "duration": 0,
    "start_time": "2023-02-02T07:37:08.447Z"
   },
   {
    "duration": 0,
    "start_time": "2023-02-02T07:37:08.448Z"
   },
   {
    "duration": 0,
    "start_time": "2023-02-02T07:37:08.449Z"
   },
   {
    "duration": 0,
    "start_time": "2023-02-02T07:37:08.451Z"
   },
   {
    "duration": 0,
    "start_time": "2023-02-02T07:37:08.453Z"
   },
   {
    "duration": 0,
    "start_time": "2023-02-02T07:37:08.454Z"
   },
   {
    "duration": 0,
    "start_time": "2023-02-02T07:37:08.455Z"
   },
   {
    "duration": 0,
    "start_time": "2023-02-02T07:37:08.457Z"
   },
   {
    "duration": 0,
    "start_time": "2023-02-02T07:37:08.458Z"
   },
   {
    "duration": 27,
    "start_time": "2023-02-02T07:38:19.202Z"
   },
   {
    "duration": 22,
    "start_time": "2023-02-02T07:39:11.683Z"
   },
   {
    "duration": 222,
    "start_time": "2023-02-02T07:40:05.757Z"
   },
   {
    "duration": 27,
    "start_time": "2023-02-02T07:40:44.484Z"
   },
   {
    "duration": 31,
    "start_time": "2023-02-02T07:41:18.546Z"
   },
   {
    "duration": 28,
    "start_time": "2023-02-02T07:41:29.540Z"
   },
   {
    "duration": 47,
    "start_time": "2023-02-02T07:41:50.557Z"
   },
   {
    "duration": 229,
    "start_time": "2023-02-02T07:41:56.146Z"
   },
   {
    "duration": 1287,
    "start_time": "2023-02-02T07:42:19.702Z"
   },
   {
    "duration": 4,
    "start_time": "2023-02-02T07:42:20.991Z"
   },
   {
    "duration": 91,
    "start_time": "2023-02-02T07:42:20.997Z"
   },
   {
    "duration": 19,
    "start_time": "2023-02-02T07:42:21.090Z"
   },
   {
    "duration": 21,
    "start_time": "2023-02-02T07:42:21.111Z"
   },
   {
    "duration": 10,
    "start_time": "2023-02-02T07:42:21.133Z"
   },
   {
    "duration": 49,
    "start_time": "2023-02-02T07:42:21.144Z"
   },
   {
    "duration": 4,
    "start_time": "2023-02-02T07:42:21.195Z"
   },
   {
    "duration": 11,
    "start_time": "2023-02-02T07:42:21.200Z"
   },
   {
    "duration": 10,
    "start_time": "2023-02-02T07:42:21.212Z"
   },
   {
    "duration": 9,
    "start_time": "2023-02-02T07:42:21.223Z"
   },
   {
    "duration": 4,
    "start_time": "2023-02-02T07:42:21.234Z"
   },
   {
    "duration": 55,
    "start_time": "2023-02-02T07:42:21.239Z"
   },
   {
    "duration": 9,
    "start_time": "2023-02-02T07:42:21.297Z"
   },
   {
    "duration": 7,
    "start_time": "2023-02-02T07:42:21.308Z"
   },
   {
    "duration": 13,
    "start_time": "2023-02-02T07:42:21.317Z"
   },
   {
    "duration": 29,
    "start_time": "2023-02-02T07:42:21.332Z"
   },
   {
    "duration": 29,
    "start_time": "2023-02-02T07:42:21.363Z"
   },
   {
    "duration": 4,
    "start_time": "2023-02-02T07:42:21.393Z"
   },
   {
    "duration": 40,
    "start_time": "2023-02-02T07:42:21.398Z"
   },
   {
    "duration": 18,
    "start_time": "2023-02-02T07:42:21.440Z"
   },
   {
    "duration": 8,
    "start_time": "2023-02-02T07:42:21.460Z"
   },
   {
    "duration": 20,
    "start_time": "2023-02-02T07:42:21.470Z"
   },
   {
    "duration": 7,
    "start_time": "2023-02-02T07:42:21.491Z"
   },
   {
    "duration": 19,
    "start_time": "2023-02-02T07:42:21.500Z"
   },
   {
    "duration": 2,
    "start_time": "2023-02-02T07:42:21.521Z"
   },
   {
    "duration": 13,
    "start_time": "2023-02-02T07:42:21.524Z"
   },
   {
    "duration": 20,
    "start_time": "2023-02-02T07:42:21.538Z"
   },
   {
    "duration": 7,
    "start_time": "2023-02-02T07:42:21.559Z"
   },
   {
    "duration": 28,
    "start_time": "2023-02-02T07:42:21.567Z"
   },
   {
    "duration": 3,
    "start_time": "2023-02-02T07:42:21.596Z"
   },
   {
    "duration": 20,
    "start_time": "2023-02-02T07:42:21.600Z"
   },
   {
    "duration": 8,
    "start_time": "2023-02-02T07:42:21.622Z"
   },
   {
    "duration": 13,
    "start_time": "2023-02-02T07:42:21.632Z"
   },
   {
    "duration": 4,
    "start_time": "2023-02-02T07:42:21.647Z"
   },
   {
    "duration": 26,
    "start_time": "2023-02-02T07:42:21.653Z"
   },
   {
    "duration": 36,
    "start_time": "2023-02-02T07:42:21.680Z"
   },
   {
    "duration": 212,
    "start_time": "2023-02-02T07:42:21.718Z"
   },
   {
    "duration": 8,
    "start_time": "2023-02-02T07:42:21.932Z"
   },
   {
    "duration": 16,
    "start_time": "2023-02-02T07:42:21.941Z"
   },
   {
    "duration": 41,
    "start_time": "2023-02-02T07:42:21.961Z"
   },
   {
    "duration": 6,
    "start_time": "2023-02-02T07:42:22.004Z"
   },
   {
    "duration": 132,
    "start_time": "2023-02-02T07:42:22.011Z"
   },
   {
    "duration": 0,
    "start_time": "2023-02-02T07:42:22.145Z"
   },
   {
    "duration": 0,
    "start_time": "2023-02-02T07:42:22.146Z"
   },
   {
    "duration": 0,
    "start_time": "2023-02-02T07:42:22.147Z"
   },
   {
    "duration": 0,
    "start_time": "2023-02-02T07:42:22.149Z"
   },
   {
    "duration": 0,
    "start_time": "2023-02-02T07:42:22.150Z"
   },
   {
    "duration": 0,
    "start_time": "2023-02-02T07:42:22.152Z"
   },
   {
    "duration": 0,
    "start_time": "2023-02-02T07:42:22.153Z"
   },
   {
    "duration": 0,
    "start_time": "2023-02-02T07:42:22.155Z"
   },
   {
    "duration": 0,
    "start_time": "2023-02-02T07:42:22.157Z"
   },
   {
    "duration": 26,
    "start_time": "2023-02-02T07:43:01.536Z"
   },
   {
    "duration": 17,
    "start_time": "2023-02-02T07:43:04.195Z"
   },
   {
    "duration": 19,
    "start_time": "2023-02-02T07:43:33.248Z"
   },
   {
    "duration": 1235,
    "start_time": "2023-02-02T07:43:58.931Z"
   },
   {
    "duration": 5,
    "start_time": "2023-02-02T07:44:00.168Z"
   },
   {
    "duration": 87,
    "start_time": "2023-02-02T07:44:00.174Z"
   },
   {
    "duration": 18,
    "start_time": "2023-02-02T07:44:00.263Z"
   },
   {
    "duration": 45,
    "start_time": "2023-02-02T07:44:00.283Z"
   },
   {
    "duration": 33,
    "start_time": "2023-02-02T07:44:00.330Z"
   },
   {
    "duration": 62,
    "start_time": "2023-02-02T07:44:00.364Z"
   },
   {
    "duration": 4,
    "start_time": "2023-02-02T07:44:00.428Z"
   },
   {
    "duration": 21,
    "start_time": "2023-02-02T07:44:00.434Z"
   },
   {
    "duration": 14,
    "start_time": "2023-02-02T07:44:00.457Z"
   },
   {
    "duration": 30,
    "start_time": "2023-02-02T07:44:00.472Z"
   },
   {
    "duration": 29,
    "start_time": "2023-02-02T07:44:00.503Z"
   },
   {
    "duration": 46,
    "start_time": "2023-02-02T07:44:00.533Z"
   },
   {
    "duration": 10,
    "start_time": "2023-02-02T07:44:00.583Z"
   },
   {
    "duration": 19,
    "start_time": "2023-02-02T07:44:00.595Z"
   },
   {
    "duration": 34,
    "start_time": "2023-02-02T07:44:00.615Z"
   },
   {
    "duration": 56,
    "start_time": "2023-02-02T07:44:00.650Z"
   },
   {
    "duration": 53,
    "start_time": "2023-02-02T07:44:00.708Z"
   },
   {
    "duration": 66,
    "start_time": "2023-02-02T07:44:00.762Z"
   },
   {
    "duration": 55,
    "start_time": "2023-02-02T07:44:00.830Z"
   },
   {
    "duration": 35,
    "start_time": "2023-02-02T07:44:00.887Z"
   },
   {
    "duration": 34,
    "start_time": "2023-02-02T07:44:00.924Z"
   },
   {
    "duration": 36,
    "start_time": "2023-02-02T07:44:00.959Z"
   },
   {
    "duration": 24,
    "start_time": "2023-02-02T07:44:00.997Z"
   },
   {
    "duration": 50,
    "start_time": "2023-02-02T07:44:01.022Z"
   },
   {
    "duration": 28,
    "start_time": "2023-02-02T07:44:01.074Z"
   },
   {
    "duration": 36,
    "start_time": "2023-02-02T07:44:01.103Z"
   },
   {
    "duration": 42,
    "start_time": "2023-02-02T07:44:01.141Z"
   },
   {
    "duration": 57,
    "start_time": "2023-02-02T07:44:01.185Z"
   },
   {
    "duration": 35,
    "start_time": "2023-02-02T07:44:01.244Z"
   },
   {
    "duration": 27,
    "start_time": "2023-02-02T07:44:01.280Z"
   },
   {
    "duration": 40,
    "start_time": "2023-02-02T07:44:01.308Z"
   },
   {
    "duration": 39,
    "start_time": "2023-02-02T07:44:01.349Z"
   },
   {
    "duration": 22,
    "start_time": "2023-02-02T07:44:01.390Z"
   },
   {
    "duration": 26,
    "start_time": "2023-02-02T07:44:01.414Z"
   },
   {
    "duration": 60,
    "start_time": "2023-02-02T07:44:01.441Z"
   },
   {
    "duration": 45,
    "start_time": "2023-02-02T07:44:01.502Z"
   },
   {
    "duration": 235,
    "start_time": "2023-02-02T07:44:01.549Z"
   },
   {
    "duration": 11,
    "start_time": "2023-02-02T07:44:01.785Z"
   },
   {
    "duration": 37,
    "start_time": "2023-02-02T07:44:01.797Z"
   },
   {
    "duration": 52,
    "start_time": "2023-02-02T07:44:01.837Z"
   },
   {
    "duration": 32,
    "start_time": "2023-02-02T07:44:01.891Z"
   },
   {
    "duration": 32,
    "start_time": "2023-02-02T07:44:01.925Z"
   },
   {
    "duration": 141,
    "start_time": "2023-02-02T07:44:01.958Z"
   },
   {
    "duration": 8,
    "start_time": "2023-02-02T07:44:02.100Z"
   },
   {
    "duration": 32,
    "start_time": "2023-02-02T07:44:02.109Z"
   },
   {
    "duration": 24,
    "start_time": "2023-02-02T07:44:02.143Z"
   },
   {
    "duration": 18,
    "start_time": "2023-02-02T07:44:02.168Z"
   },
   {
    "duration": 45,
    "start_time": "2023-02-02T07:44:02.187Z"
   },
   {
    "duration": 97,
    "start_time": "2023-02-02T07:44:02.233Z"
   },
   {
    "duration": 0,
    "start_time": "2023-02-02T07:44:02.332Z"
   },
   {
    "duration": 0,
    "start_time": "2023-02-02T07:44:02.333Z"
   },
   {
    "duration": 25,
    "start_time": "2023-02-02T07:44:28.438Z"
   },
   {
    "duration": 22,
    "start_time": "2023-02-02T07:45:19.231Z"
   },
   {
    "duration": 110,
    "start_time": "2023-02-02T07:45:40.254Z"
   },
   {
    "duration": 27,
    "start_time": "2023-02-02T07:45:59.382Z"
   },
   {
    "duration": 24,
    "start_time": "2023-02-02T07:46:07.982Z"
   },
   {
    "duration": 108,
    "start_time": "2023-02-02T07:46:33.562Z"
   },
   {
    "duration": 1226,
    "start_time": "2023-02-02T07:46:50.449Z"
   },
   {
    "duration": 4,
    "start_time": "2023-02-02T07:46:51.677Z"
   },
   {
    "duration": 79,
    "start_time": "2023-02-02T07:46:51.683Z"
   },
   {
    "duration": 19,
    "start_time": "2023-02-02T07:46:51.763Z"
   },
   {
    "duration": 14,
    "start_time": "2023-02-02T07:46:51.785Z"
   },
   {
    "duration": 29,
    "start_time": "2023-02-02T07:46:51.802Z"
   },
   {
    "duration": 44,
    "start_time": "2023-02-02T07:46:51.833Z"
   },
   {
    "duration": 3,
    "start_time": "2023-02-02T07:46:51.879Z"
   },
   {
    "duration": 16,
    "start_time": "2023-02-02T07:46:51.884Z"
   },
   {
    "duration": 6,
    "start_time": "2023-02-02T07:46:51.902Z"
   },
   {
    "duration": 11,
    "start_time": "2023-02-02T07:46:51.909Z"
   },
   {
    "duration": 8,
    "start_time": "2023-02-02T07:46:51.922Z"
   },
   {
    "duration": 48,
    "start_time": "2023-02-02T07:46:51.932Z"
   },
   {
    "duration": 10,
    "start_time": "2023-02-02T07:46:51.982Z"
   },
   {
    "duration": 3,
    "start_time": "2023-02-02T07:46:51.994Z"
   },
   {
    "duration": 16,
    "start_time": "2023-02-02T07:46:51.999Z"
   },
   {
    "duration": 20,
    "start_time": "2023-02-02T07:46:52.017Z"
   },
   {
    "duration": 15,
    "start_time": "2023-02-02T07:46:52.038Z"
   },
   {
    "duration": 5,
    "start_time": "2023-02-02T07:46:52.055Z"
   },
   {
    "duration": 49,
    "start_time": "2023-02-02T07:46:52.061Z"
   },
   {
    "duration": 25,
    "start_time": "2023-02-02T07:46:52.111Z"
   },
   {
    "duration": 17,
    "start_time": "2023-02-02T07:46:52.137Z"
   },
   {
    "duration": 14,
    "start_time": "2023-02-02T07:46:52.156Z"
   },
   {
    "duration": 15,
    "start_time": "2023-02-02T07:46:52.171Z"
   },
   {
    "duration": 19,
    "start_time": "2023-02-02T07:46:52.187Z"
   },
   {
    "duration": 2,
    "start_time": "2023-02-02T07:46:52.208Z"
   },
   {
    "duration": 9,
    "start_time": "2023-02-02T07:46:52.211Z"
   },
   {
    "duration": 18,
    "start_time": "2023-02-02T07:46:52.221Z"
   },
   {
    "duration": 11,
    "start_time": "2023-02-02T07:46:52.240Z"
   },
   {
    "duration": 19,
    "start_time": "2023-02-02T07:46:52.252Z"
   },
   {
    "duration": 1,
    "start_time": "2023-02-02T07:46:52.273Z"
   },
   {
    "duration": 15,
    "start_time": "2023-02-02T07:46:52.276Z"
   },
   {
    "duration": 7,
    "start_time": "2023-02-02T07:46:52.293Z"
   },
   {
    "duration": 13,
    "start_time": "2023-02-02T07:46:52.302Z"
   },
   {
    "duration": 24,
    "start_time": "2023-02-02T07:46:52.317Z"
   },
   {
    "duration": 41,
    "start_time": "2023-02-02T07:46:52.342Z"
   },
   {
    "duration": 25,
    "start_time": "2023-02-02T07:46:52.384Z"
   },
   {
    "duration": 195,
    "start_time": "2023-02-02T07:46:52.410Z"
   },
   {
    "duration": 6,
    "start_time": "2023-02-02T07:46:52.607Z"
   },
   {
    "duration": 8,
    "start_time": "2023-02-02T07:46:52.615Z"
   },
   {
    "duration": 33,
    "start_time": "2023-02-02T07:46:52.626Z"
   },
   {
    "duration": 6,
    "start_time": "2023-02-02T07:46:52.660Z"
   },
   {
    "duration": 32,
    "start_time": "2023-02-02T07:46:52.667Z"
   },
   {
    "duration": 110,
    "start_time": "2023-02-02T07:46:52.701Z"
   },
   {
    "duration": 9,
    "start_time": "2023-02-02T07:46:52.812Z"
   },
   {
    "duration": 29,
    "start_time": "2023-02-02T07:46:52.822Z"
   },
   {
    "duration": 35,
    "start_time": "2023-02-02T07:46:52.853Z"
   },
   {
    "duration": 18,
    "start_time": "2023-02-02T07:46:52.889Z"
   },
   {
    "duration": 26,
    "start_time": "2023-02-02T07:46:52.908Z"
   },
   {
    "duration": 92,
    "start_time": "2023-02-02T07:46:52.935Z"
   },
   {
    "duration": 24,
    "start_time": "2023-02-02T07:46:53.029Z"
   },
   {
    "duration": 107,
    "start_time": "2023-02-02T07:46:53.055Z"
   },
   {
    "duration": 15,
    "start_time": "2023-02-02T07:46:53.164Z"
   },
   {
    "duration": 13,
    "start_time": "2023-02-02T07:47:19.137Z"
   },
   {
    "duration": 3,
    "start_time": "2023-02-02T07:48:37.255Z"
   },
   {
    "duration": 106,
    "start_time": "2023-02-02T07:50:30.918Z"
   },
   {
    "duration": 3,
    "start_time": "2023-02-02T07:51:27.890Z"
   },
   {
    "duration": 16,
    "start_time": "2023-02-02T07:51:29.024Z"
   },
   {
    "duration": 9,
    "start_time": "2023-02-02T07:52:38.901Z"
   },
   {
    "duration": 698,
    "start_time": "2023-02-02T07:52:45.665Z"
   },
   {
    "duration": 6,
    "start_time": "2023-02-02T07:52:57.984Z"
   },
   {
    "duration": 13,
    "start_time": "2023-02-02T07:53:03.753Z"
   },
   {
    "duration": 7,
    "start_time": "2023-02-02T07:53:14.553Z"
   },
   {
    "duration": 13,
    "start_time": "2023-02-02T07:53:18.218Z"
   },
   {
    "duration": 5,
    "start_time": "2023-02-02T07:54:12.061Z"
   },
   {
    "duration": 17,
    "start_time": "2023-02-02T07:54:30.292Z"
   },
   {
    "duration": 26,
    "start_time": "2023-02-02T07:54:30.311Z"
   },
   {
    "duration": 108,
    "start_time": "2023-02-02T07:54:30.338Z"
   },
   {
    "duration": 15,
    "start_time": "2023-02-02T07:54:30.448Z"
   },
   {
    "duration": 48,
    "start_time": "2023-02-02T07:54:30.465Z"
   },
   {
    "duration": 15,
    "start_time": "2023-02-02T07:54:30.514Z"
   },
   {
    "duration": 52,
    "start_time": "2023-02-02T07:54:30.530Z"
   },
   {
    "duration": 4,
    "start_time": "2023-02-02T07:54:30.583Z"
   },
   {
    "duration": 33,
    "start_time": "2023-02-02T07:54:30.589Z"
   },
   {
    "duration": 35,
    "start_time": "2023-02-02T07:54:30.625Z"
   },
   {
    "duration": 22,
    "start_time": "2023-02-02T07:54:30.662Z"
   },
   {
    "duration": 39,
    "start_time": "2023-02-02T07:54:30.686Z"
   },
   {
    "duration": 65,
    "start_time": "2023-02-02T07:54:30.727Z"
   },
   {
    "duration": 9,
    "start_time": "2023-02-02T07:54:30.794Z"
   },
   {
    "duration": 21,
    "start_time": "2023-02-02T07:54:30.805Z"
   },
   {
    "duration": 40,
    "start_time": "2023-02-02T07:54:30.827Z"
   },
   {
    "duration": 35,
    "start_time": "2023-02-02T07:54:30.869Z"
   },
   {
    "duration": 42,
    "start_time": "2023-02-02T07:54:30.906Z"
   },
   {
    "duration": 37,
    "start_time": "2023-02-02T07:54:30.949Z"
   },
   {
    "duration": 52,
    "start_time": "2023-02-02T07:54:30.988Z"
   },
   {
    "duration": 53,
    "start_time": "2023-02-02T07:54:31.041Z"
   },
   {
    "duration": 24,
    "start_time": "2023-02-02T07:54:31.096Z"
   },
   {
    "duration": 36,
    "start_time": "2023-02-02T07:54:31.122Z"
   },
   {
    "duration": 28,
    "start_time": "2023-02-02T07:54:31.160Z"
   },
   {
    "duration": 31,
    "start_time": "2023-02-02T07:54:31.189Z"
   },
   {
    "duration": 12,
    "start_time": "2023-02-02T07:54:31.221Z"
   },
   {
    "duration": 25,
    "start_time": "2023-02-02T07:54:31.234Z"
   },
   {
    "duration": 18,
    "start_time": "2023-02-02T07:54:31.263Z"
   },
   {
    "duration": 55,
    "start_time": "2023-02-02T07:54:31.283Z"
   },
   {
    "duration": 46,
    "start_time": "2023-02-02T07:54:31.339Z"
   },
   {
    "duration": 10,
    "start_time": "2023-02-02T07:54:31.386Z"
   },
   {
    "duration": 25,
    "start_time": "2023-02-02T07:54:31.397Z"
   },
   {
    "duration": 14,
    "start_time": "2023-02-02T07:54:31.424Z"
   },
   {
    "duration": 48,
    "start_time": "2023-02-02T07:54:31.439Z"
   },
   {
    "duration": 28,
    "start_time": "2023-02-02T07:54:31.489Z"
   },
   {
    "duration": 40,
    "start_time": "2023-02-02T07:54:31.518Z"
   },
   {
    "duration": 38,
    "start_time": "2023-02-02T07:54:31.560Z"
   },
   {
    "duration": 199,
    "start_time": "2023-02-02T07:54:31.599Z"
   },
   {
    "duration": 6,
    "start_time": "2023-02-02T07:54:31.800Z"
   },
   {
    "duration": 19,
    "start_time": "2023-02-02T07:54:31.808Z"
   },
   {
    "duration": 29,
    "start_time": "2023-02-02T07:54:31.829Z"
   },
   {
    "duration": 5,
    "start_time": "2023-02-02T07:54:31.860Z"
   },
   {
    "duration": 31,
    "start_time": "2023-02-02T07:54:31.866Z"
   },
   {
    "duration": 114,
    "start_time": "2023-02-02T07:54:31.898Z"
   },
   {
    "duration": 8,
    "start_time": "2023-02-02T07:54:32.014Z"
   },
   {
    "duration": 10,
    "start_time": "2023-02-02T07:54:32.023Z"
   },
   {
    "duration": 7,
    "start_time": "2023-02-02T07:54:32.034Z"
   },
   {
    "duration": 7,
    "start_time": "2023-02-02T07:54:32.043Z"
   },
   {
    "duration": 42,
    "start_time": "2023-02-02T07:54:32.051Z"
   },
   {
    "duration": 330,
    "start_time": "2023-02-02T07:54:32.094Z"
   },
   {
    "duration": 24,
    "start_time": "2023-02-02T07:54:32.425Z"
   },
   {
    "duration": 126,
    "start_time": "2023-02-02T07:54:32.450Z"
   },
   {
    "duration": 21,
    "start_time": "2023-02-02T07:54:32.578Z"
   },
   {
    "duration": 13,
    "start_time": "2023-02-02T07:54:36.241Z"
   },
   {
    "duration": 7,
    "start_time": "2023-02-02T07:54:42.196Z"
   },
   {
    "duration": 3,
    "start_time": "2023-02-02T07:54:51.685Z"
   },
   {
    "duration": 3,
    "start_time": "2023-02-02T07:54:53.249Z"
   },
   {
    "duration": 6,
    "start_time": "2023-02-02T07:54:54.250Z"
   },
   {
    "duration": 7,
    "start_time": "2023-02-02T07:54:55.152Z"
   },
   {
    "duration": 6,
    "start_time": "2023-02-02T07:54:58.635Z"
   },
   {
    "duration": 13,
    "start_time": "2023-02-02T07:55:10.312Z"
   },
   {
    "duration": 1303,
    "start_time": "2023-02-02T08:04:28.288Z"
   },
   {
    "duration": 4,
    "start_time": "2023-02-02T08:04:29.592Z"
   },
   {
    "duration": 81,
    "start_time": "2023-02-02T08:04:29.598Z"
   },
   {
    "duration": 17,
    "start_time": "2023-02-02T08:04:29.681Z"
   },
   {
    "duration": 13,
    "start_time": "2023-02-02T08:04:29.699Z"
   },
   {
    "duration": 9,
    "start_time": "2023-02-02T08:04:29.714Z"
   },
   {
    "duration": 31,
    "start_time": "2023-02-02T08:04:29.725Z"
   },
   {
    "duration": 3,
    "start_time": "2023-02-02T08:04:29.758Z"
   },
   {
    "duration": 30,
    "start_time": "2023-02-02T08:04:29.762Z"
   },
   {
    "duration": 4,
    "start_time": "2023-02-02T08:04:29.794Z"
   },
   {
    "duration": 9,
    "start_time": "2023-02-02T08:04:29.799Z"
   },
   {
    "duration": 11,
    "start_time": "2023-02-02T08:04:29.809Z"
   },
   {
    "duration": 44,
    "start_time": "2023-02-02T08:04:29.822Z"
   },
   {
    "duration": 9,
    "start_time": "2023-02-02T08:04:29.867Z"
   },
   {
    "duration": 5,
    "start_time": "2023-02-02T08:04:29.878Z"
   },
   {
    "duration": 17,
    "start_time": "2023-02-02T08:04:29.884Z"
   },
   {
    "duration": 23,
    "start_time": "2023-02-02T08:04:29.902Z"
   },
   {
    "duration": 16,
    "start_time": "2023-02-02T08:04:29.926Z"
   },
   {
    "duration": 3,
    "start_time": "2023-02-02T08:04:29.944Z"
   },
   {
    "duration": 13,
    "start_time": "2023-02-02T08:04:29.948Z"
   },
   {
    "duration": 6,
    "start_time": "2023-02-02T08:04:29.962Z"
   },
   {
    "duration": 22,
    "start_time": "2023-02-02T08:04:29.969Z"
   },
   {
    "duration": 12,
    "start_time": "2023-02-02T08:04:29.992Z"
   },
   {
    "duration": 7,
    "start_time": "2023-02-02T08:04:37.350Z"
   },
   {
    "duration": 14,
    "start_time": "2023-02-02T08:05:02.909Z"
   },
   {
    "duration": 2,
    "start_time": "2023-02-02T08:05:04.563Z"
   },
   {
    "duration": 7,
    "start_time": "2023-02-02T08:05:08.683Z"
   },
   {
    "duration": 12,
    "start_time": "2023-02-02T08:05:26.797Z"
   },
   {
    "duration": 7,
    "start_time": "2023-02-02T08:05:44.582Z"
   },
   {
    "duration": 15,
    "start_time": "2023-02-02T08:06:09.263Z"
   },
   {
    "duration": 8,
    "start_time": "2023-02-02T08:06:13.767Z"
   },
   {
    "duration": 10,
    "start_time": "2023-02-02T08:06:46.751Z"
   },
   {
    "duration": 7,
    "start_time": "2023-02-02T08:06:52.065Z"
   },
   {
    "duration": 4,
    "start_time": "2023-02-02T08:07:08.398Z"
   },
   {
    "duration": 24,
    "start_time": "2023-02-02T08:07:19.109Z"
   },
   {
    "duration": 28,
    "start_time": "2023-02-02T08:09:36.954Z"
   },
   {
    "duration": 280,
    "start_time": "2023-02-02T08:11:34.226Z"
   },
   {
    "duration": 201,
    "start_time": "2023-02-02T08:11:45.421Z"
   },
   {
    "duration": 191,
    "start_time": "2023-02-02T08:11:58.788Z"
   },
   {
    "duration": 201,
    "start_time": "2023-02-02T08:12:20.545Z"
   },
   {
    "duration": 6,
    "start_time": "2023-02-02T08:13:27.796Z"
   },
   {
    "duration": 6,
    "start_time": "2023-02-02T08:13:29.143Z"
   },
   {
    "duration": 25,
    "start_time": "2023-02-02T08:13:51.507Z"
   },
   {
    "duration": 7,
    "start_time": "2023-02-02T08:14:28.363Z"
   },
   {
    "duration": 14,
    "start_time": "2023-02-02T08:14:30.328Z"
   },
   {
    "duration": 189,
    "start_time": "2023-02-02T08:15:51.837Z"
   },
   {
    "duration": 50,
    "start_time": "2023-02-02T08:16:17.320Z"
   },
   {
    "duration": 58,
    "start_time": "2023-02-02T08:16:21.788Z"
   },
   {
    "duration": 100,
    "start_time": "2023-02-02T08:16:25.112Z"
   },
   {
    "duration": 7,
    "start_time": "2023-02-02T08:16:59.735Z"
   },
   {
    "duration": 7,
    "start_time": "2023-02-02T08:17:01.871Z"
   },
   {
    "duration": 4,
    "start_time": "2023-02-02T08:17:04.762Z"
   },
   {
    "duration": 2,
    "start_time": "2023-02-02T08:17:05.600Z"
   },
   {
    "duration": 23,
    "start_time": "2023-02-02T08:17:11.636Z"
   },
   {
    "duration": 120,
    "start_time": "2023-02-02T08:19:59.986Z"
   },
   {
    "duration": 96,
    "start_time": "2023-02-02T08:20:25.066Z"
   },
   {
    "duration": 26,
    "start_time": "2023-02-02T08:22:08.856Z"
   },
   {
    "duration": 99,
    "start_time": "2023-02-02T08:22:36.544Z"
   },
   {
    "duration": 100,
    "start_time": "2023-02-02T08:23:31.891Z"
   },
   {
    "duration": 96,
    "start_time": "2023-02-02T08:23:38.060Z"
   },
   {
    "duration": 99,
    "start_time": "2023-02-02T08:23:56.156Z"
   },
   {
    "duration": 99,
    "start_time": "2023-02-02T08:24:06.863Z"
   },
   {
    "duration": 100,
    "start_time": "2023-02-02T08:24:14.964Z"
   },
   {
    "duration": 14,
    "start_time": "2023-02-02T08:24:43.694Z"
   },
   {
    "duration": 11,
    "start_time": "2023-02-02T08:25:00.589Z"
   },
   {
    "duration": 3,
    "start_time": "2023-02-02T08:26:26.905Z"
   },
   {
    "duration": 19,
    "start_time": "2023-02-02T08:26:33.626Z"
   },
   {
    "duration": 16,
    "start_time": "2023-02-02T08:26:40.602Z"
   },
   {
    "duration": 192,
    "start_time": "2023-02-02T08:31:19.133Z"
   },
   {
    "duration": 108,
    "start_time": "2023-02-02T08:31:32.395Z"
   },
   {
    "duration": 101,
    "start_time": "2023-02-02T08:31:40.006Z"
   },
   {
    "duration": 197,
    "start_time": "2023-02-02T08:31:45.819Z"
   },
   {
    "duration": 1275,
    "start_time": "2023-02-02T08:41:35.721Z"
   },
   {
    "duration": 4,
    "start_time": "2023-02-02T08:41:36.998Z"
   },
   {
    "duration": 81,
    "start_time": "2023-02-02T08:41:37.004Z"
   },
   {
    "duration": 17,
    "start_time": "2023-02-02T08:41:37.087Z"
   },
   {
    "duration": 15,
    "start_time": "2023-02-02T08:41:37.106Z"
   },
   {
    "duration": 17,
    "start_time": "2023-02-02T08:41:37.123Z"
   },
   {
    "duration": 50,
    "start_time": "2023-02-02T08:41:37.142Z"
   },
   {
    "duration": 3,
    "start_time": "2023-02-02T08:41:37.194Z"
   },
   {
    "duration": 10,
    "start_time": "2023-02-02T08:41:37.199Z"
   },
   {
    "duration": 4,
    "start_time": "2023-02-02T08:41:37.211Z"
   },
   {
    "duration": 8,
    "start_time": "2023-02-02T08:41:37.216Z"
   },
   {
    "duration": 5,
    "start_time": "2023-02-02T08:41:37.225Z"
   },
   {
    "duration": 33,
    "start_time": "2023-02-02T08:41:37.231Z"
   },
   {
    "duration": 30,
    "start_time": "2023-02-02T08:41:37.265Z"
   },
   {
    "duration": 5,
    "start_time": "2023-02-02T08:41:37.297Z"
   },
   {
    "duration": 14,
    "start_time": "2023-02-02T08:41:37.304Z"
   },
   {
    "duration": 20,
    "start_time": "2023-02-02T08:41:37.319Z"
   },
   {
    "duration": 15,
    "start_time": "2023-02-02T08:41:37.341Z"
   },
   {
    "duration": 3,
    "start_time": "2023-02-02T08:41:37.357Z"
   },
   {
    "duration": 33,
    "start_time": "2023-02-02T08:41:37.361Z"
   },
   {
    "duration": 5,
    "start_time": "2023-02-02T08:41:37.396Z"
   },
   {
    "duration": 6,
    "start_time": "2023-02-02T08:41:37.402Z"
   },
   {
    "duration": 25,
    "start_time": "2023-02-02T08:41:37.409Z"
   },
   {
    "duration": 9,
    "start_time": "2023-02-02T08:41:37.436Z"
   },
   {
    "duration": 26,
    "start_time": "2023-02-02T08:41:37.446Z"
   },
   {
    "duration": 2,
    "start_time": "2023-02-02T08:41:37.474Z"
   },
   {
    "duration": 12,
    "start_time": "2023-02-02T08:41:37.477Z"
   },
   {
    "duration": 10,
    "start_time": "2023-02-02T08:41:37.492Z"
   },
   {
    "duration": 5,
    "start_time": "2023-02-02T08:41:37.504Z"
   },
   {
    "duration": 22,
    "start_time": "2023-02-02T08:41:37.511Z"
   },
   {
    "duration": 2,
    "start_time": "2023-02-02T08:41:37.534Z"
   },
   {
    "duration": 18,
    "start_time": "2023-02-02T08:41:37.538Z"
   },
   {
    "duration": 23,
    "start_time": "2023-02-02T08:41:37.557Z"
   },
   {
    "duration": 7,
    "start_time": "2023-02-02T08:41:37.582Z"
   },
   {
    "duration": 7,
    "start_time": "2023-02-02T08:41:37.590Z"
   },
   {
    "duration": 29,
    "start_time": "2023-02-02T08:41:37.599Z"
   },
   {
    "duration": 27,
    "start_time": "2023-02-02T08:41:37.629Z"
   },
   {
    "duration": 205,
    "start_time": "2023-02-02T08:41:37.657Z"
   },
   {
    "duration": 7,
    "start_time": "2023-02-02T08:41:37.864Z"
   },
   {
    "duration": 20,
    "start_time": "2023-02-02T08:41:37.872Z"
   },
   {
    "duration": 29,
    "start_time": "2023-02-02T08:41:37.894Z"
   },
   {
    "duration": 6,
    "start_time": "2023-02-02T08:41:37.924Z"
   },
   {
    "duration": 16,
    "start_time": "2023-02-02T08:41:37.931Z"
   },
   {
    "duration": 119,
    "start_time": "2023-02-02T08:41:37.948Z"
   },
   {
    "duration": 8,
    "start_time": "2023-02-02T08:41:38.068Z"
   },
   {
    "duration": 15,
    "start_time": "2023-02-02T08:41:38.078Z"
   },
   {
    "duration": 26,
    "start_time": "2023-02-02T08:41:38.094Z"
   },
   {
    "duration": 16,
    "start_time": "2023-02-02T08:41:38.122Z"
   },
   {
    "duration": 27,
    "start_time": "2023-02-02T08:41:38.139Z"
   },
   {
    "duration": 98,
    "start_time": "2023-02-02T08:41:38.167Z"
   },
   {
    "duration": 35,
    "start_time": "2023-02-02T08:41:38.267Z"
   },
   {
    "duration": 108,
    "start_time": "2023-02-02T08:41:38.304Z"
   },
   {
    "duration": 15,
    "start_time": "2023-02-02T08:41:38.413Z"
   },
   {
    "duration": 24,
    "start_time": "2023-02-02T08:41:38.429Z"
   },
   {
    "duration": 20,
    "start_time": "2023-02-02T08:41:38.455Z"
   },
   {
    "duration": 9,
    "start_time": "2023-02-02T08:41:38.477Z"
   },
   {
    "duration": 17,
    "start_time": "2023-02-02T08:41:38.487Z"
   },
   {
    "duration": 91,
    "start_time": "2023-02-02T08:41:38.506Z"
   },
   {
    "duration": 74,
    "start_time": "2023-02-02T08:41:38.598Z"
   },
   {
    "duration": 9,
    "start_time": "2023-02-02T08:41:38.674Z"
   },
   {
    "duration": 7,
    "start_time": "2023-02-02T08:41:38.684Z"
   },
   {
    "duration": 1796,
    "start_time": "2023-02-02T14:49:59.364Z"
   },
   {
    "duration": 5,
    "start_time": "2023-02-02T14:50:01.162Z"
   },
   {
    "duration": 107,
    "start_time": "2023-02-02T14:50:01.169Z"
   },
   {
    "duration": 19,
    "start_time": "2023-02-02T14:50:01.279Z"
   },
   {
    "duration": 19,
    "start_time": "2023-02-02T14:50:01.300Z"
   },
   {
    "duration": 34,
    "start_time": "2023-02-02T14:50:01.321Z"
   },
   {
    "duration": 43,
    "start_time": "2023-02-02T14:50:01.356Z"
   },
   {
    "duration": 4,
    "start_time": "2023-02-02T14:50:01.400Z"
   },
   {
    "duration": 31,
    "start_time": "2023-02-02T14:50:01.405Z"
   },
   {
    "duration": 22,
    "start_time": "2023-02-02T14:50:01.439Z"
   },
   {
    "duration": 18,
    "start_time": "2023-02-02T14:50:01.463Z"
   },
   {
    "duration": 5,
    "start_time": "2023-02-02T14:50:01.482Z"
   },
   {
    "duration": 43,
    "start_time": "2023-02-02T14:50:01.488Z"
   },
   {
    "duration": 13,
    "start_time": "2023-02-02T14:50:01.533Z"
   },
   {
    "duration": 21,
    "start_time": "2023-02-02T14:50:01.547Z"
   },
   {
    "duration": 33,
    "start_time": "2023-02-02T14:50:01.570Z"
   },
   {
    "duration": 38,
    "start_time": "2023-02-02T14:50:01.604Z"
   },
   {
    "duration": 42,
    "start_time": "2023-02-02T14:50:01.644Z"
   },
   {
    "duration": 9,
    "start_time": "2023-02-02T14:50:01.688Z"
   },
   {
    "duration": 30,
    "start_time": "2023-02-02T14:50:01.699Z"
   },
   {
    "duration": 40,
    "start_time": "2023-02-02T14:50:01.731Z"
   },
   {
    "duration": 15,
    "start_time": "2023-02-02T14:50:01.773Z"
   },
   {
    "duration": 29,
    "start_time": "2023-02-02T14:50:01.789Z"
   },
   {
    "duration": 27,
    "start_time": "2023-02-02T14:50:01.820Z"
   },
   {
    "duration": 31,
    "start_time": "2023-02-02T14:50:01.848Z"
   },
   {
    "duration": 4,
    "start_time": "2023-02-02T14:50:01.881Z"
   },
   {
    "duration": 25,
    "start_time": "2023-02-02T14:50:01.894Z"
   },
   {
    "duration": 20,
    "start_time": "2023-02-02T14:50:01.923Z"
   },
   {
    "duration": 27,
    "start_time": "2023-02-02T14:50:01.945Z"
   },
   {
    "duration": 28,
    "start_time": "2023-02-02T14:50:01.974Z"
   },
   {
    "duration": 27,
    "start_time": "2023-02-02T14:50:02.004Z"
   },
   {
    "duration": 59,
    "start_time": "2023-02-02T14:50:02.032Z"
   },
   {
    "duration": 25,
    "start_time": "2023-02-02T14:50:02.093Z"
   },
   {
    "duration": 20,
    "start_time": "2023-02-02T14:50:02.120Z"
   },
   {
    "duration": 6,
    "start_time": "2023-02-02T14:50:02.142Z"
   },
   {
    "duration": 47,
    "start_time": "2023-02-02T14:50:02.150Z"
   },
   {
    "duration": 27,
    "start_time": "2023-02-02T14:50:02.199Z"
   },
   {
    "duration": 202,
    "start_time": "2023-02-02T14:50:02.228Z"
   },
   {
    "duration": 18,
    "start_time": "2023-02-02T14:50:02.431Z"
   },
   {
    "duration": 5,
    "start_time": "2023-02-02T14:50:02.450Z"
   },
   {
    "duration": 38,
    "start_time": "2023-02-02T14:50:02.456Z"
   },
   {
    "duration": 6,
    "start_time": "2023-02-02T14:50:02.496Z"
   },
   {
    "duration": 21,
    "start_time": "2023-02-02T14:50:02.504Z"
   },
   {
    "duration": 128,
    "start_time": "2023-02-02T14:50:02.527Z"
   },
   {
    "duration": 9,
    "start_time": "2023-02-02T14:50:02.657Z"
   },
   {
    "duration": 19,
    "start_time": "2023-02-02T14:50:02.667Z"
   },
   {
    "duration": 29,
    "start_time": "2023-02-02T14:50:02.687Z"
   },
   {
    "duration": 18,
    "start_time": "2023-02-02T14:50:02.718Z"
   },
   {
    "duration": 60,
    "start_time": "2023-02-02T14:50:02.738Z"
   },
   {
    "duration": 129,
    "start_time": "2023-02-02T14:50:02.800Z"
   },
   {
    "duration": 29,
    "start_time": "2023-02-02T14:50:02.931Z"
   },
   {
    "duration": 119,
    "start_time": "2023-02-02T14:50:02.962Z"
   },
   {
    "duration": 18,
    "start_time": "2023-02-02T14:50:03.083Z"
   },
   {
    "duration": 3,
    "start_time": "2023-02-02T14:50:03.102Z"
   },
   {
    "duration": 24,
    "start_time": "2023-02-02T14:50:03.107Z"
   },
   {
    "duration": 15,
    "start_time": "2023-02-02T14:50:03.133Z"
   },
   {
    "duration": 19,
    "start_time": "2023-02-02T14:50:03.150Z"
   },
   {
    "duration": 111,
    "start_time": "2023-02-02T14:50:03.171Z"
   },
   {
    "duration": 74,
    "start_time": "2023-02-02T14:50:03.284Z"
   },
   {
    "duration": 9,
    "start_time": "2023-02-02T14:50:03.359Z"
   },
   {
    "duration": 7,
    "start_time": "2023-02-02T14:50:03.370Z"
   },
   {
    "duration": 2231,
    "start_time": "2023-02-02T16:01:43.877Z"
   },
   {
    "duration": 9,
    "start_time": "2023-02-02T16:01:46.111Z"
   },
   {
    "duration": 794,
    "start_time": "2023-02-02T16:01:46.122Z"
   },
   {
    "duration": 28,
    "start_time": "2023-02-02T16:01:46.919Z"
   },
   {
    "duration": 17,
    "start_time": "2023-02-02T16:01:46.950Z"
   },
   {
    "duration": 21,
    "start_time": "2023-02-02T16:01:46.969Z"
   },
   {
    "duration": 65,
    "start_time": "2023-02-02T16:01:46.992Z"
   },
   {
    "duration": 4,
    "start_time": "2023-02-02T16:01:47.059Z"
   },
   {
    "duration": 23,
    "start_time": "2023-02-02T16:01:47.065Z"
   },
   {
    "duration": 13,
    "start_time": "2023-02-02T16:01:47.090Z"
   },
   {
    "duration": 17,
    "start_time": "2023-02-02T16:01:47.105Z"
   },
   {
    "duration": 11,
    "start_time": "2023-02-02T16:01:47.124Z"
   },
   {
    "duration": 47,
    "start_time": "2023-02-02T16:01:47.137Z"
   },
   {
    "duration": 11,
    "start_time": "2023-02-02T16:01:47.188Z"
   },
   {
    "duration": 6,
    "start_time": "2023-02-02T16:01:47.201Z"
   },
   {
    "duration": 21,
    "start_time": "2023-02-02T16:01:47.210Z"
   },
   {
    "duration": 40,
    "start_time": "2023-02-02T16:01:47.233Z"
   },
   {
    "duration": 24,
    "start_time": "2023-02-02T16:01:47.276Z"
   },
   {
    "duration": 4,
    "start_time": "2023-02-02T16:01:47.302Z"
   },
   {
    "duration": 15,
    "start_time": "2023-02-02T16:01:47.307Z"
   },
   {
    "duration": 29,
    "start_time": "2023-02-02T16:01:47.324Z"
   },
   {
    "duration": 15,
    "start_time": "2023-02-02T16:01:47.356Z"
   },
   {
    "duration": 52,
    "start_time": "2023-02-02T16:01:47.373Z"
   },
   {
    "duration": 26,
    "start_time": "2023-02-02T16:01:47.427Z"
   },
   {
    "duration": 22,
    "start_time": "2023-02-02T16:01:47.456Z"
   },
   {
    "duration": 3,
    "start_time": "2023-02-02T16:01:47.480Z"
   },
   {
    "duration": 13,
    "start_time": "2023-02-02T16:01:47.484Z"
   },
   {
    "duration": 24,
    "start_time": "2023-02-02T16:01:47.499Z"
   },
   {
    "duration": 14,
    "start_time": "2023-02-02T16:01:47.525Z"
   },
   {
    "duration": 30,
    "start_time": "2023-02-02T16:01:47.541Z"
   },
   {
    "duration": 3,
    "start_time": "2023-02-02T16:01:47.573Z"
   },
   {
    "duration": 29,
    "start_time": "2023-02-02T16:01:47.577Z"
   },
   {
    "duration": 18,
    "start_time": "2023-02-02T16:01:47.608Z"
   },
   {
    "duration": 14,
    "start_time": "2023-02-02T16:01:47.628Z"
   },
   {
    "duration": 22,
    "start_time": "2023-02-02T16:01:47.644Z"
   },
   {
    "duration": 29,
    "start_time": "2023-02-02T16:01:47.668Z"
   },
   {
    "duration": 29,
    "start_time": "2023-02-02T16:01:47.698Z"
   },
   {
    "duration": 221,
    "start_time": "2023-02-02T16:01:47.729Z"
   },
   {
    "duration": 12,
    "start_time": "2023-02-02T16:01:47.953Z"
   },
   {
    "duration": 14,
    "start_time": "2023-02-02T16:01:47.968Z"
   },
   {
    "duration": 32,
    "start_time": "2023-02-02T16:01:47.987Z"
   },
   {
    "duration": 6,
    "start_time": "2023-02-02T16:01:48.021Z"
   },
   {
    "duration": 32,
    "start_time": "2023-02-02T16:01:48.029Z"
   },
   {
    "duration": 125,
    "start_time": "2023-02-02T16:01:48.063Z"
   },
   {
    "duration": 9,
    "start_time": "2023-02-02T16:01:48.190Z"
   },
   {
    "duration": 12,
    "start_time": "2023-02-02T16:01:48.201Z"
   },
   {
    "duration": 12,
    "start_time": "2023-02-02T16:01:48.215Z"
   },
   {
    "duration": 19,
    "start_time": "2023-02-02T16:01:48.229Z"
   },
   {
    "duration": 27,
    "start_time": "2023-02-02T16:01:48.250Z"
   },
   {
    "duration": 124,
    "start_time": "2023-02-02T16:01:48.279Z"
   },
   {
    "duration": 44,
    "start_time": "2023-02-02T16:01:48.404Z"
   },
   {
    "duration": 113,
    "start_time": "2023-02-02T16:01:48.454Z"
   },
   {
    "duration": 17,
    "start_time": "2023-02-02T16:01:48.569Z"
   },
   {
    "duration": 68,
    "start_time": "2023-02-02T16:01:48.588Z"
   },
   {
    "duration": 48,
    "start_time": "2023-02-02T16:01:48.658Z"
   },
   {
    "duration": 11,
    "start_time": "2023-02-02T16:01:48.708Z"
   },
   {
    "duration": 21,
    "start_time": "2023-02-02T16:01:48.721Z"
   },
   {
    "duration": 92,
    "start_time": "2023-02-02T16:01:48.744Z"
   },
   {
    "duration": 75,
    "start_time": "2023-02-02T16:01:48.838Z"
   },
   {
    "duration": 10,
    "start_time": "2023-02-02T16:01:48.915Z"
   },
   {
    "duration": 11,
    "start_time": "2023-02-02T16:01:48.927Z"
   },
   {
    "duration": 61,
    "start_time": "2023-02-02T16:03:16.135Z"
   },
   {
    "duration": 111,
    "start_time": "2023-02-02T16:03:42.725Z"
   },
   {
    "duration": 20,
    "start_time": "2023-02-02T16:04:39.361Z"
   },
   {
    "duration": 7,
    "start_time": "2023-02-02T16:04:43.477Z"
   },
   {
    "duration": 5,
    "start_time": "2023-02-02T16:05:05.379Z"
   },
   {
    "duration": 4,
    "start_time": "2023-02-02T16:05:08.332Z"
   },
   {
    "duration": 1997,
    "start_time": "2023-02-02T16:56:17.526Z"
   },
   {
    "duration": 14,
    "start_time": "2023-02-02T16:56:19.525Z"
   },
   {
    "duration": 142,
    "start_time": "2023-02-02T16:56:19.542Z"
   },
   {
    "duration": 17,
    "start_time": "2023-02-02T16:56:19.686Z"
   },
   {
    "duration": 30,
    "start_time": "2023-02-02T16:56:19.704Z"
   },
   {
    "duration": 48,
    "start_time": "2023-02-02T16:56:19.736Z"
   },
   {
    "duration": 62,
    "start_time": "2023-02-02T16:56:19.786Z"
   },
   {
    "duration": 4,
    "start_time": "2023-02-02T16:56:19.849Z"
   },
   {
    "duration": 33,
    "start_time": "2023-02-02T16:56:19.854Z"
   },
   {
    "duration": 20,
    "start_time": "2023-02-02T16:56:19.889Z"
   },
   {
    "duration": 43,
    "start_time": "2023-02-02T16:56:19.910Z"
   },
   {
    "duration": 25,
    "start_time": "2023-02-02T16:56:19.955Z"
   },
   {
    "duration": 65,
    "start_time": "2023-02-02T16:56:19.981Z"
   },
   {
    "duration": 14,
    "start_time": "2023-02-02T16:56:20.047Z"
   },
   {
    "duration": 26,
    "start_time": "2023-02-02T16:56:20.063Z"
   },
   {
    "duration": 48,
    "start_time": "2023-02-02T16:56:20.091Z"
   },
   {
    "duration": 41,
    "start_time": "2023-02-02T16:56:20.140Z"
   },
   {
    "duration": 37,
    "start_time": "2023-02-02T16:56:20.182Z"
   },
   {
    "duration": 22,
    "start_time": "2023-02-02T16:56:20.220Z"
   },
   {
    "duration": 37,
    "start_time": "2023-02-02T16:56:20.243Z"
   },
   {
    "duration": 28,
    "start_time": "2023-02-02T16:56:20.282Z"
   },
   {
    "duration": 39,
    "start_time": "2023-02-02T16:56:20.311Z"
   },
   {
    "duration": 38,
    "start_time": "2023-02-02T16:56:20.351Z"
   },
   {
    "duration": 30,
    "start_time": "2023-02-02T16:56:20.390Z"
   },
   {
    "duration": 40,
    "start_time": "2023-02-02T16:56:20.421Z"
   },
   {
    "duration": 21,
    "start_time": "2023-02-02T16:56:20.463Z"
   },
   {
    "duration": 32,
    "start_time": "2023-02-02T16:56:20.486Z"
   },
   {
    "duration": 34,
    "start_time": "2023-02-02T16:56:20.523Z"
   },
   {
    "duration": 58,
    "start_time": "2023-02-02T16:56:20.559Z"
   },
   {
    "duration": 40,
    "start_time": "2023-02-02T16:56:20.619Z"
   },
   {
    "duration": 19,
    "start_time": "2023-02-02T16:56:20.661Z"
   },
   {
    "duration": 27,
    "start_time": "2023-02-02T16:56:20.682Z"
   },
   {
    "duration": 29,
    "start_time": "2023-02-02T16:56:20.711Z"
   },
   {
    "duration": 40,
    "start_time": "2023-02-02T16:56:20.742Z"
   },
   {
    "duration": 28,
    "start_time": "2023-02-02T16:56:20.783Z"
   },
   {
    "duration": 49,
    "start_time": "2023-02-02T16:56:20.813Z"
   },
   {
    "duration": 49,
    "start_time": "2023-02-02T16:56:20.864Z"
   },
   {
    "duration": 212,
    "start_time": "2023-02-02T16:56:20.915Z"
   },
   {
    "duration": 10,
    "start_time": "2023-02-02T16:56:21.128Z"
   },
   {
    "duration": 26,
    "start_time": "2023-02-02T16:56:21.140Z"
   },
   {
    "duration": 52,
    "start_time": "2023-02-02T16:56:21.168Z"
   },
   {
    "duration": 9,
    "start_time": "2023-02-02T16:56:21.222Z"
   },
   {
    "duration": 48,
    "start_time": "2023-02-02T16:56:21.233Z"
   },
   {
    "duration": 134,
    "start_time": "2023-02-02T16:56:21.283Z"
   },
   {
    "duration": 8,
    "start_time": "2023-02-02T16:56:21.418Z"
   },
   {
    "duration": 39,
    "start_time": "2023-02-02T16:56:21.427Z"
   },
   {
    "duration": 30,
    "start_time": "2023-02-02T16:56:21.467Z"
   },
   {
    "duration": 27,
    "start_time": "2023-02-02T16:56:21.499Z"
   },
   {
    "duration": 49,
    "start_time": "2023-02-02T16:56:21.528Z"
   },
   {
    "duration": 108,
    "start_time": "2023-02-02T16:56:21.579Z"
   },
   {
    "duration": 25,
    "start_time": "2023-02-02T16:56:21.689Z"
   },
   {
    "duration": 110,
    "start_time": "2023-02-02T16:56:21.716Z"
   },
   {
    "duration": 15,
    "start_time": "2023-02-02T16:56:21.837Z"
   },
   {
    "duration": 51,
    "start_time": "2023-02-02T16:56:21.853Z"
   },
   {
    "duration": 34,
    "start_time": "2023-02-02T16:56:21.905Z"
   },
   {
    "duration": 34,
    "start_time": "2023-02-02T16:56:21.941Z"
   },
   {
    "duration": 60,
    "start_time": "2023-02-02T16:56:21.977Z"
   },
   {
    "duration": 116,
    "start_time": "2023-02-02T16:56:22.038Z"
   },
   {
    "duration": 64,
    "start_time": "2023-02-02T16:56:22.156Z"
   },
   {
    "duration": 8,
    "start_time": "2023-02-02T16:56:22.222Z"
   },
   {
    "duration": 64,
    "start_time": "2023-02-02T16:56:22.232Z"
   }
  ],
  "colab": {
   "name": "dpp_template_part2.ipynb",
   "provenance": []
  },
  "kernelspec": {
   "display_name": "Python 3 (ipykernel)",
   "language": "python",
   "name": "python3"
  },
  "language_info": {
   "codemirror_mode": {
    "name": "ipython",
    "version": 3
   },
   "file_extension": ".py",
   "mimetype": "text/x-python",
   "name": "python",
   "nbconvert_exporter": "python",
   "pygments_lexer": "ipython3",
   "version": "3.9.15"
  },
  "toc": {
   "base_numbering": 1,
   "nav_menu": {},
   "number_sections": true,
   "sideBar": true,
   "skip_h1_title": true,
   "title_cell": "Table of Contents",
   "title_sidebar": "Contents",
   "toc_cell": false,
   "toc_position": {},
   "toc_section_display": true,
   "toc_window_display": false
  }
 },
 "nbformat": 4,
 "nbformat_minor": 5
}
